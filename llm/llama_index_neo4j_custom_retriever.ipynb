{
  "cells": [
    {
      "cell_type": "markdown",
      "metadata": {
        "id": "view-in-github",
        "colab_type": "text"
      },
      "source": [
        "<a href=\"https://colab.research.google.com/github/tomasonjo/blogs/blob/master/llm/llama_index_neo4j_custom_retriever.ipynb\" target=\"_parent\"><img src=\"https://colab.research.google.com/assets/colab-badge.svg\" alt=\"Open In Colab\"/></a>"
      ]
    },
    {
      "cell_type": "markdown",
      "id": "9bfdaff2-6478-4fc7-a717-c56cb5b8b1c2",
      "metadata": {
        "id": "9bfdaff2-6478-4fc7-a717-c56cb5b8b1c2"
      },
      "source": [
        "# Defining a Custom Property Graph Retriever\n",
        "\n",
        "This guide shows you how to define a custom retriever against a property graph.\n",
        "\n",
        "It is more involved than using our out-of-the-box graph retrievers, but allows you to have granular control over the retrieval process so that it's better tailored for your application.\n",
        "\n",
        "We show you how to define an advanced retrieval flow by directly leveraging the property graph store. We'll execute both vector search and text-to-cypher retrieval, and then combine the results through a reranking module."
      ]
    },
    {
      "cell_type": "code",
      "execution_count": 1,
      "id": "c0bcf776-7e25-4f3b-9cf7-edd954cede01",
      "metadata": {
        "id": "c0bcf776-7e25-4f3b-9cf7-edd954cede01",
        "outputId": "8fec6b0b-b14d-4f98-b319-1974fca1cd91",
        "colab": {
          "base_uri": "https://localhost:8080/"
        }
      },
      "outputs": [
        {
          "output_type": "stream",
          "name": "stdout",
          "text": [
            "\u001b[2K     \u001b[90m━━━━━━━━━━━━━━━━━━━━━━━━━━━━━━━━━━━━━━━━\u001b[0m \u001b[32m15.4/15.4 MB\u001b[0m \u001b[31m41.3 MB/s\u001b[0m eta \u001b[36m0:00:00\u001b[0m\n",
            "\u001b[2K     \u001b[90m━━━━━━━━━━━━━━━━━━━━━━━━━━━━━━━━━━━━━━━━\u001b[0m \u001b[32m2.0/2.0 MB\u001b[0m \u001b[31m49.7 MB/s\u001b[0m eta \u001b[36m0:00:00\u001b[0m\n",
            "\u001b[2K     \u001b[90m━━━━━━━━━━━━━━━━━━━━━━━━━━━━━━━━━━━━━━━━\u001b[0m \u001b[32m75.6/75.6 kB\u001b[0m \u001b[31m1.7 MB/s\u001b[0m eta \u001b[36m0:00:00\u001b[0m\n",
            "\u001b[2K     \u001b[90m━━━━━━━━━━━━━━━━━━━━━━━━━━━━━━━━━━━━━━━━\u001b[0m \u001b[32m141.9/141.9 kB\u001b[0m \u001b[31m5.1 MB/s\u001b[0m eta \u001b[36m0:00:00\u001b[0m\n",
            "\u001b[2K     \u001b[90m━━━━━━━━━━━━━━━━━━━━━━━━━━━━━━━━━━━━━━━━\u001b[0m \u001b[32m325.5/325.5 kB\u001b[0m \u001b[31m14.0 MB/s\u001b[0m eta \u001b[36m0:00:00\u001b[0m\n",
            "\u001b[2K     \u001b[90m━━━━━━━━━━━━━━━━━━━━━━━━━━━━━━━━━━━━━━━━\u001b[0m \u001b[32m1.1/1.1 MB\u001b[0m \u001b[31m22.0 MB/s\u001b[0m eta \u001b[36m0:00:00\u001b[0m\n",
            "\u001b[2K     \u001b[90m━━━━━━━━━━━━━━━━━━━━━━━━━━━━━━━━━━━━━━━━\u001b[0m \u001b[32m203.0/203.0 kB\u001b[0m \u001b[31m7.9 MB/s\u001b[0m eta \u001b[36m0:00:00\u001b[0m\n",
            "\u001b[?25h  Installing build dependencies ... \u001b[?25l\u001b[?25hdone\n",
            "  Getting requirements to build wheel ... \u001b[?25l\u001b[?25hdone\n",
            "  Installing backend dependencies ... \u001b[?25l\u001b[?25hdone\n",
            "  Preparing metadata (pyproject.toml) ... \u001b[?25l\u001b[?25hdone\n",
            "\u001b[2K     \u001b[90m━━━━━━━━━━━━━━━━━━━━━━━━━━━━━━━━━━━━━━━━\u001b[0m \u001b[32m290.4/290.4 kB\u001b[0m \u001b[31m22.6 MB/s\u001b[0m eta \u001b[36m0:00:00\u001b[0m\n",
            "\u001b[2K     \u001b[90m━━━━━━━━━━━━━━━━━━━━━━━━━━━━━━━━━━━━━━━━\u001b[0m \u001b[32m77.9/77.9 kB\u001b[0m \u001b[31m9.2 MB/s\u001b[0m eta \u001b[36m0:00:00\u001b[0m\n",
            "\u001b[2K     \u001b[90m━━━━━━━━━━━━━━━━━━━━━━━━━━━━━━━━━━━━━━━━\u001b[0m \u001b[32m58.3/58.3 kB\u001b[0m \u001b[31m6.4 MB/s\u001b[0m eta \u001b[36m0:00:00\u001b[0m\n",
            "\u001b[2K     \u001b[90m━━━━━━━━━━━━━━━━━━━━━━━━━━━━━━━━━━━━━━━━\u001b[0m \u001b[32m49.2/49.2 kB\u001b[0m \u001b[31m5.7 MB/s\u001b[0m eta \u001b[36m0:00:00\u001b[0m\n",
            "\u001b[?25h  Building wheel for neo4j (pyproject.toml) ... \u001b[?25l\u001b[?25hdone\n"
          ]
        }
      ],
      "source": [
        "!pip install --quiet llama-index llama-index-graph-stores-neo4j llama-index-program-openai llama-index-llms-openai"
      ]
    },
    {
      "cell_type": "markdown",
      "id": "6159b260-0061-4323-897f-f12e261da235",
      "metadata": {
        "id": "6159b260-0061-4323-897f-f12e261da235"
      },
      "source": [
        "## Setup and Build the Property Graph"
      ]
    },
    {
      "cell_type": "code",
      "execution_count": 2,
      "id": "6389fe2a-6573-4847-a7ca-756b3f94d34f",
      "metadata": {
        "id": "6389fe2a-6573-4847-a7ca-756b3f94d34f"
      },
      "outputs": [],
      "source": [
        "import nest_asyncio\n",
        "\n",
        "nest_asyncio.apply()"
      ]
    },
    {
      "cell_type": "code",
      "execution_count": 3,
      "id": "cfe4d640-afdc-434c-af06-c66b6fb27bea",
      "metadata": {
        "id": "cfe4d640-afdc-434c-af06-c66b6fb27bea"
      },
      "outputs": [],
      "source": [
        "from llama_index.graph_stores.neo4j import Neo4jPGStore\n",
        "\n",
        "username=\"neo4j\"\n",
        "password=\"cradles-legends-assemblies\"\n",
        "url=\"bolt://18.212.1.253:7687\"\n",
        "\n",
        "graph_store = Neo4jPGStore(\n",
        "    username=username,\n",
        "    password=password,\n",
        "    url=url,\n",
        ")"
      ]
    },
    {
      "cell_type": "code",
      "execution_count": 4,
      "id": "fa4d0d28-d20a-4378-8f3b-2f0ed776d2ac",
      "metadata": {
        "id": "fa4d0d28-d20a-4378-8f3b-2f0ed776d2ac"
      },
      "outputs": [],
      "source": [
        "import os\n",
        "\n",
        "os.environ[\"OPENAI_API_KEY\"] = \"sk-\""
      ]
    },
    {
      "cell_type": "markdown",
      "id": "12dc1433-c1e6-4a77-9c3b-2b4e52bae23d",
      "metadata": {
        "id": "12dc1433-c1e6-4a77-9c3b-2b4e52bae23d"
      },
      "source": [
        "#### Load News"
      ]
    },
    {
      "cell_type": "code",
      "execution_count": 5,
      "id": "57333740-ec57-42d6-ae60-8fc3fa58c504",
      "metadata": {
        "id": "57333740-ec57-42d6-ae60-8fc3fa58c504",
        "colab": {
          "base_uri": "https://localhost:8080/",
          "height": 206
        },
        "outputId": "03c8826d-e301-49ad-84cb-45567fe5e23d"
      },
      "outputs": [
        {
          "output_type": "execute_result",
          "data": {
            "text/plain": [
              "                                               title  \\\n",
              "0                             Chevron: Best Of Breed   \n",
              "1       FirstEnergy (NYSE:FE) Posts Earnings Results   \n",
              "2  Dáil almost suspended after Sinn Féin TD put p...   \n",
              "3  Epic’s latest tool can animate hyperrealistic ...   \n",
              "4  EU to Ban Huawei, ZTE from Internal Commission...   \n",
              "\n",
              "                                  date  \\\n",
              "0  2031-04-06T01:36:32.000000000+00:00   \n",
              "1  2030-04-29T06:55:28.000000000+00:00   \n",
              "2  2023-06-15T14:32:11.000000000+00:00   \n",
              "3  2023-06-15T14:00:00.000000000+00:00   \n",
              "4  2023-06-15T13:50:00.000000000+00:00   \n",
              "\n",
              "                                                text  \n",
              "0  JHVEPhoto Like many companies in the O&G secto...  \n",
              "1  FirstEnergy (NYSE:FE – Get Rating) posted its ...  \n",
              "2  The Dáil was almost suspended on Thursday afte...  \n",
              "3  Today, Epic is releasing a new tool designed t...  \n",
              "4  The European Commission is planning to ban equ...  "
            ],
            "text/html": [
              "\n",
              "  <div id=\"df-1222e9df-3e56-44d3-baf5-3c45cbee1e7f\" class=\"colab-df-container\">\n",
              "    <div>\n",
              "<style scoped>\n",
              "    .dataframe tbody tr th:only-of-type {\n",
              "        vertical-align: middle;\n",
              "    }\n",
              "\n",
              "    .dataframe tbody tr th {\n",
              "        vertical-align: top;\n",
              "    }\n",
              "\n",
              "    .dataframe thead th {\n",
              "        text-align: right;\n",
              "    }\n",
              "</style>\n",
              "<table border=\"1\" class=\"dataframe\">\n",
              "  <thead>\n",
              "    <tr style=\"text-align: right;\">\n",
              "      <th></th>\n",
              "      <th>title</th>\n",
              "      <th>date</th>\n",
              "      <th>text</th>\n",
              "    </tr>\n",
              "  </thead>\n",
              "  <tbody>\n",
              "    <tr>\n",
              "      <th>0</th>\n",
              "      <td>Chevron: Best Of Breed</td>\n",
              "      <td>2031-04-06T01:36:32.000000000+00:00</td>\n",
              "      <td>JHVEPhoto Like many companies in the O&amp;G secto...</td>\n",
              "    </tr>\n",
              "    <tr>\n",
              "      <th>1</th>\n",
              "      <td>FirstEnergy (NYSE:FE) Posts Earnings Results</td>\n",
              "      <td>2030-04-29T06:55:28.000000000+00:00</td>\n",
              "      <td>FirstEnergy (NYSE:FE – Get Rating) posted its ...</td>\n",
              "    </tr>\n",
              "    <tr>\n",
              "      <th>2</th>\n",
              "      <td>Dáil almost suspended after Sinn Féin TD put p...</td>\n",
              "      <td>2023-06-15T14:32:11.000000000+00:00</td>\n",
              "      <td>The Dáil was almost suspended on Thursday afte...</td>\n",
              "    </tr>\n",
              "    <tr>\n",
              "      <th>3</th>\n",
              "      <td>Epic’s latest tool can animate hyperrealistic ...</td>\n",
              "      <td>2023-06-15T14:00:00.000000000+00:00</td>\n",
              "      <td>Today, Epic is releasing a new tool designed t...</td>\n",
              "    </tr>\n",
              "    <tr>\n",
              "      <th>4</th>\n",
              "      <td>EU to Ban Huawei, ZTE from Internal Commission...</td>\n",
              "      <td>2023-06-15T13:50:00.000000000+00:00</td>\n",
              "      <td>The European Commission is planning to ban equ...</td>\n",
              "    </tr>\n",
              "  </tbody>\n",
              "</table>\n",
              "</div>\n",
              "    <div class=\"colab-df-buttons\">\n",
              "\n",
              "  <div class=\"colab-df-container\">\n",
              "    <button class=\"colab-df-convert\" onclick=\"convertToInteractive('df-1222e9df-3e56-44d3-baf5-3c45cbee1e7f')\"\n",
              "            title=\"Convert this dataframe to an interactive table.\"\n",
              "            style=\"display:none;\">\n",
              "\n",
              "  <svg xmlns=\"http://www.w3.org/2000/svg\" height=\"24px\" viewBox=\"0 -960 960 960\">\n",
              "    <path d=\"M120-120v-720h720v720H120Zm60-500h600v-160H180v160Zm220 220h160v-160H400v160Zm0 220h160v-160H400v160ZM180-400h160v-160H180v160Zm440 0h160v-160H620v160ZM180-180h160v-160H180v160Zm440 0h160v-160H620v160Z\"/>\n",
              "  </svg>\n",
              "    </button>\n",
              "\n",
              "  <style>\n",
              "    .colab-df-container {\n",
              "      display:flex;\n",
              "      gap: 12px;\n",
              "    }\n",
              "\n",
              "    .colab-df-convert {\n",
              "      background-color: #E8F0FE;\n",
              "      border: none;\n",
              "      border-radius: 50%;\n",
              "      cursor: pointer;\n",
              "      display: none;\n",
              "      fill: #1967D2;\n",
              "      height: 32px;\n",
              "      padding: 0 0 0 0;\n",
              "      width: 32px;\n",
              "    }\n",
              "\n",
              "    .colab-df-convert:hover {\n",
              "      background-color: #E2EBFA;\n",
              "      box-shadow: 0px 1px 2px rgba(60, 64, 67, 0.3), 0px 1px 3px 1px rgba(60, 64, 67, 0.15);\n",
              "      fill: #174EA6;\n",
              "    }\n",
              "\n",
              "    .colab-df-buttons div {\n",
              "      margin-bottom: 4px;\n",
              "    }\n",
              "\n",
              "    [theme=dark] .colab-df-convert {\n",
              "      background-color: #3B4455;\n",
              "      fill: #D2E3FC;\n",
              "    }\n",
              "\n",
              "    [theme=dark] .colab-df-convert:hover {\n",
              "      background-color: #434B5C;\n",
              "      box-shadow: 0px 1px 3px 1px rgba(0, 0, 0, 0.15);\n",
              "      filter: drop-shadow(0px 1px 2px rgba(0, 0, 0, 0.3));\n",
              "      fill: #FFFFFF;\n",
              "    }\n",
              "  </style>\n",
              "\n",
              "    <script>\n",
              "      const buttonEl =\n",
              "        document.querySelector('#df-1222e9df-3e56-44d3-baf5-3c45cbee1e7f button.colab-df-convert');\n",
              "      buttonEl.style.display =\n",
              "        google.colab.kernel.accessAllowed ? 'block' : 'none';\n",
              "\n",
              "      async function convertToInteractive(key) {\n",
              "        const element = document.querySelector('#df-1222e9df-3e56-44d3-baf5-3c45cbee1e7f');\n",
              "        const dataTable =\n",
              "          await google.colab.kernel.invokeFunction('convertToInteractive',\n",
              "                                                    [key], {});\n",
              "        if (!dataTable) return;\n",
              "\n",
              "        const docLinkHtml = 'Like what you see? Visit the ' +\n",
              "          '<a target=\"_blank\" href=https://colab.research.google.com/notebooks/data_table.ipynb>data table notebook</a>'\n",
              "          + ' to learn more about interactive tables.';\n",
              "        element.innerHTML = '';\n",
              "        dataTable['output_type'] = 'display_data';\n",
              "        await google.colab.output.renderOutput(dataTable, element);\n",
              "        const docLink = document.createElement('div');\n",
              "        docLink.innerHTML = docLinkHtml;\n",
              "        element.appendChild(docLink);\n",
              "      }\n",
              "    </script>\n",
              "  </div>\n",
              "\n",
              "\n",
              "<div id=\"df-e547a682-4dde-4bfb-92ad-4ea328edb246\">\n",
              "  <button class=\"colab-df-quickchart\" onclick=\"quickchart('df-e547a682-4dde-4bfb-92ad-4ea328edb246')\"\n",
              "            title=\"Suggest charts\"\n",
              "            style=\"display:none;\">\n",
              "\n",
              "<svg xmlns=\"http://www.w3.org/2000/svg\" height=\"24px\"viewBox=\"0 0 24 24\"\n",
              "     width=\"24px\">\n",
              "    <g>\n",
              "        <path d=\"M19 3H5c-1.1 0-2 .9-2 2v14c0 1.1.9 2 2 2h14c1.1 0 2-.9 2-2V5c0-1.1-.9-2-2-2zM9 17H7v-7h2v7zm4 0h-2V7h2v10zm4 0h-2v-4h2v4z\"/>\n",
              "    </g>\n",
              "</svg>\n",
              "  </button>\n",
              "\n",
              "<style>\n",
              "  .colab-df-quickchart {\n",
              "      --bg-color: #E8F0FE;\n",
              "      --fill-color: #1967D2;\n",
              "      --hover-bg-color: #E2EBFA;\n",
              "      --hover-fill-color: #174EA6;\n",
              "      --disabled-fill-color: #AAA;\n",
              "      --disabled-bg-color: #DDD;\n",
              "  }\n",
              "\n",
              "  [theme=dark] .colab-df-quickchart {\n",
              "      --bg-color: #3B4455;\n",
              "      --fill-color: #D2E3FC;\n",
              "      --hover-bg-color: #434B5C;\n",
              "      --hover-fill-color: #FFFFFF;\n",
              "      --disabled-bg-color: #3B4455;\n",
              "      --disabled-fill-color: #666;\n",
              "  }\n",
              "\n",
              "  .colab-df-quickchart {\n",
              "    background-color: var(--bg-color);\n",
              "    border: none;\n",
              "    border-radius: 50%;\n",
              "    cursor: pointer;\n",
              "    display: none;\n",
              "    fill: var(--fill-color);\n",
              "    height: 32px;\n",
              "    padding: 0;\n",
              "    width: 32px;\n",
              "  }\n",
              "\n",
              "  .colab-df-quickchart:hover {\n",
              "    background-color: var(--hover-bg-color);\n",
              "    box-shadow: 0 1px 2px rgba(60, 64, 67, 0.3), 0 1px 3px 1px rgba(60, 64, 67, 0.15);\n",
              "    fill: var(--button-hover-fill-color);\n",
              "  }\n",
              "\n",
              "  .colab-df-quickchart-complete:disabled,\n",
              "  .colab-df-quickchart-complete:disabled:hover {\n",
              "    background-color: var(--disabled-bg-color);\n",
              "    fill: var(--disabled-fill-color);\n",
              "    box-shadow: none;\n",
              "  }\n",
              "\n",
              "  .colab-df-spinner {\n",
              "    border: 2px solid var(--fill-color);\n",
              "    border-color: transparent;\n",
              "    border-bottom-color: var(--fill-color);\n",
              "    animation:\n",
              "      spin 1s steps(1) infinite;\n",
              "  }\n",
              "\n",
              "  @keyframes spin {\n",
              "    0% {\n",
              "      border-color: transparent;\n",
              "      border-bottom-color: var(--fill-color);\n",
              "      border-left-color: var(--fill-color);\n",
              "    }\n",
              "    20% {\n",
              "      border-color: transparent;\n",
              "      border-left-color: var(--fill-color);\n",
              "      border-top-color: var(--fill-color);\n",
              "    }\n",
              "    30% {\n",
              "      border-color: transparent;\n",
              "      border-left-color: var(--fill-color);\n",
              "      border-top-color: var(--fill-color);\n",
              "      border-right-color: var(--fill-color);\n",
              "    }\n",
              "    40% {\n",
              "      border-color: transparent;\n",
              "      border-right-color: var(--fill-color);\n",
              "      border-top-color: var(--fill-color);\n",
              "    }\n",
              "    60% {\n",
              "      border-color: transparent;\n",
              "      border-right-color: var(--fill-color);\n",
              "    }\n",
              "    80% {\n",
              "      border-color: transparent;\n",
              "      border-right-color: var(--fill-color);\n",
              "      border-bottom-color: var(--fill-color);\n",
              "    }\n",
              "    90% {\n",
              "      border-color: transparent;\n",
              "      border-bottom-color: var(--fill-color);\n",
              "    }\n",
              "  }\n",
              "</style>\n",
              "\n",
              "  <script>\n",
              "    async function quickchart(key) {\n",
              "      const quickchartButtonEl =\n",
              "        document.querySelector('#' + key + ' button');\n",
              "      quickchartButtonEl.disabled = true;  // To prevent multiple clicks.\n",
              "      quickchartButtonEl.classList.add('colab-df-spinner');\n",
              "      try {\n",
              "        const charts = await google.colab.kernel.invokeFunction(\n",
              "            'suggestCharts', [key], {});\n",
              "      } catch (error) {\n",
              "        console.error('Error during call to suggestCharts:', error);\n",
              "      }\n",
              "      quickchartButtonEl.classList.remove('colab-df-spinner');\n",
              "      quickchartButtonEl.classList.add('colab-df-quickchart-complete');\n",
              "    }\n",
              "    (() => {\n",
              "      let quickchartButtonEl =\n",
              "        document.querySelector('#df-e547a682-4dde-4bfb-92ad-4ea328edb246 button');\n",
              "      quickchartButtonEl.style.display =\n",
              "        google.colab.kernel.accessAllowed ? 'block' : 'none';\n",
              "    })();\n",
              "  </script>\n",
              "</div>\n",
              "\n",
              "    </div>\n",
              "  </div>\n"
            ],
            "application/vnd.google.colaboratory.intrinsic+json": {
              "type": "dataframe",
              "variable_name": "news",
              "summary": "{\n  \"name\": \"news\",\n  \"rows\": 2500,\n  \"fields\": [\n    {\n      \"column\": \"title\",\n      \"properties\": {\n        \"dtype\": \"string\",\n        \"num_unique_values\": 2282,\n        \"samples\": [\n          \"Golden Cross Appears Before NetApp Investors\",\n          \"Li Auto\\u2019s EV Sales Can Be A Catalyst. The Case to Buy Stock Now.\",\n          \"SMITH MARION COMMENTS ON RECENT HUD GRANT FOR HOUSING AUTHORITIES\"\n        ],\n        \"semantic_type\": \"\",\n        \"description\": \"\"\n      }\n    },\n    {\n      \"column\": \"date\",\n      \"properties\": {\n        \"dtype\": \"object\",\n        \"num_unique_values\": 1606,\n        \"samples\": [\n          \"2023-06-14T19:43:48.000000000+00:00\",\n          \"2023-06-14T03:31:01.000000000+00:00\",\n          \"2023-06-15T08:59:25.000000000+00:00\"\n        ],\n        \"semantic_type\": \"\",\n        \"description\": \"\"\n      }\n    },\n    {\n      \"column\": \"text\",\n      \"properties\": {\n        \"dtype\": \"string\",\n        \"num_unique_values\": 2472,\n        \"samples\": [\n          \"/EIN News/ -- Fremont, California, June 14, 2023 (GLOBE NEWSWIRE) -- Omicsveu, The Spatial Multiplex Multiomics Company, announced introduction of fully automated system for Hyperion\\u2019s multiplex immunohistochemistry (IHC) protocols developed and validated in collaboration with Scientists at The University of Sydney's prestigious Charles Perkins Centre, Sydney, Australia.\\nTissue multiplexing technology has changed proteomics profiling, allowing for the simultaneous detection of multiple protein markers from a single tissue section. However, current technologies for multiplex-proteomics involve manual steps that are time-consuming, labor-intensive, expensive, and inconsistent.\\nNanoVIP - an automated, slide-based staining system - by Omicsveu using manufacturers supplied protocols and reagents, reduced hands-on time of the Hyperion protocol to less than 20 minutes and reagent costs by 80% - as it only uses 25\\u00b5L of antibody for a single sample. Further NanoVIP plug & play system doesn\\u2019t require highly skilled operators to get optimum results. Results are summarized in the table below.\\nAdrian Smith, Technical Director at Sydney Cytometry (Centenary Institute and The University of Sydney), was so impressed with NanoVIP for the automated preparation of tissue sample slides. \\u201cWe are very impressed with the instrument (and the support!), and I'm excited to see what our researchers at Sydney Cytometry will do with it!\\u201d said Dr. Smith.\\nResults are summarized in the table below.\\nAbout Omicsveu\\nOmicsveu is a special-purpose spinoff of BioGenex, designs, develops, and commercializes, fully automated plug & play, slide-staining systems. Our innovative technologies are affordable and accessible, to help accelerate developments of new diagnostics and therapeutics leading to improved disease outcome. Our systems incorporate easy to use innovative automation, ready-to-use reagents, and optimized protocols, generating reliable, consistent, and reproducible results. For more information, please visit our website at www.omicsveu.com, or connect with us on LinkedIn and Twitter.\\nContact: \\n\\nEmail: info@omicsveu.com\",\n          \"The lawsuit brought by the United States Securities and Exchange Commission (SEC) against Coinbase Global on June 6 is raising questions about the crypto exchange's approach to managing the ongoing crypto crackdown.\\nIn a recent interview with Cointelegraph, venture capitalist Kevin O'Leary criticized Coinbase's strategy to address the current regulatory environment. \\\"Its market cap was decimated [by the SEC suit], and the management there seems to want to keep taking on the SEC over and over and over again,\\\" said the serial entrepreneur in reference to the 17.4% drop in Coinbase's stock last week. O'Leary continued:\\n\\\"I would think at this point, if you\\u2019re a shareholder in that company, you may want to make some changes. I don\\u2019t think this is working as a strategy [\\u2026] I am not optimistic for the management team there [...] I think investors are done with this.\\\"\\nCoinbase has spent months campaigning for clearer crypto regulations in the U.S. amid increasing regulatory scrutiny. In a recent interview with The Wall Street Journal, Coinbase CEO Brian Armstrong said the exchange met with the SEC over 30 times in the past year without receiving any feedback on a path to compliance.\\nStock prices dropping due to regulatory activity, such as the SEC\\u2019s proceeding against Coinbase, are often used as a template for private claims of alleged damages, as long as it carries materiality of misleading statements or omissions, Mark Kornfeld, a securities and regulatory attorney, told Cointelegraph. \\\"The devil, as always, is in the details as to whether what is alleged is proven to have occurred,\\\" Kornfeld noted.\\nAccording to corporate and securities lawyer Roland Chase, legal claims from harmed investors against Coinbase and its management could range from \\\"whether the legal analysis that Coinbase conducts every time it considers a crypto asset for listing is adequate\\\" to whether its risk factor disclosure to investors was adequate.\\n\\\"If it [token's listing analysis] is not adequate, and management knew that, or was reckless in not knowing it, there may be a federal securities law claim against Coinbase and its management,\\\" Chase continued.\\nCoinbase to have reviewed over a thousand assets, with 90% being rejected. \\\"We thought some of them could be securities or we had other concerns about them. We really only list a very conservative small number of the assets out there,\\\" Armstrong told WSJ.\\nRegarding its disclosure to investors, Coinbase's filing with regulators in 2021 seemed to predict what it was likely to encounter in the future. The risks section of the filing reads:\\n\\\"A particular crypto asset\\u2019s status as a \\u201csecurity\\u201d in any relevant jurisdiction is subject to a high degree of uncertainty and if we are unable to properly characterize a crypto asset, we may be subject to regulatory scrutiny, investigations, fines, and other penalties, which may adversely affect our business, operating results, and financial condition.\\\"\\nA legal dispute with regulators could take years in court and cost the exchange significant money. Ripple, which is currently in litigation over XRP's alleged security status, has spent over $200 million defending against the SEC lawsuit since 2020.\\nCointelegraph reached out to Coinbase, but did not receive a response.\",\n          \"Informatica Corp. said today it will acquire Privitar Ltd., a London-based maker of access controls and remediation for data privacy and security, for an undisclosed amount.\\nThe company said it plans to incorporate Privitar\\u2019s technology into its Intelligent Data Management Cloud, a platform for analyzing and managing data across large enterprises. The acquisition is expected to be completed in the third quarter of this year.\\nPrivitar\\u2019s software enables businesses to support self-service access to data with collaborative workflows, regulatory controls and cross-platform security enforcement defined by a single policy. It claims to be the first vendor to apply privacy controls within complex data pipelines.\\nThe company provides auditable and compliant access to data assets that conforms to major regulations including the European Union\\u2019s General Data Protection Regulation, the California Consumer Privacy Act and Canada\\u2019s Personal Information Protection and Electronic Documents Act.\\nInformatica already provides data privacy and protection capabilities through its cloud data governance, cataloging and cloud data masking services that include policy management, data classification, sensitive data discovery, data lineage for tracking movement, and data masking for risk exposure remediation, a spokesman said. \\u201cPrivitar brings an additional and complementary level of management granularity through access control definition and policy remediation that deepen Informatica\\u2019s abilities to meet today\\u2019s modern data governance use cases,\\u201d he said.\\n\\u201cData governance and responsible use of data is a growing priority for large businesses, but too often requires trading off agility and self-service,\\u201d Informatica Chief Executive Amit Walia (pictured) said in a statement.\\nPrivitar already has numerous partnerships and a presence on cloud marketplaces. No immediate changes to those arrangements are planned, the spokesman said. \\u201cThe long-term opportunity is to provide Privitar\\u2019s capabilities through Informatica channels as well,\\u201d he said.\\nFor the immediate future, Privitar will remain a standalone product but the long-term plan is to integrate with IDMC, the spokesman said. Pricing has not been determined but the Privitar service will likely carry consumption-based pricing.\\nFounded in 2014, Privitar raised more than $150 million from 17 investors, the most recent funding round an $87 million Series C in 2020. At that time the company was valued at $400 million. Investors include HSBC Venture Capital Coverage Group, Citi Ventures Inc., Accel Partners LP and Salesforce Ventures LLC.\\nThe downward pressure on valuations created by the broad selloff in tech stocks over the past year has made startups more attractive to well-funded firms such as Informatica, which acquired 15 firms over its history, including metadata management software provider Compact Solutions LLC and machine learning technology provider GreenBay Technologies Inc., both in 2020.\\nPhoto: SiliconAngle\\nA message from John Furrier, co-founder of SiliconANGLE:\\nYour vote of support is important to us and it helps us keep the content FREE.\\nOne-click below supports our mission to provide free, deep and relevant content.\\nJoin our community on YouTube\\nJoin the community that includes more than 15,000 #CubeAlumni experts, including Amazon.com CEO Andy Jassy, Dell Technologies founder and CEO Michael Dell, Intel CEO Pat Gelsinger and many more luminaries and experts.\\n\\u201cTheCUBE is an important partner to the industry. You guys really are a part of our events and we really appreciate you coming and I know people appreciate the content you create as well\\u201d \\u2013 Andy Jassy\\nTHANK YOU\"\n        ],\n        \"semantic_type\": \"\",\n        \"description\": \"\"\n      }\n    }\n  ]\n}"
            }
          },
          "metadata": {},
          "execution_count": 5
        }
      ],
      "source": [
        "import pandas as pd\n",
        "from llama_index.core import Document\n",
        "\n",
        "news = pd.read_csv(\"https://raw.githubusercontent.com/tomasonjo/blog-datasets/main/news_articles.csv\")\n",
        "documents = [Document(text=f\"{row['title']}: {row['text']}\") for i, row in news.iterrows()]\n",
        "news.head()"
      ]
    },
    {
      "cell_type": "markdown",
      "id": "2183f0ce-ae84-41cb-bcfa-3f81705e24e8",
      "metadata": {
        "id": "2183f0ce-ae84-41cb-bcfa-3f81705e24e8"
      },
      "source": [
        "#### Define Default LLMs"
      ]
    },
    {
      "cell_type": "code",
      "execution_count": 6,
      "id": "d06478af-01bc-43ed-aabc-30d193d6482a",
      "metadata": {
        "id": "d06478af-01bc-43ed-aabc-30d193d6482a"
      },
      "outputs": [],
      "source": [
        "from llama_index.embeddings.openai import OpenAIEmbedding\n",
        "from llama_index.llms.openai import OpenAI\n",
        "\n",
        "llm = OpenAI(model=\"gpt-4o\", temperature=0.0)\n",
        "embed_model = OpenAIEmbedding(model_name=\"text-embedding-3-small\")"
      ]
    },
    {
      "cell_type": "markdown",
      "id": "35a33a72-323a-4462-9d91-a2ae6ff04f9f",
      "metadata": {
        "id": "35a33a72-323a-4462-9d91-a2ae6ff04f9f"
      },
      "source": [
        "#### Build the Property Graph"
      ]
    },
    {
      "cell_type": "code",
      "source": [
        "from typing import Literal\n",
        "from llama_index.core.indices.property_graph import SchemaLLMPathExtractor\n",
        "\n",
        "# best practice to use upper-case\n",
        "entities = Literal[\"PERSON\", \"LOCATION\", \"ORGANIZATION\", \"PRODUCT\", \"EVENT\"]\n",
        "relations = Literal[\n",
        "    \"SUPPLIER_OF\",\n",
        "    \"COMPETITOR\",\n",
        "    \"PARTNERSHIP\",\n",
        "    \"ACQUISITION\",\n",
        "    \"WORKS_AT\",\n",
        "    \"SUBSIDIARY\",\n",
        "    \"BOARD_MEMBER\",\n",
        "    \"CEO\",\n",
        "    \"PROVIDES\",\n",
        "    \"HAS_EVENT\",\n",
        "    \"IN_LOCATION\",\n",
        "]\n",
        "\n",
        "# define which entities can have which relations\n",
        "validation_schema = {\n",
        "    \"Person\": [\"WORKS_AT\", \"BOARD_MEMBER\", \"CEO\", \"HAS_EVENT\"],\n",
        "    \"Organization\": [\n",
        "        \"SUPPLIER_OF\",\n",
        "        \"COMPETITOR\",\n",
        "        \"PARTNERSHIP\",\n",
        "        \"ACQUISITION\",\n",
        "        \"WORKS_AT\",\n",
        "        \"SUBSIDIARY\",\n",
        "        \"BOARD_MEMBER\",\n",
        "        \"CEO\",\n",
        "        \"PROVIDES\",\n",
        "        \"HAS_EVENT\",\n",
        "        \"IN_LOCATION\",\n",
        "    ],\n",
        "    \"Product\": [\"PROVIDES\"],\n",
        "    \"Event\": [\"HAS_EVENT\", \"IN_LOCATION\"],\n",
        "    \"Location\": [\"HAPPENED_AT\", \"IN_LOCATION\"],\n",
        "}\n",
        "\n",
        "kg_extractor = SchemaLLMPathExtractor(\n",
        "    llm=llm,\n",
        "    possible_entities=entities,\n",
        "    possible_relations=relations,\n",
        "    kg_validation_schema=validation_schema,\n",
        "    # if false, allows for values outside of the schema\n",
        "    # useful for using the schema as a suggestion\n",
        "    strict=True,\n",
        ")\n"
      ],
      "metadata": {
        "id": "RFs-H2QZcO2m"
      },
      "id": "RFs-H2QZcO2m",
      "execution_count": 7,
      "outputs": []
    },
    {
      "cell_type": "code",
      "execution_count": 8,
      "id": "67f2faf0-e079-4f1f-97d7-65a0cd64eabb",
      "metadata": {
        "id": "67f2faf0-e079-4f1f-97d7-65a0cd64eabb",
        "colab": {
          "base_uri": "https://localhost:8080/",
          "height": 103,
          "referenced_widgets": [
            "470dca3e1c534edb92b883174b461e6e",
            "01757b1e68f04ce3a53b0b4278014e52",
            "9455c43e95c342dbb985b931c2abb9c8",
            "6b29a7f6957b408796ad409765b8d55a",
            "67842121c9b542c885ae2c3dfe669f5e",
            "427d5a719f80457b837dc7e4eb6a500c",
            "0ecd0e538f45413aae55b2dfc15f637e",
            "cf7de45cf1ce4f05a979b1c09279d87d",
            "f5b2d2efd9874704bd8c888c257259db",
            "122a1cbf990345109e6f90d3859f9de8",
            "d30d956a20ca45d0ad8edc1f93f981ff"
          ]
        },
        "outputId": "3947a60b-daf8-4fec-e547-87a34c4578a7"
      },
      "outputs": [
        {
          "output_type": "display_data",
          "data": {
            "text/plain": [
              "Parsing nodes:   0%|          | 0/250 [00:00<?, ?it/s]"
            ],
            "application/vnd.jupyter.widget-view+json": {
              "version_major": 2,
              "version_minor": 0,
              "model_id": "470dca3e1c534edb92b883174b461e6e"
            }
          },
          "metadata": {}
        },
        {
          "output_type": "stream",
          "name": "stderr",
          "text": [
            "Extracting paths from text with schema: 100%|██████████| 250/250 [07:10<00:00,  1.72s/it]\n",
            "Generating embeddings: 100%|██████████| 3/3 [00:02<00:00,  1.11it/s]\n",
            "Generating embeddings: 100%|██████████| 46/46 [00:02<00:00, 16.68it/s]\n"
          ]
        }
      ],
      "source": [
        "from llama_index.core import PropertyGraphIndex\n",
        "\n",
        "NUMBER_OF_ARTICLES = 250\n",
        "\n",
        "index = PropertyGraphIndex.from_documents(\n",
        "    documents[:NUMBER_OF_ARTICLES],\n",
        "    kg_extractors=[kg_extractor],\n",
        "    llm=llm,\n",
        "    embed_model=embed_model,\n",
        "    property_graph_store=graph_store,\n",
        "    show_progress=True,\n",
        ")"
      ]
    },
    {
      "cell_type": "markdown",
      "source": [
        "## Entity disambiguation"
      ],
      "metadata": {
        "id": "a-GClpo1SDuz"
      },
      "id": "a-GClpo1SDuz"
    },
    {
      "cell_type": "code",
      "source": [
        "graph_store.structured_query(\"\"\"\n",
        "CREATE VECTOR INDEX entity IF NOT EXISTS\n",
        "FOR (m:`__Entity__`)\n",
        "ON m.embedding\n",
        "OPTIONS {indexConfig: {\n",
        " `vector.dimensions`: 1536,\n",
        " `vector.similarity_function`: 'cosine'\n",
        "}}\n",
        "\"\"\")"
      ],
      "metadata": {
        "colab": {
          "base_uri": "https://localhost:8080/"
        },
        "id": "uQFkxysQDNoO",
        "outputId": "17b99cbf-3a09-4fd8-a959-cd5db8cc0aef"
      },
      "id": "uQFkxysQDNoO",
      "execution_count": 9,
      "outputs": [
        {
          "output_type": "execute_result",
          "data": {
            "text/plain": [
              "[]"
            ]
          },
          "metadata": {},
          "execution_count": 9
        }
      ]
    },
    {
      "cell_type": "code",
      "source": [
        "# Just for inspection\n",
        "similarity_threshold = 0.9\n",
        "word_edit_distance = 5\n",
        "data = graph_store.structured_query(\"\"\"\n",
        "MATCH (e:__Entity__)\n",
        "CALL {\n",
        "  WITH e\n",
        "  CALL db.index.vector.queryNodes('entity', 10, e.embedding)\n",
        "  YIELD node, score\n",
        "  WITH node, score\n",
        "  WHERE score > toFLoat($cutoff)\n",
        "      AND (toLower(node.name) CONTAINS toLower(e.name) OR toLower(e.name) CONTAINS toLower(node.name)\n",
        "           OR apoc.text.distance(toLower(node.name), toLower(e.name)) < $distance)\n",
        "      AND labels(e) = labels(node)\n",
        "  WITH node, score\n",
        "  ORDER BY node.name\n",
        "  RETURN collect(node) AS nodes\n",
        "}\n",
        "WITH distinct nodes\n",
        "WHERE size(nodes) > 1\n",
        "WITH collect([n in nodes | n.name]) AS results\n",
        "UNWIND range(0, size(results)-1, 1) as index\n",
        "WITH results, index, results[index] as result\n",
        "WITH apoc.coll.sort(reduce(acc = result, index2 IN range(0, size(results)-1, 1) |\n",
        "        CASE WHEN index <> index2 AND\n",
        "            size(apoc.coll.intersection(acc, results[index2])) > 0\n",
        "            THEN apoc.coll.union(acc, results[index2])\n",
        "            ELSE acc\n",
        "        END\n",
        ")) as combinedResult\n",
        "WITH distinct(combinedResult) as combinedResult\n",
        "// extra filtering\n",
        "WITH collect(combinedResult) as allCombinedResults\n",
        "UNWIND range(0, size(allCombinedResults)-1, 1) as combinedResultIndex\n",
        "WITH allCombinedResults[combinedResultIndex] as combinedResult, combinedResultIndex, allCombinedResults\n",
        "WHERE NOT any(x IN range(0,size(allCombinedResults)-1,1)\n",
        "    WHERE x <> combinedResultIndex\n",
        "    AND apoc.coll.containsAll(allCombinedResults[x], combinedResult)\n",
        ")\n",
        "RETURN combinedResult\n",
        "\"\"\", param_map={'cutoff': similarity_threshold, 'distance': word_edit_distance})\n",
        "for row in data:\n",
        "    print(row)"
      ],
      "metadata": {
        "colab": {
          "base_uri": "https://localhost:8080/"
        },
        "id": "ia7nNsgyCOOy",
        "outputId": "df2254d2-da2d-4795-dfae-a5f65ec53423"
      },
      "id": "ia7nNsgyCOOy",
      "execution_count": 16,
      "outputs": [
        {
          "output_type": "stream",
          "name": "stdout",
          "text": [
            "{'combinedResult': ['American Fork', 'American Fork, Utah']}\n",
            "{'combinedResult': ['XPeng', 'XPeng Inc', 'Xpeng']}\n",
            "{'combinedResult': ['Bank of America', 'Bank of America Corp.']}\n",
            "{'combinedResult': ['bilingual STEM tutoring', 'bilingual STEM tutoring organization to close the educational gap for underserved students']}\n",
            "{'combinedResult': ['Houston Texans', 'Texans']}\n",
            "{'combinedResult': ['Hyatt', 'Hyatt Hotels']}\n",
            "{'combinedResult': ['Star Ocean', 'Star Ocean 2', 'Star Ocean 2 remake', 'Star Ocean The Second Story', 'Star Ocean: Second Evolution', 'Star Ocean: The Second Story', 'Star Ocean: The Second Story R']}\n",
            "{'combinedResult': ['Star Ocean First Departure R', 'Star Ocean: First Departure R']}\n",
            "{'combinedResult': ['Citigroup', 'Citigroup Inc.']}\n",
            "{'combinedResult': ['Wells Fargo', 'Wells Fargo & Co.']}\n",
            "{'combinedResult': ['JPMorgan', 'JPMorgan Asset Management', 'JPMorgan Chase', 'JPMorgan Chase & Co.']}\n",
            "{'combinedResult': ['Delhi', 'New Delhi']}\n",
            "{'combinedResult': ['CarMax Auto Owner Trust 2019-3', 'CarMax Auto Owner Trust 2019-4']}\n",
            "{'combinedResult': ['Commission File Number: 333-228379', 'Commission File Number: 333-228379-04']}\n",
            "{'combinedResult': ['Central Index Key Number: 0001601902', 'Central Index Key Number: 0001779026']}\n",
            "{'combinedResult': ['Premier League fixtures', 'Premier League fixtures 2023/2024']}\n",
            "{'combinedResult': ['U.S. Securities and Exchange Commission', 'US Securities and Exchange Commission']}\n",
            "{'combinedResult': ['Liverpool vs Newcastle', 'Liverpool vs Newcastle United']}\n",
            "{'combinedResult': ['4GB + 64GB', '6GB + 128GB']}\n",
            "{'combinedResult': ['Match against West Ham', 'Match against West Ham United']}\n",
            "{'combinedResult': ['Buy rating', 'Hold rating']}\n",
            "{'combinedResult': ['US', 'USA']}\n",
            "{'combinedResult': ['Delta Air Lines', 'Delta Air Lines Inc.']}\n",
            "{'combinedResult': ['Baltimore', 'Baltimore Ravens', 'Ravens']}\n",
            "{'combinedResult': ['General Motors', 'General Motors Co.']}\n",
            "{'combinedResult': ['Supercharger', 'Superchargers']}\n",
            "{'combinedResult': ['repaid more than $10 billion of debt', 'repaid more than $10 billion of debt in the last two years']}\n",
            "{'combinedResult': [\"Moody's Investors Service\", 'Moody’s Investors Service']}\n",
            "{'combinedResult': ['Sony WF-1000XM4', 'Sony WF-1000XM5']}\n",
            "{'combinedResult': ['Electric Cars', 'electric-car']}\n",
            "{'combinedResult': ['Alibaba', 'Alibaba Group']}\n",
            "{'combinedResult': ['Aldeyra', 'Aldeyra Therapeutics']}\n",
            "{'combinedResult': ['shareholder return', 'total shareholder return', 'total shareholder return (TSR)']}\n",
            "{'combinedResult': ['European Commission approval of Rinvoq® for the treatment of Crohn’s disease', 'approval of Rinvoq® for the treatment of Crohn’s disease']}\n",
            "{'combinedResult': ['treatment for non-radiographic axial spondyloarthritis', 'treatment for radiographic axial spondyloarthritis']}\n",
            "{'combinedResult': ['New York Times', 'The New York Times']}\n",
            "{'combinedResult': ['New York', 'New York, NY', 'New York, New York']}\n",
            "{'combinedResult': ['Atlas Air', 'Atlas Air Worldwide', 'Atlas Air Worldwide Holdings Inc.']}\n",
            "{'combinedResult': ['Goldman Sachs', 'Goldman Sachs Group Inc.']}\n",
            "{'combinedResult': ['UTI Asset Management Company', 'UTI Asset Management Company Limited', 'UTI Asset Management Company Ltd']}\n",
            "{'combinedResult': ['June 14, 2023', 'June 15 2023']}\n",
            "{'combinedResult': ['Zee Entertainment', 'Zee Entertainment Enterprises Ltd.']}\n",
            "{'combinedResult': ['NIRF Rankings 2023', 'NIRF ranking']}\n",
            "{'combinedResult': ['Death', 'death']}\n",
            "{'combinedResult': ['1963 AFL Draft', '1963 NFL Draft']}\n",
            "{'combinedResult': ['1967 NFL season', '1970 NFL season']}\n",
            "{'combinedResult': ['Australian Opposition Party', 'Australian opposition party']}\n",
            "{'combinedResult': ['Expels Senator Over Sexual Misconduct Allegations', 'expels senator over sexual misconduct allegations']}\n",
            "{'combinedResult': [\"Australia's Parliament House\", 'Parliament House']}\n",
            "{'combinedResult': ['high-quality large-cap tech stock', 'large-cap tech stock']}\n",
            "{'combinedResult': ['BTC Halving', 'BTC Halving 2016', 'BTC Halving 2020', 'BTC Halving 2024', 'Bitcoin Halving', 'Bitcoin Halving 2024']}\n",
            "{'combinedResult': ['Global', 'global']}\n",
            "{'combinedResult': ['Tesla Inc', 'Tesla Inc.']}\n",
            "{'combinedResult': ['Nvidia', 'Nvidia Corp.']}\n",
            "{'combinedResult': ['Qualcomm', 'Qualcomm Technologies, Inc.']}\n",
            "{'combinedResult': ['PlayStation Plus', 'PlayStation Plus Premium', 'PlayStation Plus Premium subscription']}\n",
            "{'combinedResult': [\"European People's Party\", 'European People’s Party']}\n",
            "{'combinedResult': ['2008 PSP remake', 'PSP remake']}\n",
            "{'combinedResult': ['Nasdaq', 'Nasdaq stock exchange']}\n",
            "{'combinedResult': ['BRUSSELS', 'Brussels']}\n",
            "{'combinedResult': ['Realme 11 Pro 5G', 'Realme 11 Pro+ 5G']}\n",
            "{'combinedResult': ['cloud streaming', 'cloud streaming support']}\n",
            "{'combinedResult': ['Quarterly Dividend Increase', 'quarterly dividend increase']}\n",
            "{'combinedResult': ['Baja California Sur', 'Baja California Sur, Mexico']}\n",
            "{'combinedResult': ['Death of three American tourists', 'Death of two American tourists']}\n",
            "{'combinedResult': ['Airtel', 'Bharti Airtel']}\n",
            "{'combinedResult': ['Smart Hub', 'Smart Hub Plus', 'Smart Hub Plus router']}\n",
            "{'combinedResult': ['Smart Wi-Fi', 'Smart Wi-Fi Plus']}\n",
            "{'combinedResult': ['Laser World of Photonics', 'Laser World of Photonics China']}\n",
            "{'combinedResult': ['Levi & Korsinsky', 'Levi & Korsinsky, LLP']}\n",
            "{'combinedResult': ['Legal Services', 'legal services']}\n",
            "{'combinedResult': ['Class Action Lawsuit', 'class action lawsuit']}\n",
            "{'combinedResult': ['Securities Litigation', 'securities litigation']}\n",
            "{'combinedResult': ['Inditex', 'Inditex SA']}\n",
            "{'combinedResult': ['GroupM', 'GroupM India', 'GroupM Nexus', 'GroupM South Asia']}\n",
            "{'combinedResult': ['Adani Green Energy', 'Adani Green Energy Limited']}\n",
            "{'combinedResult': ['Ranked among the top 10 companies in the world in the Renewable Energy sector by Sustainalytics in FY23', 'Ranked among the top 10 companies in the world in the renewable energy sector by Sustainalytics']}\n",
            "{'combinedResult': ['Target of 45 GW of renewable energy capacity by 2030', 'target of 45 GW of renewable energy capacity by 2030']}\n",
            "{'combinedResult': ['Activision Blizzard', 'Activision Blizzard, Inc.']}\n",
            "{'combinedResult': ['series 12', 'series 13', 'series 13 filming']}\n",
            "{'combinedResult': ['$1,751', '$1,785']}\n",
            "{'combinedResult': ['PETRONAS Chemicals', 'PETRONAS Chemicals Group Berhad']}\n",
            "{'combinedResult': ['Sky Q 1TB UHD box', 'Sky Q 1TB box', 'Sky Q 2TB box']}\n",
            "{'combinedResult': ['JPMorgan Asia Pacific', 'JPMorgan Asia Pacific ECM']}\n",
            "{'combinedResult': ['Adani Ports', 'Adani Ports & SEZ', 'Adani Power']}\n"
          ]
        }
      ]
    },
    {
      "cell_type": "code",
      "source": [
        "graph_store.structured_query(\"\"\"\n",
        "MATCH (e:__Entity__)\n",
        "CALL {\n",
        "  WITH e\n",
        "  CALL db.index.vector.queryNodes('entity', 10, e.embedding)\n",
        "  YIELD node, score\n",
        "  WITH node, score\n",
        "  WHERE score > toFLoat($cutoff)\n",
        "      AND (toLower(node.name) CONTAINS toLower(e.name) OR toLower(e.name) CONTAINS toLower(node.name)\n",
        "           OR apoc.text.distance(toLower(node.name), toLower(e.name)) < $distance)\n",
        "      AND labels(e) = labels(node)\n",
        "  WITH node, score\n",
        "  ORDER BY node.name\n",
        "  RETURN collect(node) AS nodes\n",
        "}\n",
        "WITH distinct nodes\n",
        "WHERE size(nodes) > 1\n",
        "WITH collect([n in nodes | n.name]) AS results\n",
        "UNWIND range(0, size(results)-1, 1) as index\n",
        "WITH results, index, results[index] as result\n",
        "WITH apoc.coll.sort(reduce(acc = result, index2 IN range(0, size(results)-1, 1) |\n",
        "        CASE WHEN index <> index2 AND\n",
        "            size(apoc.coll.intersection(acc, results[index2])) > 0\n",
        "            THEN apoc.coll.union(acc, results[index2])\n",
        "            ELSE acc\n",
        "        END\n",
        ")) as combinedResult\n",
        "WITH distinct(combinedResult) as combinedResult\n",
        "// extra filtering\n",
        "WITH collect(combinedResult) as allCombinedResults\n",
        "UNWIND range(0, size(allCombinedResults)-1, 1) as combinedResultIndex\n",
        "WITH allCombinedResults[combinedResultIndex] as combinedResult, combinedResultIndex, allCombinedResults\n",
        "WHERE NOT any(x IN range(0,size(allCombinedResults)-1,1)\n",
        "    WHERE x <> combinedResultIndex\n",
        "    AND apoc.coll.containsAll(allCombinedResults[x], combinedResult)\n",
        ")\n",
        "CALL {\n",
        "  WITH combinedResult\n",
        "\tUNWIND combinedResult AS name\n",
        "\tMATCH (e:__Entity__ {name:name})\n",
        "\tWITH e\n",
        "\tORDER BY size(e.name) DESC // prefer longer names to remain after merging\n",
        "\tRETURN collect(e) AS nodes\n",
        "}\n",
        "CALL apoc.refactor.mergeNodes(nodes, {properties: {\n",
        "    `.*`: 'discard'\n",
        "}})\n",
        "YIELD node\n",
        "RETURN count(*)\n",
        "\"\"\", param_map={'cutoff': similarity_threshold, 'distance': word_edit_distance})"
      ],
      "metadata": {
        "id": "KOrqhswLwG7W",
        "outputId": "c838bc9e-8b7b-4fd6-a38d-77eb5ac96546",
        "colab": {
          "base_uri": "https://localhost:8080/"
        }
      },
      "id": "KOrqhswLwG7W",
      "execution_count": 21,
      "outputs": [
        {
          "output_type": "execute_result",
          "data": {
            "text/plain": [
              "[{'count(*)': 85}]"
            ]
          },
          "metadata": {},
          "execution_count": 21
        }
      ]
    },
    {
      "cell_type": "markdown",
      "source": [
        "# Retrieval"
      ],
      "metadata": {
        "id": "yL3UQeOOtax4"
      },
      "id": "yL3UQeOOtax4"
    },
    {
      "cell_type": "code",
      "execution_count": null,
      "id": "f69a555b-4029-4b74-9c96-6da617f651aa",
      "metadata": {
        "id": "f69a555b-4029-4b74-9c96-6da617f651aa"
      },
      "outputs": [],
      "source": [
        "from llama_index.core.retrievers import CustomPGRetriever, VectorContextRetriever\n",
        "from llama_index.core.graph_stores import PropertyGraphStore\n",
        "from llama_index.core.vector_stores.types import VectorStore\n",
        "from llama_index.core.embeddings import BaseEmbedding\n",
        "from llama_index.core.prompts import PromptTemplate\n",
        "from llama_index.core.llms import LLM\n",
        "from pydantic import BaseModel\n",
        "from llama_index.program.openai import OpenAIPydanticProgram\n",
        "\n",
        "\n",
        "from typing import Optional, Any, Union, List, Optional\n",
        "\n",
        "class Entities(BaseModel):\n",
        "    \"\"\"List of named entities in the text such as names of people, organizations, concepts, and locations\"\"\"\n",
        "    names: Optional[List[str]]\n",
        "\n",
        "\n",
        "prompt_template_entities = \"\"\"\n",
        "Extract all named entities such as names of people, organizations, concepts, and locations\n",
        "from the following text:\n",
        "{text}\n",
        "\"\"\"\n",
        "\n",
        "class MyCustomRetriever(CustomPGRetriever):\n",
        "    \"\"\"Custom retriever with cohere reranking.\"\"\"\n",
        "\n",
        "    def init(\n",
        "        self,\n",
        "        ## vector context retriever params\n",
        "        embed_model: Optional[BaseEmbedding] = None,\n",
        "        vector_store: Optional[VectorStore] = None,\n",
        "        similarity_top_k: int = 4,\n",
        "        path_depth: int = 1,\n",
        "        include_text: bool = True,\n",
        "        **kwargs: Any,\n",
        "    ) -> None:\n",
        "        \"\"\"Uses any kwargs passed in from class constructor.\"\"\"\n",
        "        self.entity_extraction = OpenAIPydanticProgram.from_defaults(\n",
        "    output_cls=Entities, prompt_template_str=prompt_template_entities\n",
        ")\n",
        "        self.vector_retriever = VectorContextRetriever(\n",
        "            self.graph_store,\n",
        "            include_text=self.include_text,\n",
        "            embed_model=embed_model,\n",
        "            #vector_store=vector_store,\n",
        "            similarity_top_k=similarity_top_k,\n",
        "            path_depth=path_depth,\n",
        "        )\n",
        "\n",
        "    def custom_retrieve(self, query_str: str) -> str:\n",
        "        \"\"\"Define custom retriever with reranking.\n",
        "\n",
        "        Could return `str`, `TextNode`, `NodeWithScore`, or a list of those.\n",
        "        \"\"\"\n",
        "        entities = self.entity_extraction(text=query_str).names\n",
        "        result_nodes = []\n",
        "        if entities:\n",
        "            print(f\"Detected entities: {entities}\")\n",
        "            for entity in entities:\n",
        "                result_nodes.extend(self.vector_retriever.retrieve(entity))\n",
        "        else:\n",
        "            result_nodes.extend(self.vector_retriever.retrieve(query_str))\n",
        "        ## TMP: please change\n",
        "        final_text = \"\\n\\n\".join(\n",
        "            [n.get_content(metadata_mode=\"llm\") for n in result_nodes]\n",
        "        )\n",
        "        return final_text"
      ]
    },
    {
      "cell_type": "markdown",
      "id": "e9a7ad0b-f170-40e8-b9bd-76deb5b42bdc",
      "metadata": {
        "id": "e9a7ad0b-f170-40e8-b9bd-76deb5b42bdc"
      },
      "source": [
        "## Test out the Custom Retriever\n",
        "\n",
        "Now let's initialize and test out the custom retriever against our data!\n",
        "\n",
        "To build a full RAG pipeline, we use the `RetrieverQueryEngine` to combine our retriever with the LLM synthesis module - this is also used under the hood for the property graph index."
      ]
    },
    {
      "cell_type": "code",
      "execution_count": null,
      "id": "7346d827-9fd8-42bf-8bc9-548f23da68fe",
      "metadata": {
        "id": "7346d827-9fd8-42bf-8bc9-548f23da68fe"
      },
      "outputs": [],
      "source": [
        "custom_sub_retriever = MyCustomRetriever(\n",
        "    index.property_graph_store,\n",
        "    include_text=True,\n",
        "    vector_store=index.vector_store,\n",
        "    embed_model=embed_model\n",
        ")"
      ]
    },
    {
      "cell_type": "code",
      "execution_count": null,
      "id": "1af69b34-184a-457a-9e98-d32b103ac0bd",
      "metadata": {
        "id": "1af69b34-184a-457a-9e98-d32b103ac0bd"
      },
      "outputs": [],
      "source": [
        "from llama_index.core.query_engine import RetrieverQueryEngine\n",
        "\n",
        "query_engine = RetrieverQueryEngine.from_args(\n",
        "    index.as_retriever(sub_retrievers=[custom_sub_retriever]), llm=llm\n",
        ")"
      ]
    },
    {
      "cell_type": "markdown",
      "id": "3f7e5bda-b11d-4544-adb9-ebed298fe070",
      "metadata": {
        "id": "3f7e5bda-b11d-4544-adb9-ebed298fe070"
      },
      "source": [
        "### Try out some Queries"
      ]
    },
    {
      "cell_type": "code",
      "execution_count": null,
      "id": "a950e8b7-91db-4153-8528-47a8b91d77f6",
      "metadata": {
        "id": "a950e8b7-91db-4153-8528-47a8b91d77f6",
        "outputId": "97f9e9d0-ff30-42dc-b4e7-39dfc117a36f",
        "colab": {
          "base_uri": "https://localhost:8080/"
        }
      },
      "outputs": [
        {
          "output_type": "stream",
          "name": "stdout",
          "text": [
            "Detected entities: ['Maliek Collins', \"Darragh O'Brien\"]\n",
            "Darragh O’Brien is associated with the Dáil and serves as the Minister for Housing. He was involved in a debate regarding retained firefighters, during which Sinn Féin TD John Brady placed an on-call pager in front of him, leading to a near suspension of the Dáil. O’Brien described Brady's actions as \"an act of theatre\" and expressed confidence that the dispute with firefighters could be resolved. He also encouraged unions to re-engage with the State’s industrial relations process.\n"
          ]
        }
      ],
      "source": [
        "response = query_engine.query(\"What do you know about Maliek Collins or Darragh O’Brien?\")\n",
        "print(str(response))"
      ]
    },
    {
      "cell_type": "code",
      "source": [],
      "metadata": {
        "id": "Nc4jPYbfrcQ4"
      },
      "id": "Nc4jPYbfrcQ4",
      "execution_count": null,
      "outputs": []
    }
  ],
  "metadata": {
    "kernelspec": {
      "display_name": "llama-index-bXUwlEfH-py3.11",
      "language": "python",
      "name": "python3"
    },
    "language_info": {
      "codemirror_mode": {
        "name": "ipython",
        "version": 3
      },
      "file_extension": ".py",
      "mimetype": "text/x-python",
      "name": "python",
      "nbconvert_exporter": "python",
      "pygments_lexer": "ipython3"
    },
    "colab": {
      "provenance": [],
      "include_colab_link": true
    },
    "widgets": {
      "application/vnd.jupyter.widget-state+json": {
        "470dca3e1c534edb92b883174b461e6e": {
          "model_module": "@jupyter-widgets/controls",
          "model_name": "HBoxModel",
          "model_module_version": "1.5.0",
          "state": {
            "_dom_classes": [],
            "_model_module": "@jupyter-widgets/controls",
            "_model_module_version": "1.5.0",
            "_model_name": "HBoxModel",
            "_view_count": null,
            "_view_module": "@jupyter-widgets/controls",
            "_view_module_version": "1.5.0",
            "_view_name": "HBoxView",
            "box_style": "",
            "children": [
              "IPY_MODEL_01757b1e68f04ce3a53b0b4278014e52",
              "IPY_MODEL_9455c43e95c342dbb985b931c2abb9c8",
              "IPY_MODEL_6b29a7f6957b408796ad409765b8d55a"
            ],
            "layout": "IPY_MODEL_67842121c9b542c885ae2c3dfe669f5e"
          }
        },
        "01757b1e68f04ce3a53b0b4278014e52": {
          "model_module": "@jupyter-widgets/controls",
          "model_name": "HTMLModel",
          "model_module_version": "1.5.0",
          "state": {
            "_dom_classes": [],
            "_model_module": "@jupyter-widgets/controls",
            "_model_module_version": "1.5.0",
            "_model_name": "HTMLModel",
            "_view_count": null,
            "_view_module": "@jupyter-widgets/controls",
            "_view_module_version": "1.5.0",
            "_view_name": "HTMLView",
            "description": "",
            "description_tooltip": null,
            "layout": "IPY_MODEL_427d5a719f80457b837dc7e4eb6a500c",
            "placeholder": "​",
            "style": "IPY_MODEL_0ecd0e538f45413aae55b2dfc15f637e",
            "value": "Parsing nodes: 100%"
          }
        },
        "9455c43e95c342dbb985b931c2abb9c8": {
          "model_module": "@jupyter-widgets/controls",
          "model_name": "FloatProgressModel",
          "model_module_version": "1.5.0",
          "state": {
            "_dom_classes": [],
            "_model_module": "@jupyter-widgets/controls",
            "_model_module_version": "1.5.0",
            "_model_name": "FloatProgressModel",
            "_view_count": null,
            "_view_module": "@jupyter-widgets/controls",
            "_view_module_version": "1.5.0",
            "_view_name": "ProgressView",
            "bar_style": "success",
            "description": "",
            "description_tooltip": null,
            "layout": "IPY_MODEL_cf7de45cf1ce4f05a979b1c09279d87d",
            "max": 250,
            "min": 0,
            "orientation": "horizontal",
            "style": "IPY_MODEL_f5b2d2efd9874704bd8c888c257259db",
            "value": 250
          }
        },
        "6b29a7f6957b408796ad409765b8d55a": {
          "model_module": "@jupyter-widgets/controls",
          "model_name": "HTMLModel",
          "model_module_version": "1.5.0",
          "state": {
            "_dom_classes": [],
            "_model_module": "@jupyter-widgets/controls",
            "_model_module_version": "1.5.0",
            "_model_name": "HTMLModel",
            "_view_count": null,
            "_view_module": "@jupyter-widgets/controls",
            "_view_module_version": "1.5.0",
            "_view_name": "HTMLView",
            "description": "",
            "description_tooltip": null,
            "layout": "IPY_MODEL_122a1cbf990345109e6f90d3859f9de8",
            "placeholder": "​",
            "style": "IPY_MODEL_d30d956a20ca45d0ad8edc1f93f981ff",
            "value": " 250/250 [00:00&lt;00:00, 1185.23it/s]"
          }
        },
        "67842121c9b542c885ae2c3dfe669f5e": {
          "model_module": "@jupyter-widgets/base",
          "model_name": "LayoutModel",
          "model_module_version": "1.2.0",
          "state": {
            "_model_module": "@jupyter-widgets/base",
            "_model_module_version": "1.2.0",
            "_model_name": "LayoutModel",
            "_view_count": null,
            "_view_module": "@jupyter-widgets/base",
            "_view_module_version": "1.2.0",
            "_view_name": "LayoutView",
            "align_content": null,
            "align_items": null,
            "align_self": null,
            "border": null,
            "bottom": null,
            "display": null,
            "flex": null,
            "flex_flow": null,
            "grid_area": null,
            "grid_auto_columns": null,
            "grid_auto_flow": null,
            "grid_auto_rows": null,
            "grid_column": null,
            "grid_gap": null,
            "grid_row": null,
            "grid_template_areas": null,
            "grid_template_columns": null,
            "grid_template_rows": null,
            "height": null,
            "justify_content": null,
            "justify_items": null,
            "left": null,
            "margin": null,
            "max_height": null,
            "max_width": null,
            "min_height": null,
            "min_width": null,
            "object_fit": null,
            "object_position": null,
            "order": null,
            "overflow": null,
            "overflow_x": null,
            "overflow_y": null,
            "padding": null,
            "right": null,
            "top": null,
            "visibility": null,
            "width": null
          }
        },
        "427d5a719f80457b837dc7e4eb6a500c": {
          "model_module": "@jupyter-widgets/base",
          "model_name": "LayoutModel",
          "model_module_version": "1.2.0",
          "state": {
            "_model_module": "@jupyter-widgets/base",
            "_model_module_version": "1.2.0",
            "_model_name": "LayoutModel",
            "_view_count": null,
            "_view_module": "@jupyter-widgets/base",
            "_view_module_version": "1.2.0",
            "_view_name": "LayoutView",
            "align_content": null,
            "align_items": null,
            "align_self": null,
            "border": null,
            "bottom": null,
            "display": null,
            "flex": null,
            "flex_flow": null,
            "grid_area": null,
            "grid_auto_columns": null,
            "grid_auto_flow": null,
            "grid_auto_rows": null,
            "grid_column": null,
            "grid_gap": null,
            "grid_row": null,
            "grid_template_areas": null,
            "grid_template_columns": null,
            "grid_template_rows": null,
            "height": null,
            "justify_content": null,
            "justify_items": null,
            "left": null,
            "margin": null,
            "max_height": null,
            "max_width": null,
            "min_height": null,
            "min_width": null,
            "object_fit": null,
            "object_position": null,
            "order": null,
            "overflow": null,
            "overflow_x": null,
            "overflow_y": null,
            "padding": null,
            "right": null,
            "top": null,
            "visibility": null,
            "width": null
          }
        },
        "0ecd0e538f45413aae55b2dfc15f637e": {
          "model_module": "@jupyter-widgets/controls",
          "model_name": "DescriptionStyleModel",
          "model_module_version": "1.5.0",
          "state": {
            "_model_module": "@jupyter-widgets/controls",
            "_model_module_version": "1.5.0",
            "_model_name": "DescriptionStyleModel",
            "_view_count": null,
            "_view_module": "@jupyter-widgets/base",
            "_view_module_version": "1.2.0",
            "_view_name": "StyleView",
            "description_width": ""
          }
        },
        "cf7de45cf1ce4f05a979b1c09279d87d": {
          "model_module": "@jupyter-widgets/base",
          "model_name": "LayoutModel",
          "model_module_version": "1.2.0",
          "state": {
            "_model_module": "@jupyter-widgets/base",
            "_model_module_version": "1.2.0",
            "_model_name": "LayoutModel",
            "_view_count": null,
            "_view_module": "@jupyter-widgets/base",
            "_view_module_version": "1.2.0",
            "_view_name": "LayoutView",
            "align_content": null,
            "align_items": null,
            "align_self": null,
            "border": null,
            "bottom": null,
            "display": null,
            "flex": null,
            "flex_flow": null,
            "grid_area": null,
            "grid_auto_columns": null,
            "grid_auto_flow": null,
            "grid_auto_rows": null,
            "grid_column": null,
            "grid_gap": null,
            "grid_row": null,
            "grid_template_areas": null,
            "grid_template_columns": null,
            "grid_template_rows": null,
            "height": null,
            "justify_content": null,
            "justify_items": null,
            "left": null,
            "margin": null,
            "max_height": null,
            "max_width": null,
            "min_height": null,
            "min_width": null,
            "object_fit": null,
            "object_position": null,
            "order": null,
            "overflow": null,
            "overflow_x": null,
            "overflow_y": null,
            "padding": null,
            "right": null,
            "top": null,
            "visibility": null,
            "width": null
          }
        },
        "f5b2d2efd9874704bd8c888c257259db": {
          "model_module": "@jupyter-widgets/controls",
          "model_name": "ProgressStyleModel",
          "model_module_version": "1.5.0",
          "state": {
            "_model_module": "@jupyter-widgets/controls",
            "_model_module_version": "1.5.0",
            "_model_name": "ProgressStyleModel",
            "_view_count": null,
            "_view_module": "@jupyter-widgets/base",
            "_view_module_version": "1.2.0",
            "_view_name": "StyleView",
            "bar_color": null,
            "description_width": ""
          }
        },
        "122a1cbf990345109e6f90d3859f9de8": {
          "model_module": "@jupyter-widgets/base",
          "model_name": "LayoutModel",
          "model_module_version": "1.2.0",
          "state": {
            "_model_module": "@jupyter-widgets/base",
            "_model_module_version": "1.2.0",
            "_model_name": "LayoutModel",
            "_view_count": null,
            "_view_module": "@jupyter-widgets/base",
            "_view_module_version": "1.2.0",
            "_view_name": "LayoutView",
            "align_content": null,
            "align_items": null,
            "align_self": null,
            "border": null,
            "bottom": null,
            "display": null,
            "flex": null,
            "flex_flow": null,
            "grid_area": null,
            "grid_auto_columns": null,
            "grid_auto_flow": null,
            "grid_auto_rows": null,
            "grid_column": null,
            "grid_gap": null,
            "grid_row": null,
            "grid_template_areas": null,
            "grid_template_columns": null,
            "grid_template_rows": null,
            "height": null,
            "justify_content": null,
            "justify_items": null,
            "left": null,
            "margin": null,
            "max_height": null,
            "max_width": null,
            "min_height": null,
            "min_width": null,
            "object_fit": null,
            "object_position": null,
            "order": null,
            "overflow": null,
            "overflow_x": null,
            "overflow_y": null,
            "padding": null,
            "right": null,
            "top": null,
            "visibility": null,
            "width": null
          }
        },
        "d30d956a20ca45d0ad8edc1f93f981ff": {
          "model_module": "@jupyter-widgets/controls",
          "model_name": "DescriptionStyleModel",
          "model_module_version": "1.5.0",
          "state": {
            "_model_module": "@jupyter-widgets/controls",
            "_model_module_version": "1.5.0",
            "_model_name": "DescriptionStyleModel",
            "_view_count": null,
            "_view_module": "@jupyter-widgets/base",
            "_view_module_version": "1.2.0",
            "_view_name": "StyleView",
            "description_width": ""
          }
        }
      }
    }
  },
  "nbformat": 4,
  "nbformat_minor": 5
}