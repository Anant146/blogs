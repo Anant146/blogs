{
  "cells": [
    {
      "cell_type": "markdown",
      "metadata": {
        "id": "view-in-github",
        "colab_type": "text"
      },
      "source": [
        "<a href=\"https://colab.research.google.com/github/tomasonjo/blogs/blob/master/llm/llama_index_neo4j_custom_retriever.ipynb\" target=\"_parent\"><img src=\"https://colab.research.google.com/assets/colab-badge.svg\" alt=\"Open In Colab\"/></a>"
      ]
    },
    {
      "cell_type": "markdown",
      "id": "9bfdaff2-6478-4fc7-a717-c56cb5b8b1c2",
      "metadata": {
        "id": "9bfdaff2-6478-4fc7-a717-c56cb5b8b1c2"
      },
      "source": [
        "# Defining a Custom Property Graph Retriever\n",
        "\n",
        "This guide shows you how to define a custom retriever against a property graph.\n",
        "\n",
        "It is more involved than using our out-of-the-box graph retrievers, but allows you to have granular control over the retrieval process so that it's better tailored for your application.\n",
        "\n",
        "We show you how to define an advanced retrieval flow by directly leveraging the property graph store. We'll execute both vector search and text-to-cypher retrieval, and then combine the results through a reranking module."
      ]
    },
    {
      "cell_type": "code",
      "execution_count": null,
      "id": "c0bcf776-7e25-4f3b-9cf7-edd954cede01",
      "metadata": {
        "id": "c0bcf776-7e25-4f3b-9cf7-edd954cede01"
      },
      "outputs": [],
      "source": [
        "!pip install --quiet llama-index llama-index-graph-stores-neo4j llama-index-program-openai llama-index-llms-openai"
      ]
    },
    {
      "cell_type": "markdown",
      "id": "6159b260-0061-4323-897f-f12e261da235",
      "metadata": {
        "id": "6159b260-0061-4323-897f-f12e261da235"
      },
      "source": [
        "## Setup and Build the Property Graph"
      ]
    },
    {
      "cell_type": "code",
      "execution_count": null,
      "id": "6389fe2a-6573-4847-a7ca-756b3f94d34f",
      "metadata": {
        "id": "6389fe2a-6573-4847-a7ca-756b3f94d34f"
      },
      "outputs": [],
      "source": [
        "import nest_asyncio\n",
        "\n",
        "nest_asyncio.apply()"
      ]
    },
    {
      "cell_type": "code",
      "execution_count": null,
      "id": "fa4d0d28-d20a-4378-8f3b-2f0ed776d2ac",
      "metadata": {
        "id": "fa4d0d28-d20a-4378-8f3b-2f0ed776d2ac"
      },
      "outputs": [],
      "source": [
        "import os\n",
        "\n",
        "os.environ[\"OPENAI_API_KEY\"] = \"sk-\""
      ]
    },
    {
      "cell_type": "markdown",
      "id": "12dc1433-c1e6-4a77-9c3b-2b4e52bae23d",
      "metadata": {
        "id": "12dc1433-c1e6-4a77-9c3b-2b4e52bae23d"
      },
      "source": [
        "#### Load News"
      ]
    },
    {
      "cell_type": "code",
      "execution_count": null,
      "id": "57333740-ec57-42d6-ae60-8fc3fa58c504",
      "metadata": {
        "id": "57333740-ec57-42d6-ae60-8fc3fa58c504",
        "colab": {
          "base_uri": "https://localhost:8080/",
          "height": 206
        },
        "outputId": "e29e9d95-1cc7-47cb-a0be-95a37ec75c87"
      },
      "outputs": [
        {
          "output_type": "execute_result",
          "data": {
            "text/plain": [
              "                                               title  \\\n",
              "0                             Chevron: Best Of Breed   \n",
              "1       FirstEnergy (NYSE:FE) Posts Earnings Results   \n",
              "2  Dáil almost suspended after Sinn Féin TD put p...   \n",
              "3  Epic’s latest tool can animate hyperrealistic ...   \n",
              "4  EU to Ban Huawei, ZTE from Internal Commission...   \n",
              "\n",
              "                                  date  \\\n",
              "0  2031-04-06T01:36:32.000000000+00:00   \n",
              "1  2030-04-29T06:55:28.000000000+00:00   \n",
              "2  2023-06-15T14:32:11.000000000+00:00   \n",
              "3  2023-06-15T14:00:00.000000000+00:00   \n",
              "4  2023-06-15T13:50:00.000000000+00:00   \n",
              "\n",
              "                                                text  \n",
              "0  JHVEPhoto Like many companies in the O&G secto...  \n",
              "1  FirstEnergy (NYSE:FE – Get Rating) posted its ...  \n",
              "2  The Dáil was almost suspended on Thursday afte...  \n",
              "3  Today, Epic is releasing a new tool designed t...  \n",
              "4  The European Commission is planning to ban equ...  "
            ],
            "text/html": [
              "\n",
              "  <div id=\"df-939e9599-6913-427d-bd0b-ccb8393b08e0\" class=\"colab-df-container\">\n",
              "    <div>\n",
              "<style scoped>\n",
              "    .dataframe tbody tr th:only-of-type {\n",
              "        vertical-align: middle;\n",
              "    }\n",
              "\n",
              "    .dataframe tbody tr th {\n",
              "        vertical-align: top;\n",
              "    }\n",
              "\n",
              "    .dataframe thead th {\n",
              "        text-align: right;\n",
              "    }\n",
              "</style>\n",
              "<table border=\"1\" class=\"dataframe\">\n",
              "  <thead>\n",
              "    <tr style=\"text-align: right;\">\n",
              "      <th></th>\n",
              "      <th>title</th>\n",
              "      <th>date</th>\n",
              "      <th>text</th>\n",
              "    </tr>\n",
              "  </thead>\n",
              "  <tbody>\n",
              "    <tr>\n",
              "      <th>0</th>\n",
              "      <td>Chevron: Best Of Breed</td>\n",
              "      <td>2031-04-06T01:36:32.000000000+00:00</td>\n",
              "      <td>JHVEPhoto Like many companies in the O&amp;G secto...</td>\n",
              "    </tr>\n",
              "    <tr>\n",
              "      <th>1</th>\n",
              "      <td>FirstEnergy (NYSE:FE) Posts Earnings Results</td>\n",
              "      <td>2030-04-29T06:55:28.000000000+00:00</td>\n",
              "      <td>FirstEnergy (NYSE:FE – Get Rating) posted its ...</td>\n",
              "    </tr>\n",
              "    <tr>\n",
              "      <th>2</th>\n",
              "      <td>Dáil almost suspended after Sinn Féin TD put p...</td>\n",
              "      <td>2023-06-15T14:32:11.000000000+00:00</td>\n",
              "      <td>The Dáil was almost suspended on Thursday afte...</td>\n",
              "    </tr>\n",
              "    <tr>\n",
              "      <th>3</th>\n",
              "      <td>Epic’s latest tool can animate hyperrealistic ...</td>\n",
              "      <td>2023-06-15T14:00:00.000000000+00:00</td>\n",
              "      <td>Today, Epic is releasing a new tool designed t...</td>\n",
              "    </tr>\n",
              "    <tr>\n",
              "      <th>4</th>\n",
              "      <td>EU to Ban Huawei, ZTE from Internal Commission...</td>\n",
              "      <td>2023-06-15T13:50:00.000000000+00:00</td>\n",
              "      <td>The European Commission is planning to ban equ...</td>\n",
              "    </tr>\n",
              "  </tbody>\n",
              "</table>\n",
              "</div>\n",
              "    <div class=\"colab-df-buttons\">\n",
              "\n",
              "  <div class=\"colab-df-container\">\n",
              "    <button class=\"colab-df-convert\" onclick=\"convertToInteractive('df-939e9599-6913-427d-bd0b-ccb8393b08e0')\"\n",
              "            title=\"Convert this dataframe to an interactive table.\"\n",
              "            style=\"display:none;\">\n",
              "\n",
              "  <svg xmlns=\"http://www.w3.org/2000/svg\" height=\"24px\" viewBox=\"0 -960 960 960\">\n",
              "    <path d=\"M120-120v-720h720v720H120Zm60-500h600v-160H180v160Zm220 220h160v-160H400v160Zm0 220h160v-160H400v160ZM180-400h160v-160H180v160Zm440 0h160v-160H620v160ZM180-180h160v-160H180v160Zm440 0h160v-160H620v160Z\"/>\n",
              "  </svg>\n",
              "    </button>\n",
              "\n",
              "  <style>\n",
              "    .colab-df-container {\n",
              "      display:flex;\n",
              "      gap: 12px;\n",
              "    }\n",
              "\n",
              "    .colab-df-convert {\n",
              "      background-color: #E8F0FE;\n",
              "      border: none;\n",
              "      border-radius: 50%;\n",
              "      cursor: pointer;\n",
              "      display: none;\n",
              "      fill: #1967D2;\n",
              "      height: 32px;\n",
              "      padding: 0 0 0 0;\n",
              "      width: 32px;\n",
              "    }\n",
              "\n",
              "    .colab-df-convert:hover {\n",
              "      background-color: #E2EBFA;\n",
              "      box-shadow: 0px 1px 2px rgba(60, 64, 67, 0.3), 0px 1px 3px 1px rgba(60, 64, 67, 0.15);\n",
              "      fill: #174EA6;\n",
              "    }\n",
              "\n",
              "    .colab-df-buttons div {\n",
              "      margin-bottom: 4px;\n",
              "    }\n",
              "\n",
              "    [theme=dark] .colab-df-convert {\n",
              "      background-color: #3B4455;\n",
              "      fill: #D2E3FC;\n",
              "    }\n",
              "\n",
              "    [theme=dark] .colab-df-convert:hover {\n",
              "      background-color: #434B5C;\n",
              "      box-shadow: 0px 1px 3px 1px rgba(0, 0, 0, 0.15);\n",
              "      filter: drop-shadow(0px 1px 2px rgba(0, 0, 0, 0.3));\n",
              "      fill: #FFFFFF;\n",
              "    }\n",
              "  </style>\n",
              "\n",
              "    <script>\n",
              "      const buttonEl =\n",
              "        document.querySelector('#df-939e9599-6913-427d-bd0b-ccb8393b08e0 button.colab-df-convert');\n",
              "      buttonEl.style.display =\n",
              "        google.colab.kernel.accessAllowed ? 'block' : 'none';\n",
              "\n",
              "      async function convertToInteractive(key) {\n",
              "        const element = document.querySelector('#df-939e9599-6913-427d-bd0b-ccb8393b08e0');\n",
              "        const dataTable =\n",
              "          await google.colab.kernel.invokeFunction('convertToInteractive',\n",
              "                                                    [key], {});\n",
              "        if (!dataTable) return;\n",
              "\n",
              "        const docLinkHtml = 'Like what you see? Visit the ' +\n",
              "          '<a target=\"_blank\" href=https://colab.research.google.com/notebooks/data_table.ipynb>data table notebook</a>'\n",
              "          + ' to learn more about interactive tables.';\n",
              "        element.innerHTML = '';\n",
              "        dataTable['output_type'] = 'display_data';\n",
              "        await google.colab.output.renderOutput(dataTable, element);\n",
              "        const docLink = document.createElement('div');\n",
              "        docLink.innerHTML = docLinkHtml;\n",
              "        element.appendChild(docLink);\n",
              "      }\n",
              "    </script>\n",
              "  </div>\n",
              "\n",
              "\n",
              "<div id=\"df-8d7b79eb-6ca2-4bcb-ad50-5c4292478302\">\n",
              "  <button class=\"colab-df-quickchart\" onclick=\"quickchart('df-8d7b79eb-6ca2-4bcb-ad50-5c4292478302')\"\n",
              "            title=\"Suggest charts\"\n",
              "            style=\"display:none;\">\n",
              "\n",
              "<svg xmlns=\"http://www.w3.org/2000/svg\" height=\"24px\"viewBox=\"0 0 24 24\"\n",
              "     width=\"24px\">\n",
              "    <g>\n",
              "        <path d=\"M19 3H5c-1.1 0-2 .9-2 2v14c0 1.1.9 2 2 2h14c1.1 0 2-.9 2-2V5c0-1.1-.9-2-2-2zM9 17H7v-7h2v7zm4 0h-2V7h2v10zm4 0h-2v-4h2v4z\"/>\n",
              "    </g>\n",
              "</svg>\n",
              "  </button>\n",
              "\n",
              "<style>\n",
              "  .colab-df-quickchart {\n",
              "      --bg-color: #E8F0FE;\n",
              "      --fill-color: #1967D2;\n",
              "      --hover-bg-color: #E2EBFA;\n",
              "      --hover-fill-color: #174EA6;\n",
              "      --disabled-fill-color: #AAA;\n",
              "      --disabled-bg-color: #DDD;\n",
              "  }\n",
              "\n",
              "  [theme=dark] .colab-df-quickchart {\n",
              "      --bg-color: #3B4455;\n",
              "      --fill-color: #D2E3FC;\n",
              "      --hover-bg-color: #434B5C;\n",
              "      --hover-fill-color: #FFFFFF;\n",
              "      --disabled-bg-color: #3B4455;\n",
              "      --disabled-fill-color: #666;\n",
              "  }\n",
              "\n",
              "  .colab-df-quickchart {\n",
              "    background-color: var(--bg-color);\n",
              "    border: none;\n",
              "    border-radius: 50%;\n",
              "    cursor: pointer;\n",
              "    display: none;\n",
              "    fill: var(--fill-color);\n",
              "    height: 32px;\n",
              "    padding: 0;\n",
              "    width: 32px;\n",
              "  }\n",
              "\n",
              "  .colab-df-quickchart:hover {\n",
              "    background-color: var(--hover-bg-color);\n",
              "    box-shadow: 0 1px 2px rgba(60, 64, 67, 0.3), 0 1px 3px 1px rgba(60, 64, 67, 0.15);\n",
              "    fill: var(--button-hover-fill-color);\n",
              "  }\n",
              "\n",
              "  .colab-df-quickchart-complete:disabled,\n",
              "  .colab-df-quickchart-complete:disabled:hover {\n",
              "    background-color: var(--disabled-bg-color);\n",
              "    fill: var(--disabled-fill-color);\n",
              "    box-shadow: none;\n",
              "  }\n",
              "\n",
              "  .colab-df-spinner {\n",
              "    border: 2px solid var(--fill-color);\n",
              "    border-color: transparent;\n",
              "    border-bottom-color: var(--fill-color);\n",
              "    animation:\n",
              "      spin 1s steps(1) infinite;\n",
              "  }\n",
              "\n",
              "  @keyframes spin {\n",
              "    0% {\n",
              "      border-color: transparent;\n",
              "      border-bottom-color: var(--fill-color);\n",
              "      border-left-color: var(--fill-color);\n",
              "    }\n",
              "    20% {\n",
              "      border-color: transparent;\n",
              "      border-left-color: var(--fill-color);\n",
              "      border-top-color: var(--fill-color);\n",
              "    }\n",
              "    30% {\n",
              "      border-color: transparent;\n",
              "      border-left-color: var(--fill-color);\n",
              "      border-top-color: var(--fill-color);\n",
              "      border-right-color: var(--fill-color);\n",
              "    }\n",
              "    40% {\n",
              "      border-color: transparent;\n",
              "      border-right-color: var(--fill-color);\n",
              "      border-top-color: var(--fill-color);\n",
              "    }\n",
              "    60% {\n",
              "      border-color: transparent;\n",
              "      border-right-color: var(--fill-color);\n",
              "    }\n",
              "    80% {\n",
              "      border-color: transparent;\n",
              "      border-right-color: var(--fill-color);\n",
              "      border-bottom-color: var(--fill-color);\n",
              "    }\n",
              "    90% {\n",
              "      border-color: transparent;\n",
              "      border-bottom-color: var(--fill-color);\n",
              "    }\n",
              "  }\n",
              "</style>\n",
              "\n",
              "  <script>\n",
              "    async function quickchart(key) {\n",
              "      const quickchartButtonEl =\n",
              "        document.querySelector('#' + key + ' button');\n",
              "      quickchartButtonEl.disabled = true;  // To prevent multiple clicks.\n",
              "      quickchartButtonEl.classList.add('colab-df-spinner');\n",
              "      try {\n",
              "        const charts = await google.colab.kernel.invokeFunction(\n",
              "            'suggestCharts', [key], {});\n",
              "      } catch (error) {\n",
              "        console.error('Error during call to suggestCharts:', error);\n",
              "      }\n",
              "      quickchartButtonEl.classList.remove('colab-df-spinner');\n",
              "      quickchartButtonEl.classList.add('colab-df-quickchart-complete');\n",
              "    }\n",
              "    (() => {\n",
              "      let quickchartButtonEl =\n",
              "        document.querySelector('#df-8d7b79eb-6ca2-4bcb-ad50-5c4292478302 button');\n",
              "      quickchartButtonEl.style.display =\n",
              "        google.colab.kernel.accessAllowed ? 'block' : 'none';\n",
              "    })();\n",
              "  </script>\n",
              "</div>\n",
              "\n",
              "    </div>\n",
              "  </div>\n"
            ],
            "application/vnd.google.colaboratory.intrinsic+json": {
              "type": "dataframe",
              "variable_name": "news",
              "summary": "{\n  \"name\": \"news\",\n  \"rows\": 2500,\n  \"fields\": [\n    {\n      \"column\": \"title\",\n      \"properties\": {\n        \"dtype\": \"string\",\n        \"num_unique_values\": 2282,\n        \"samples\": [\n          \"Golden Cross Appears Before NetApp Investors\",\n          \"Li Auto\\u2019s EV Sales Can Be A Catalyst. The Case to Buy Stock Now.\",\n          \"SMITH MARION COMMENTS ON RECENT HUD GRANT FOR HOUSING AUTHORITIES\"\n        ],\n        \"semantic_type\": \"\",\n        \"description\": \"\"\n      }\n    },\n    {\n      \"column\": \"date\",\n      \"properties\": {\n        \"dtype\": \"object\",\n        \"num_unique_values\": 1606,\n        \"samples\": [\n          \"2023-06-14T19:43:48.000000000+00:00\",\n          \"2023-06-14T03:31:01.000000000+00:00\",\n          \"2023-06-15T08:59:25.000000000+00:00\"\n        ],\n        \"semantic_type\": \"\",\n        \"description\": \"\"\n      }\n    },\n    {\n      \"column\": \"text\",\n      \"properties\": {\n        \"dtype\": \"string\",\n        \"num_unique_values\": 2472,\n        \"samples\": [\n          \"/EIN News/ -- Fremont, California, June 14, 2023 (GLOBE NEWSWIRE) -- Omicsveu, The Spatial Multiplex Multiomics Company, announced introduction of fully automated system for Hyperion\\u2019s multiplex immunohistochemistry (IHC) protocols developed and validated in collaboration with Scientists at The University of Sydney's prestigious Charles Perkins Centre, Sydney, Australia.\\nTissue multiplexing technology has changed proteomics profiling, allowing for the simultaneous detection of multiple protein markers from a single tissue section. However, current technologies for multiplex-proteomics involve manual steps that are time-consuming, labor-intensive, expensive, and inconsistent.\\nNanoVIP - an automated, slide-based staining system - by Omicsveu using manufacturers supplied protocols and reagents, reduced hands-on time of the Hyperion protocol to less than 20 minutes and reagent costs by 80% - as it only uses 25\\u00b5L of antibody for a single sample. Further NanoVIP plug & play system doesn\\u2019t require highly skilled operators to get optimum results. Results are summarized in the table below.\\nAdrian Smith, Technical Director at Sydney Cytometry (Centenary Institute and The University of Sydney), was so impressed with NanoVIP for the automated preparation of tissue sample slides. \\u201cWe are very impressed with the instrument (and the support!), and I'm excited to see what our researchers at Sydney Cytometry will do with it!\\u201d said Dr. Smith.\\nResults are summarized in the table below.\\nAbout Omicsveu\\nOmicsveu is a special-purpose spinoff of BioGenex, designs, develops, and commercializes, fully automated plug & play, slide-staining systems. Our innovative technologies are affordable and accessible, to help accelerate developments of new diagnostics and therapeutics leading to improved disease outcome. Our systems incorporate easy to use innovative automation, ready-to-use reagents, and optimized protocols, generating reliable, consistent, and reproducible results. For more information, please visit our website at www.omicsveu.com, or connect with us on LinkedIn and Twitter.\\nContact: \\n\\nEmail: info@omicsveu.com\",\n          \"The lawsuit brought by the United States Securities and Exchange Commission (SEC) against Coinbase Global on June 6 is raising questions about the crypto exchange's approach to managing the ongoing crypto crackdown.\\nIn a recent interview with Cointelegraph, venture capitalist Kevin O'Leary criticized Coinbase's strategy to address the current regulatory environment. \\\"Its market cap was decimated [by the SEC suit], and the management there seems to want to keep taking on the SEC over and over and over again,\\\" said the serial entrepreneur in reference to the 17.4% drop in Coinbase's stock last week. O'Leary continued:\\n\\\"I would think at this point, if you\\u2019re a shareholder in that company, you may want to make some changes. I don\\u2019t think this is working as a strategy [\\u2026] I am not optimistic for the management team there [...] I think investors are done with this.\\\"\\nCoinbase has spent months campaigning for clearer crypto regulations in the U.S. amid increasing regulatory scrutiny. In a recent interview with The Wall Street Journal, Coinbase CEO Brian Armstrong said the exchange met with the SEC over 30 times in the past year without receiving any feedback on a path to compliance.\\nStock prices dropping due to regulatory activity, such as the SEC\\u2019s proceeding against Coinbase, are often used as a template for private claims of alleged damages, as long as it carries materiality of misleading statements or omissions, Mark Kornfeld, a securities and regulatory attorney, told Cointelegraph. \\\"The devil, as always, is in the details as to whether what is alleged is proven to have occurred,\\\" Kornfeld noted.\\nAccording to corporate and securities lawyer Roland Chase, legal claims from harmed investors against Coinbase and its management could range from \\\"whether the legal analysis that Coinbase conducts every time it considers a crypto asset for listing is adequate\\\" to whether its risk factor disclosure to investors was adequate.\\n\\\"If it [token's listing analysis] is not adequate, and management knew that, or was reckless in not knowing it, there may be a federal securities law claim against Coinbase and its management,\\\" Chase continued.\\nCoinbase to have reviewed over a thousand assets, with 90% being rejected. \\\"We thought some of them could be securities or we had other concerns about them. We really only list a very conservative small number of the assets out there,\\\" Armstrong told WSJ.\\nRegarding its disclosure to investors, Coinbase's filing with regulators in 2021 seemed to predict what it was likely to encounter in the future. The risks section of the filing reads:\\n\\\"A particular crypto asset\\u2019s status as a \\u201csecurity\\u201d in any relevant jurisdiction is subject to a high degree of uncertainty and if we are unable to properly characterize a crypto asset, we may be subject to regulatory scrutiny, investigations, fines, and other penalties, which may adversely affect our business, operating results, and financial condition.\\\"\\nA legal dispute with regulators could take years in court and cost the exchange significant money. Ripple, which is currently in litigation over XRP's alleged security status, has spent over $200 million defending against the SEC lawsuit since 2020.\\nCointelegraph reached out to Coinbase, but did not receive a response.\",\n          \"Informatica Corp. said today it will acquire Privitar Ltd., a London-based maker of access controls and remediation for data privacy and security, for an undisclosed amount.\\nThe company said it plans to incorporate Privitar\\u2019s technology into its Intelligent Data Management Cloud, a platform for analyzing and managing data across large enterprises. The acquisition is expected to be completed in the third quarter of this year.\\nPrivitar\\u2019s software enables businesses to support self-service access to data with collaborative workflows, regulatory controls and cross-platform security enforcement defined by a single policy. It claims to be the first vendor to apply privacy controls within complex data pipelines.\\nThe company provides auditable and compliant access to data assets that conforms to major regulations including the European Union\\u2019s General Data Protection Regulation, the California Consumer Privacy Act and Canada\\u2019s Personal Information Protection and Electronic Documents Act.\\nInformatica already provides data privacy and protection capabilities through its cloud data governance, cataloging and cloud data masking services that include policy management, data classification, sensitive data discovery, data lineage for tracking movement, and data masking for risk exposure remediation, a spokesman said. \\u201cPrivitar brings an additional and complementary level of management granularity through access control definition and policy remediation that deepen Informatica\\u2019s abilities to meet today\\u2019s modern data governance use cases,\\u201d he said.\\n\\u201cData governance and responsible use of data is a growing priority for large businesses, but too often requires trading off agility and self-service,\\u201d Informatica Chief Executive Amit Walia (pictured) said in a statement.\\nPrivitar already has numerous partnerships and a presence on cloud marketplaces. No immediate changes to those arrangements are planned, the spokesman said. \\u201cThe long-term opportunity is to provide Privitar\\u2019s capabilities through Informatica channels as well,\\u201d he said.\\nFor the immediate future, Privitar will remain a standalone product but the long-term plan is to integrate with IDMC, the spokesman said. Pricing has not been determined but the Privitar service will likely carry consumption-based pricing.\\nFounded in 2014, Privitar raised more than $150 million from 17 investors, the most recent funding round an $87 million Series C in 2020. At that time the company was valued at $400 million. Investors include HSBC Venture Capital Coverage Group, Citi Ventures Inc., Accel Partners LP and Salesforce Ventures LLC.\\nThe downward pressure on valuations created by the broad selloff in tech stocks over the past year has made startups more attractive to well-funded firms such as Informatica, which acquired 15 firms over its history, including metadata management software provider Compact Solutions LLC and machine learning technology provider GreenBay Technologies Inc., both in 2020.\\nPhoto: SiliconAngle\\nA message from John Furrier, co-founder of SiliconANGLE:\\nYour vote of support is important to us and it helps us keep the content FREE.\\nOne-click below supports our mission to provide free, deep and relevant content.\\nJoin our community on YouTube\\nJoin the community that includes more than 15,000 #CubeAlumni experts, including Amazon.com CEO Andy Jassy, Dell Technologies founder and CEO Michael Dell, Intel CEO Pat Gelsinger and many more luminaries and experts.\\n\\u201cTheCUBE is an important partner to the industry. You guys really are a part of our events and we really appreciate you coming and I know people appreciate the content you create as well\\u201d \\u2013 Andy Jassy\\nTHANK YOU\"\n        ],\n        \"semantic_type\": \"\",\n        \"description\": \"\"\n      }\n    }\n  ]\n}"
            }
          },
          "metadata": {},
          "execution_count": 4
        }
      ],
      "source": [
        "import pandas as pd\n",
        "\n",
        "news = pd.read_csv(\"https://raw.githubusercontent.com/tomasonjo/blog-datasets/main/news_articles.csv\")\n",
        "news.head()"
      ]
    },
    {
      "cell_type": "code",
      "execution_count": null,
      "id": "1685f988-9d8f-4ac7-bf90-822430c01414",
      "metadata": {
        "id": "1685f988-9d8f-4ac7-bf90-822430c01414"
      },
      "outputs": [],
      "source": [
        "from llama_index.core import Document\n",
        "\n",
        "documents = [Document(text=f\"{row['title']}: {row['text']}\") for i, row in news.iterrows()]"
      ]
    },
    {
      "cell_type": "markdown",
      "id": "2183f0ce-ae84-41cb-bcfa-3f81705e24e8",
      "metadata": {
        "id": "2183f0ce-ae84-41cb-bcfa-3f81705e24e8"
      },
      "source": [
        "#### Define Default LLMs"
      ]
    },
    {
      "cell_type": "code",
      "execution_count": null,
      "id": "d06478af-01bc-43ed-aabc-30d193d6482a",
      "metadata": {
        "id": "d06478af-01bc-43ed-aabc-30d193d6482a"
      },
      "outputs": [],
      "source": [
        "from llama_index.embeddings.openai import OpenAIEmbedding\n",
        "from llama_index.llms.openai import OpenAI\n",
        "\n",
        "llm = OpenAI(model=\"gpt-4o\", temperature=0.0)\n",
        "embed_model = OpenAIEmbedding(model_name=\"text-embedding-3-small\")"
      ]
    },
    {
      "cell_type": "code",
      "execution_count": null,
      "id": "cfe4d640-afdc-434c-af06-c66b6fb27bea",
      "metadata": {
        "id": "cfe4d640-afdc-434c-af06-c66b6fb27bea"
      },
      "outputs": [],
      "source": [
        "from llama_index.graph_stores.neo4j import Neo4jPGStore\n",
        "\n",
        "username=\"neo4j\"\n",
        "password=\"stump-inlet-student\"\n",
        "url=\"bolt://52.201.215.224:7687\"\n",
        "\n",
        "\n",
        "graph_store = Neo4jPGStore(\n",
        "    username=username,\n",
        "    password=password,\n",
        "    url=url,\n",
        ")"
      ]
    },
    {
      "cell_type": "markdown",
      "id": "35a33a72-323a-4462-9d91-a2ae6ff04f9f",
      "metadata": {
        "id": "35a33a72-323a-4462-9d91-a2ae6ff04f9f"
      },
      "source": [
        "#### Build the Property Graph"
      ]
    },
    {
      "cell_type": "code",
      "source": [
        "from typing import Literal\n",
        "from llama_index.core.indices.property_graph import SchemaLLMPathExtractor\n",
        "\n",
        "# best practice to use upper-case\n",
        "entities = Literal[\"Person\", \"Location\", \"Organization\", \"Product\", \"Event\"]\n",
        "relations = Literal[\"SUPPLIER_OF\", \"COMPETITOR\", \"PARTNERSHIP\", \"ACQUISITION\", \"WORKS_AT\", \"SUBSIDIARY\", \"BOARD_MEMBER\", \"CEO\", \"PROVIDES\"]\n",
        "\n",
        "# define which entities can have which relations\n",
        "validation_schema = {\n",
        "    \"Person\": [\"WORKS_AT\", \"BOARD_MEMBER\", \"CEO\", \"HAS_EVENT\"],\n",
        "    \"Organization\": [\"SUPPLIER_OF\", \"COMPETITOR\", \"PARTNERSHIP\", \"ACQUISITION\", \"WORKS_AT\", \"SUBSIDIARY\", \"BOARD_MEMBER\", \"CEO\", \"PROVIDES\", \"HAS_EVENT\", \"IN_LOCATION\"],\n",
        "    \"Product\": [\"PROVIDES\"],\n",
        "    \"Event\": [\"HAS_EVENT\", \"IN_LOCATION\"],\n",
        "    \"Location\": [\"HAPPENED_AT\", \"IN_LOCATION\"]\n",
        "}\n",
        "\n",
        "kg_extractor = SchemaLLMPathExtractor(\n",
        "    llm=llm,\n",
        "    possible_entities=entities,\n",
        "    possible_relations=relations,\n",
        "    kg_validation_schema=validation_schema,\n",
        "    # if false, allows for values outside of the schema\n",
        "    # useful for using the schema as a suggestion\n",
        "    strict=False,\n",
        ")"
      ],
      "metadata": {
        "id": "RFs-H2QZcO2m"
      },
      "id": "RFs-H2QZcO2m",
      "execution_count": null,
      "outputs": []
    },
    {
      "cell_type": "code",
      "execution_count": 9,
      "id": "67f2faf0-e079-4f1f-97d7-65a0cd64eabb",
      "metadata": {
        "id": "67f2faf0-e079-4f1f-97d7-65a0cd64eabb",
        "colab": {
          "base_uri": "https://localhost:8080/",
          "height": 88,
          "referenced_widgets": [
            "3d719299fc044bb38e8f4637881e688f"
          ]
        },
        "outputId": "106e78f7-247a-48b4-bdb4-fd68469d5a77"
      },
      "outputs": [
        {
          "data": {
            "application/vnd.jupyter.widget-view+json": {
              "model_id": "3d719299fc044bb38e8f4637881e688f",
              "version_major": 2,
              "version_minor": 0
            },
            "text/plain": [
              "Parsing nodes:   0%|          | 0/100 [00:00<?, ?it/s]"
            ]
          },
          "metadata": {},
          "output_type": "display_data"
        },
        {
          "metadata": {
            "tags": null
          },
          "name": "stderr",
          "output_type": "stream",
          "text": [
            "Extracting paths from text with schema: 100%|██████████| 100/100 [02:41<00:00,  1.61s/it]\n",
            "Generating embeddings: 100%|██████████| 1/1 [00:01<00:00,  1.27s/it]\n",
            "Generating embeddings: 100%|██████████| 19/19 [00:01<00:00, 10.02it/s]\n"
          ]
        }
      ],
      "source": [
        "from llama_index.core import PropertyGraphIndex\n",
        "\n",
        "NUMBER_OF_ARTICLES = 100\n",
        "\n",
        "index = PropertyGraphIndex.from_documents(\n",
        "    documents[:NUMBER_OF_ARTICLES],\n",
        "    kg_extractors=[kg_extractor],\n",
        "    llm=llm,\n",
        "    embed_model=embed_model,\n",
        "    property_graph_store=graph_store,\n",
        "    show_progress=True,\n",
        ")"
      ]
    },
    {
      "cell_type": "markdown",
      "source": [
        "## Entity disambiguation"
      ],
      "metadata": {
        "id": "a-GClpo1SDuz"
      },
      "id": "a-GClpo1SDuz"
    },
    {
      "cell_type": "code",
      "source": [
        "graph_store.structured_query(\"\"\"\n",
        "CREATE VECTOR INDEX entity IF NOT EXISTS\n",
        "FOR (m:`__Entity__`)\n",
        "ON m.embedding\n",
        "OPTIONS {indexConfig: {\n",
        " `vector.dimensions`: 1536,\n",
        " `vector.similarity_function`: 'cosine'\n",
        "}}\n",
        "\"\"\")"
      ],
      "metadata": {
        "colab": {
          "base_uri": "https://localhost:8080/"
        },
        "id": "uQFkxysQDNoO",
        "outputId": "ba8f63c3-1515-4f90-8cfa-c5e8243a0ae5"
      },
      "id": "uQFkxysQDNoO",
      "execution_count": 10,
      "outputs": [
        {
          "data": {
            "text/plain": [
              "[]"
            ]
          },
          "execution_count": 10,
          "metadata": {},
          "output_type": "execute_result"
        }
      ]
    },
    {
      "cell_type": "code",
      "source": [
        "similarity_threshold = 0.9\n",
        "data = graph_store.structured_query(\"\"\"\n",
        "MATCH (e:__Entity__)\n",
        "CALL {\n",
        "  WITH e\n",
        "  CALL db.index.vector.queryNodes('entity', 10, e.embedding)\n",
        "  YIELD node, score\n",
        "  WITH node, score\n",
        "  WHERE score > toFLoat($cutoff)\n",
        "      AND (toLower(node.name) CONTAINS toLower(e.name) OR toLower(e.name) CONTAINS toLower(node.name) OR apoc.text.distance(toLower(node.name), toLower(e.name)) < 5)\n",
        "  WITH node, score\n",
        "  ORDER BY node.name\n",
        "  RETURN collect(node) AS nodes\n",
        "}\n",
        "WITH distinct nodes\n",
        "WHERE size(nodes) > 1\n",
        "RETURN distinct [n in nodes | n.name] AS duplicates\n",
        "\"\"\", param_map={'cutoff': similarity_threshold})\n",
        "for row in data:\n",
        "    print(row)"
      ],
      "metadata": {
        "colab": {
          "base_uri": "https://localhost:8080/"
        },
        "id": "ia7nNsgyCOOy",
        "outputId": "9e24b6e4-62e1-451a-ec9d-7011a59dcc22"
      },
      "id": "ia7nNsgyCOOy",
      "execution_count": 11,
      "outputs": [
        {
          "metadata": {
            "tags": null
          },
          "name": "stdout",
          "output_type": "stream",
          "text": [
            "{'duplicates': ['balance sheet', 'balance sheet report']}\n",
            "{'duplicates': ['Earnings per Share', 'earnings per share', 'earnings per share (EPS)']}\n",
            "{'duplicates': ['MetaHuman', 'MetaHuman Animator']}\n",
            "{'duplicates': ['Vivo X90', 'Vivo X90 Pro', 'Vivo X90s']}\n",
            "{'duplicates': ['Bank of America', 'Bank of America Corp.']}\n",
            "{'duplicates': ['banking services', 'corporate banking services']}\n",
            "{'duplicates': ['investment banking', 'investment banking services']}\n",
            "{'duplicates': ['Yoto', 'Yoto Player']}\n",
            "{'duplicates': ['dividend', 'dividend payments', 'dividends']}\n",
            "{'duplicates': ['shareholder return', 'total shareholder return']}\n",
            "{'duplicates': ['Star Ocean The Second Story R', 'Star Ocean: The Second Story', 'Star Ocean: The Second Story R', 'Star Ocean: The Second Story Remake']}\n",
            "{'duplicates': ['Star Ocean First Departure', 'Star Ocean First Departure R', 'Star Ocean: First Departure R']}\n",
            "{'duplicates': ['JPMorgan', 'JPMorgan Chase & Co.']}\n",
            "{'duplicates': ['Paytm', 'Paytm wallet']}\n",
            "{'duplicates': ['CarMax Auto Owner Trust 2019-3', 'CarMax Auto Owner Trust 2019-4']}\n",
            "{'duplicates': ['Newcastle', 'Newcastle United']}\n",
            "{'duplicates': ['Premier League 2023-24', 'Premier League 2023/2024']}\n",
            "{'duplicates': ['$64.5 million worth of 0.50% convertible senior notes', '0.50% Convertible Senior Notes Due 2026', '0.50% convertible senior notes']}\n",
            "{'duplicates': ['$64.5 million worth of 0.50% convertible senior notes', '0.50% convertible senior notes']}\n",
            "{'duplicates': ['VISA', 'Visa']}\n",
            "{'duplicates': ['Rasmus Hojlund', 'Rasmus Højlund']}\n",
            "{'duplicates': ['West Ham', 'West Ham United']}\n",
            "{'duplicates': ['0.50% Convertible Senior Notes Due 2026', '0.50% convertible senior notes']}\n",
            "{'duplicates': ['IT Taxi', 'IT taxi']}\n",
            "{'duplicates': ['Henry Schein Dental', 'Henry Schein Medical']}\n",
            "{'duplicates': ['Deutsche Bank', 'Deutsche Bank AG']}\n",
            "{'duplicates': ['Delta Air Lines', 'Delta Air Lines Inc.']}\n",
            "{'duplicates': ['quarterly dividend', 'quarterly dividend in the wake of the pandemic', 'quarterly dividend payment']}\n",
            "{'duplicates': ['quarterly dividend', 'quarterly dividend in the wake of the pandemic']}\n",
            "{'duplicates': ['Tottenham', 'Tottenham Hotspur']}\n",
            "{'duplicates': ['Baltimore', 'Baltimore Ravens']}\n",
            "{'duplicates': ['Stellantis', 'Stellantis Ventures']}\n",
            "{'duplicates': ['General Motors', 'General Motors Co.']}\n",
            "{'duplicates': ['Supercharger', 'Superchargers']}\n",
            "{'duplicates': ['quarterly dividend', 'quarterly dividend payment']}\n",
            "{'duplicates': ['Sony WF-1000XM4', 'Sony WF-1000XM5']}\n",
            "{'duplicates': ['Aldeyra', 'Aldeyra Therapeutics']}\n",
            "{'duplicates': ['dividend', 'dividends']}\n",
            "{'duplicates': ['Share Price', 'share price', 'share price performance']}\n",
            "{'duplicates': ['shareholder return', 'total shareholder return', 'total shareholder return (TSR)']}\n",
            "{'duplicates': ['total shareholder return', 'total shareholder return (TSR)']}\n",
            "{'duplicates': ['dividend', 'dividend payments']}\n",
            "{'duplicates': ['share price', 'share price performance']}\n",
            "{'duplicates': ['U-EXCEED', 'U-EXCEL']}\n",
            "{'duplicates': ['Atlas Air', 'Atlas Air Worldwide']}\n",
            "{'duplicates': ['Atlas Air Worldwide', 'Atlas Air Worldwide Holdings Inc.']}\n",
            "{'duplicates': ['Atlas Air', 'Atlas Air Worldwide', 'Atlas Air Worldwide Holdings Inc.']}\n",
            "{'duplicates': ['Star Ocean: The Second Story', 'Star Ocean: The Second Story R', 'Star Ocean: The Second Story Remake']}\n",
            "{'duplicates': ['Star Ocean', 'Star Ocean The Second Story R', 'Star Ocean: The Second Story', 'Star Ocean: The Second Story R', 'Star Ocean: The Second Story Remake']}\n",
            "{'duplicates': ['Star Ocean', 'Star Ocean: Second Evolution']}\n",
            "{'duplicates': ['Goldman Sachs', 'Goldman Sachs Group Inc.']}\n",
            "{'duplicates': ['UTI Asset Management Company', 'UTI Asset Management Company Limited', 'UTI Asset Management Company Ltd']}\n",
            "{'duplicates': ['Star Ocean The Second Story R', 'Star Ocean: The Second Story', 'Star Ocean: The Second Story R']}\n",
            "{'duplicates': ['Star Ocean', 'Star Ocean First Departure', 'Star Ocean First Departure R', 'Star Ocean: First Departure R']}\n",
            "{'duplicates': ['Star Ocean', 'Star Ocean 2', 'Star Ocean First Departure', 'Star Ocean: Second Evolution', 'Star Ocean: The Second Story']}\n",
            "{'duplicates': ['Star Ocean', 'Star Ocean 2']}\n",
            "{'duplicates': ['Cybin', 'Cybin Inc.']}\n",
            "{'duplicates': ['CYB003', 'CYB004']}\n",
            "{'duplicates': ['high-quality large-cap tech stock', 'large-cap tech stock']}\n",
            "{'duplicates': ['BTC Halving', 'bitcoin halving']}\n",
            "{'duplicates': ['Share Price', 'share price']}\n",
            "{'duplicates': ['Nauto', 'Nauto technology']}\n"
          ]
        }
      ]
    },
    {
      "cell_type": "code",
      "source": [
        "# Ignore for now\n",
        "graph_store.structured_query(\"\"\"\n",
        "MATCH (e:__Entity__)\n",
        "CALL {\n",
        "  WITH e\n",
        "  CALL db.index.vector.queryNodes('entity', 10, e.embedding)\n",
        "  YIELD node, score\n",
        "  WITH node, score\n",
        "  WHERE score > toFLoat($cutoff)\n",
        "      AND (toLower(node.name) CONTAINS toLower(e.name) OR toLower(e.name) CONTAINS toLower(node.name) OR apoc.text.distance(toLower(node.name), toLower(e.name)) < 5)\n",
        "  WITH node, score\n",
        "  ORDER BY node.name\n",
        "  RETURN collect(node) AS nodes\n",
        "}\n",
        "WITH distinct nodes\n",
        "WHERE size(nodes) > 1\n",
        "CALL apoc.refactor.mergeNodes(nodes)\n",
        "YIELD node\n",
        "RETURN count(*)\n",
        "\"\"\", param_map={'cutoff': similarity_threshold})"
      ],
      "metadata": {
        "colab": {
          "base_uri": "https://localhost:8080/",
          "height": 382
        },
        "id": "YgpFBB8tFAhx",
        "outputId": "1d647ce2-3b92-4de5-ef1b-7eda13935c92"
      },
      "id": "YgpFBB8tFAhx",
      "execution_count": 12,
      "outputs": [
        {
          "ename": "ClientError",
          "evalue": "{code: Neo.ClientError.Procedure.ProcedureCallFailed} {message: Failed to invoke procedure `apoc.refactor.mergeNodes`: Caused by: org.neo4j.graphdb.NotFoundException: Node 408 not found}",
          "output_type": "error",
          "traceback": [
            "\u001b[0;31m---------------------------------------------------------------------------\u001b[0m",
            "\u001b[0;31mClientError\u001b[0m                               Traceback (most recent call last)",
            "\u001b[0;32m<ipython-input-12-dbe7c0a80090>\u001b[0m in \u001b[0;36m<cell line: 2>\u001b[0;34m()\u001b[0m\n\u001b[1;32m      1\u001b[0m \u001b[0;31m# Ignore for now\u001b[0m\u001b[0;34m\u001b[0m\u001b[0;34m\u001b[0m\u001b[0m\n\u001b[0;32m----> 2\u001b[0;31m graph_store.structured_query(\"\"\"\n\u001b[0m\u001b[1;32m      3\u001b[0m \u001b[0mMATCH\u001b[0m \u001b[0;34m(\u001b[0m\u001b[0me\u001b[0m\u001b[0;34m:\u001b[0m\u001b[0m__Entity__\u001b[0m\u001b[0;34m)\u001b[0m\u001b[0;34m\u001b[0m\u001b[0;34m\u001b[0m\u001b[0m\n\u001b[1;32m      4\u001b[0m CALL {\n\u001b[1;32m      5\u001b[0m   \u001b[0mWITH\u001b[0m \u001b[0me\u001b[0m\u001b[0;34m\u001b[0m\u001b[0;34m\u001b[0m\u001b[0m\n",
            "\u001b[0;32m/usr/local/lib/python3.10/dist-packages/llama_index/graph_stores/neo4j/neo4j_property_graph.py\u001b[0m in \u001b[0;36mstructured_query\u001b[0;34m(self, query, param_map)\u001b[0m\n\u001b[1;32m    516\u001b[0m         \u001b[0;32mwith\u001b[0m \u001b[0mself\u001b[0m\u001b[0;34m.\u001b[0m\u001b[0m_driver\u001b[0m\u001b[0;34m.\u001b[0m\u001b[0msession\u001b[0m\u001b[0;34m(\u001b[0m\u001b[0mdatabase\u001b[0m\u001b[0;34m=\u001b[0m\u001b[0mself\u001b[0m\u001b[0;34m.\u001b[0m\u001b[0m_database\u001b[0m\u001b[0;34m)\u001b[0m \u001b[0;32mas\u001b[0m \u001b[0msession\u001b[0m\u001b[0;34m:\u001b[0m\u001b[0;34m\u001b[0m\u001b[0;34m\u001b[0m\u001b[0m\n\u001b[1;32m    517\u001b[0m             \u001b[0mresult\u001b[0m \u001b[0;34m=\u001b[0m \u001b[0msession\u001b[0m\u001b[0;34m.\u001b[0m\u001b[0mrun\u001b[0m\u001b[0;34m(\u001b[0m\u001b[0mquery\u001b[0m\u001b[0;34m,\u001b[0m \u001b[0mparam_map\u001b[0m\u001b[0;34m)\u001b[0m\u001b[0;34m\u001b[0m\u001b[0;34m\u001b[0m\u001b[0m\n\u001b[0;32m--> 518\u001b[0;31m             \u001b[0mfull_result\u001b[0m \u001b[0;34m=\u001b[0m \u001b[0;34m[\u001b[0m\u001b[0md\u001b[0m\u001b[0;34m.\u001b[0m\u001b[0mdata\u001b[0m\u001b[0;34m(\u001b[0m\u001b[0;34m)\u001b[0m \u001b[0;32mfor\u001b[0m \u001b[0md\u001b[0m \u001b[0;32min\u001b[0m \u001b[0mresult\u001b[0m\u001b[0;34m]\u001b[0m\u001b[0;34m\u001b[0m\u001b[0;34m\u001b[0m\u001b[0m\n\u001b[0m\u001b[1;32m    519\u001b[0m \u001b[0;34m\u001b[0m\u001b[0m\n\u001b[1;32m    520\u001b[0m         \u001b[0;32mif\u001b[0m \u001b[0mself\u001b[0m\u001b[0;34m.\u001b[0m\u001b[0msanitize_query_output\u001b[0m\u001b[0;34m:\u001b[0m\u001b[0;34m\u001b[0m\u001b[0;34m\u001b[0m\u001b[0m\n",
            "\u001b[0;32m/usr/local/lib/python3.10/dist-packages/llama_index/graph_stores/neo4j/neo4j_property_graph.py\u001b[0m in \u001b[0;36m<listcomp>\u001b[0;34m(.0)\u001b[0m\n\u001b[1;32m    516\u001b[0m         \u001b[0;32mwith\u001b[0m \u001b[0mself\u001b[0m\u001b[0;34m.\u001b[0m\u001b[0m_driver\u001b[0m\u001b[0;34m.\u001b[0m\u001b[0msession\u001b[0m\u001b[0;34m(\u001b[0m\u001b[0mdatabase\u001b[0m\u001b[0;34m=\u001b[0m\u001b[0mself\u001b[0m\u001b[0;34m.\u001b[0m\u001b[0m_database\u001b[0m\u001b[0;34m)\u001b[0m \u001b[0;32mas\u001b[0m \u001b[0msession\u001b[0m\u001b[0;34m:\u001b[0m\u001b[0;34m\u001b[0m\u001b[0;34m\u001b[0m\u001b[0m\n\u001b[1;32m    517\u001b[0m             \u001b[0mresult\u001b[0m \u001b[0;34m=\u001b[0m \u001b[0msession\u001b[0m\u001b[0;34m.\u001b[0m\u001b[0mrun\u001b[0m\u001b[0;34m(\u001b[0m\u001b[0mquery\u001b[0m\u001b[0;34m,\u001b[0m \u001b[0mparam_map\u001b[0m\u001b[0;34m)\u001b[0m\u001b[0;34m\u001b[0m\u001b[0;34m\u001b[0m\u001b[0m\n\u001b[0;32m--> 518\u001b[0;31m             \u001b[0mfull_result\u001b[0m \u001b[0;34m=\u001b[0m \u001b[0;34m[\u001b[0m\u001b[0md\u001b[0m\u001b[0;34m.\u001b[0m\u001b[0mdata\u001b[0m\u001b[0;34m(\u001b[0m\u001b[0;34m)\u001b[0m \u001b[0;32mfor\u001b[0m \u001b[0md\u001b[0m \u001b[0;32min\u001b[0m \u001b[0mresult\u001b[0m\u001b[0;34m]\u001b[0m\u001b[0;34m\u001b[0m\u001b[0;34m\u001b[0m\u001b[0m\n\u001b[0m\u001b[1;32m    519\u001b[0m \u001b[0;34m\u001b[0m\u001b[0m\n\u001b[1;32m    520\u001b[0m         \u001b[0;32mif\u001b[0m \u001b[0mself\u001b[0m\u001b[0;34m.\u001b[0m\u001b[0msanitize_query_output\u001b[0m\u001b[0;34m:\u001b[0m\u001b[0;34m\u001b[0m\u001b[0;34m\u001b[0m\u001b[0m\n",
            "\u001b[0;32m/usr/local/lib/python3.10/dist-packages/neo4j/_sync/work/result.py\u001b[0m in \u001b[0;36m__iter__\u001b[0;34m(self)\u001b[0m\n\u001b[1;32m    268\u001b[0m                 \u001b[0;32myield\u001b[0m \u001b[0mself\u001b[0m\u001b[0;34m.\u001b[0m\u001b[0m_record_buffer\u001b[0m\u001b[0;34m.\u001b[0m\u001b[0mpopleft\u001b[0m\u001b[0;34m(\u001b[0m\u001b[0;34m)\u001b[0m\u001b[0;34m\u001b[0m\u001b[0;34m\u001b[0m\u001b[0m\n\u001b[1;32m    269\u001b[0m             \u001b[0;32melif\u001b[0m \u001b[0mself\u001b[0m\u001b[0;34m.\u001b[0m\u001b[0m_streaming\u001b[0m\u001b[0;34m:\u001b[0m\u001b[0;34m\u001b[0m\u001b[0;34m\u001b[0m\u001b[0m\n\u001b[0;32m--> 270\u001b[0;31m                 \u001b[0mself\u001b[0m\u001b[0;34m.\u001b[0m\u001b[0m_connection\u001b[0m\u001b[0;34m.\u001b[0m\u001b[0mfetch_message\u001b[0m\u001b[0;34m(\u001b[0m\u001b[0;34m)\u001b[0m\u001b[0;34m\u001b[0m\u001b[0;34m\u001b[0m\u001b[0m\n\u001b[0m\u001b[1;32m    271\u001b[0m             \u001b[0;32melif\u001b[0m \u001b[0mself\u001b[0m\u001b[0;34m.\u001b[0m\u001b[0m_discarding\u001b[0m\u001b[0;34m:\u001b[0m\u001b[0;34m\u001b[0m\u001b[0;34m\u001b[0m\u001b[0m\n\u001b[1;32m    272\u001b[0m                 \u001b[0mself\u001b[0m\u001b[0;34m.\u001b[0m\u001b[0m_discard\u001b[0m\u001b[0;34m(\u001b[0m\u001b[0;34m)\u001b[0m\u001b[0;34m\u001b[0m\u001b[0;34m\u001b[0m\u001b[0m\n",
            "\u001b[0;32m/usr/local/lib/python3.10/dist-packages/neo4j/_sync/io/_common.py\u001b[0m in \u001b[0;36minner\u001b[0;34m(*args, **kwargs)\u001b[0m\n\u001b[1;32m    176\u001b[0m             \u001b[0;32mdef\u001b[0m \u001b[0minner\u001b[0m\u001b[0;34m(\u001b[0m\u001b[0;34m*\u001b[0m\u001b[0margs\u001b[0m\u001b[0;34m,\u001b[0m \u001b[0;34m**\u001b[0m\u001b[0mkwargs\u001b[0m\u001b[0;34m)\u001b[0m\u001b[0;34m:\u001b[0m\u001b[0;34m\u001b[0m\u001b[0;34m\u001b[0m\u001b[0m\n\u001b[1;32m    177\u001b[0m                 \u001b[0;32mtry\u001b[0m\u001b[0;34m:\u001b[0m\u001b[0;34m\u001b[0m\u001b[0;34m\u001b[0m\u001b[0m\n\u001b[0;32m--> 178\u001b[0;31m                     \u001b[0mfunc\u001b[0m\u001b[0;34m(\u001b[0m\u001b[0;34m*\u001b[0m\u001b[0margs\u001b[0m\u001b[0;34m,\u001b[0m \u001b[0;34m**\u001b[0m\u001b[0mkwargs\u001b[0m\u001b[0;34m)\u001b[0m\u001b[0;34m\u001b[0m\u001b[0;34m\u001b[0m\u001b[0m\n\u001b[0m\u001b[1;32m    179\u001b[0m                 \u001b[0;32mexcept\u001b[0m \u001b[0;34m(\u001b[0m\u001b[0mNeo4jError\u001b[0m\u001b[0;34m,\u001b[0m \u001b[0mServiceUnavailable\u001b[0m\u001b[0;34m,\u001b[0m \u001b[0mSessionExpired\u001b[0m\u001b[0;34m)\u001b[0m \u001b[0;32mas\u001b[0m \u001b[0mexc\u001b[0m\u001b[0;34m:\u001b[0m\u001b[0;34m\u001b[0m\u001b[0;34m\u001b[0m\u001b[0m\n\u001b[1;32m    180\u001b[0m                     \u001b[0;32massert\u001b[0m \u001b[0;32mnot\u001b[0m \u001b[0masyncio\u001b[0m\u001b[0;34m.\u001b[0m\u001b[0miscoroutinefunction\u001b[0m\u001b[0;34m(\u001b[0m\u001b[0mself\u001b[0m\u001b[0;34m.\u001b[0m\u001b[0m__on_error\u001b[0m\u001b[0;34m)\u001b[0m\u001b[0;34m\u001b[0m\u001b[0;34m\u001b[0m\u001b[0m\n",
            "\u001b[0;32m/usr/local/lib/python3.10/dist-packages/neo4j/_sync/io/_bolt.py\u001b[0m in \u001b[0;36mfetch_message\u001b[0;34m(self)\u001b[0m\n\u001b[1;32m    848\u001b[0m             \u001b[0mhydration_hooks\u001b[0m\u001b[0;34m=\u001b[0m\u001b[0mself\u001b[0m\u001b[0;34m.\u001b[0m\u001b[0mresponses\u001b[0m\u001b[0;34m[\u001b[0m\u001b[0;36m0\u001b[0m\u001b[0;34m]\u001b[0m\u001b[0;34m.\u001b[0m\u001b[0mhydration_hooks\u001b[0m\u001b[0;34m\u001b[0m\u001b[0;34m\u001b[0m\u001b[0m\n\u001b[1;32m    849\u001b[0m         )\n\u001b[0;32m--> 850\u001b[0;31m         \u001b[0mres\u001b[0m \u001b[0;34m=\u001b[0m \u001b[0mself\u001b[0m\u001b[0;34m.\u001b[0m\u001b[0m_process_message\u001b[0m\u001b[0;34m(\u001b[0m\u001b[0mtag\u001b[0m\u001b[0;34m,\u001b[0m \u001b[0mfields\u001b[0m\u001b[0;34m)\u001b[0m\u001b[0;34m\u001b[0m\u001b[0;34m\u001b[0m\u001b[0m\n\u001b[0m\u001b[1;32m    851\u001b[0m         \u001b[0mself\u001b[0m\u001b[0;34m.\u001b[0m\u001b[0midle_since\u001b[0m \u001b[0;34m=\u001b[0m \u001b[0mmonotonic\u001b[0m\u001b[0;34m(\u001b[0m\u001b[0;34m)\u001b[0m\u001b[0;34m\u001b[0m\u001b[0;34m\u001b[0m\u001b[0m\n\u001b[1;32m    852\u001b[0m         \u001b[0;32mreturn\u001b[0m \u001b[0mres\u001b[0m\u001b[0;34m\u001b[0m\u001b[0;34m\u001b[0m\u001b[0m\n",
            "\u001b[0;32m/usr/local/lib/python3.10/dist-packages/neo4j/_sync/io/_bolt5.py\u001b[0m in \u001b[0;36m_process_message\u001b[0;34m(self, tag, fields)\u001b[0m\n\u001b[1;32m    367\u001b[0m             \u001b[0mself\u001b[0m\u001b[0;34m.\u001b[0m\u001b[0m_server_state_manager\u001b[0m\u001b[0;34m.\u001b[0m\u001b[0mstate\u001b[0m \u001b[0;34m=\u001b[0m \u001b[0mself\u001b[0m\u001b[0;34m.\u001b[0m\u001b[0mbolt_states\u001b[0m\u001b[0;34m.\u001b[0m\u001b[0mFAILED\u001b[0m\u001b[0;34m\u001b[0m\u001b[0;34m\u001b[0m\u001b[0m\n\u001b[1;32m    368\u001b[0m             \u001b[0;32mtry\u001b[0m\u001b[0;34m:\u001b[0m\u001b[0;34m\u001b[0m\u001b[0;34m\u001b[0m\u001b[0m\n\u001b[0;32m--> 369\u001b[0;31m                 \u001b[0mresponse\u001b[0m\u001b[0;34m.\u001b[0m\u001b[0mon_failure\u001b[0m\u001b[0;34m(\u001b[0m\u001b[0msummary_metadata\u001b[0m \u001b[0;32mor\u001b[0m \u001b[0;34m{\u001b[0m\u001b[0;34m}\u001b[0m\u001b[0;34m)\u001b[0m\u001b[0;34m\u001b[0m\u001b[0;34m\u001b[0m\u001b[0m\n\u001b[0m\u001b[1;32m    370\u001b[0m             \u001b[0;32mexcept\u001b[0m \u001b[0;34m(\u001b[0m\u001b[0mServiceUnavailable\u001b[0m\u001b[0;34m,\u001b[0m \u001b[0mDatabaseUnavailable\u001b[0m\u001b[0;34m)\u001b[0m\u001b[0;34m:\u001b[0m\u001b[0;34m\u001b[0m\u001b[0;34m\u001b[0m\u001b[0m\n\u001b[1;32m    371\u001b[0m                 \u001b[0;32mif\u001b[0m \u001b[0mself\u001b[0m\u001b[0;34m.\u001b[0m\u001b[0mpool\u001b[0m\u001b[0;34m:\u001b[0m\u001b[0;34m\u001b[0m\u001b[0;34m\u001b[0m\u001b[0m\n",
            "\u001b[0;32m/usr/local/lib/python3.10/dist-packages/neo4j/_sync/io/_common.py\u001b[0m in \u001b[0;36mon_failure\u001b[0;34m(self, metadata)\u001b[0m\n\u001b[1;32m    243\u001b[0m         \u001b[0mhandler\u001b[0m \u001b[0;34m=\u001b[0m \u001b[0mself\u001b[0m\u001b[0;34m.\u001b[0m\u001b[0mhandlers\u001b[0m\u001b[0;34m.\u001b[0m\u001b[0mget\u001b[0m\u001b[0;34m(\u001b[0m\u001b[0;34m\"on_summary\"\u001b[0m\u001b[0;34m)\u001b[0m\u001b[0;34m\u001b[0m\u001b[0;34m\u001b[0m\u001b[0m\n\u001b[1;32m    244\u001b[0m         \u001b[0mUtil\u001b[0m\u001b[0;34m.\u001b[0m\u001b[0mcallback\u001b[0m\u001b[0;34m(\u001b[0m\u001b[0mhandler\u001b[0m\u001b[0;34m)\u001b[0m\u001b[0;34m\u001b[0m\u001b[0;34m\u001b[0m\u001b[0m\n\u001b[0;32m--> 245\u001b[0;31m         \u001b[0;32mraise\u001b[0m \u001b[0mNeo4jError\u001b[0m\u001b[0;34m.\u001b[0m\u001b[0mhydrate\u001b[0m\u001b[0;34m(\u001b[0m\u001b[0;34m**\u001b[0m\u001b[0mmetadata\u001b[0m\u001b[0;34m)\u001b[0m\u001b[0;34m\u001b[0m\u001b[0;34m\u001b[0m\u001b[0m\n\u001b[0m\u001b[1;32m    246\u001b[0m \u001b[0;34m\u001b[0m\u001b[0m\n\u001b[1;32m    247\u001b[0m     \u001b[0;32mdef\u001b[0m \u001b[0mon_ignored\u001b[0m\u001b[0;34m(\u001b[0m\u001b[0mself\u001b[0m\u001b[0;34m,\u001b[0m \u001b[0mmetadata\u001b[0m\u001b[0;34m=\u001b[0m\u001b[0;32mNone\u001b[0m\u001b[0;34m)\u001b[0m\u001b[0;34m:\u001b[0m\u001b[0;34m\u001b[0m\u001b[0;34m\u001b[0m\u001b[0m\n",
            "\u001b[0;31mClientError\u001b[0m: {code: Neo.ClientError.Procedure.ProcedureCallFailed} {message: Failed to invoke procedure `apoc.refactor.mergeNodes`: Caused by: org.neo4j.graphdb.NotFoundException: Node 408 not found}"
          ]
        }
      ]
    },
    {
      "cell_type": "markdown",
      "source": [
        "# Retrieval"
      ],
      "metadata": {
        "id": "yL3UQeOOtax4"
      },
      "id": "yL3UQeOOtax4"
    },
    {
      "cell_type": "code",
      "execution_count": 13,
      "id": "f69a555b-4029-4b74-9c96-6da617f651aa",
      "metadata": {
        "id": "f69a555b-4029-4b74-9c96-6da617f651aa"
      },
      "outputs": [],
      "source": [
        "from llama_index.core.retrievers import CustomPGRetriever, VectorContextRetriever\n",
        "from llama_index.core.graph_stores import PropertyGraphStore\n",
        "from llama_index.core.vector_stores.types import VectorStore\n",
        "from llama_index.core.embeddings import BaseEmbedding\n",
        "from llama_index.core.prompts import PromptTemplate\n",
        "from llama_index.core.llms import LLM\n",
        "from pydantic import BaseModel\n",
        "from llama_index.program.openai import OpenAIPydanticProgram\n",
        "\n",
        "\n",
        "from typing import Optional, Any, Union, List, Optional\n",
        "\n",
        "class Entities(BaseModel):\n",
        "    \"\"\"List of named entities in the text such as names of people, organizations, concepts, and locations\"\"\"\n",
        "    names: Optional[List[str]]\n",
        "\n",
        "\n",
        "prompt_template_entities = \"\"\"\n",
        "Extract all named entities such as names of people, organizations, concepts, and locations\n",
        "from the following text:\n",
        "{text}\n",
        "\"\"\"\n",
        "\n",
        "class MyCustomRetriever(CustomPGRetriever):\n",
        "    \"\"\"Custom retriever with cohere reranking.\"\"\"\n",
        "\n",
        "    def init(\n",
        "        self,\n",
        "        ## vector context retriever params\n",
        "        embed_model: Optional[BaseEmbedding] = None,\n",
        "        vector_store: Optional[VectorStore] = None,\n",
        "        similarity_top_k: int = 4,\n",
        "        path_depth: int = 1,\n",
        "        include_text: bool = True,\n",
        "        **kwargs: Any,\n",
        "    ) -> None:\n",
        "        \"\"\"Uses any kwargs passed in from class constructor.\"\"\"\n",
        "        self.entity_extraction = OpenAIPydanticProgram.from_defaults(\n",
        "    output_cls=Entities, prompt_template_str=prompt_template_entities\n",
        ")\n",
        "        self.vector_retriever = VectorContextRetriever(\n",
        "            self.graph_store,\n",
        "            include_text=self.include_text,\n",
        "            embed_model=embed_model,\n",
        "            #vector_store=vector_store,\n",
        "            similarity_top_k=similarity_top_k,\n",
        "            path_depth=path_depth,\n",
        "        )\n",
        "\n",
        "    def custom_retrieve(self, query_str: str) -> str:\n",
        "        \"\"\"Define custom retriever with reranking.\n",
        "\n",
        "        Could return `str`, `TextNode`, `NodeWithScore`, or a list of those.\n",
        "        \"\"\"\n",
        "        entities = self.entity_extraction(text=query_str).names\n",
        "        result_nodes = []\n",
        "        if entities:\n",
        "            print(f\"Detected entities: {entities}\")\n",
        "            for entity in entities:\n",
        "                result_nodes.extend(self.vector_retriever.retrieve(entity))\n",
        "        else:\n",
        "            result_nodes.extend(self.vector_retriever.retrieve(query_str))\n",
        "        print([t.text for t in result_nodes])\n",
        "        ## TMP: please change\n",
        "        final_text = \"\\n\\n\".join(\n",
        "            [n.get_content(metadata_mode=\"llm\") for n in result_nodes]\n",
        "        )\n",
        "        return final_text"
      ]
    },
    {
      "cell_type": "markdown",
      "id": "e9a7ad0b-f170-40e8-b9bd-76deb5b42bdc",
      "metadata": {
        "id": "e9a7ad0b-f170-40e8-b9bd-76deb5b42bdc"
      },
      "source": [
        "## Test out the Custom Retriever\n",
        "\n",
        "Now let's initialize and test out the custom retriever against our data!\n",
        "\n",
        "To build a full RAG pipeline, we use the `RetrieverQueryEngine` to combine our retriever with the LLM synthesis module - this is also used under the hood for the property graph index."
      ]
    },
    {
      "cell_type": "code",
      "execution_count": 17,
      "id": "7346d827-9fd8-42bf-8bc9-548f23da68fe",
      "metadata": {
        "id": "7346d827-9fd8-42bf-8bc9-548f23da68fe"
      },
      "outputs": [],
      "source": [
        "custom_sub_retriever = MyCustomRetriever(\n",
        "    index.property_graph_store,\n",
        "    include_text=False,\n",
        "    vector_store=index.vector_store,\n",
        "    embed_model=embed_model\n",
        ")"
      ]
    },
    {
      "cell_type": "code",
      "execution_count": 18,
      "id": "1af69b34-184a-457a-9e98-d32b103ac0bd",
      "metadata": {
        "id": "1af69b34-184a-457a-9e98-d32b103ac0bd"
      },
      "outputs": [],
      "source": [
        "from llama_index.core.query_engine import RetrieverQueryEngine\n",
        "\n",
        "query_engine = RetrieverQueryEngine.from_args(\n",
        "    index.as_retriever(sub_retrievers=[custom_sub_retriever]), llm=llm\n",
        ")"
      ]
    },
    {
      "cell_type": "markdown",
      "id": "3f7e5bda-b11d-4544-adb9-ebed298fe070",
      "metadata": {
        "id": "3f7e5bda-b11d-4544-adb9-ebed298fe070"
      },
      "source": [
        "### Try out some Queries"
      ]
    },
    {
      "cell_type": "code",
      "execution_count": 21,
      "id": "a950e8b7-91db-4153-8528-47a8b91d77f6",
      "metadata": {
        "id": "a950e8b7-91db-4153-8528-47a8b91d77f6",
        "outputId": "ce9f1a7e-1bc1-41d0-ba0c-097104d62caa",
        "colab": {
          "base_uri": "https://localhost:8080/"
        }
      },
      "outputs": [
        {
          "output_type": "stream",
          "name": "stdout",
          "text": [
            "Detected entities: ['Maliek Collins', \"Darragh O'Brien\"]\n",
            "['Maliek Collins -> WORKS_AT -> Houston Texans', 'Maliek Collins -> WORKS_AT -> Las Vegas Raiders', 'Houston Texans -> ACQUISITION -> Maliek Collins', 'Maliek Collins -> WORKS_AT -> Dallas Cowboys', 'Justin Jefferson -> WORKS_AT -> NFL', 'Deepak Maloo -> WORKS_AT -> GE Vernova', 'Patriots -> PARTNERSHIP -> Matthew Judon', 'Darragh O’Brien -> WORKS_AT -> State’s industrial relations process', 'Darragh O’Brien -> WORKS_AT -> Government', 'Darragh O’Brien -> WORKS_AT -> Minister for Housing', 'Seán Ó Fearghaíl -> WORKS_AT -> Ceann Comhairle', 'Pearse Doherty -> WORKS_AT -> Sinn Féin', 'Simon Flannery -> WORKS_AT -> Morgan Stanley']\n",
            "Maliek Collins has worked for the Houston Texans, Las Vegas Raiders, and Dallas Cowboys. Darragh O’Brien is involved in the State’s industrial relations process, works for the Government, and holds the position of Minister for Housing.\n"
          ]
        }
      ],
      "source": [
        "response = query_engine.query(\"What do you know about Maliek Collins or Darragh O’Brien?\")\n",
        "print(str(response))"
      ]
    },
    {
      "cell_type": "code",
      "source": [],
      "metadata": {
        "id": "Nc4jPYbfrcQ4"
      },
      "id": "Nc4jPYbfrcQ4",
      "execution_count": null,
      "outputs": []
    }
  ],
  "metadata": {
    "kernelspec": {
      "display_name": "llama-index-bXUwlEfH-py3.11",
      "language": "python",
      "name": "python3"
    },
    "language_info": {
      "codemirror_mode": {
        "name": "ipython",
        "version": 3
      },
      "file_extension": ".py",
      "mimetype": "text/x-python",
      "name": "python",
      "nbconvert_exporter": "python",
      "pygments_lexer": "ipython3"
    },
    "colab": {
      "provenance": [],
      "include_colab_link": true
    },
    "widgets": {
      "application/vnd.jupyter.widget-state+json": {}
    }
  },
  "nbformat": 4,
  "nbformat_minor": 5
}