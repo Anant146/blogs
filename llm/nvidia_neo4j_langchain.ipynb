{
  "nbformat": 4,
  "nbformat_minor": 0,
  "metadata": {
    "colab": {
      "provenance": [],
      "authorship_tag": "ABX9TyPdxdbiD8o9yc3kwJsOfv56",
      "include_colab_link": true
    },
    "kernelspec": {
      "name": "python3",
      "display_name": "Python 3"
    },
    "language_info": {
      "name": "python"
    }
  },
  "cells": [
    {
      "cell_type": "markdown",
      "metadata": {
        "id": "view-in-github",
        "colab_type": "text"
      },
      "source": [
        "<a href=\"https://colab.research.google.com/github/tomasonjo/blogs/blob/master/llm/nvidia_neo4j_langchain.ipynb\" target=\"_parent\"><img src=\"https://colab.research.google.com/assets/colab-badge.svg\" alt=\"Open In Colab\"/></a>"
      ]
    },
    {
      "cell_type": "code",
      "execution_count": 1,
      "metadata": {
        "id": "PBS17Sk9iXcH"
      },
      "outputs": [],
      "source": [
        "!pip install --upgrade --quiet langchain-nvidia-ai-endpoints langchain-community neo4j langchain-core"
      ]
    },
    {
      "cell_type": "code",
      "source": [
        "import os\n",
        "from typing import Any, Dict, List, Optional, Tuple, Type\n",
        "\n",
        "from langchain_community.graphs import Neo4jGraph\n",
        "from langchain_community.vectorstores.neo4j_vector import remove_lucene_chars\n",
        "from langchain_core.tools import tool\n",
        "from langchain_nvidia_ai_endpoints import ChatNVIDIA\n",
        "\n",
        "from langchain.agents import AgentExecutor\n",
        "from langchain.agents.format_scratchpad import \\\n",
        "    format_to_openai_function_messages\n",
        "from langchain.agents.output_parsers.openai_tools import \\\n",
        "    OpenAIToolsAgentOutputParser\n",
        "from langchain.callbacks.manager import (AsyncCallbackManagerForToolRun,\n",
        "                                         CallbackManagerForToolRun)\n",
        "from langchain.prompts import ChatPromptTemplate, MessagesPlaceholder\n",
        "from langchain.pydantic_v1 import BaseModel, Field\n",
        "from langchain.schema import AIMessage, HumanMessage\n",
        "from langchain.tools import BaseTool\n",
        "from langchain.tools.render import format_tool_to_openai_function"
      ],
      "metadata": {
        "id": "JMIjgBS-2lWj"
      },
      "execution_count": 2,
      "outputs": []
    },
    {
      "cell_type": "code",
      "source": [
        "os.environ[\"NVIDIA_API_KEY\"] = \"nvapi-\""
      ],
      "metadata": {
        "id": "jnSoDL_G03ly"
      },
      "execution_count": 3,
      "outputs": []
    },
    {
      "cell_type": "code",
      "source": [
        "llm = ChatNVIDIA(model=\"meta/llama-3.1-70b-instruct\")"
      ],
      "metadata": {
        "id": "z7NiAxntkxQf"
      },
      "execution_count": 4,
      "outputs": []
    },
    {
      "cell_type": "code",
      "source": [
        "result = llm.invoke(\"How to use LLMs in combination with Graph Databases? Be concise!\")\n",
        "print(result.content)"
      ],
      "metadata": {
        "colab": {
          "base_uri": "https://localhost:8080/"
        },
        "id": "9XbET6XqvVUr",
        "outputId": "c51915d1-c0b7-47f5-8ea6-b68a77084486"
      },
      "execution_count": 5,
      "outputs": [
        {
          "output_type": "stream",
          "name": "stdout",
          "text": [
            "Here's a concise guide on using Large Language Models (LLMs) with Graph Databases:\n",
            "\n",
            "**Why combine LLMs with Graph Databases?**\n",
            "\n",
            "* Enhance natural language querying and search capabilities\n",
            "* Leverage LLMs for entity disambiguation, relation extraction, and ontological reasoning\n",
            "* Uncover insights from complex relationships and patterns in graph data\n",
            "\n",
            "**Architecture:**\n",
            "\n",
            "1. **Data Integration**: Integrate graph data with LLMs through APIs, e.g., using Cypher (Neo4j) or SPARQL (RDF).\n",
            "2. **Text Preprocessing**: Preprocess graph data into text formats (e.g., node/edge attributes) for LLM consumption.\n",
            "3. **LLM Inference**: Use LLMs for tasks like entity recognition, relationship extraction, and question answering on the preprocessed text data.\n",
            "4. **Post-processing**: Re-integrate LLM outputs with the graph database, e.g., creating new nodes, edges, or updating existing ones.\n",
            "\n",
            "**Example Use Cases:**\n",
            "\n",
            "* **Entity Disambiguation**: Use LLMs to identify entities in text data and resolve ambiguity, then update the graph database accordingly.\n",
            "* **Knowledge Graph Construction**: Utilize LLMs to extract relationships from text data and expand the graph database.\n",
            "* **Question Answering**: Leverage LLMs to answer complex questions over the graph data, using the graph structure and LLM-generated insights.\n",
            "\n",
            "**Popular Tools and Frameworks:**\n",
            "\n",
            "* Neo4j, Amazon Neptune, or OrientDB for graph databases\n",
            "* Hugging Face Transformers, Stanford CoreNLP, or OpenNLP for LLMs\n",
            "* Python libraries like Py2Neo, Gremlin, or NetworkX for graph data manipulation\n",
            "\n",
            "By combining LLMs with graph databases, you can unlock new capabilities for natural language processing, knowledge graph construction, and complex query answering.\n"
          ]
        }
      ]
    },
    {
      "cell_type": "code",
      "source": [
        "os.environ[\"NEO4J_URI\"] = \"bolt://18.206.157.187:7687\"\n",
        "os.environ[\"NEO4J_USERNAME\"] = \"neo4j\"\n",
        "os.environ[\"NEO4J_PASSWORD\"] = \"elevation-reservist-thousands\"\n",
        "\n",
        "graph = Neo4jGraph(refresh_schema=False)"
      ],
      "metadata": {
        "id": "67TCB9920Sqq"
      },
      "execution_count": 6,
      "outputs": []
    },
    {
      "cell_type": "code",
      "source": [
        "graph.query(\n",
        "    \"CREATE FULLTEXT INDEX drug IF NOT EXISTS FOR (d:Drug) ON EACH [d.name];\"\n",
        ")\n",
        "graph.query(\n",
        "    \"CREATE FULLTEXT INDEX manufacturer IF NOT EXISTS FOR (d:Manufacturer) ON EACH [d.manufacturerName];\"\n",
        ")"
      ],
      "metadata": {
        "colab": {
          "base_uri": "https://localhost:8080/"
        },
        "id": "RQukw9a34nIY",
        "outputId": "8324d93c-5237-4ff5-f17b-eab6f52af341"
      },
      "execution_count": 7,
      "outputs": [
        {
          "output_type": "execute_result",
          "data": {
            "text/plain": [
              "[]"
            ]
          },
          "metadata": {},
          "execution_count": 7
        }
      ]
    },
    {
      "cell_type": "code",
      "source": [
        "def generate_full_text_query(input: str) -> str:\n",
        "    \"\"\"\n",
        "    Generate a full-text search query for a given input string.\n",
        "\n",
        "    This function constructs a query string suitable for a full-text search.\n",
        "    It processes the input string by splitting it into words and appending a\n",
        "    similarity threshold (~2) to each word, then combines them using the AND\n",
        "    operator. Useful for mapping movies and people from user questions\n",
        "    to database values, and allows for some misspelings.\n",
        "    \"\"\"\n",
        "    full_text_query = \"\"\n",
        "    words = [el for el in remove_lucene_chars(input).split() if el]\n",
        "    for word in words[:-1]:\n",
        "        full_text_query += f\" {word}~2 AND\"\n",
        "    full_text_query += f\" {words[-1]}~2\"\n",
        "    return full_text_query.strip()\n",
        "\n",
        "\n",
        "candidate_query = \"\"\"\n",
        "CALL db.index.fulltext.queryNodes($index, $fulltextQuery, {limit: $limit})\n",
        "YIELD node\n",
        "RETURN coalesce(node.manufacturerName, node.name) AS candidate,\n",
        "       labels(node)[0] AS label\n",
        "\"\"\"\n",
        "\n",
        "\n",
        "def get_candidates(input: str, type: str, limit: int = 3) -> List[Dict[str, str]]:\n",
        "    \"\"\"\n",
        "    Retrieve a list of candidate entities from database based on the input string.\n",
        "\n",
        "    This function queries the Neo4j database using a full-text search. It takes the\n",
        "    input string, generates a full-text query, and executes this query against the\n",
        "    specified index in the database. The function returns a list of candidates\n",
        "    matching the query, with each candidate being a dictionary containing their name\n",
        "    (or title) and label (either 'Person' or 'Movie').\n",
        "    \"\"\"\n",
        "    ft_query = generate_full_text_query(input)\n",
        "    candidates = graph.query(\n",
        "        candidate_query, {\"fulltextQuery\": ft_query, \"index\": type, \"limit\": limit}\n",
        "    )\n",
        "    return candidates"
      ],
      "metadata": {
        "id": "046n-sfaKge1"
      },
      "execution_count": 8,
      "outputs": []
    },
    {
      "cell_type": "code",
      "source": [
        "get_candidates(\"voriconazol\", \"drug\")"
      ],
      "metadata": {
        "colab": {
          "base_uri": "https://localhost:8080/"
        },
        "id": "4ENXeeziLVhx",
        "outputId": "b4a4c08e-f864-418c-b35d-f346f59cebb2"
      },
      "execution_count": 9,
      "outputs": [
        {
          "output_type": "execute_result",
          "data": {
            "text/plain": [
              "[{'candidate': 'VORICONAZOLE', 'label': 'Drug'}]"
            ]
          },
          "metadata": {},
          "execution_count": 9
        }
      ]
    },
    {
      "cell_type": "code",
      "source": [
        "@tool\n",
        "def get_side_effects(\n",
        "    drug: Optional[str] = Field(\n",
        "        description=\"disease mentioned in the question. Return None if no mentioned.\"\n",
        "    ),\n",
        "    min_age: Optional[int] = Field(\n",
        "        description=\"Minimum age of the patient. Return None if no mentioned.\"\n",
        "    ),\n",
        "    max_age: Optional[int] = Field(\n",
        "        description=\"Maximum age of the patient. Return None if no mentioned.\"\n",
        "    ),\n",
        "    manufacturer: Optional[str] = Field(\n",
        "        description=\"manufacturer of the drug. Return None if no mentioned.\"\n",
        "    ),\n",
        "):\n",
        "    \"\"\"Useful for when you need to find common side effects.\"\"\"\n",
        "    params = {}\n",
        "    filters = []\n",
        "    side_effects_base_query = \"\"\"\n",
        "    MATCH (c:Case)-[:HAS_REACTION]->(r:Reaction), (c)-[:IS_PRIMARY_SUSPECT]->(d:Drug)\n",
        "    \"\"\"\n",
        "    if drug and isinstance(drug, str):\n",
        "        candidate_drugs = [el[\"candidate\"] for el in get_candidates(drug, \"drug\")]\n",
        "        if not candidate_drugs:\n",
        "            return \"The mentioned drug was not found\"\n",
        "        filters.append(\"d.name IN $drugs\")\n",
        "        params[\"drugs\"] = candidate_drugs\n",
        "\n",
        "    if min_age and isinstance(min_age, int):\n",
        "        filters.append(\"c.age > $min_age \")\n",
        "        params[\"min_age\"] = min_age\n",
        "    if max_age and isinstance(max_age, int):\n",
        "        filters.append(\"c.age < $max_age \")\n",
        "        params[\"max_age\"] = max_age\n",
        "    if manufacturer and isinstance(manufacturer, str):\n",
        "        candidate_manufacturers = [\n",
        "            el[\"candidate\"] for el in get_candidates(manufacturer, \"manufacturer\")\n",
        "        ]\n",
        "        if not candidate_manufacturers:\n",
        "            return \"The mentioned manufacturer was not found\"\n",
        "        filters.append(\n",
        "            \"EXISTS {(c)<-[:REGISTERED]-(:Manufacturer {manufacturerName: $manufacturer})}\"\n",
        "        )\n",
        "        params[\"manufacturer\"] = candidate_manufacturers[0]\n",
        "\n",
        "    if filters:\n",
        "        side_effects_base_query += \" WHERE \"\n",
        "        side_effects_base_query += \" AND \".join(filters)\n",
        "    side_effects_base_query += \"\"\"\n",
        "    RETURN d.name AS drug, r.description AS side_effect, count(*) AS count\n",
        "    ORDER BY count DESC\n",
        "    LIMIT 10\n",
        "    \"\"\"\n",
        "    print(params)\n",
        "    data = graph.query(side_effects_base_query, params=params)\n",
        "    return data"
      ],
      "metadata": {
        "id": "jLyPt3vGUdpz"
      },
      "execution_count": 10,
      "outputs": []
    },
    {
      "cell_type": "code",
      "source": [
        "get_side_effects(\"aspirin\")"
      ],
      "metadata": {
        "colab": {
          "base_uri": "https://localhost:8080/"
        },
        "id": "XXovEQAiN3Mo",
        "outputId": "ac017423-03e0-4a9b-c892-4ac865f64403"
      },
      "execution_count": 11,
      "outputs": [
        {
          "output_type": "stream",
          "name": "stdout",
          "text": [
            "{'drugs': ['ASPIRINE', 'ASPRIN', 'ASPIRIN']}\n"
          ]
        },
        {
          "output_type": "stream",
          "name": "stderr",
          "text": [
            "/usr/local/lib/python3.10/dist-packages/langchain_core/_api/deprecation.py:139: LangChainDeprecationWarning: The method `BaseTool.__call__` was deprecated in langchain-core 0.1.47 and will be removed in 0.3.0. Use invoke instead.\n",
            "  warn_deprecated(\n"
          ]
        },
        {
          "output_type": "execute_result",
          "data": {
            "text/plain": [
              "[]"
            ]
          },
          "metadata": {},
          "execution_count": 11
        }
      ]
    },
    {
      "cell_type": "code",
      "source": [
        "tools = [get_side_effects]\n",
        "llm_with_tools = llm.bind_tools(tools=tools)\n",
        "response = llm_with_tools.invoke(\"What is the most common side effect when using volazopile?\")\n",
        "print(response)\n",
        "print(response.tool_calls)"
      ],
      "metadata": {
        "colab": {
          "base_uri": "https://localhost:8080/"
        },
        "id": "y1cBHH_2VHAj",
        "outputId": "4b73da07-11de-49d2-c73a-44538121ee75"
      },
      "execution_count": 12,
      "outputs": [
        {
          "output_type": "stream",
          "name": "stdout",
          "text": [
            "content='' additional_kwargs={'tool_calls': [{'id': 'chatcmpl-tool-aa1f9f5bbac24be0841774daf56d10c1', 'type': 'function', 'function': {'name': 'get_side_effects', 'arguments': '{\"drug\": \"volazopile\"}'}}]} response_metadata={'role': 'assistant', 'content': None, 'tool_calls': [{'id': 'chatcmpl-tool-aa1f9f5bbac24be0841774daf56d10c1', 'type': 'function', 'function': {'name': 'get_side_effects', 'arguments': '{\"drug\": \"volazopile\"}'}}], 'token_usage': {'prompt_tokens': 315, 'total_tokens': 343, 'completion_tokens': 28}, 'finish_reason': 'tool_calls', 'model_name': 'meta/llama-3.1-70b-instruct'} id='run-2edf12f2-ab14-44ec-8688-b8e23cb298ad-0' tool_calls=[{'name': 'get_side_effects', 'args': {'drug': 'volazopile'}, 'id': 'chatcmpl-tool-aa1f9f5bbac24be0841774daf56d10c1', 'type': 'tool_call'}] role='assistant'\n",
            "[{'name': 'get_side_effects', 'args': {'drug': 'volazopile'}, 'id': 'chatcmpl-tool-aa1f9f5bbac24be0841774daf56d10c1', 'type': 'tool_call'}]\n"
          ]
        }
      ]
    },
    {
      "cell_type": "code",
      "source": [
        "prompt = ChatPromptTemplate.from_messages(\n",
        "    [\n",
        "        MessagesPlaceholder(variable_name=\"chat_history\"),\n",
        "        (\"user\", \"{input}\"),\n",
        "        MessagesPlaceholder(variable_name=\"agent_scratchpad\"),\n",
        "    ]\n",
        ")"
      ],
      "metadata": {
        "id": "_BnUZve2Mokm"
      },
      "execution_count": 13,
      "outputs": []
    },
    {
      "cell_type": "code",
      "source": [
        "def _format_chat_history(chat_history: List[Tuple[str, str]]):\n",
        "    buffer = []\n",
        "    for human, ai in chat_history:\n",
        "        buffer.append(HumanMessage(content=human))\n",
        "        buffer.append(AIMessage(content=ai))\n",
        "    return buffer\n",
        "\n",
        "\n",
        "agent = (\n",
        "    {\n",
        "        \"input\": lambda x: x[\"input\"],\n",
        "        \"chat_history\": lambda x: _format_chat_history(x[\"chat_history\"])\n",
        "        if x.get(\"chat_history\")\n",
        "        else [],\n",
        "        \"agent_scratchpad\": lambda x: format_to_openai_function_messages(\n",
        "            x[\"intermediate_steps\"]\n",
        "        ),\n",
        "    }\n",
        "    | prompt\n",
        "    | llm_with_tools\n",
        "    | OpenAIToolsAgentOutputParser()\n",
        ")\n",
        "\n",
        "\n",
        "# Add typing for input\n",
        "class AgentInput(BaseModel):\n",
        "    input: str\n",
        "    chat_history: List[Tuple[str, str]] = Field(\n",
        "        ..., extra={\"widget\": {\"type\": \"chat\", \"input\": \"input\", \"output\": \"output\"}}\n",
        "    )\n",
        "\n",
        "\n",
        "class Output(BaseModel):\n",
        "    output: Any\n",
        "\n",
        "\n",
        "agent_executor = AgentExecutor(agent=agent, tools=tools, verbose=True).with_types(\n",
        "    input_type=AgentInput, output_type=Output\n",
        ")"
      ],
      "metadata": {
        "id": "D8icN7K9O6IT"
      },
      "execution_count": 14,
      "outputs": []
    },
    {
      "cell_type": "code",
      "source": [
        "agent_executor.invoke(\n",
        "    {\"input\": \"What are the most common side effects when using lyrica?\"}\n",
        ")\n"
      ],
      "metadata": {
        "colab": {
          "base_uri": "https://localhost:8080/"
        },
        "id": "VUPv9_p7PkNE",
        "outputId": "b80372b7-94a7-45cf-ea91-c38f1b4bf2ba"
      },
      "execution_count": 15,
      "outputs": [
        {
          "output_type": "stream",
          "name": "stdout",
          "text": [
            "\n",
            "\n",
            "\u001b[1m> Entering new AgentExecutor chain...\u001b[0m\n",
            "\u001b[32;1m\u001b[1;3m\n",
            "Invoking: `get_side_effects` with `{'drug': 'lyrica'}`\n",
            "\n",
            "\n",
            "\u001b[0m{'drugs': ['LYRICA', 'LYRICA CR']}\n",
            "\u001b[36;1m\u001b[1;3m[{'drug': 'LYRICA', 'side_effect': 'Pain', 'count': 32}, {'drug': 'LYRICA', 'side_effect': 'Fall', 'count': 21}, {'drug': 'LYRICA', 'side_effect': 'Intentional product use issue', 'count': 20}, {'drug': 'LYRICA', 'side_effect': 'Insomnia', 'count': 19}, {'drug': 'LYRICA', 'side_effect': 'Feeling abnormal', 'count': 18}, {'drug': 'LYRICA', 'side_effect': 'Drug ineffective', 'count': 18}, {'drug': 'LYRICA', 'side_effect': 'Memory impairment', 'count': 17}, {'drug': 'LYRICA', 'side_effect': 'Withdrawal syndrome', 'count': 17}, {'drug': 'LYRICA', 'side_effect': 'Malaise', 'count': 16}, {'drug': 'LYRICA', 'side_effect': 'Intentional product misuse', 'count': 15}]\u001b[0m\u001b[32;1m\u001b[1;3mBased on the data, the most common side effects of Lyrica are pain, fall, intentional product use issue, insomnia, feeling abnormal, drug ineffective, memory impairment, withdrawal syndrome, malaise, and intentional product misuse.\u001b[0m\n",
            "\n",
            "\u001b[1m> Finished chain.\u001b[0m\n"
          ]
        },
        {
          "output_type": "execute_result",
          "data": {
            "text/plain": [
              "{'input': 'What are the most common side effects when using lyrica?',\n",
              " 'output': 'Based on the data, the most common side effects of Lyrica are pain, fall, intentional product use issue, insomnia, feeling abnormal, drug ineffective, memory impairment, withdrawal syndrome, malaise, and intentional product misuse.'}"
            ]
          },
          "metadata": {},
          "execution_count": 15
        }
      ]
    },
    {
      "cell_type": "code",
      "source": [
        "agent_executor.invoke(\n",
        "    {\n",
        "        \"input\": \"What are the most common side effects when using lyrica for people below 35 years old?\"\n",
        "    }\n",
        ")\n"
      ],
      "metadata": {
        "colab": {
          "base_uri": "https://localhost:8080/"
        },
        "id": "Gi4IvWKOPocK",
        "outputId": "a9153b49-9d33-4486-85e4-3b95fd571e6e"
      },
      "execution_count": 16,
      "outputs": [
        {
          "output_type": "stream",
          "name": "stdout",
          "text": [
            "\n",
            "\n",
            "\u001b[1m> Entering new AgentExecutor chain...\u001b[0m\n",
            "\u001b[32;1m\u001b[1;3m\n",
            "Invoking: `get_side_effects` with `{'min_age': 0, 'max_age': 35, 'drug': 'lyrica'}`\n",
            "\n",
            "\n",
            "\u001b[0m{'drugs': ['LYRICA', 'LYRICA CR'], 'max_age': 35}\n",
            "\u001b[36;1m\u001b[1;3m[{'drug': 'LYRICA', 'side_effect': 'Sinusitis', 'count': 1}, {'drug': 'LYRICA', 'side_effect': 'Hypoacusis', 'count': 1}, {'drug': 'LYRICA', 'side_effect': 'Fall', 'count': 1}, {'drug': 'LYRICA', 'side_effect': 'Brain injury', 'count': 1}, {'drug': 'LYRICA', 'side_effect': 'Amnesia', 'count': 1}, {'drug': 'LYRICA', 'side_effect': 'Off label use', 'count': 1}, {'drug': 'LYRICA', 'side_effect': 'Impaired quality of life', 'count': 1}, {'drug': 'LYRICA', 'side_effect': 'Somnolence', 'count': 1}, {'drug': 'LYRICA', 'side_effect': 'Drug ineffective for unapproved indication', 'count': 1}]\u001b[0m\u001b[32;1m\u001b[1;3mBased on the provided data, the most common side effects of Lyrica for people below 35 years old are sinusitis, hypoacusis, fall, brain injury, amnesia, off-label use, impaired quality of life, somnolence, and drug ineffective for unapproved indication.\u001b[0m\n",
            "\n",
            "\u001b[1m> Finished chain.\u001b[0m\n"
          ]
        },
        {
          "output_type": "execute_result",
          "data": {
            "text/plain": [
              "{'input': 'What are the most common side effects when using lyrica for people below 35 years old?',\n",
              " 'output': 'Based on the provided data, the most common side effects of Lyrica for people below 35 years old are sinusitis, hypoacusis, fall, brain injury, amnesia, off-label use, impaired quality of life, somnolence, and drug ineffective for unapproved indication.'}"
            ]
          },
          "metadata": {},
          "execution_count": 16
        }
      ]
    },
    {
      "cell_type": "code",
      "source": [
        "agent_executor.invoke(\n",
        "    {\n",
        "        \"input\": \"What are the most common side effects when for drugs manufactured by acadia?\"\n",
        "    }\n",
        ")\n"
      ],
      "metadata": {
        "colab": {
          "base_uri": "https://localhost:8080/"
        },
        "id": "8KXmv4hcvKy_",
        "outputId": "c0aa35f1-c0fc-4eff-9bab-8a6ac7745297"
      },
      "execution_count": 17,
      "outputs": [
        {
          "output_type": "stream",
          "name": "stdout",
          "text": [
            "\n",
            "\n",
            "\u001b[1m> Entering new AgentExecutor chain...\u001b[0m\n",
            "\u001b[32;1m\u001b[1;3m\n",
            "Invoking: `get_side_effects` with `{'manufacturer': 'acadia'}`\n",
            "\n",
            "\n",
            "\u001b[0m{'manufacturer': 'ACADIA PHARMACEUTICALS'}\n",
            "\u001b[36;1m\u001b[1;3m[{'drug': 'NUPLAZID', 'side_effect': 'Hallucination', 'count': 13}, {'drug': 'NUPLAZID', 'side_effect': 'Confusional state', 'count': 7}, {'drug': 'NUPLAZID', 'side_effect': 'Fall', 'count': 6}, {'drug': 'NUPLAZID', 'side_effect': 'Delusion', 'count': 5}, {'drug': 'NUPLAZID', 'side_effect': 'Gait disturbance', 'count': 5}, {'drug': 'NUPLAZID', 'side_effect': 'Fatigue', 'count': 4}, {'drug': 'NUPLAZID', 'side_effect': 'Abnormal behaviour', 'count': 3}, {'drug': 'NUPLAZID', 'side_effect': 'Product dose omission issue', 'count': 3}, {'drug': 'NUPLAZID', 'side_effect': 'Agitation', 'count': 3}, {'drug': 'NUPLAZID', 'side_effect': 'Death', 'count': 3}]\u001b[0m\u001b[32;1m\u001b[1;3mThe most common side effects for drugs manufactured by Acadia are Hallucination, Confusional state, Fall, Delusion, Gait disturbance, Fatigue, Abnormal behaviour, Product dose omission issue, Agitation and Death.\u001b[0m\n",
            "\n",
            "\u001b[1m> Finished chain.\u001b[0m\n"
          ]
        },
        {
          "output_type": "execute_result",
          "data": {
            "text/plain": [
              "{'input': 'What are the most common side effects when for drugs manufactured by acadia?',\n",
              " 'output': 'The most common side effects for drugs manufactured by Acadia are Hallucination, Confusional state, Fall, Delusion, Gait disturbance, Fatigue, Abnormal behaviour, Product dose omission issue, Agitation and Death.'}"
            ]
          },
          "metadata": {},
          "execution_count": 17
        }
      ]
    },
    {
      "cell_type": "code",
      "source": [],
      "metadata": {
        "id": "_PJqY5fjxslb"
      },
      "execution_count": 17,
      "outputs": []
    }
  ]
}