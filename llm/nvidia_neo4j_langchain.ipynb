{
  "nbformat": 4,
  "nbformat_minor": 0,
  "metadata": {
    "colab": {
      "provenance": [],
      "authorship_tag": "ABX9TyPscSVKoxtJbQ/hCcKnHBVe",
      "include_colab_link": true
    },
    "kernelspec": {
      "name": "python3",
      "display_name": "Python 3"
    },
    "language_info": {
      "name": "python"
    }
  },
  "cells": [
    {
      "cell_type": "markdown",
      "metadata": {
        "id": "view-in-github",
        "colab_type": "text"
      },
      "source": [
        "<a href=\"https://colab.research.google.com/github/tomasonjo/blogs/blob/master/llm/nvidia_neo4j_langchain.ipynb\" target=\"_parent\"><img src=\"https://colab.research.google.com/assets/colab-badge.svg\" alt=\"Open In Colab\"/></a>"
      ]
    },
    {
      "cell_type": "code",
      "execution_count": 2,
      "metadata": {
        "colab": {
          "base_uri": "https://localhost:8080/"
        },
        "id": "PBS17Sk9iXcH",
        "outputId": "82c65956-075f-4768-a9e4-b7822f8013db"
      },
      "outputs": [
        {
          "output_type": "stream",
          "name": "stdout",
          "text": [
            "\u001b[?25l     \u001b[90m━━━━━━━━━━━━━━━━━━━━━━━━━━━━━━━━━━━━━━━━\u001b[0m \u001b[32m0.0/647.5 kB\u001b[0m \u001b[31m?\u001b[0m eta \u001b[36m-:--:--\u001b[0m\r\u001b[2K     \u001b[91m━━━━━━━━━━━━\u001b[0m\u001b[91m╸\u001b[0m\u001b[90m━━━━━━━━━━━━━━━━━━━━━━━━━━━\u001b[0m \u001b[32m204.8/647.5 kB\u001b[0m \u001b[31m6.0 MB/s\u001b[0m eta \u001b[36m0:00:01\u001b[0m\r\u001b[2K     \u001b[90m━━━━━━━━━━━━━━━━━━━━━━━━━━━━━━━━━━━━━━━━\u001b[0m \u001b[32m647.5/647.5 kB\u001b[0m \u001b[31m9.4 MB/s\u001b[0m eta \u001b[36m0:00:00\u001b[0m\n",
            "\u001b[?25h  Preparing metadata (setup.py) ... \u001b[?25l\u001b[?25hdone\n",
            "\u001b[2K     \u001b[90m━━━━━━━━━━━━━━━━━━━━━━━━━━━━━━━━━━━━━━━━\u001b[0m \u001b[32m303.0/303.0 kB\u001b[0m \u001b[31m721.9 kB/s\u001b[0m eta \u001b[36m0:00:00\u001b[0m\n",
            "\u001b[?25h  Preparing metadata (setup.py) ... \u001b[?25l\u001b[?25hdone\n",
            "\u001b[2K   \u001b[90m━━━━━━━━━━━━━━━━━━━━━━━━━━━━━━━━━━━━━━━━\u001b[0m \u001b[32m2.6/2.6 MB\u001b[0m \u001b[31m33.3 MB/s\u001b[0m eta \u001b[36m0:00:00\u001b[0m\n",
            "\u001b[2K   \u001b[90m━━━━━━━━━━━━━━━━━━━━━━━━━━━━━━━━━━━━━━━━\u001b[0m \u001b[32m92.2/92.2 kB\u001b[0m \u001b[31m4.8 MB/s\u001b[0m eta \u001b[36m0:00:00\u001b[0m\n",
            "\u001b[2K   \u001b[90m━━━━━━━━━━━━━━━━━━━━━━━━━━━━━━━━━━━━━━━━\u001b[0m \u001b[32m55.0/55.0 kB\u001b[0m \u001b[31m3.5 MB/s\u001b[0m eta \u001b[36m0:00:00\u001b[0m\n",
            "\u001b[2K   \u001b[90m━━━━━━━━━━━━━━━━━━━━━━━━━━━━━━━━━━━━━━━━\u001b[0m \u001b[32m75.6/75.6 kB\u001b[0m \u001b[31m4.3 MB/s\u001b[0m eta \u001b[36m0:00:00\u001b[0m\n",
            "\u001b[2K   \u001b[90m━━━━━━━━━━━━━━━━━━━━━━━━━━━━━━━━━━━━━━━━\u001b[0m \u001b[32m77.9/77.9 kB\u001b[0m \u001b[31m3.8 MB/s\u001b[0m eta \u001b[36m0:00:00\u001b[0m\n",
            "\u001b[2K   \u001b[90m━━━━━━━━━━━━━━━━━━━━━━━━━━━━━━━━━━━━━━━━\u001b[0m \u001b[32m111.7/111.7 kB\u001b[0m \u001b[31m7.0 MB/s\u001b[0m eta \u001b[36m0:00:00\u001b[0m\n",
            "\u001b[2K   \u001b[90m━━━━━━━━━━━━━━━━━━━━━━━━━━━━━━━━━━━━━━━━\u001b[0m \u001b[32m71.9/71.9 kB\u001b[0m \u001b[31m4.1 MB/s\u001b[0m eta \u001b[36m0:00:00\u001b[0m\n",
            "\u001b[2K   \u001b[90m━━━━━━━━━━━━━━━━━━━━━━━━━━━━━━━━━━━━━━━━\u001b[0m \u001b[32m62.8/62.8 kB\u001b[0m \u001b[31m3.2 MB/s\u001b[0m eta \u001b[36m0:00:00\u001b[0m\n",
            "\u001b[2K   \u001b[90m━━━━━━━━━━━━━━━━━━━━━━━━━━━━━━━━━━━━━━━━\u001b[0m \u001b[32m83.0/83.0 kB\u001b[0m \u001b[31m5.6 MB/s\u001b[0m eta \u001b[36m0:00:00\u001b[0m\n",
            "\u001b[2K   \u001b[90m━━━━━━━━━━━━━━━━━━━━━━━━━━━━━━━━━━━━━━━━\u001b[0m \u001b[32m58.3/58.3 kB\u001b[0m \u001b[31m3.4 MB/s\u001b[0m eta \u001b[36m0:00:00\u001b[0m\n",
            "\u001b[2K   \u001b[90m━━━━━━━━━━━━━━━━━━━━━━━━━━━━━━━━━━━━━━━━\u001b[0m \u001b[32m62.5/62.5 kB\u001b[0m \u001b[31m3.8 MB/s\u001b[0m eta \u001b[36m0:00:00\u001b[0m\n",
            "\u001b[2K   \u001b[90m━━━━━━━━━━━━━━━━━━━━━━━━━━━━━━━━━━━━━━━━\u001b[0m \u001b[32m67.6/67.6 kB\u001b[0m \u001b[31m4.2 MB/s\u001b[0m eta \u001b[36m0:00:00\u001b[0m\n",
            "\u001b[2K   \u001b[90m━━━━━━━━━━━━━━━━━━━━━━━━━━━━━━━━━━━━━━━━\u001b[0m \u001b[32m15.9/15.9 MB\u001b[0m \u001b[31m50.3 MB/s\u001b[0m eta \u001b[36m0:00:00\u001b[0m\n",
            "\u001b[2K   \u001b[90m━━━━━━━━━━━━━━━━━━━━━━━━━━━━━━━━━━━━━━━━\u001b[0m \u001b[32m6.8/6.8 MB\u001b[0m \u001b[31m48.3 MB/s\u001b[0m eta \u001b[36m0:00:00\u001b[0m\n",
            "\u001b[2K   \u001b[90m━━━━━━━━━━━━━━━━━━━━━━━━━━━━━━━━━━━━━━━━\u001b[0m \u001b[32m307.7/307.7 kB\u001b[0m \u001b[31m13.7 MB/s\u001b[0m eta \u001b[36m0:00:00\u001b[0m\n",
            "\u001b[2K   \u001b[90m━━━━━━━━━━━━━━━━━━━━━━━━━━━━━━━━━━━━━━━━\u001b[0m \u001b[32m341.4/341.4 kB\u001b[0m \u001b[31m13.7 MB/s\u001b[0m eta \u001b[36m0:00:00\u001b[0m\n",
            "\u001b[2K   \u001b[90m━━━━━━━━━━━━━━━━━━━━━━━━━━━━━━━━━━━━━━━━\u001b[0m \u001b[32m3.4/3.4 MB\u001b[0m \u001b[31m44.7 MB/s\u001b[0m eta \u001b[36m0:00:00\u001b[0m\n",
            "\u001b[2K   \u001b[90m━━━━━━━━━━━━━━━━━━━━━━━━━━━━━━━━━━━━━━━━\u001b[0m \u001b[32m1.2/1.2 MB\u001b[0m \u001b[31m24.4 MB/s\u001b[0m eta \u001b[36m0:00:00\u001b[0m\n",
            "\u001b[2K   \u001b[90m━━━━━━━━━━━━━━━━━━━━━━━━━━━━━━━━━━━━━━━━\u001b[0m \u001b[32m130.2/130.2 kB\u001b[0m \u001b[31m5.6 MB/s\u001b[0m eta \u001b[36m0:00:00\u001b[0m\n",
            "\u001b[2K   \u001b[90m━━━━━━━━━━━━━━━━━━━━━━━━━━━━━━━━━━━━━━━━\u001b[0m \u001b[32m46.0/46.0 kB\u001b[0m \u001b[31m2.7 MB/s\u001b[0m eta \u001b[36m0:00:00\u001b[0m\n",
            "\u001b[2K   \u001b[90m━━━━━━━━━━━━━━━━━━━━━━━━━━━━━━━━━━━━━━━━\u001b[0m \u001b[32m86.8/86.8 kB\u001b[0m \u001b[31m4.5 MB/s\u001b[0m eta \u001b[36m0:00:00\u001b[0m\n",
            "\u001b[?25h  Building wheel for annoy (setup.py) ... \u001b[?25l\u001b[?25hdone\n",
            "  Building wheel for PyStemmer (setup.py) ... \u001b[?25l\u001b[?25hdone\n"
          ]
        }
      ],
      "source": [
        "!pip install --upgrade --quiet langchain-nvidia-ai-endpoints langchain-community neo4j langchain-core nemoguardrails"
      ]
    },
    {
      "cell_type": "code",
      "source": [
        "import os\n",
        "\n",
        "from typing import Optional, Type, List, Dict, Tuple, Any\n",
        "\n",
        "from langchain.callbacks.manager import (\n",
        "    AsyncCallbackManagerForToolRun,\n",
        "    CallbackManagerForToolRun,\n",
        ")\n",
        "\n",
        "# Import things that are needed generically\n",
        "from langchain.pydantic_v1 import BaseModel, Field\n",
        "from langchain.tools import BaseTool\n",
        "from langchain_nvidia_ai_endpoints import ChatNVIDIA\n",
        "from langchain_community.graphs import Neo4jGraph\n",
        "from langchain_community.vectorstores.neo4j_vector import remove_lucene_chars\n",
        "from langchain.tools.render import format_tool_to_openai_function\n",
        "from langchain.prompts import ChatPromptTemplate, MessagesPlaceholder\n",
        "from langchain.schema import AIMessage, HumanMessage\n",
        "from langchain.agents import AgentExecutor\n",
        "from langchain.agents.format_scratchpad import format_to_openai_function_messages\n",
        "from langchain.agents.output_parsers import OpenAIFunctionsAgentOutputParser\n"
      ],
      "metadata": {
        "id": "JMIjgBS-2lWj"
      },
      "execution_count": 54,
      "outputs": []
    },
    {
      "cell_type": "code",
      "source": [
        "os.environ[\"NVIDIA_API_KEY\"] = \"nvapi-\""
      ],
      "metadata": {
        "id": "jnSoDL_G03ly"
      },
      "execution_count": 4,
      "outputs": []
    },
    {
      "cell_type": "code",
      "source": [
        "llm = ChatNVIDIA(model=\"meta/llama-3.1-8b-instruct\")"
      ],
      "metadata": {
        "id": "z7NiAxntkxQf"
      },
      "execution_count": 5,
      "outputs": []
    },
    {
      "cell_type": "code",
      "source": [
        "result = llm.invoke(\"How to use LLMs in combination with Graph Databases? Be concise!\")\n",
        "print(result.content)"
      ],
      "metadata": {
        "colab": {
          "base_uri": "https://localhost:8080/"
        },
        "id": "9XbET6XqvVUr",
        "outputId": "bb78eaad-425c-4c48-ca35-b662cfae32a3"
      },
      "execution_count": 6,
      "outputs": [
        {
          "output_type": "stream",
          "name": "stdout",
          "text": [
            "To use Large Language Models (LLMs) in combination with Graph Databases, follow these steps:\n",
            "\n",
            "1. **API Integration**: Use an API like Gremlin or Cypher to query the Graph Database from your LLM development environment.\n",
            "2. **Graph Data Preparation**: Convert graph data into a format that can be processed by the LLM, such as nodes, edges, and relationships.\n",
            "3. **Node/Edge Embeddings**: Use techniques like node2vec or GraphSAGE to create embeddings for nodes and edges in the graph.\n",
            "4. **LLM Training**: Use the prepared graph data and embeddings to train your LLM on graph-specific tasks, such as:\n",
            "\t* **Graph generation**: Train the LLM to predict missing nodes or edges in the graph.\n",
            "\t* **Graph classification**: Train the LLM to classify nodes or edges based on their properties.\n",
            "\t* **Graph property prediction**: Train the LLM to predict properties of nodes or edges, such as centrality or community membership.\n",
            "5. **Querying the LLM**: Send queries to the trained LLM using the API integration. The LLM can then generate responses that can be used to query the Graph Database.\n",
            "\n",
            "By combining LLMs with Graph Databases, you can unlock powerful insights and applications, such as generating synthetic graphs, predicting graph properties, or classifying nodes and edges.\n"
          ]
        }
      ]
    },
    {
      "cell_type": "code",
      "source": [
        "os.environ[\"NEO4J_URI\"] = \"bolt://18.206.157.187:7687\"\n",
        "os.environ[\"NEO4J_USERNAME\"] = \"neo4j\"\n",
        "os.environ[\"NEO4J_PASSWORD\"] = \"elevation-reservist-thousands\"\n",
        "\n",
        "graph = Neo4jGraph(refresh_schema=False)"
      ],
      "metadata": {
        "id": "67TCB9920Sqq"
      },
      "execution_count": 9,
      "outputs": []
    },
    {
      "cell_type": "code",
      "source": [
        "graph.query(\n",
        "    \"CREATE FULLTEXT INDEX drug IF NOT EXISTS FOR (d:Drug) ON EACH [d.name];\"\n",
        ")\n",
        "graph.query(\n",
        "    \"CREATE FULLTEXT INDEX manufacturer IF NOT EXISTS FOR (d:Manufacturer) ON EACH [d.manufacturerName];\"\n",
        ")"
      ],
      "metadata": {
        "colab": {
          "base_uri": "https://localhost:8080/"
        },
        "id": "RQukw9a34nIY",
        "outputId": "51456a94-7445-4840-c5d4-51eba560fb4b"
      },
      "execution_count": 23,
      "outputs": [
        {
          "output_type": "execute_result",
          "data": {
            "text/plain": [
              "[]"
            ]
          },
          "metadata": {},
          "execution_count": 23
        }
      ]
    },
    {
      "cell_type": "code",
      "source": [
        "def generate_full_text_query(input: str) -> str:\n",
        "    \"\"\"\n",
        "    Generate a full-text search query for a given input string.\n",
        "\n",
        "    This function constructs a query string suitable for a full-text search.\n",
        "    It processes the input string by splitting it into words and appending a\n",
        "    similarity threshold (~2) to each word, then combines them using the AND\n",
        "    operator. Useful for mapping movies and people from user questions\n",
        "    to database values, and allows for some misspelings.\n",
        "    \"\"\"\n",
        "    full_text_query = \"\"\n",
        "    words = [el for el in remove_lucene_chars(input).split() if el]\n",
        "    for word in words[:-1]:\n",
        "        full_text_query += f\" {word}~2 AND\"\n",
        "    full_text_query += f\" {words[-1]}~2\"\n",
        "    return full_text_query.strip()\n",
        "\n",
        "\n",
        "candidate_query = \"\"\"\n",
        "CALL db.index.fulltext.queryNodes($index, $fulltextQuery, {limit: $limit})\n",
        "YIELD node\n",
        "RETURN coalesce(node.manufacturerName, node.name) AS candidate,\n",
        "       labels(node)[0] AS label\n",
        "\"\"\"\n",
        "\n",
        "\n",
        "def get_candidates(input: str, type: str, limit: int = 3) -> List[Dict[str, str]]:\n",
        "    \"\"\"\n",
        "    Retrieve a list of candidate entities from database based on the input string.\n",
        "\n",
        "    This function queries the Neo4j database using a full-text search. It takes the\n",
        "    input string, generates a full-text query, and executes this query against the\n",
        "    specified index in the database. The function returns a list of candidates\n",
        "    matching the query, with each candidate being a dictionary containing their name\n",
        "    (or title) and label (either 'Person' or 'Movie').\n",
        "    \"\"\"\n",
        "    ft_query = generate_full_text_query(input)\n",
        "    candidates = graph.query(\n",
        "        candidate_query, {\"fulltextQuery\": ft_query, \"index\": type, \"limit\": limit}\n",
        "    )\n",
        "    return candidates"
      ],
      "metadata": {
        "id": "046n-sfaKge1"
      },
      "execution_count": 26,
      "outputs": []
    },
    {
      "cell_type": "code",
      "source": [
        "get_candidates(\"Acadia\", \"manufacturer\")"
      ],
      "metadata": {
        "colab": {
          "base_uri": "https://localhost:8080/"
        },
        "id": "q2upSS5yK2-Y",
        "outputId": "35cab823-4fbb-4621-8d9c-9b939dc78bbc"
      },
      "execution_count": 27,
      "outputs": [
        {
          "output_type": "execute_result",
          "data": {
            "text/plain": [
              "[{'candidate': 'ACADIA PHARMACEUTICALS', 'label': 'Manufacturer'}]"
            ]
          },
          "metadata": {},
          "execution_count": 27
        }
      ]
    },
    {
      "cell_type": "code",
      "source": [
        "get_candidates(\"voriconazol\", \"drug\")"
      ],
      "metadata": {
        "colab": {
          "base_uri": "https://localhost:8080/"
        },
        "id": "4ENXeeziLVhx",
        "outputId": "749ace4e-90a6-4c30-86c2-2f11e17ddbb3"
      },
      "execution_count": 28,
      "outputs": [
        {
          "output_type": "execute_result",
          "data": {
            "text/plain": [
              "[{'candidate': 'VORICONAZOLE', 'label': 'Drug'}]"
            ]
          },
          "metadata": {},
          "execution_count": 28
        }
      ]
    },
    {
      "cell_type": "code",
      "source": [
        "\n",
        "\n",
        "\n",
        "def get_side_effects(\n",
        "    drug: Optional[str] = None,\n",
        "    min_age: Optional[int] = None,\n",
        "    max_age: Optional[int] = None,\n",
        "    manufacturer: Optional[str] = None,\n",
        ") -> str:\n",
        "    \"\"\"Get the side effects of a drug.\"\"\"\n",
        "    params = {}\n",
        "    filters = []\n",
        "    side_effects_base_query = \"\"\"\n",
        "    MATCH (c:Case)-[:HAS_REACTION]->(r:Reaction), (c)-[:IS_PRIMARY_SUSPECT]->(d:Drug)\n",
        "    \"\"\"\n",
        "    if drug or min_age or max_age or manufacturer:\n",
        "        side_effects_base_query += \" WHERE \"\n",
        "    if drug:\n",
        "        candidate_drugs = [el[\"candidate\"] for el in get_candidates(drug, \"drug\")]\n",
        "        if not candidate_drugs:\n",
        "            return \"The mentioned drug was not found\"\n",
        "        filters.append(\"d.name IN $drugs\")\n",
        "        params[\"drugs\"] = candidate_drugs\n",
        "    if min_age:\n",
        "        filters.append(\"c.age > $min_age \")\n",
        "        params[\"min_age\"] = min_age\n",
        "    if max_age:\n",
        "        filters.append(\"c.age < $max_age \")\n",
        "        params[\"max_age\"] = max_age\n",
        "    if manufacturer:\n",
        "        candidate_manufacturers = [\n",
        "            el[\"candidate\"] for el in get_candidates(manufacturer, \"manufacturer\")\n",
        "        ]\n",
        "        if not candidate_manufacturers:\n",
        "            return \"The mentioned manufacturer was not found\"\n",
        "        filters.append(\n",
        "            \"EXISTS {(c)<-[:REGISTERED]-(:Manufacturer {manufacturerName: $manufacturer})}\"\n",
        "        )\n",
        "        params[\"manufacturer\"] = candidate_manufacturers[0]\n",
        "    if filters:\n",
        "        side_effects_base_query += \" AND \".join(filters)\n",
        "    side_effects_base_query += \"\"\"\n",
        "    RETURN d.name AS drug, r.description AS side_effect, count(*) AS count\n",
        "    ORDER BY count DESC\n",
        "    LIMIT 10\n",
        "    \"\"\"\n",
        "    print(side_effects_base_query)\n",
        "    print(params)\n",
        "    data = graph.query(side_effects_base_query, params=params)\n",
        "    return data"
      ],
      "metadata": {
        "id": "QlYjj6ZQMS1n"
      },
      "execution_count": 42,
      "outputs": []
    },
    {
      "cell_type": "code",
      "source": [
        "get_side_effects(manufacturer=\"acadia\")"
      ],
      "metadata": {
        "colab": {
          "base_uri": "https://localhost:8080/"
        },
        "id": "kHsZX_ZVM_GW",
        "outputId": "d7e3cef1-5675-4b28-d1ef-e43a8c8a8ca7"
      },
      "execution_count": 43,
      "outputs": [
        {
          "output_type": "stream",
          "name": "stdout",
          "text": [
            "\n",
            "    MATCH (c:Case)-[:HAS_REACTION]->(r:Reaction), (c)-[:IS_PRIMARY_SUSPECT]->(d:Drug)\n",
            "     WHERE EXISTS {(c)<-[:REGISTERED]-(:Manufacturer {manufacturerName: $manufacturer})}\n",
            "    RETURN d.name AS drug, r.description AS side_effect, count(*) AS count\n",
            "    ORDER BY count DESC\n",
            "    LIMIT 10\n",
            "    \n",
            "{'manufacturer': 'ACADIA PHARMACEUTICALS'}\n"
          ]
        },
        {
          "output_type": "execute_result",
          "data": {
            "text/plain": [
              "[{'drug': 'NUPLAZID', 'side_effect': 'Hallucination', 'count': 13},\n",
              " {'drug': 'NUPLAZID', 'side_effect': 'Confusional state', 'count': 7},\n",
              " {'drug': 'NUPLAZID', 'side_effect': 'Fall', 'count': 6},\n",
              " {'drug': 'NUPLAZID', 'side_effect': 'Delusion', 'count': 5},\n",
              " {'drug': 'NUPLAZID', 'side_effect': 'Gait disturbance', 'count': 5},\n",
              " {'drug': 'NUPLAZID', 'side_effect': 'Fatigue', 'count': 4},\n",
              " {'drug': 'NUPLAZID', 'side_effect': 'Abnormal behaviour', 'count': 3},\n",
              " {'drug': 'NUPLAZID',\n",
              "  'side_effect': 'Product dose omission issue',\n",
              "  'count': 3},\n",
              " {'drug': 'NUPLAZID', 'side_effect': 'Agitation', 'count': 3},\n",
              " {'drug': 'NUPLAZID', 'side_effect': 'Death', 'count': 3}]"
            ]
          },
          "metadata": {},
          "execution_count": 43
        }
      ]
    },
    {
      "cell_type": "code",
      "source": [
        "get_side_effects(drug=\"aspirin\")"
      ],
      "metadata": {
        "colab": {
          "base_uri": "https://localhost:8080/"
        },
        "id": "XXovEQAiN3Mo",
        "outputId": "50642ba5-904a-44bf-ae03-51e45fb11831"
      },
      "execution_count": 45,
      "outputs": [
        {
          "output_type": "stream",
          "name": "stdout",
          "text": [
            "\n",
            "    MATCH (c:Case)-[:HAS_REACTION]->(r:Reaction), (c)-[:IS_PRIMARY_SUSPECT]->(d:Drug)\n",
            "     WHERE d.name IN $drugs\n",
            "    RETURN d.name AS drug, r.description AS side_effect, count(*) AS count\n",
            "    ORDER BY count DESC\n",
            "    LIMIT 10\n",
            "    \n",
            "{'drugs': ['ASPIRINE', 'ASPRIN', 'ASPIRIN']}\n"
          ]
        },
        {
          "output_type": "execute_result",
          "data": {
            "text/plain": [
              "[]"
            ]
          },
          "metadata": {},
          "execution_count": 45
        }
      ]
    },
    {
      "cell_type": "code",
      "source": [
        "class SideEffectsInput(BaseModel):\n",
        "    drug: Optional[str] = Field(description=\"disease mentioned in the question\")\n",
        "    min_age: Optional[int] = Field(description=\"Minimum age of the patient\")\n",
        "    max_age: Optional[int] = Field(description=\"Maximum age of the patient\")\n",
        "    manufacturer: Optional[str] = Field(description=\"manufacturer of the drug\")\n",
        "\n",
        "\n",
        "class SideEffectsTool(BaseTool):\n",
        "    name = \"SideEffects\"\n",
        "    description = \"useful for when you need to find common side effects\"\n",
        "    args_schema: Type[BaseModel] = SideEffectsInput\n",
        "\n",
        "    def _run(\n",
        "        self,\n",
        "        drug: Optional[str],\n",
        "        min_age: Optional[int],\n",
        "        max_age: Optional[int],\n",
        "        manufacturer: Optional[str],\n",
        "        run_manager: Optional[CallbackManagerForToolRun] = None,\n",
        "    ) -> str:\n",
        "        \"\"\"Use the tool.\"\"\"\n",
        "        return get_side_effects(drug, min_age, max_age, manufacturer)\n",
        "\n",
        "    async def _arun(\n",
        "        self,\n",
        "        drug: Optional[str],\n",
        "        min_age: Optional[int],\n",
        "        max_age: Optional[int],\n",
        "        manufacturer: Optional[str],\n",
        "        run_manager: Optional[AsyncCallbackManagerForToolRun] = None,\n",
        "    ) -> str:\n",
        "        \"\"\"Use the tool asynchronously.\"\"\"\n",
        "        return get_side_effects(drug, min_age, max_age, manufacturer)\n"
      ],
      "metadata": {
        "id": "vf6TfQ6N2HwU"
      },
      "execution_count": 64,
      "outputs": []
    },
    {
      "cell_type": "code",
      "source": [
        "from langchain_core.pydantic_v1 import Field\n",
        "from langchain_core.tools import tool\n",
        "\n",
        "\n",
        "@tool\n",
        "def get_side_effects(\n",
        "    drug: Optional[str] = Field(description=\"disease mentioned in the question\"),\n",
        "    min_age: Optional[int] = Field(description=\"Minimum age of the patient\"),\n",
        "    max_age: Optional[int] = Field(description=\"Maximum age of the patient\"),\n",
        "    manufacturer: Optional[str] = Field(description=\"manufacturer of the drug\")\n",
        "):\n",
        "    \"\"\"Useful for when you need to find common side effects.\"\"\"\n",
        "    params = {}\n",
        "    filters = []\n",
        "    side_effects_base_query = \"\"\"\n",
        "    MATCH (c:Case)-[:HAS_REACTION]->(r:Reaction), (c)-[:IS_PRIMARY_SUSPECT]->(d:Drug)\n",
        "    \"\"\"\n",
        "    if drug or min_age or max_age or manufacturer:\n",
        "        side_effects_base_query += \" WHERE \"\n",
        "    if drug:\n",
        "        candidate_drugs = [el[\"candidate\"] for el in get_candidates(drug, \"drug\")]\n",
        "        if not candidate_drugs:\n",
        "            return \"The mentioned drug was not found\"\n",
        "        filters.append(\"d.name IN $drugs\")\n",
        "        params[\"drugs\"] = candidate_drugs\n",
        "    if min_age:\n",
        "        filters.append(\"c.age > $min_age \")\n",
        "        params[\"min_age\"] = min_age\n",
        "    if max_age:\n",
        "        filters.append(\"c.age < $max_age \")\n",
        "        params[\"max_age\"] = max_age\n",
        "    if manufacturer:\n",
        "        candidate_manufacturers = [\n",
        "            el[\"candidate\"] for el in get_candidates(manufacturer, \"manufacturer\")\n",
        "        ]\n",
        "        if not candidate_manufacturers:\n",
        "            return \"The mentioned manufacturer was not found\"\n",
        "        filters.append(\n",
        "            \"EXISTS {(c)<-[:REGISTERED]-(:Manufacturer {manufacturerName: $manufacturer})}\"\n",
        "        )\n",
        "        params[\"manufacturer\"] = candidate_manufacturers[0]\n",
        "    if filters:\n",
        "        side_effects_base_query += \" AND \".join(filters)\n",
        "    side_effects_base_query += \"\"\"\n",
        "    RETURN d.name AS drug, r.description AS side_effect, count(*) AS count\n",
        "    ORDER BY count DESC\n",
        "    LIMIT 10\n",
        "    \"\"\"\n",
        "    print(side_effects_base_query)\n",
        "    print(params)\n",
        "    data = graph.query(side_effects_base_query, params=params)\n",
        "    return data"
      ],
      "metadata": {
        "id": "jLyPt3vGUdpz"
      },
      "execution_count": 82,
      "outputs": []
    },
    {
      "cell_type": "code",
      "source": [
        "tools = [get_side_effects]\n",
        "llm_with_tools = llm.bind_tools(tools=tools)\n",
        "response = llm_with_tools.invoke(\"What is the most common side effect when using volazopile?\")\n",
        "print(response)\n",
        "print(response.tool_calls)"
      ],
      "metadata": {
        "colab": {
          "base_uri": "https://localhost:8080/"
        },
        "id": "y1cBHH_2VHAj",
        "outputId": "a61a24fb-91bb-4a7e-90ae-8f3331ff21ca"
      },
      "execution_count": 87,
      "outputs": [
        {
          "output_type": "stream",
          "name": "stdout",
          "text": [
            "content='{\"type\": \"function\", \"name\": \"get_side_effects\", \"parameters\": {\"drug\": \"volazopile\", \"min_age\": \"0\", \"max_age\": \"100\", \"manufacturer\": \"manufacturer of volazopile\"}}' response_metadata={'role': 'assistant', 'content': '{\"type\": \"function\", \"name\": \"get_side_effects\", \"parameters\": {\"drug\": \"volazopile\", \"min_age\": \"0\", \"max_age\": \"100\", \"manufacturer\": \"manufacturer of volazopile\"}}', 'token_usage': {'prompt_tokens': 291, 'total_tokens': 342, 'completion_tokens': 51}, 'finish_reason': 'stop', 'model_name': 'meta/llama-3.1-8b-instruct'} id='run-a9c794d3-baf5-491b-b5a1-995b03568207-0' role='assistant'\n",
            "[]\n"
          ]
        }
      ]
    },
    {
      "cell_type": "code",
      "source": [
        "prompt = ChatPromptTemplate.from_messages(\n",
        "    [\n",
        "        (\n",
        "            \"system\",\n",
        "            \"You are a helpful assistant that finds information about common side effects. \"\n",
        "            \"If tools require follow up questions, \"\n",
        "            \"make sure to ask the user for clarification. Make sure to include any \"\n",
        "            \"available options that need to be clarified in the follow up questions \"\n",
        "            \"Do only the things the user specifically requested. \",\n",
        "        ),\n",
        "        MessagesPlaceholder(variable_name=\"chat_history\"),\n",
        "        (\"user\", \"{input}\"),\n",
        "        MessagesPlaceholder(variable_name=\"agent_scratchpad\"),\n",
        "    ]\n",
        ")"
      ],
      "metadata": {
        "id": "_BnUZve2Mokm"
      },
      "execution_count": 88,
      "outputs": []
    },
    {
      "cell_type": "code",
      "source": [
        "def _format_chat_history(chat_history: List[Tuple[str, str]]):\n",
        "    buffer = []\n",
        "    for human, ai in chat_history:\n",
        "        buffer.append(HumanMessage(content=human))\n",
        "        buffer.append(AIMessage(content=ai))\n",
        "    return buffer\n",
        "\n",
        "\n",
        "agent = (\n",
        "    {\n",
        "        \"input\": lambda x: x[\"input\"],\n",
        "        \"chat_history\": lambda x: _format_chat_history(x[\"chat_history\"])\n",
        "        if x.get(\"chat_history\")\n",
        "        else [],\n",
        "        \"agent_scratchpad\": lambda x: format_to_openai_function_messages(\n",
        "            x[\"intermediate_steps\"]\n",
        "        ),\n",
        "    }\n",
        "    | prompt\n",
        "    | llm_with_tools\n",
        "    | OpenAIFunctionsAgentOutputParser()\n",
        ")\n",
        "\n",
        "\n",
        "# Add typing for input\n",
        "class AgentInput(BaseModel):\n",
        "    input: str\n",
        "    chat_history: List[Tuple[str, str]] = Field(\n",
        "        ..., extra={\"widget\": {\"type\": \"chat\", \"input\": \"input\", \"output\": \"output\"}}\n",
        "    )\n",
        "\n",
        "\n",
        "class Output(BaseModel):\n",
        "    output: Any\n",
        "\n",
        "\n",
        "agent_executor = AgentExecutor(agent=agent, tools=tools, verbose=True).with_types(\n",
        "    input_type=AgentInput, output_type=Output\n",
        ")"
      ],
      "metadata": {
        "id": "D8icN7K9O6IT"
      },
      "execution_count": 69,
      "outputs": []
    },
    {
      "cell_type": "code",
      "source": [
        "agent_executor.invoke({\"input\": \"What is the most common side effect when using volazopile?\"})"
      ],
      "metadata": {
        "colab": {
          "base_uri": "https://localhost:8080/"
        },
        "id": "VUPv9_p7PkNE",
        "outputId": "dd239e05-f852-4565-f475-ba7e79c36a3e"
      },
      "execution_count": 89,
      "outputs": [
        {
          "output_type": "stream",
          "name": "stdout",
          "text": [
            "\n",
            "\n",
            "\u001b[1m> Entering new AgentExecutor chain...\u001b[0m\n",
            "\u001b[32;1m\u001b[1;3mTo find the most common side effect of volazopile, I would need to know more about the drug and its usage. Can you please provide me with the following information to help me narrow down the search? Manufacturer, age range, and the specific condition being treated by volazopile.\u001b[0m\n",
            "\n",
            "\u001b[1m> Finished chain.\u001b[0m\n"
          ]
        },
        {
          "output_type": "execute_result",
          "data": {
            "text/plain": [
              "{'input': 'What is the most common side effect when using volazopile?',\n",
              " 'output': 'To find the most common side effect of volazopile, I would need to know more about the drug and its usage. Can you please provide me with the following information to help me narrow down the search? Manufacturer, age range, and the specific condition being treated by volazopile.'}"
            ]
          },
          "metadata": {},
          "execution_count": 89
        }
      ]
    },
    {
      "cell_type": "code",
      "source": [],
      "metadata": {
        "id": "Gi4IvWKOPocK"
      },
      "execution_count": null,
      "outputs": []
    }
  ]
}