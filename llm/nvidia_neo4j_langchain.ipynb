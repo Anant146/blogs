{
  "nbformat": 4,
  "nbformat_minor": 0,
  "metadata": {
    "colab": {
      "provenance": [],
      "authorship_tag": "ABX9TyOAxrkZmM6pLsUEwTYVUxRA",
      "include_colab_link": true
    },
    "kernelspec": {
      "name": "python3",
      "display_name": "Python 3"
    },
    "language_info": {
      "name": "python"
    }
  },
  "cells": [
    {
      "cell_type": "markdown",
      "metadata": {
        "id": "view-in-github",
        "colab_type": "text"
      },
      "source": [
        "<a href=\"https://colab.research.google.com/github/tomasonjo/blogs/blob/master/llm/nvidia_neo4j_langchain.ipynb\" target=\"_parent\"><img src=\"https://colab.research.google.com/assets/colab-badge.svg\" alt=\"Open In Colab\"/></a>"
      ]
    },
    {
      "cell_type": "code",
      "execution_count": 1,
      "metadata": {
        "id": "PBS17Sk9iXcH"
      },
      "outputs": [],
      "source": [
        "!pip install --upgrade --quiet langchain-nvidia-ai-endpoints langchain-community neo4j langchain-core"
      ]
    },
    {
      "cell_type": "code",
      "source": [
        "import os\n",
        "from typing import Any, Dict, List, Optional, Tuple, Type\n",
        "\n",
        "from langchain_community.graphs import Neo4jGraph\n",
        "from langchain_community.vectorstores.neo4j_vector import remove_lucene_chars\n",
        "from langchain_core.tools import tool\n",
        "from langchain_nvidia_ai_endpoints import ChatNVIDIA\n",
        "\n",
        "from langchain.agents import AgentExecutor\n",
        "from langchain.agents.format_scratchpad import \\\n",
        "    format_to_openai_function_messages\n",
        "from langchain.agents.output_parsers.openai_tools import \\\n",
        "    OpenAIToolsAgentOutputParser\n",
        "from langchain.callbacks.manager import (AsyncCallbackManagerForToolRun,\n",
        "                                         CallbackManagerForToolRun)\n",
        "from langchain.prompts import ChatPromptTemplate, MessagesPlaceholder\n",
        "from langchain.pydantic_v1 import BaseModel, Field\n",
        "from langchain.schema import AIMessage, HumanMessage\n",
        "from langchain.tools import BaseTool\n",
        "from langchain.tools.render import format_tool_to_openai_function"
      ],
      "metadata": {
        "id": "JMIjgBS-2lWj"
      },
      "execution_count": 2,
      "outputs": []
    },
    {
      "cell_type": "code",
      "source": [
        "os.environ[\"NEO4J_URI\"] = \"bolt://18.206.157.187:7687\"\n",
        "os.environ[\"NEO4J_USERNAME\"] = \"neo4j\"\n",
        "os.environ[\"NEO4J_PASSWORD\"] = \"elevation-reservist-thousands\"\n",
        "\n",
        "graph = Neo4jGraph(refresh_schema=False)"
      ],
      "metadata": {
        "id": "67TCB9920Sqq"
      },
      "execution_count": 6,
      "outputs": []
    },
    {
      "cell_type": "code",
      "source": [
        "os.environ[\"NVIDIA_API_KEY\"] = \"nvapi-\""
      ],
      "metadata": {
        "id": "jnSoDL_G03ly"
      },
      "execution_count": 3,
      "outputs": []
    },
    {
      "cell_type": "code",
      "source": [
        "llm = ChatNVIDIA(model=\"meta/llama-3.1-70b-instruct\")"
      ],
      "metadata": {
        "id": "z7NiAxntkxQf"
      },
      "execution_count": 4,
      "outputs": []
    },
    {
      "cell_type": "code",
      "source": [
        "# connect to an local NIM running at localhost:8000,\n",
        "# specifying a specific model\n",
        "# llm = ChatNVIDIA(\n",
        "#  base_url=\"http://localhost:8000/v1\",\n",
        "#  model=\"meta/llama-3.1-70b-instruct\"\n",
        "# )"
      ],
      "metadata": {
        "id": "QZk-CE75rS_Z"
      },
      "execution_count": null,
      "outputs": []
    },
    {
      "cell_type": "code",
      "source": [
        "result = llm.invoke(\"How to use LLMs in combination with Graph Databases? Be concise!\")\n",
        "print(result.content)"
      ],
      "metadata": {
        "colab": {
          "base_uri": "https://localhost:8080/"
        },
        "id": "9XbET6XqvVUr",
        "outputId": "91109e6e-5b26-4a73-91b5-2bb29fd6372d"
      },
      "execution_count": 5,
      "outputs": [
        {
          "output_type": "stream",
          "name": "stdout",
          "text": [
            "Here's a concise guide on using Large Language Models (LLMs) with Graph Databases:\n",
            "\n",
            "**Why combine LLMs with Graph Databases?**\n",
            "\n",
            "* Enhance querying and search capabilities\n",
            "* Incorporate semantic relationships between entities\n",
            "* Enable more accurate and informative results\n",
            "\n",
            "**Integration Approaches:**\n",
            "\n",
            "1. **Node and Edge Embeddings**: Use LLMs to generate vector representations of nodes and edges in the graph database, enabling semantic search and recommendation.\n",
            "2. **Natural Language Querying**: Utilize LLMs to parse natural language queries and translate them into graph queries, making the database more accessible.\n",
            "3. **Entity Disambiguation**: Leverage LLMs to resolve entity ambiguities and correctly identify entities in the graph database.\n",
            "4. **Graph-Based Language Modeling**: Feed graph data into LLMs to improve language understanding and generate more informative text.\n",
            "5. **Graph-Augmented Language Models**: Use graph data to augment LLMs, allowing them to better understand relationships between entities.\n",
            "\n",
            "**Popular Tools and Technologies:**\n",
            "\n",
            "* Graph databases: Neo4j, Amazon Neptune\n",
            "* LLMs: Transformers, BERT, GraphSAGE\n",
            "* Integration libraries: Neo4j Transformers, Py2Neo\n"
          ]
        }
      ]
    },
    {
      "cell_type": "code",
      "source": [
        "graph.query(\n",
        "    \"CREATE FULLTEXT INDEX drug IF NOT EXISTS FOR (d:Drug) ON EACH [d.name];\"\n",
        ")\n",
        "graph.query(\n",
        "    \"CREATE FULLTEXT INDEX manufacturer IF NOT EXISTS FOR (d:Manufacturer) ON EACH [d.manufacturerName];\"\n",
        ")"
      ],
      "metadata": {
        "colab": {
          "base_uri": "https://localhost:8080/"
        },
        "id": "RQukw9a34nIY",
        "outputId": "49f5e487-0936-4e11-e177-3e75b75fc303"
      },
      "execution_count": 7,
      "outputs": [
        {
          "output_type": "execute_result",
          "data": {
            "text/plain": [
              "[]"
            ]
          },
          "metadata": {},
          "execution_count": 7
        }
      ]
    },
    {
      "cell_type": "code",
      "source": [
        "def generate_full_text_query(input: str) -> str:\n",
        "    \"\"\"\n",
        "    Generate a full-text search query for a given input string.\n",
        "\n",
        "    This function constructs a query string suitable for a full-text search.\n",
        "    It processes the input string by splitting it into words and appending a\n",
        "    similarity threshold (~2) to each word, then combines them using the AND\n",
        "    operator. Useful for mapping movies and people from user questions\n",
        "    to database values, and allows for some misspelings.\n",
        "    \"\"\"\n",
        "    full_text_query = \"\"\n",
        "    words = [el for el in remove_lucene_chars(input).split() if el]\n",
        "    for word in words[:-1]:\n",
        "        full_text_query += f\" {word}~2 AND\"\n",
        "    full_text_query += f\" {words[-1]}~2\"\n",
        "    return full_text_query.strip()\n",
        "\n",
        "\n",
        "candidate_query = \"\"\"\n",
        "CALL db.index.fulltext.queryNodes($index, $fulltextQuery, {limit: $limit})\n",
        "YIELD node\n",
        "RETURN coalesce(node.manufacturerName, node.name) AS candidate,\n",
        "       labels(node)[0] AS label\n",
        "\"\"\"\n",
        "\n",
        "\n",
        "def get_candidates(input: str, type: str, limit: int = 3) -> List[Dict[str, str]]:\n",
        "    \"\"\"\n",
        "    Retrieve a list of candidate entities from database based on the input string.\n",
        "\n",
        "    This function queries the Neo4j database using a full-text search. It takes the\n",
        "    input string, generates a full-text query, and executes this query against the\n",
        "    specified index in the database. The function returns a list of candidates\n",
        "    matching the query, with each candidate being a dictionary containing their name\n",
        "    (or title) and label (either 'Person' or 'Movie').\n",
        "    \"\"\"\n",
        "    ft_query = generate_full_text_query(input)\n",
        "    candidates = graph.query(\n",
        "        candidate_query, {\"fulltextQuery\": ft_query, \"index\": type, \"limit\": limit}\n",
        "    )\n",
        "    return candidates"
      ],
      "metadata": {
        "id": "046n-sfaKge1"
      },
      "execution_count": 8,
      "outputs": []
    },
    {
      "cell_type": "code",
      "source": [
        "get_candidates(\"voriconazol\", \"drug\")"
      ],
      "metadata": {
        "colab": {
          "base_uri": "https://localhost:8080/"
        },
        "id": "4ENXeeziLVhx",
        "outputId": "2ffd494d-527a-41e8-9b59-23ef79a163da"
      },
      "execution_count": 9,
      "outputs": [
        {
          "output_type": "execute_result",
          "data": {
            "text/plain": [
              "[{'candidate': 'VORICONAZOLE', 'label': 'Drug'}]"
            ]
          },
          "metadata": {},
          "execution_count": 9
        }
      ]
    },
    {
      "cell_type": "code",
      "source": [
        "@tool\n",
        "def get_side_effects(\n",
        "    drug: Optional[str] = Field(\n",
        "        description=\"disease mentioned in the question. Return None if no mentioned.\"\n",
        "    ),\n",
        "    min_age: Optional[int] = Field(\n",
        "        description=\"Minimum age of the patient. Return None if no mentioned.\"\n",
        "    ),\n",
        "    max_age: Optional[int] = Field(\n",
        "        description=\"Maximum age of the patient. Return None if no mentioned.\"\n",
        "    ),\n",
        "    manufacturer: Optional[str] = Field(\n",
        "        description=\"manufacturer of the drug. Return None if no mentioned.\"\n",
        "    ),\n",
        "):\n",
        "    \"\"\"Useful for when you need to find common side effects.\"\"\"\n",
        "    params = {}\n",
        "    filters = []\n",
        "    side_effects_base_query = \"\"\"\n",
        "    MATCH (c:Case)-[:HAS_REACTION]->(r:Reaction), (c)-[:IS_PRIMARY_SUSPECT]->(d:Drug)\n",
        "    \"\"\"\n",
        "    if drug and isinstance(drug, str):\n",
        "        candidate_drugs = [el[\"candidate\"] for el in get_candidates(drug, \"drug\")]\n",
        "        if not candidate_drugs:\n",
        "            return \"The mentioned drug was not found\"\n",
        "        filters.append(\"d.name IN $drugs\")\n",
        "        params[\"drugs\"] = candidate_drugs\n",
        "\n",
        "    if min_age and isinstance(min_age, int):\n",
        "        filters.append(\"c.age > $min_age \")\n",
        "        params[\"min_age\"] = min_age\n",
        "    if max_age and isinstance(max_age, int):\n",
        "        filters.append(\"c.age < $max_age \")\n",
        "        params[\"max_age\"] = max_age\n",
        "    if manufacturer and isinstance(manufacturer, str):\n",
        "        candidate_manufacturers = [\n",
        "            el[\"candidate\"] for el in get_candidates(manufacturer, \"manufacturer\")\n",
        "        ]\n",
        "        if not candidate_manufacturers:\n",
        "            return \"The mentioned manufacturer was not found\"\n",
        "        filters.append(\n",
        "            \"EXISTS {(c)<-[:REGISTERED]-(:Manufacturer {manufacturerName: $manufacturer})}\"\n",
        "        )\n",
        "        params[\"manufacturer\"] = candidate_manufacturers[0]\n",
        "\n",
        "    if filters:\n",
        "        side_effects_base_query += \" WHERE \"\n",
        "        side_effects_base_query += \" AND \".join(filters)\n",
        "    side_effects_base_query += \"\"\"\n",
        "    RETURN d.name AS drug, r.description AS side_effect, count(*) AS count\n",
        "    ORDER BY count DESC\n",
        "    LIMIT 10\n",
        "    \"\"\"\n",
        "    print(f\"Using parameters: {params}\")\n",
        "    data = graph.query(side_effects_base_query, params=params)\n",
        "    return data"
      ],
      "metadata": {
        "id": "jLyPt3vGUdpz"
      },
      "execution_count": 27,
      "outputs": []
    },
    {
      "cell_type": "code",
      "source": [
        "get_side_effects(\"lyrica\")"
      ],
      "metadata": {
        "colab": {
          "base_uri": "https://localhost:8080/"
        },
        "id": "XXovEQAiN3Mo",
        "outputId": "8620458b-281d-4a63-c2ea-9d62a54ca66d"
      },
      "execution_count": 29,
      "outputs": [
        {
          "output_type": "stream",
          "name": "stdout",
          "text": [
            "Using parameters: {'drugs': ['LYRICA', 'LYRICA CR']}\n"
          ]
        },
        {
          "output_type": "execute_result",
          "data": {
            "text/plain": [
              "[{'drug': 'LYRICA', 'side_effect': 'Pain', 'count': 32},\n",
              " {'drug': 'LYRICA', 'side_effect': 'Fall', 'count': 21},\n",
              " {'drug': 'LYRICA',\n",
              "  'side_effect': 'Intentional product use issue',\n",
              "  'count': 20},\n",
              " {'drug': 'LYRICA', 'side_effect': 'Insomnia', 'count': 19},\n",
              " {'drug': 'LYRICA', 'side_effect': 'Feeling abnormal', 'count': 18},\n",
              " {'drug': 'LYRICA', 'side_effect': 'Drug ineffective', 'count': 18},\n",
              " {'drug': 'LYRICA', 'side_effect': 'Memory impairment', 'count': 17},\n",
              " {'drug': 'LYRICA', 'side_effect': 'Withdrawal syndrome', 'count': 17},\n",
              " {'drug': 'LYRICA', 'side_effect': 'Malaise', 'count': 16},\n",
              " {'drug': 'LYRICA', 'side_effect': 'Intentional product misuse', 'count': 15}]"
            ]
          },
          "metadata": {},
          "execution_count": 29
        }
      ]
    },
    {
      "cell_type": "code",
      "source": [
        "prompt = ChatPromptTemplate.from_messages(\n",
        "    [\n",
        "        (\n",
        "            \"system\",\n",
        "            \"You are a helpful assistant that finds information about common side effects. \"\n",
        "            \"If tools require follow up questions, \"\n",
        "            \"make sure to ask the user for clarification. Make sure to include any \"\n",
        "            \"available options that need to be clarified in the follow up questions \"\n",
        "            \"Do only the things the user specifically requested. \",\n",
        "        ),\n",
        "        MessagesPlaceholder(variable_name=\"chat_history\"),\n",
        "        (\"user\", \"{input}\"),\n",
        "        MessagesPlaceholder(variable_name=\"agent_scratchpad\"),\n",
        "    ]\n",
        ")\n",
        "\n",
        "def _format_chat_history(chat_history: List[Tuple[str, str]]):\n",
        "    buffer = []\n",
        "    for human, ai in chat_history:\n",
        "        buffer.append(HumanMessage(content=human))\n",
        "        buffer.append(AIMessage(content=ai))\n",
        "    return buffer"
      ],
      "metadata": {
        "id": "_BnUZve2Mokm"
      },
      "execution_count": 30,
      "outputs": []
    },
    {
      "cell_type": "code",
      "source": [
        "tools = [get_side_effects]\n",
        "llm_with_tools = llm.bind_tools(tools=tools)\n",
        "\n",
        "agent = (\n",
        "    {\n",
        "        \"input\": lambda x: x[\"input\"],\n",
        "        \"chat_history\": lambda x: _format_chat_history(x[\"chat_history\"])\n",
        "        if x.get(\"chat_history\")\n",
        "        else [],\n",
        "        \"agent_scratchpad\": lambda x: format_to_openai_function_messages(\n",
        "            x[\"intermediate_steps\"]\n",
        "        ),\n",
        "    }\n",
        "    | prompt\n",
        "    | llm_with_tools\n",
        "    | OpenAIToolsAgentOutputParser()\n",
        ")\n",
        "\n",
        "\n",
        "# Add typing for input\n",
        "class AgentInput(BaseModel):\n",
        "    input: str\n",
        "    chat_history: List[Tuple[str, str]] = Field(\n",
        "        ..., extra={\"widget\": {\"type\": \"chat\", \"input\": \"input\", \"output\": \"output\"}}\n",
        "    )\n",
        "\n",
        "\n",
        "class Output(BaseModel):\n",
        "    output: Any\n",
        "\n",
        "\n",
        "agent_executor = AgentExecutor(agent=agent, tools=tools, verbose=True).with_types(\n",
        "    input_type=AgentInput, output_type=Output\n",
        ")"
      ],
      "metadata": {
        "id": "D8icN7K9O6IT"
      },
      "execution_count": 31,
      "outputs": []
    },
    {
      "cell_type": "code",
      "source": [
        "agent_executor.invoke(\n",
        "    {\n",
        "        \"input\": \"What are the most common side effects when using lyrica for people below 35 years old?\"\n",
        "    }\n",
        ")"
      ],
      "metadata": {
        "colab": {
          "base_uri": "https://localhost:8080/"
        },
        "id": "Gi4IvWKOPocK",
        "outputId": "acaff88b-8e1b-44f4-a59e-a8805a4c7bc0"
      },
      "execution_count": 34,
      "outputs": [
        {
          "output_type": "stream",
          "name": "stdout",
          "text": [
            "\n",
            "\n",
            "\u001b[1m> Entering new AgentExecutor chain...\u001b[0m\n",
            "\u001b[32;1m\u001b[1;3m\n",
            "Invoking: `get_side_effects` with `{'min_age': 0, 'max_age': 35, 'drug': 'lyrica'}`\n",
            "\n",
            "\n",
            "\u001b[0mUsing parameters: {'drugs': ['LYRICA', 'LYRICA CR'], 'max_age': 35}\n",
            "\u001b[36;1m\u001b[1;3m[{'drug': 'LYRICA', 'side_effect': 'Sinusitis', 'count': 1}, {'drug': 'LYRICA', 'side_effect': 'Hypoacusis', 'count': 1}, {'drug': 'LYRICA', 'side_effect': 'Fall', 'count': 1}, {'drug': 'LYRICA', 'side_effect': 'Brain injury', 'count': 1}, {'drug': 'LYRICA', 'side_effect': 'Amnesia', 'count': 1}, {'drug': 'LYRICA', 'side_effect': 'Off label use', 'count': 1}, {'drug': 'LYRICA', 'side_effect': 'Impaired quality of life', 'count': 1}, {'drug': 'LYRICA', 'side_effect': 'Somnolence', 'count': 1}, {'drug': 'LYRICA', 'side_effect': 'Drug ineffective for unapproved indication', 'count': 1}]\u001b[0m\u001b[32;1m\u001b[1;3mBased on the available data, the most common side effects of Lyrica for people below 35 years old include sinusitis, hypoacusis, fall, brain injury, amnesia, off-label use, impaired quality of life, somnolence, and drug ineffective for unapproved indication.\u001b[0m\n",
            "\n",
            "\u001b[1m> Finished chain.\u001b[0m\n"
          ]
        },
        {
          "output_type": "execute_result",
          "data": {
            "text/plain": [
              "{'input': 'What are the most common side effects when using lyrica for people below 35 years old?',\n",
              " 'output': 'Based on the available data, the most common side effects of Lyrica for people below 35 years old include sinusitis, hypoacusis, fall, brain injury, amnesia, off-label use, impaired quality of life, somnolence, and drug ineffective for unapproved indication.'}"
            ]
          },
          "metadata": {},
          "execution_count": 34
        }
      ]
    },
    {
      "cell_type": "code",
      "source": [
        "agent_executor.invoke(\n",
        "    {\n",
        "        \"input\": \"What are the most common side effects when for drugs manufactured by acadia?\"\n",
        "    }\n",
        ")\n"
      ],
      "metadata": {
        "id": "8KXmv4hcvKy_"
      },
      "execution_count": null,
      "outputs": []
    },
    {
      "cell_type": "code",
      "source": [],
      "metadata": {
        "id": "_PJqY5fjxslb"
      },
      "execution_count": 17,
      "outputs": []
    }
  ]
}