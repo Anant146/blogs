{
  "nbformat": 4,
  "nbformat_minor": 0,
  "metadata": {
    "colab": {
      "provenance": [],
      "authorship_tag": "ABX9TyNZcy5+A5htaTHSFrbTHxkc",
      "include_colab_link": true
    },
    "kernelspec": {
      "name": "python3",
      "display_name": "Python 3"
    },
    "language_info": {
      "name": "python"
    },
    "widgets": {
      "application/vnd.jupyter.widget-state+json": {
        "26a2205713e44fc7b5f212b23340d6c1": {
          "model_module": "@jupyter-widgets/controls",
          "model_name": "HBoxModel",
          "model_module_version": "1.5.0",
          "state": {
            "_dom_classes": [],
            "_model_module": "@jupyter-widgets/controls",
            "_model_module_version": "1.5.0",
            "_model_name": "HBoxModel",
            "_view_count": null,
            "_view_module": "@jupyter-widgets/controls",
            "_view_module_version": "1.5.0",
            "_view_name": "HBoxView",
            "box_style": "",
            "children": [
              "IPY_MODEL_89bf5394e6d04d25bfc7efcf397726ac",
              "IPY_MODEL_3f1e8ad97b0041f3937e5fa46e8e43ed",
              "IPY_MODEL_dd22796a04364bcab85f5c2babda6316"
            ],
            "layout": "IPY_MODEL_4ed23a50b2b7459e9cef599f7783327e"
          }
        },
        "89bf5394e6d04d25bfc7efcf397726ac": {
          "model_module": "@jupyter-widgets/controls",
          "model_name": "HTMLModel",
          "model_module_version": "1.5.0",
          "state": {
            "_dom_classes": [],
            "_model_module": "@jupyter-widgets/controls",
            "_model_module_version": "1.5.0",
            "_model_name": "HTMLModel",
            "_view_count": null,
            "_view_module": "@jupyter-widgets/controls",
            "_view_module_version": "1.5.0",
            "_view_name": "HTMLView",
            "description": "",
            "description_tooltip": null,
            "layout": "IPY_MODEL_fedc0512d82942cb9e910232de6788b1",
            "placeholder": "​",
            "style": "IPY_MODEL_efaa24d31aea4af895131d59e1bc3900",
            "value": "Loading: 100%"
          }
        },
        "3f1e8ad97b0041f3937e5fa46e8e43ed": {
          "model_module": "@jupyter-widgets/controls",
          "model_name": "FloatProgressModel",
          "model_module_version": "1.5.0",
          "state": {
            "_dom_classes": [],
            "_model_module": "@jupyter-widgets/controls",
            "_model_module_version": "1.5.0",
            "_model_name": "FloatProgressModel",
            "_view_count": null,
            "_view_module": "@jupyter-widgets/controls",
            "_view_module_version": "1.5.0",
            "_view_name": "ProgressView",
            "bar_style": "success",
            "description": "",
            "description_tooltip": null,
            "layout": "IPY_MODEL_a29a64a149844f73a41972f8cec8d3a9",
            "max": 100,
            "min": 0,
            "orientation": "horizontal",
            "style": "IPY_MODEL_73b8c6bbf90c4f6daa63392922023ba7",
            "value": 100
          }
        },
        "dd22796a04364bcab85f5c2babda6316": {
          "model_module": "@jupyter-widgets/controls",
          "model_name": "HTMLModel",
          "model_module_version": "1.5.0",
          "state": {
            "_dom_classes": [],
            "_model_module": "@jupyter-widgets/controls",
            "_model_module_version": "1.5.0",
            "_model_name": "HTMLModel",
            "_view_count": null,
            "_view_module": "@jupyter-widgets/controls",
            "_view_module_version": "1.5.0",
            "_view_name": "HTMLView",
            "description": "",
            "description_tooltip": null,
            "layout": "IPY_MODEL_7b1db015289e48e097aca5a3e1abfb2f",
            "placeholder": "​",
            "style": "IPY_MODEL_3d901941a56d4b47bf26f498b3a26d2e",
            "value": " 100.0/100 [00:15&lt;00:00, 162.32%/s]"
          }
        },
        "4ed23a50b2b7459e9cef599f7783327e": {
          "model_module": "@jupyter-widgets/base",
          "model_name": "LayoutModel",
          "model_module_version": "1.2.0",
          "state": {
            "_model_module": "@jupyter-widgets/base",
            "_model_module_version": "1.2.0",
            "_model_name": "LayoutModel",
            "_view_count": null,
            "_view_module": "@jupyter-widgets/base",
            "_view_module_version": "1.2.0",
            "_view_name": "LayoutView",
            "align_content": null,
            "align_items": null,
            "align_self": null,
            "border": null,
            "bottom": null,
            "display": null,
            "flex": null,
            "flex_flow": null,
            "grid_area": null,
            "grid_auto_columns": null,
            "grid_auto_flow": null,
            "grid_auto_rows": null,
            "grid_column": null,
            "grid_gap": null,
            "grid_row": null,
            "grid_template_areas": null,
            "grid_template_columns": null,
            "grid_template_rows": null,
            "height": null,
            "justify_content": null,
            "justify_items": null,
            "left": null,
            "margin": null,
            "max_height": null,
            "max_width": null,
            "min_height": null,
            "min_width": null,
            "object_fit": null,
            "object_position": null,
            "order": null,
            "overflow": null,
            "overflow_x": null,
            "overflow_y": null,
            "padding": null,
            "right": null,
            "top": null,
            "visibility": null,
            "width": null
          }
        },
        "fedc0512d82942cb9e910232de6788b1": {
          "model_module": "@jupyter-widgets/base",
          "model_name": "LayoutModel",
          "model_module_version": "1.2.0",
          "state": {
            "_model_module": "@jupyter-widgets/base",
            "_model_module_version": "1.2.0",
            "_model_name": "LayoutModel",
            "_view_count": null,
            "_view_module": "@jupyter-widgets/base",
            "_view_module_version": "1.2.0",
            "_view_name": "LayoutView",
            "align_content": null,
            "align_items": null,
            "align_self": null,
            "border": null,
            "bottom": null,
            "display": null,
            "flex": null,
            "flex_flow": null,
            "grid_area": null,
            "grid_auto_columns": null,
            "grid_auto_flow": null,
            "grid_auto_rows": null,
            "grid_column": null,
            "grid_gap": null,
            "grid_row": null,
            "grid_template_areas": null,
            "grid_template_columns": null,
            "grid_template_rows": null,
            "height": null,
            "justify_content": null,
            "justify_items": null,
            "left": null,
            "margin": null,
            "max_height": null,
            "max_width": null,
            "min_height": null,
            "min_width": null,
            "object_fit": null,
            "object_position": null,
            "order": null,
            "overflow": null,
            "overflow_x": null,
            "overflow_y": null,
            "padding": null,
            "right": null,
            "top": null,
            "visibility": null,
            "width": null
          }
        },
        "efaa24d31aea4af895131d59e1bc3900": {
          "model_module": "@jupyter-widgets/controls",
          "model_name": "DescriptionStyleModel",
          "model_module_version": "1.5.0",
          "state": {
            "_model_module": "@jupyter-widgets/controls",
            "_model_module_version": "1.5.0",
            "_model_name": "DescriptionStyleModel",
            "_view_count": null,
            "_view_module": "@jupyter-widgets/base",
            "_view_module_version": "1.2.0",
            "_view_name": "StyleView",
            "description_width": ""
          }
        },
        "a29a64a149844f73a41972f8cec8d3a9": {
          "model_module": "@jupyter-widgets/base",
          "model_name": "LayoutModel",
          "model_module_version": "1.2.0",
          "state": {
            "_model_module": "@jupyter-widgets/base",
            "_model_module_version": "1.2.0",
            "_model_name": "LayoutModel",
            "_view_count": null,
            "_view_module": "@jupyter-widgets/base",
            "_view_module_version": "1.2.0",
            "_view_name": "LayoutView",
            "align_content": null,
            "align_items": null,
            "align_self": null,
            "border": null,
            "bottom": null,
            "display": null,
            "flex": null,
            "flex_flow": null,
            "grid_area": null,
            "grid_auto_columns": null,
            "grid_auto_flow": null,
            "grid_auto_rows": null,
            "grid_column": null,
            "grid_gap": null,
            "grid_row": null,
            "grid_template_areas": null,
            "grid_template_columns": null,
            "grid_template_rows": null,
            "height": null,
            "justify_content": null,
            "justify_items": null,
            "left": null,
            "margin": null,
            "max_height": null,
            "max_width": null,
            "min_height": null,
            "min_width": null,
            "object_fit": null,
            "object_position": null,
            "order": null,
            "overflow": null,
            "overflow_x": null,
            "overflow_y": null,
            "padding": null,
            "right": null,
            "top": null,
            "visibility": null,
            "width": null
          }
        },
        "73b8c6bbf90c4f6daa63392922023ba7": {
          "model_module": "@jupyter-widgets/controls",
          "model_name": "ProgressStyleModel",
          "model_module_version": "1.5.0",
          "state": {
            "_model_module": "@jupyter-widgets/controls",
            "_model_module_version": "1.5.0",
            "_model_name": "ProgressStyleModel",
            "_view_count": null,
            "_view_module": "@jupyter-widgets/base",
            "_view_module_version": "1.2.0",
            "_view_name": "StyleView",
            "bar_color": null,
            "description_width": ""
          }
        },
        "7b1db015289e48e097aca5a3e1abfb2f": {
          "model_module": "@jupyter-widgets/base",
          "model_name": "LayoutModel",
          "model_module_version": "1.2.0",
          "state": {
            "_model_module": "@jupyter-widgets/base",
            "_model_module_version": "1.2.0",
            "_model_name": "LayoutModel",
            "_view_count": null,
            "_view_module": "@jupyter-widgets/base",
            "_view_module_version": "1.2.0",
            "_view_name": "LayoutView",
            "align_content": null,
            "align_items": null,
            "align_self": null,
            "border": null,
            "bottom": null,
            "display": null,
            "flex": null,
            "flex_flow": null,
            "grid_area": null,
            "grid_auto_columns": null,
            "grid_auto_flow": null,
            "grid_auto_rows": null,
            "grid_column": null,
            "grid_gap": null,
            "grid_row": null,
            "grid_template_areas": null,
            "grid_template_columns": null,
            "grid_template_rows": null,
            "height": null,
            "justify_content": null,
            "justify_items": null,
            "left": null,
            "margin": null,
            "max_height": null,
            "max_width": null,
            "min_height": null,
            "min_width": null,
            "object_fit": null,
            "object_position": null,
            "order": null,
            "overflow": null,
            "overflow_x": null,
            "overflow_y": null,
            "padding": null,
            "right": null,
            "top": null,
            "visibility": null,
            "width": null
          }
        },
        "3d901941a56d4b47bf26f498b3a26d2e": {
          "model_module": "@jupyter-widgets/controls",
          "model_name": "DescriptionStyleModel",
          "model_module_version": "1.5.0",
          "state": {
            "_model_module": "@jupyter-widgets/controls",
            "_model_module_version": "1.5.0",
            "_model_name": "DescriptionStyleModel",
            "_view_count": null,
            "_view_module": "@jupyter-widgets/base",
            "_view_module_version": "1.2.0",
            "_view_name": "StyleView",
            "description_width": ""
          }
        },
        "ef83b51ca43f49a3b53c847105a2278a": {
          "model_module": "@jupyter-widgets/controls",
          "model_name": "HBoxModel",
          "model_module_version": "1.5.0",
          "state": {
            "_dom_classes": [],
            "_model_module": "@jupyter-widgets/controls",
            "_model_module_version": "1.5.0",
            "_model_name": "HBoxModel",
            "_view_count": null,
            "_view_module": "@jupyter-widgets/controls",
            "_view_module_version": "1.5.0",
            "_view_name": "HBoxView",
            "box_style": "",
            "children": [
              "IPY_MODEL_901c0b3b0fe346d2973a3ac493cabcd7",
              "IPY_MODEL_8064d9ab7fd946c68cf87123750eece0",
              "IPY_MODEL_00771bde56184c2b8b2cac99cbae7de8"
            ],
            "layout": "IPY_MODEL_3f9d3e905f0f482d97d8e649ca2eca8d"
          }
        },
        "901c0b3b0fe346d2973a3ac493cabcd7": {
          "model_module": "@jupyter-widgets/controls",
          "model_name": "HTMLModel",
          "model_module_version": "1.5.0",
          "state": {
            "_dom_classes": [],
            "_model_module": "@jupyter-widgets/controls",
            "_model_module_version": "1.5.0",
            "_model_name": "HTMLModel",
            "_view_count": null,
            "_view_module": "@jupyter-widgets/controls",
            "_view_module_version": "1.5.0",
            "_view_name": "HTMLView",
            "description": "",
            "description_tooltip": null,
            "layout": "IPY_MODEL_288db53acf384f70b2a1d2834caa3557",
            "placeholder": "​",
            "style": "IPY_MODEL_19c2e51ca73a460a80b3064b2182fea9",
            "value": "Knn: 100%"
          }
        },
        "8064d9ab7fd946c68cf87123750eece0": {
          "model_module": "@jupyter-widgets/controls",
          "model_name": "FloatProgressModel",
          "model_module_version": "1.5.0",
          "state": {
            "_dom_classes": [],
            "_model_module": "@jupyter-widgets/controls",
            "_model_module_version": "1.5.0",
            "_model_name": "FloatProgressModel",
            "_view_count": null,
            "_view_module": "@jupyter-widgets/controls",
            "_view_module_version": "1.5.0",
            "_view_name": "ProgressView",
            "bar_style": "",
            "description": "",
            "description_tooltip": null,
            "layout": "IPY_MODEL_6d36e3e4956e48aaabad35d2bda4147b",
            "max": 100,
            "min": 0,
            "orientation": "horizontal",
            "style": "IPY_MODEL_a7719896b74446859434dfa59529c2ac",
            "value": 100
          }
        },
        "00771bde56184c2b8b2cac99cbae7de8": {
          "model_module": "@jupyter-widgets/controls",
          "model_name": "HTMLModel",
          "model_module_version": "1.5.0",
          "state": {
            "_dom_classes": [],
            "_model_module": "@jupyter-widgets/controls",
            "_model_module_version": "1.5.0",
            "_model_name": "HTMLModel",
            "_view_count": null,
            "_view_module": "@jupyter-widgets/controls",
            "_view_module_version": "1.5.0",
            "_view_name": "HTMLView",
            "description": "",
            "description_tooltip": null,
            "layout": "IPY_MODEL_d4e4a70966f64e5a99761bd13471db01",
            "placeholder": "​",
            "style": "IPY_MODEL_295037592664498b81981b6ced91a01f",
            "value": " 100.0/100 [00:20&lt;00:00, 40.70%/s]"
          }
        },
        "3f9d3e905f0f482d97d8e649ca2eca8d": {
          "model_module": "@jupyter-widgets/base",
          "model_name": "LayoutModel",
          "model_module_version": "1.2.0",
          "state": {
            "_model_module": "@jupyter-widgets/base",
            "_model_module_version": "1.2.0",
            "_model_name": "LayoutModel",
            "_view_count": null,
            "_view_module": "@jupyter-widgets/base",
            "_view_module_version": "1.2.0",
            "_view_name": "LayoutView",
            "align_content": null,
            "align_items": null,
            "align_self": null,
            "border": null,
            "bottom": null,
            "display": null,
            "flex": null,
            "flex_flow": null,
            "grid_area": null,
            "grid_auto_columns": null,
            "grid_auto_flow": null,
            "grid_auto_rows": null,
            "grid_column": null,
            "grid_gap": null,
            "grid_row": null,
            "grid_template_areas": null,
            "grid_template_columns": null,
            "grid_template_rows": null,
            "height": null,
            "justify_content": null,
            "justify_items": null,
            "left": null,
            "margin": null,
            "max_height": null,
            "max_width": null,
            "min_height": null,
            "min_width": null,
            "object_fit": null,
            "object_position": null,
            "order": null,
            "overflow": null,
            "overflow_x": null,
            "overflow_y": null,
            "padding": null,
            "right": null,
            "top": null,
            "visibility": null,
            "width": null
          }
        },
        "288db53acf384f70b2a1d2834caa3557": {
          "model_module": "@jupyter-widgets/base",
          "model_name": "LayoutModel",
          "model_module_version": "1.2.0",
          "state": {
            "_model_module": "@jupyter-widgets/base",
            "_model_module_version": "1.2.0",
            "_model_name": "LayoutModel",
            "_view_count": null,
            "_view_module": "@jupyter-widgets/base",
            "_view_module_version": "1.2.0",
            "_view_name": "LayoutView",
            "align_content": null,
            "align_items": null,
            "align_self": null,
            "border": null,
            "bottom": null,
            "display": null,
            "flex": null,
            "flex_flow": null,
            "grid_area": null,
            "grid_auto_columns": null,
            "grid_auto_flow": null,
            "grid_auto_rows": null,
            "grid_column": null,
            "grid_gap": null,
            "grid_row": null,
            "grid_template_areas": null,
            "grid_template_columns": null,
            "grid_template_rows": null,
            "height": null,
            "justify_content": null,
            "justify_items": null,
            "left": null,
            "margin": null,
            "max_height": null,
            "max_width": null,
            "min_height": null,
            "min_width": null,
            "object_fit": null,
            "object_position": null,
            "order": null,
            "overflow": null,
            "overflow_x": null,
            "overflow_y": null,
            "padding": null,
            "right": null,
            "top": null,
            "visibility": null,
            "width": null
          }
        },
        "19c2e51ca73a460a80b3064b2182fea9": {
          "model_module": "@jupyter-widgets/controls",
          "model_name": "DescriptionStyleModel",
          "model_module_version": "1.5.0",
          "state": {
            "_model_module": "@jupyter-widgets/controls",
            "_model_module_version": "1.5.0",
            "_model_name": "DescriptionStyleModel",
            "_view_count": null,
            "_view_module": "@jupyter-widgets/base",
            "_view_module_version": "1.2.0",
            "_view_name": "StyleView",
            "description_width": ""
          }
        },
        "6d36e3e4956e48aaabad35d2bda4147b": {
          "model_module": "@jupyter-widgets/base",
          "model_name": "LayoutModel",
          "model_module_version": "1.2.0",
          "state": {
            "_model_module": "@jupyter-widgets/base",
            "_model_module_version": "1.2.0",
            "_model_name": "LayoutModel",
            "_view_count": null,
            "_view_module": "@jupyter-widgets/base",
            "_view_module_version": "1.2.0",
            "_view_name": "LayoutView",
            "align_content": null,
            "align_items": null,
            "align_self": null,
            "border": null,
            "bottom": null,
            "display": null,
            "flex": null,
            "flex_flow": null,
            "grid_area": null,
            "grid_auto_columns": null,
            "grid_auto_flow": null,
            "grid_auto_rows": null,
            "grid_column": null,
            "grid_gap": null,
            "grid_row": null,
            "grid_template_areas": null,
            "grid_template_columns": null,
            "grid_template_rows": null,
            "height": null,
            "justify_content": null,
            "justify_items": null,
            "left": null,
            "margin": null,
            "max_height": null,
            "max_width": null,
            "min_height": null,
            "min_width": null,
            "object_fit": null,
            "object_position": null,
            "order": null,
            "overflow": null,
            "overflow_x": null,
            "overflow_y": null,
            "padding": null,
            "right": null,
            "top": null,
            "visibility": null,
            "width": null
          }
        },
        "a7719896b74446859434dfa59529c2ac": {
          "model_module": "@jupyter-widgets/controls",
          "model_name": "ProgressStyleModel",
          "model_module_version": "1.5.0",
          "state": {
            "_model_module": "@jupyter-widgets/controls",
            "_model_module_version": "1.5.0",
            "_model_name": "ProgressStyleModel",
            "_view_count": null,
            "_view_module": "@jupyter-widgets/base",
            "_view_module_version": "1.2.0",
            "_view_name": "StyleView",
            "bar_color": null,
            "description_width": ""
          }
        },
        "d4e4a70966f64e5a99761bd13471db01": {
          "model_module": "@jupyter-widgets/base",
          "model_name": "LayoutModel",
          "model_module_version": "1.2.0",
          "state": {
            "_model_module": "@jupyter-widgets/base",
            "_model_module_version": "1.2.0",
            "_model_name": "LayoutModel",
            "_view_count": null,
            "_view_module": "@jupyter-widgets/base",
            "_view_module_version": "1.2.0",
            "_view_name": "LayoutView",
            "align_content": null,
            "align_items": null,
            "align_self": null,
            "border": null,
            "bottom": null,
            "display": null,
            "flex": null,
            "flex_flow": null,
            "grid_area": null,
            "grid_auto_columns": null,
            "grid_auto_flow": null,
            "grid_auto_rows": null,
            "grid_column": null,
            "grid_gap": null,
            "grid_row": null,
            "grid_template_areas": null,
            "grid_template_columns": null,
            "grid_template_rows": null,
            "height": null,
            "justify_content": null,
            "justify_items": null,
            "left": null,
            "margin": null,
            "max_height": null,
            "max_width": null,
            "min_height": null,
            "min_width": null,
            "object_fit": null,
            "object_position": null,
            "order": null,
            "overflow": null,
            "overflow_x": null,
            "overflow_y": null,
            "padding": null,
            "right": null,
            "top": null,
            "visibility": null,
            "width": null
          }
        },
        "295037592664498b81981b6ced91a01f": {
          "model_module": "@jupyter-widgets/controls",
          "model_name": "DescriptionStyleModel",
          "model_module_version": "1.5.0",
          "state": {
            "_model_module": "@jupyter-widgets/controls",
            "_model_module_version": "1.5.0",
            "_model_name": "DescriptionStyleModel",
            "_view_count": null,
            "_view_module": "@jupyter-widgets/base",
            "_view_module_version": "1.2.0",
            "_view_name": "StyleView",
            "description_width": ""
          }
        }
      }
    }
  },
  "cells": [
    {
      "cell_type": "markdown",
      "metadata": {
        "id": "view-in-github",
        "colab_type": "text"
      },
      "source": [
        "<a href=\"https://colab.research.google.com/github/tomasonjo/blogs/blob/master/llm/ms_graphrag.ipynb\" target=\"_parent\"><img src=\"https://colab.research.google.com/assets/colab-badge.svg\" alt=\"Open In Colab\"/></a>"
      ]
    },
    {
      "cell_type": "code",
      "execution_count": 1,
      "metadata": {
        "colab": {
          "base_uri": "https://localhost:8080/"
        },
        "id": "9K7S1j3FOoi0",
        "outputId": "59c04cb5-bdcd-47bd-908d-413a58b5b0b0"
      },
      "outputs": [
        {
          "output_type": "stream",
          "name": "stdout",
          "text": [
            "\u001b[2K     \u001b[90m━━━━━━━━━━━━━━━━━━━━━━━━━━━━━━━━━━━━━━━━\u001b[0m \u001b[32m2.2/2.2 MB\u001b[0m \u001b[31m14.9 MB/s\u001b[0m eta \u001b[36m0:00:00\u001b[0m\n",
            "\u001b[2K     \u001b[90m━━━━━━━━━━━━━━━━━━━━━━━━━━━━━━━━━━━━━━━━\u001b[0m \u001b[32m202.7/202.7 kB\u001b[0m \u001b[31m8.5 MB/s\u001b[0m eta \u001b[36m0:00:00\u001b[0m\n",
            "\u001b[2K     \u001b[90m━━━━━━━━━━━━━━━━━━━━━━━━━━━━━━━━━━━━━━━━\u001b[0m \u001b[32m45.9/45.9 kB\u001b[0m \u001b[31m2.1 MB/s\u001b[0m eta \u001b[36m0:00:00\u001b[0m\n",
            "\u001b[2K     \u001b[90m━━━━━━━━━━━━━━━━━━━━━━━━━━━━━━━━━━━━━━━━\u001b[0m \u001b[32m293.5/293.5 kB\u001b[0m \u001b[31m14.3 MB/s\u001b[0m eta \u001b[36m0:00:00\u001b[0m\n",
            "\u001b[2K     \u001b[90m━━━━━━━━━━━━━━━━━━━━━━━━━━━━━━━━━━━━━━━━\u001b[0m \u001b[32m1.6/1.6 MB\u001b[0m \u001b[31m20.7 MB/s\u001b[0m eta \u001b[36m0:00:00\u001b[0m\n",
            "\u001b[2K     \u001b[90m━━━━━━━━━━━━━━━━━━━━━━━━━━━━━━━━━━━━━━━━\u001b[0m \u001b[32m975.5/975.5 kB\u001b[0m \u001b[31m19.3 MB/s\u001b[0m eta \u001b[36m0:00:00\u001b[0m\n",
            "\u001b[2K     \u001b[90m━━━━━━━━━━━━━━━━━━━━━━━━━━━━━━━━━━━━━━━━\u001b[0m \u001b[32m332.8/332.8 kB\u001b[0m \u001b[31m17.7 MB/s\u001b[0m eta \u001b[36m0:00:00\u001b[0m\n",
            "\u001b[2K     \u001b[90m━━━━━━━━━━━━━━━━━━━━━━━━━━━━━━━━━━━━━━━━\u001b[0m \u001b[32m127.4/127.4 kB\u001b[0m \u001b[31m7.7 MB/s\u001b[0m eta \u001b[36m0:00:00\u001b[0m\n",
            "\u001b[2K     \u001b[90m━━━━━━━━━━━━━━━━━━━━━━━━━━━━━━━━━━━━━━━━\u001b[0m \u001b[32m327.5/327.5 kB\u001b[0m \u001b[31m8.7 MB/s\u001b[0m eta \u001b[36m0:00:00\u001b[0m\n",
            "\u001b[2K     \u001b[90m━━━━━━━━━━━━━━━━━━━━━━━━━━━━━━━━━━━━━━━━\u001b[0m \u001b[32m1.1/1.1 MB\u001b[0m \u001b[31m26.0 MB/s\u001b[0m eta \u001b[36m0:00:00\u001b[0m\n",
            "\u001b[2K     \u001b[90m━━━━━━━━━━━━━━━━━━━━━━━━━━━━━━━━━━━━━━━━\u001b[0m \u001b[32m49.2/49.2 kB\u001b[0m \u001b[31m4.1 MB/s\u001b[0m eta \u001b[36m0:00:00\u001b[0m\n",
            "\u001b[2K     \u001b[90m━━━━━━━━━━━━━━━━━━━━━━━━━━━━━━━━━━━━━━━━\u001b[0m \u001b[32m145.0/145.0 kB\u001b[0m \u001b[31m5.0 MB/s\u001b[0m eta \u001b[36m0:00:00\u001b[0m\n",
            "\u001b[2K     \u001b[90m━━━━━━━━━━━━━━━━━━━━━━━━━━━━━━━━━━━━━━━━\u001b[0m \u001b[32m75.6/75.6 kB\u001b[0m \u001b[31m5.5 MB/s\u001b[0m eta \u001b[36m0:00:00\u001b[0m\n",
            "\u001b[2K     \u001b[90m━━━━━━━━━━━━━━━━━━━━━━━━━━━━━━━━━━━━━━━━\u001b[0m \u001b[32m77.9/77.9 kB\u001b[0m \u001b[31m5.6 MB/s\u001b[0m eta \u001b[36m0:00:00\u001b[0m\n",
            "\u001b[2K     \u001b[90m━━━━━━━━━━━━━━━━━━━━━━━━━━━━━━━━━━━━━━━━\u001b[0m \u001b[32m58.3/58.3 kB\u001b[0m \u001b[31m2.4 MB/s\u001b[0m eta \u001b[36m0:00:00\u001b[0m\n",
            "\u001b[?25h"
          ]
        }
      ],
      "source": [
        "!pip install --quiet langchain-community langchain-experimental langchain-openai neo4j graphdatascience"
      ]
    },
    {
      "cell_type": "code",
      "source": [
        "import getpass\n",
        "import os\n",
        "\n",
        "os.environ[\"OPENAI_API_KEY\"] = getpass.getpass()"
      ],
      "metadata": {
        "colab": {
          "base_uri": "https://localhost:8080/"
        },
        "id": "0rrFvqkEO9bF",
        "outputId": "54883070-f7a5-4a5e-9f36-b8cade1c2333"
      },
      "execution_count": 2,
      "outputs": [
        {
          "name": "stdout",
          "output_type": "stream",
          "text": [
            "··········\n"
          ]
        }
      ]
    },
    {
      "cell_type": "code",
      "source": [
        "from langchain_community.graphs import Neo4jGraph\n",
        "\n",
        "os.environ[\"NEO4J_URI\"] = \"bolt://44.202.208.177:7687\"\n",
        "os.environ[\"NEO4J_USERNAME\"] = \"neo4j\"\n",
        "os.environ[\"NEO4J_PASSWORD\"] = \"mast-codes-trails\"\n",
        "\n",
        "graph = Neo4jGraph()"
      ],
      "metadata": {
        "id": "wbCXrSxUPTIy"
      },
      "execution_count": 3,
      "outputs": []
    },
    {
      "cell_type": "code",
      "source": [
        "import pandas as pd\n",
        "\n",
        "news = pd.read_csv(\"https://raw.githubusercontent.com/tomasonjo/blog-datasets/main/news_articles.csv\")\n",
        "news.head()"
      ],
      "metadata": {
        "colab": {
          "base_uri": "https://localhost:8080/",
          "height": 206
        },
        "id": "VKwjKqPyP78d",
        "outputId": "fca879dd-240f-47dc-bbdd-572e9e7d6304"
      },
      "execution_count": 4,
      "outputs": [
        {
          "output_type": "execute_result",
          "data": {
            "text/plain": [
              "                                               title  \\\n",
              "0                             Chevron: Best Of Breed   \n",
              "1       FirstEnergy (NYSE:FE) Posts Earnings Results   \n",
              "2  Dáil almost suspended after Sinn Féin TD put p...   \n",
              "3  Epic’s latest tool can animate hyperrealistic ...   \n",
              "4  EU to Ban Huawei, ZTE from Internal Commission...   \n",
              "\n",
              "                                  date  \\\n",
              "0  2031-04-06T01:36:32.000000000+00:00   \n",
              "1  2030-04-29T06:55:28.000000000+00:00   \n",
              "2  2023-06-15T14:32:11.000000000+00:00   \n",
              "3  2023-06-15T14:00:00.000000000+00:00   \n",
              "4  2023-06-15T13:50:00.000000000+00:00   \n",
              "\n",
              "                                                text  \n",
              "0  JHVEPhoto Like many companies in the O&G secto...  \n",
              "1  FirstEnergy (NYSE:FE – Get Rating) posted its ...  \n",
              "2  The Dáil was almost suspended on Thursday afte...  \n",
              "3  Today, Epic is releasing a new tool designed t...  \n",
              "4  The European Commission is planning to ban equ...  "
            ],
            "text/html": [
              "\n",
              "  <div id=\"df-bddd5105-baab-4cf4-89b6-134522c7d753\" class=\"colab-df-container\">\n",
              "    <div>\n",
              "<style scoped>\n",
              "    .dataframe tbody tr th:only-of-type {\n",
              "        vertical-align: middle;\n",
              "    }\n",
              "\n",
              "    .dataframe tbody tr th {\n",
              "        vertical-align: top;\n",
              "    }\n",
              "\n",
              "    .dataframe thead th {\n",
              "        text-align: right;\n",
              "    }\n",
              "</style>\n",
              "<table border=\"1\" class=\"dataframe\">\n",
              "  <thead>\n",
              "    <tr style=\"text-align: right;\">\n",
              "      <th></th>\n",
              "      <th>title</th>\n",
              "      <th>date</th>\n",
              "      <th>text</th>\n",
              "    </tr>\n",
              "  </thead>\n",
              "  <tbody>\n",
              "    <tr>\n",
              "      <th>0</th>\n",
              "      <td>Chevron: Best Of Breed</td>\n",
              "      <td>2031-04-06T01:36:32.000000000+00:00</td>\n",
              "      <td>JHVEPhoto Like many companies in the O&amp;G secto...</td>\n",
              "    </tr>\n",
              "    <tr>\n",
              "      <th>1</th>\n",
              "      <td>FirstEnergy (NYSE:FE) Posts Earnings Results</td>\n",
              "      <td>2030-04-29T06:55:28.000000000+00:00</td>\n",
              "      <td>FirstEnergy (NYSE:FE – Get Rating) posted its ...</td>\n",
              "    </tr>\n",
              "    <tr>\n",
              "      <th>2</th>\n",
              "      <td>Dáil almost suspended after Sinn Féin TD put p...</td>\n",
              "      <td>2023-06-15T14:32:11.000000000+00:00</td>\n",
              "      <td>The Dáil was almost suspended on Thursday afte...</td>\n",
              "    </tr>\n",
              "    <tr>\n",
              "      <th>3</th>\n",
              "      <td>Epic’s latest tool can animate hyperrealistic ...</td>\n",
              "      <td>2023-06-15T14:00:00.000000000+00:00</td>\n",
              "      <td>Today, Epic is releasing a new tool designed t...</td>\n",
              "    </tr>\n",
              "    <tr>\n",
              "      <th>4</th>\n",
              "      <td>EU to Ban Huawei, ZTE from Internal Commission...</td>\n",
              "      <td>2023-06-15T13:50:00.000000000+00:00</td>\n",
              "      <td>The European Commission is planning to ban equ...</td>\n",
              "    </tr>\n",
              "  </tbody>\n",
              "</table>\n",
              "</div>\n",
              "    <div class=\"colab-df-buttons\">\n",
              "\n",
              "  <div class=\"colab-df-container\">\n",
              "    <button class=\"colab-df-convert\" onclick=\"convertToInteractive('df-bddd5105-baab-4cf4-89b6-134522c7d753')\"\n",
              "            title=\"Convert this dataframe to an interactive table.\"\n",
              "            style=\"display:none;\">\n",
              "\n",
              "  <svg xmlns=\"http://www.w3.org/2000/svg\" height=\"24px\" viewBox=\"0 -960 960 960\">\n",
              "    <path d=\"M120-120v-720h720v720H120Zm60-500h600v-160H180v160Zm220 220h160v-160H400v160Zm0 220h160v-160H400v160ZM180-400h160v-160H180v160Zm440 0h160v-160H620v160ZM180-180h160v-160H180v160Zm440 0h160v-160H620v160Z\"/>\n",
              "  </svg>\n",
              "    </button>\n",
              "\n",
              "  <style>\n",
              "    .colab-df-container {\n",
              "      display:flex;\n",
              "      gap: 12px;\n",
              "    }\n",
              "\n",
              "    .colab-df-convert {\n",
              "      background-color: #E8F0FE;\n",
              "      border: none;\n",
              "      border-radius: 50%;\n",
              "      cursor: pointer;\n",
              "      display: none;\n",
              "      fill: #1967D2;\n",
              "      height: 32px;\n",
              "      padding: 0 0 0 0;\n",
              "      width: 32px;\n",
              "    }\n",
              "\n",
              "    .colab-df-convert:hover {\n",
              "      background-color: #E2EBFA;\n",
              "      box-shadow: 0px 1px 2px rgba(60, 64, 67, 0.3), 0px 1px 3px 1px rgba(60, 64, 67, 0.15);\n",
              "      fill: #174EA6;\n",
              "    }\n",
              "\n",
              "    .colab-df-buttons div {\n",
              "      margin-bottom: 4px;\n",
              "    }\n",
              "\n",
              "    [theme=dark] .colab-df-convert {\n",
              "      background-color: #3B4455;\n",
              "      fill: #D2E3FC;\n",
              "    }\n",
              "\n",
              "    [theme=dark] .colab-df-convert:hover {\n",
              "      background-color: #434B5C;\n",
              "      box-shadow: 0px 1px 3px 1px rgba(0, 0, 0, 0.15);\n",
              "      filter: drop-shadow(0px 1px 2px rgba(0, 0, 0, 0.3));\n",
              "      fill: #FFFFFF;\n",
              "    }\n",
              "  </style>\n",
              "\n",
              "    <script>\n",
              "      const buttonEl =\n",
              "        document.querySelector('#df-bddd5105-baab-4cf4-89b6-134522c7d753 button.colab-df-convert');\n",
              "      buttonEl.style.display =\n",
              "        google.colab.kernel.accessAllowed ? 'block' : 'none';\n",
              "\n",
              "      async function convertToInteractive(key) {\n",
              "        const element = document.querySelector('#df-bddd5105-baab-4cf4-89b6-134522c7d753');\n",
              "        const dataTable =\n",
              "          await google.colab.kernel.invokeFunction('convertToInteractive',\n",
              "                                                    [key], {});\n",
              "        if (!dataTable) return;\n",
              "\n",
              "        const docLinkHtml = 'Like what you see? Visit the ' +\n",
              "          '<a target=\"_blank\" href=https://colab.research.google.com/notebooks/data_table.ipynb>data table notebook</a>'\n",
              "          + ' to learn more about interactive tables.';\n",
              "        element.innerHTML = '';\n",
              "        dataTable['output_type'] = 'display_data';\n",
              "        await google.colab.output.renderOutput(dataTable, element);\n",
              "        const docLink = document.createElement('div');\n",
              "        docLink.innerHTML = docLinkHtml;\n",
              "        element.appendChild(docLink);\n",
              "      }\n",
              "    </script>\n",
              "  </div>\n",
              "\n",
              "\n",
              "<div id=\"df-8e9a9ce0-5861-4b2e-8e60-43bf6582fb6f\">\n",
              "  <button class=\"colab-df-quickchart\" onclick=\"quickchart('df-8e9a9ce0-5861-4b2e-8e60-43bf6582fb6f')\"\n",
              "            title=\"Suggest charts\"\n",
              "            style=\"display:none;\">\n",
              "\n",
              "<svg xmlns=\"http://www.w3.org/2000/svg\" height=\"24px\"viewBox=\"0 0 24 24\"\n",
              "     width=\"24px\">\n",
              "    <g>\n",
              "        <path d=\"M19 3H5c-1.1 0-2 .9-2 2v14c0 1.1.9 2 2 2h14c1.1 0 2-.9 2-2V5c0-1.1-.9-2-2-2zM9 17H7v-7h2v7zm4 0h-2V7h2v10zm4 0h-2v-4h2v4z\"/>\n",
              "    </g>\n",
              "</svg>\n",
              "  </button>\n",
              "\n",
              "<style>\n",
              "  .colab-df-quickchart {\n",
              "      --bg-color: #E8F0FE;\n",
              "      --fill-color: #1967D2;\n",
              "      --hover-bg-color: #E2EBFA;\n",
              "      --hover-fill-color: #174EA6;\n",
              "      --disabled-fill-color: #AAA;\n",
              "      --disabled-bg-color: #DDD;\n",
              "  }\n",
              "\n",
              "  [theme=dark] .colab-df-quickchart {\n",
              "      --bg-color: #3B4455;\n",
              "      --fill-color: #D2E3FC;\n",
              "      --hover-bg-color: #434B5C;\n",
              "      --hover-fill-color: #FFFFFF;\n",
              "      --disabled-bg-color: #3B4455;\n",
              "      --disabled-fill-color: #666;\n",
              "  }\n",
              "\n",
              "  .colab-df-quickchart {\n",
              "    background-color: var(--bg-color);\n",
              "    border: none;\n",
              "    border-radius: 50%;\n",
              "    cursor: pointer;\n",
              "    display: none;\n",
              "    fill: var(--fill-color);\n",
              "    height: 32px;\n",
              "    padding: 0;\n",
              "    width: 32px;\n",
              "  }\n",
              "\n",
              "  .colab-df-quickchart:hover {\n",
              "    background-color: var(--hover-bg-color);\n",
              "    box-shadow: 0 1px 2px rgba(60, 64, 67, 0.3), 0 1px 3px 1px rgba(60, 64, 67, 0.15);\n",
              "    fill: var(--button-hover-fill-color);\n",
              "  }\n",
              "\n",
              "  .colab-df-quickchart-complete:disabled,\n",
              "  .colab-df-quickchart-complete:disabled:hover {\n",
              "    background-color: var(--disabled-bg-color);\n",
              "    fill: var(--disabled-fill-color);\n",
              "    box-shadow: none;\n",
              "  }\n",
              "\n",
              "  .colab-df-spinner {\n",
              "    border: 2px solid var(--fill-color);\n",
              "    border-color: transparent;\n",
              "    border-bottom-color: var(--fill-color);\n",
              "    animation:\n",
              "      spin 1s steps(1) infinite;\n",
              "  }\n",
              "\n",
              "  @keyframes spin {\n",
              "    0% {\n",
              "      border-color: transparent;\n",
              "      border-bottom-color: var(--fill-color);\n",
              "      border-left-color: var(--fill-color);\n",
              "    }\n",
              "    20% {\n",
              "      border-color: transparent;\n",
              "      border-left-color: var(--fill-color);\n",
              "      border-top-color: var(--fill-color);\n",
              "    }\n",
              "    30% {\n",
              "      border-color: transparent;\n",
              "      border-left-color: var(--fill-color);\n",
              "      border-top-color: var(--fill-color);\n",
              "      border-right-color: var(--fill-color);\n",
              "    }\n",
              "    40% {\n",
              "      border-color: transparent;\n",
              "      border-right-color: var(--fill-color);\n",
              "      border-top-color: var(--fill-color);\n",
              "    }\n",
              "    60% {\n",
              "      border-color: transparent;\n",
              "      border-right-color: var(--fill-color);\n",
              "    }\n",
              "    80% {\n",
              "      border-color: transparent;\n",
              "      border-right-color: var(--fill-color);\n",
              "      border-bottom-color: var(--fill-color);\n",
              "    }\n",
              "    90% {\n",
              "      border-color: transparent;\n",
              "      border-bottom-color: var(--fill-color);\n",
              "    }\n",
              "  }\n",
              "</style>\n",
              "\n",
              "  <script>\n",
              "    async function quickchart(key) {\n",
              "      const quickchartButtonEl =\n",
              "        document.querySelector('#' + key + ' button');\n",
              "      quickchartButtonEl.disabled = true;  // To prevent multiple clicks.\n",
              "      quickchartButtonEl.classList.add('colab-df-spinner');\n",
              "      try {\n",
              "        const charts = await google.colab.kernel.invokeFunction(\n",
              "            'suggestCharts', [key], {});\n",
              "      } catch (error) {\n",
              "        console.error('Error during call to suggestCharts:', error);\n",
              "      }\n",
              "      quickchartButtonEl.classList.remove('colab-df-spinner');\n",
              "      quickchartButtonEl.classList.add('colab-df-quickchart-complete');\n",
              "    }\n",
              "    (() => {\n",
              "      let quickchartButtonEl =\n",
              "        document.querySelector('#df-8e9a9ce0-5861-4b2e-8e60-43bf6582fb6f button');\n",
              "      quickchartButtonEl.style.display =\n",
              "        google.colab.kernel.accessAllowed ? 'block' : 'none';\n",
              "    })();\n",
              "  </script>\n",
              "</div>\n",
              "\n",
              "    </div>\n",
              "  </div>\n"
            ],
            "application/vnd.google.colaboratory.intrinsic+json": {
              "type": "dataframe",
              "variable_name": "news",
              "summary": "{\n  \"name\": \"news\",\n  \"rows\": 2500,\n  \"fields\": [\n    {\n      \"column\": \"title\",\n      \"properties\": {\n        \"dtype\": \"string\",\n        \"num_unique_values\": 2282,\n        \"samples\": [\n          \"Golden Cross Appears Before NetApp Investors\",\n          \"Li Auto\\u2019s EV Sales Can Be A Catalyst. The Case to Buy Stock Now.\",\n          \"SMITH MARION COMMENTS ON RECENT HUD GRANT FOR HOUSING AUTHORITIES\"\n        ],\n        \"semantic_type\": \"\",\n        \"description\": \"\"\n      }\n    },\n    {\n      \"column\": \"date\",\n      \"properties\": {\n        \"dtype\": \"object\",\n        \"num_unique_values\": 1606,\n        \"samples\": [\n          \"2023-06-14T19:43:48.000000000+00:00\",\n          \"2023-06-14T03:31:01.000000000+00:00\",\n          \"2023-06-15T08:59:25.000000000+00:00\"\n        ],\n        \"semantic_type\": \"\",\n        \"description\": \"\"\n      }\n    },\n    {\n      \"column\": \"text\",\n      \"properties\": {\n        \"dtype\": \"string\",\n        \"num_unique_values\": 2472,\n        \"samples\": [\n          \"/EIN News/ -- Fremont, California, June 14, 2023 (GLOBE NEWSWIRE) -- Omicsveu, The Spatial Multiplex Multiomics Company, announced introduction of fully automated system for Hyperion\\u2019s multiplex immunohistochemistry (IHC) protocols developed and validated in collaboration with Scientists at The University of Sydney's prestigious Charles Perkins Centre, Sydney, Australia.\\nTissue multiplexing technology has changed proteomics profiling, allowing for the simultaneous detection of multiple protein markers from a single tissue section. However, current technologies for multiplex-proteomics involve manual steps that are time-consuming, labor-intensive, expensive, and inconsistent.\\nNanoVIP - an automated, slide-based staining system - by Omicsveu using manufacturers supplied protocols and reagents, reduced hands-on time of the Hyperion protocol to less than 20 minutes and reagent costs by 80% - as it only uses 25\\u00b5L of antibody for a single sample. Further NanoVIP plug & play system doesn\\u2019t require highly skilled operators to get optimum results. Results are summarized in the table below.\\nAdrian Smith, Technical Director at Sydney Cytometry (Centenary Institute and The University of Sydney), was so impressed with NanoVIP for the automated preparation of tissue sample slides. \\u201cWe are very impressed with the instrument (and the support!), and I'm excited to see what our researchers at Sydney Cytometry will do with it!\\u201d said Dr. Smith.\\nResults are summarized in the table below.\\nAbout Omicsveu\\nOmicsveu is a special-purpose spinoff of BioGenex, designs, develops, and commercializes, fully automated plug & play, slide-staining systems. Our innovative technologies are affordable and accessible, to help accelerate developments of new diagnostics and therapeutics leading to improved disease outcome. Our systems incorporate easy to use innovative automation, ready-to-use reagents, and optimized protocols, generating reliable, consistent, and reproducible results. For more information, please visit our website at www.omicsveu.com, or connect with us on LinkedIn and Twitter.\\nContact: \\n\\nEmail: info@omicsveu.com\",\n          \"The lawsuit brought by the United States Securities and Exchange Commission (SEC) against Coinbase Global on June 6 is raising questions about the crypto exchange's approach to managing the ongoing crypto crackdown.\\nIn a recent interview with Cointelegraph, venture capitalist Kevin O'Leary criticized Coinbase's strategy to address the current regulatory environment. \\\"Its market cap was decimated [by the SEC suit], and the management there seems to want to keep taking on the SEC over and over and over again,\\\" said the serial entrepreneur in reference to the 17.4% drop in Coinbase's stock last week. O'Leary continued:\\n\\\"I would think at this point, if you\\u2019re a shareholder in that company, you may want to make some changes. I don\\u2019t think this is working as a strategy [\\u2026] I am not optimistic for the management team there [...] I think investors are done with this.\\\"\\nCoinbase has spent months campaigning for clearer crypto regulations in the U.S. amid increasing regulatory scrutiny. In a recent interview with The Wall Street Journal, Coinbase CEO Brian Armstrong said the exchange met with the SEC over 30 times in the past year without receiving any feedback on a path to compliance.\\nStock prices dropping due to regulatory activity, such as the SEC\\u2019s proceeding against Coinbase, are often used as a template for private claims of alleged damages, as long as it carries materiality of misleading statements or omissions, Mark Kornfeld, a securities and regulatory attorney, told Cointelegraph. \\\"The devil, as always, is in the details as to whether what is alleged is proven to have occurred,\\\" Kornfeld noted.\\nAccording to corporate and securities lawyer Roland Chase, legal claims from harmed investors against Coinbase and its management could range from \\\"whether the legal analysis that Coinbase conducts every time it considers a crypto asset for listing is adequate\\\" to whether its risk factor disclosure to investors was adequate.\\n\\\"If it [token's listing analysis] is not adequate, and management knew that, or was reckless in not knowing it, there may be a federal securities law claim against Coinbase and its management,\\\" Chase continued.\\nCoinbase to have reviewed over a thousand assets, with 90% being rejected. \\\"We thought some of them could be securities or we had other concerns about them. We really only list a very conservative small number of the assets out there,\\\" Armstrong told WSJ.\\nRegarding its disclosure to investors, Coinbase's filing with regulators in 2021 seemed to predict what it was likely to encounter in the future. The risks section of the filing reads:\\n\\\"A particular crypto asset\\u2019s status as a \\u201csecurity\\u201d in any relevant jurisdiction is subject to a high degree of uncertainty and if we are unable to properly characterize a crypto asset, we may be subject to regulatory scrutiny, investigations, fines, and other penalties, which may adversely affect our business, operating results, and financial condition.\\\"\\nA legal dispute with regulators could take years in court and cost the exchange significant money. Ripple, which is currently in litigation over XRP's alleged security status, has spent over $200 million defending against the SEC lawsuit since 2020.\\nCointelegraph reached out to Coinbase, but did not receive a response.\",\n          \"Informatica Corp. said today it will acquire Privitar Ltd., a London-based maker of access controls and remediation for data privacy and security, for an undisclosed amount.\\nThe company said it plans to incorporate Privitar\\u2019s technology into its Intelligent Data Management Cloud, a platform for analyzing and managing data across large enterprises. The acquisition is expected to be completed in the third quarter of this year.\\nPrivitar\\u2019s software enables businesses to support self-service access to data with collaborative workflows, regulatory controls and cross-platform security enforcement defined by a single policy. It claims to be the first vendor to apply privacy controls within complex data pipelines.\\nThe company provides auditable and compliant access to data assets that conforms to major regulations including the European Union\\u2019s General Data Protection Regulation, the California Consumer Privacy Act and Canada\\u2019s Personal Information Protection and Electronic Documents Act.\\nInformatica already provides data privacy and protection capabilities through its cloud data governance, cataloging and cloud data masking services that include policy management, data classification, sensitive data discovery, data lineage for tracking movement, and data masking for risk exposure remediation, a spokesman said. \\u201cPrivitar brings an additional and complementary level of management granularity through access control definition and policy remediation that deepen Informatica\\u2019s abilities to meet today\\u2019s modern data governance use cases,\\u201d he said.\\n\\u201cData governance and responsible use of data is a growing priority for large businesses, but too often requires trading off agility and self-service,\\u201d Informatica Chief Executive Amit Walia (pictured) said in a statement.\\nPrivitar already has numerous partnerships and a presence on cloud marketplaces. No immediate changes to those arrangements are planned, the spokesman said. \\u201cThe long-term opportunity is to provide Privitar\\u2019s capabilities through Informatica channels as well,\\u201d he said.\\nFor the immediate future, Privitar will remain a standalone product but the long-term plan is to integrate with IDMC, the spokesman said. Pricing has not been determined but the Privitar service will likely carry consumption-based pricing.\\nFounded in 2014, Privitar raised more than $150 million from 17 investors, the most recent funding round an $87 million Series C in 2020. At that time the company was valued at $400 million. Investors include HSBC Venture Capital Coverage Group, Citi Ventures Inc., Accel Partners LP and Salesforce Ventures LLC.\\nThe downward pressure on valuations created by the broad selloff in tech stocks over the past year has made startups more attractive to well-funded firms such as Informatica, which acquired 15 firms over its history, including metadata management software provider Compact Solutions LLC and machine learning technology provider GreenBay Technologies Inc., both in 2020.\\nPhoto: SiliconAngle\\nA message from John Furrier, co-founder of SiliconANGLE:\\nYour vote of support is important to us and it helps us keep the content FREE.\\nOne-click below supports our mission to provide free, deep and relevant content.\\nJoin our community on YouTube\\nJoin the community that includes more than 15,000 #CubeAlumni experts, including Amazon.com CEO Andy Jassy, Dell Technologies founder and CEO Michael Dell, Intel CEO Pat Gelsinger and many more luminaries and experts.\\n\\u201cTheCUBE is an important partner to the industry. You guys really are a part of our events and we really appreciate you coming and I know people appreciate the content you create as well\\u201d \\u2013 Andy Jassy\\nTHANK YOU\"\n        ],\n        \"semantic_type\": \"\",\n        \"description\": \"\"\n      }\n    }\n  ]\n}"
            }
          },
          "metadata": {},
          "execution_count": 4
        }
      ]
    },
    {
      "cell_type": "markdown",
      "source": [
        "# Entity extraction"
      ],
      "metadata": {
        "id": "-tBXEXvRjQVL"
      }
    },
    {
      "cell_type": "code",
      "source": [
        "from langchain_experimental.graph_transformers import LLMGraphTransformer\n",
        "from langchain_openai import ChatOpenAI\n",
        "\n",
        "llm = ChatOpenAI(temperature=0, model_name=\"gpt-4o\")\n",
        "\n",
        "llm_transformer = LLMGraphTransformer(llm=llm, node_properties=[\"description\"])"
      ],
      "metadata": {
        "id": "INfxdQRCPxyW"
      },
      "execution_count": 5,
      "outputs": []
    },
    {
      "cell_type": "code",
      "source": [
        "from typing import List\n",
        "from langchain_community.graphs.graph_document import GraphDocument\n",
        "from langchain_core.documents import Document\n",
        "\n",
        "def process_text(text: str) -> List[GraphDocument]:\n",
        "    doc = Document(page_content=text)\n",
        "    return llm_transformer.convert_to_graph_documents([doc])"
      ],
      "metadata": {
        "id": "doaut5qvTr36"
      },
      "execution_count": 6,
      "outputs": []
    },
    {
      "cell_type": "code",
      "source": [
        "from concurrent.futures import ThreadPoolExecutor, as_completed\n",
        "from tqdm import tqdm  # Import tqdm for progress tracking\n",
        "\n",
        "MAX_WORKERS = 10\n",
        "NUM_ARTICLES = 250\n",
        "graph_documents = []\n",
        "\n",
        "with ThreadPoolExecutor(max_workers=MAX_WORKERS) as executor:\n",
        "    # Submitting all tasks and creating a list of future objects\n",
        "    futures = [\n",
        "        executor.submit(process_text, f\"{row['title']} {row['text']}\")\n",
        "        for i, row in news.head(NUM_ARTICLES).iterrows()\n",
        "    ]\n",
        "\n",
        "    for future in tqdm(\n",
        "        as_completed(futures), total=len(futures), desc=\"Processing documents\"\n",
        "    ):\n",
        "        graph_document = future.result()\n",
        "        graph_documents.extend(graph_document)\n",
        "\n",
        "graph.add_graph_documents(\n",
        "    graph_documents,\n",
        "    baseEntityLabel=True,\n",
        "    include_source=True\n",
        ")"
      ],
      "metadata": {
        "colab": {
          "base_uri": "https://localhost:8080/"
        },
        "id": "vy9GaXqXRrQu",
        "outputId": "f9bac2ee-bcb8-4ae0-9a1e-ae2976a3b235"
      },
      "execution_count": 7,
      "outputs": [
        {
          "output_type": "stream",
          "name": "stderr",
          "text": [
            "Processing documents: 100%|██████████| 250/250 [02:42<00:00,  1.54it/s]\n"
          ]
        }
      ]
    },
    {
      "cell_type": "code",
      "source": [
        "graph.query(\"\"\"\n",
        "MATCH (n:`__Entity__`)\n",
        "RETURN count(*) AS entity_count,\n",
        "       count(n.description) AS non_null_descriptions\n",
        "\"\"\")"
      ],
      "metadata": {
        "colab": {
          "base_uri": "https://localhost:8080/"
        },
        "id": "yhOk0M-6a-a0",
        "outputId": "7b03d23a-cfd7-4261-e46a-5b4fc4bfa576"
      },
      "execution_count": 8,
      "outputs": [
        {
          "output_type": "execute_result",
          "data": {
            "text/plain": [
              "[{'entity_count': 1949, 'non_null_descriptions': 713}]"
            ]
          },
          "metadata": {},
          "execution_count": 8
        }
      ]
    },
    {
      "cell_type": "code",
      "source": [
        "from langchain_community.vectorstores import Neo4jVector\n",
        "from langchain_openai import OpenAIEmbeddings\n",
        "\n",
        "vector = Neo4jVector.from_existing_graph(\n",
        "    OpenAIEmbeddings(),\n",
        "    node_label='__Entity__',\n",
        "    text_node_properties=['id', 'description'],\n",
        "    embedding_node_property='embedding'\n",
        ")"
      ],
      "metadata": {
        "id": "LYkKe0XOWPTw",
        "outputId": "90977491-aa18-41f4-e24a-cf25a59234b9",
        "colab": {
          "base_uri": "https://localhost:8080/"
        }
      },
      "execution_count": 9,
      "outputs": [
        {
          "output_type": "stream",
          "name": "stderr",
          "text": [
            "WARNING:neo4j.notifications:Received notification from DBMS server: {severity: WARNING} {code: Neo.ClientNotification.Statement.FeatureDeprecationWarning} {category: DEPRECATION} {title: This feature is deprecated and will be removed in future versions.} {description: The query used a deprecated procedure. ('db.create.setVectorProperty' has been replaced by 'db.create.setNodeVectorProperty')} {position: line: 1, column: 72, offset: 71} for query: \"UNWIND $data AS row MATCH (n:`__Entity__`) WHERE elementId(n) = row.id CALL db.create.setVectorProperty(n, 'embedding', row.embedding) YIELD node RETURN count(*)\"\n",
            "WARNING:neo4j.notifications:Received notification from DBMS server: {severity: WARNING} {code: Neo.ClientNotification.Statement.FeatureDeprecationWarning} {category: DEPRECATION} {title: This feature is deprecated and will be removed in future versions.} {description: The query used a deprecated procedure. ('db.create.setVectorProperty' has been replaced by 'db.create.setNodeVectorProperty')} {position: line: 1, column: 72, offset: 71} for query: \"UNWIND $data AS row MATCH (n:`__Entity__`) WHERE elementId(n) = row.id CALL db.create.setVectorProperty(n, 'embedding', row.embedding) YIELD node RETURN count(*)\"\n"
          ]
        }
      ]
    },
    {
      "cell_type": "markdown",
      "source": [
        "# Entity resolution"
      ],
      "metadata": {
        "id": "FVphl4p5jIZN"
      }
    },
    {
      "cell_type": "code",
      "source": [
        "from graphdatascience import GraphDataScience\n",
        "# project graph\n",
        "\n",
        "gds = GraphDataScience(\n",
        "    os.environ[\"NEO4J_URI\"],\n",
        "    auth=(os.environ[\"NEO4J_USERNAME\"], os.environ[\"NEO4J_PASSWORD\"])\n",
        ")"
      ],
      "metadata": {
        "id": "3L4VqsAmYspT",
        "outputId": "c05a599a-5974-4594-fc57-eff3c72e36ed",
        "colab": {
          "base_uri": "https://localhost:8080/"
        }
      },
      "execution_count": 10,
      "outputs": [
        {
          "output_type": "stream",
          "name": "stderr",
          "text": [
            "WARNING:neo4j.notifications:Received notification from DBMS server: {severity: WARNING} {code: Neo.ClientNotification.Statement.FeatureDeprecationWarning} {category: DEPRECATION} {title: This feature is deprecated and will be removed in future versions.} {description: The query used a deprecated field from a procedure. ('advertisedListenAddress' returned by 'gds.debug.arrow' is deprecated.)} {position: line: 1, column: 1, offset: 0} for query: 'CALL gds.debug.arrow()'\n",
            "WARNING:neo4j.notifications:Received notification from DBMS server: {severity: WARNING} {code: Neo.ClientNotification.Statement.FeatureDeprecationWarning} {category: DEPRECATION} {title: This feature is deprecated and will be removed in future versions.} {description: The query used a deprecated field from a procedure. ('serverLocation' returned by 'gds.debug.arrow' is deprecated.)} {position: line: 1, column: 1, offset: 0} for query: 'CALL gds.debug.arrow()'\n"
          ]
        }
      ]
    },
    {
      "cell_type": "code",
      "source": [
        "G, result = gds.graph.project(\n",
        "    \"entities\",                   #  Graph name\n",
        "    \"__Entity__\",                 #  Node projection\n",
        "    \"*\",                          #  Relationship projection\n",
        "    nodeProperties=[\"embedding\"]  #  Configuration parameters\n",
        ")"
      ],
      "metadata": {
        "id": "nJpLldiUdpsO",
        "outputId": "904ebd19-c18c-48f3-bfca-78c77fcf5561",
        "colab": {
          "base_uri": "https://localhost:8080/",
          "height": 49,
          "referenced_widgets": [
            "26a2205713e44fc7b5f212b23340d6c1",
            "89bf5394e6d04d25bfc7efcf397726ac",
            "3f1e8ad97b0041f3937e5fa46e8e43ed",
            "dd22796a04364bcab85f5c2babda6316",
            "4ed23a50b2b7459e9cef599f7783327e",
            "fedc0512d82942cb9e910232de6788b1",
            "efaa24d31aea4af895131d59e1bc3900",
            "a29a64a149844f73a41972f8cec8d3a9",
            "73b8c6bbf90c4f6daa63392922023ba7",
            "7b1db015289e48e097aca5a3e1abfb2f",
            "3d901941a56d4b47bf26f498b3a26d2e"
          ]
        }
      },
      "execution_count": 11,
      "outputs": [
        {
          "output_type": "display_data",
          "data": {
            "text/plain": [
              "Loading:   0%|          | 0/100 [00:00<?, ?%/s]"
            ],
            "application/vnd.jupyter.widget-view+json": {
              "version_major": 2,
              "version_minor": 0,
              "model_id": "26a2205713e44fc7b5f212b23340d6c1"
            }
          },
          "metadata": {}
        }
      ]
    },
    {
      "cell_type": "code",
      "source": [
        "similarity_threshold = 0.95\n",
        "\n",
        "gds.knn.mutate(\n",
        "  G,\n",
        "  nodeProperties=['embedding'],\n",
        "  mutateRelationshipType= 'SIMILAR',\n",
        "  mutateProperty= 'score',\n",
        "  similarityCutoff=similarity_threshold\n",
        ")"
      ],
      "metadata": {
        "colab": {
          "base_uri": "https://localhost:8080/",
          "height": 263,
          "referenced_widgets": [
            "ef83b51ca43f49a3b53c847105a2278a",
            "901c0b3b0fe346d2973a3ac493cabcd7",
            "8064d9ab7fd946c68cf87123750eece0",
            "00771bde56184c2b8b2cac99cbae7de8",
            "3f9d3e905f0f482d97d8e649ca2eca8d",
            "288db53acf384f70b2a1d2834caa3557",
            "19c2e51ca73a460a80b3064b2182fea9",
            "6d36e3e4956e48aaabad35d2bda4147b",
            "a7719896b74446859434dfa59529c2ac",
            "d4e4a70966f64e5a99761bd13471db01",
            "295037592664498b81981b6ced91a01f"
          ]
        },
        "id": "DWdGhMmgeuFL",
        "outputId": "62b9ca03-ae41-4e90-fa79-8cc74bf8f12b"
      },
      "execution_count": 12,
      "outputs": [
        {
          "output_type": "display_data",
          "data": {
            "text/plain": [
              "Knn:   0%|          | 0/100 [00:00<?, ?%/s]"
            ],
            "application/vnd.jupyter.widget-view+json": {
              "version_major": 2,
              "version_minor": 0,
              "model_id": "ef83b51ca43f49a3b53c847105a2278a"
            }
          },
          "metadata": {}
        },
        {
          "output_type": "execute_result",
          "data": {
            "text/plain": [
              "ranIterations                                                            19\n",
              "nodePairsConsidered                                                 1146066\n",
              "didConverge                                                            True\n",
              "preProcessingMillis                                                       0\n",
              "computeMillis                                                         10611\n",
              "mutateMillis                                                            384\n",
              "postProcessingMillis                                                      0\n",
              "nodesCompared                                                          1949\n",
              "relationshipsWritten                                                   1206\n",
              "similarityDistribution    {'min': 0.9700050354003906, 'p5': 0.9713821411...\n",
              "configuration             {'mutateProperty': 'score', 'jobId': '6ad3ca35...\n",
              "Name: 0, dtype: object"
            ]
          },
          "metadata": {},
          "execution_count": 12
        }
      ]
    },
    {
      "cell_type": "code",
      "source": [
        "gds.wcc.write(\n",
        "    G,\n",
        "    writeProperty=\"wcc\",\n",
        "    relationshipTypes=[\"SIMILAR\"]\n",
        ")"
      ],
      "metadata": {
        "colab": {
          "base_uri": "https://localhost:8080/"
        },
        "id": "Juc1fFiFf73-",
        "outputId": "b1de71b9-ce92-48ce-9dc0-6456acf1d4e0"
      },
      "execution_count": 13,
      "outputs": [
        {
          "output_type": "execute_result",
          "data": {
            "text/plain": [
              "writeMillis                                                            680\n",
              "nodePropertiesWritten                                                 1949\n",
              "componentCount                                                        1650\n",
              "componentDistribution    {'min': 1, 'p5': 1, 'max': 50, 'p999': 43, 'p9...\n",
              "postProcessingMillis                                                    94\n",
              "preProcessingMillis                                                      0\n",
              "computeMillis                                                           74\n",
              "configuration            {'writeProperty': 'wcc', 'jobId': 'a3ef4c0b-d2...\n",
              "Name: 0, dtype: object"
            ]
          },
          "metadata": {},
          "execution_count": 13
        }
      ]
    },
    {
      "cell_type": "code",
      "source": [
        "# Just for inspection\n",
        "word_edit_distance = 3\n",
        "graph.query(\n",
        "    \"\"\"MATCH (e:`__Entity__`)\n",
        "    WITH e.wcc AS community, collect(e) AS nodes, count(*) AS count\n",
        "    WHERE count > 1\n",
        "    UNWIND nodes AS node\n",
        "    // Add text distance\n",
        "    WITH distinct\n",
        "      [n IN nodes WHERE apoc.text.distance(toLower(node.id), toLower(n.id)) < $distance | n.id] AS intermediate_results\n",
        "    WHERE size(intermediate_results) > 1\n",
        "    WITH collect(intermediate_results) AS results\n",
        "    // combine groups together if they share elements\n",
        "    UNWIND range(0, size(results)-1, 1) as index\n",
        "    WITH results, index, results[index] as result\n",
        "    WITH apoc.coll.sort(reduce(acc = result, index2 IN range(0, size(results)-1, 1) |\n",
        "            CASE WHEN index <> index2 AND\n",
        "                size(apoc.coll.intersection(acc, results[index2])) > 0\n",
        "                THEN apoc.coll.union(acc, results[index2])\n",
        "                ELSE acc\n",
        "            END\n",
        "    )) as combinedResult\n",
        "    WITH distinct(combinedResult) as combinedResult\n",
        "    // extra filtering\n",
        "    WITH collect(combinedResult) as allCombinedResults\n",
        "    UNWIND range(0, size(allCombinedResults)-1, 1) as combinedResultIndex\n",
        "    WITH allCombinedResults[combinedResultIndex] as combinedResult, combinedResultIndex, allCombinedResults\n",
        "    WHERE NOT any(x IN range(0,size(allCombinedResults)-1,1)\n",
        "        WHERE x <> combinedResultIndex\n",
        "        AND apoc.coll.containsAll(allCombinedResults[x], combinedResult)\n",
        "    )\n",
        "    RETURN combinedResult\n",
        "    \"\"\", params={'distance': word_edit_distance})"
      ],
      "metadata": {
        "colab": {
          "base_uri": "https://localhost:8080/"
        },
        "id": "S2mjWpcagO-h",
        "outputId": "550bb780-6bf2-4db1-8d27-a4422d52e7e2"
      },
      "execution_count": 32,
      "outputs": [
        {
          "output_type": "execute_result",
          "data": {
            "text/plain": [
              "[{'combinedResult': ['Mediatek_Dimensity_9200+_Soc',\n",
              "   'Mediatek_Dimensity_9200_Soc']},\n",
              " {'combinedResult': ['Star Ocean The Second Story R',\n",
              "   'Star Ocean: The Second Story R']},\n",
              " {'combinedResult': ['Star Ocean First Departure R',\n",
              "   'Star Ocean: First Departure R']},\n",
              " {'combinedResult': ['Silicon Valley Bank', 'Silicon_Valley_Bank']},\n",
              " {'combinedResult': ['Carmax Auto Owner Trust 2019-3',\n",
              "   'Carmax Auto Owner Trust 2019-4']},\n",
              " {'combinedResult': ['U.S. Securities And Exchange Commission',\n",
              "   'Us Securities And Exchange Commission']},\n",
              " {'combinedResult': ['Sky', 'Sky Q']},\n",
              " {'combinedResult': ['Sky Customers', 'Sky Q Customers']},\n",
              " {'combinedResult': ['-2.27%', '2.24%']},\n",
              " {'combinedResult': ['Sony Wf-1000Xm4', 'Sony Wf-1000Xm5']},\n",
              " {'combinedResult': [\"Domino'S Pizza\", 'Domino’S Pizza']},\n",
              " {'combinedResult': ['2019', '2020']},\n",
              " {'combinedResult': ['May 1', 'May 31']},\n",
              " {'combinedResult': ['August 12, 2023',\n",
              "   'August 19, 2023',\n",
              "   'August 26, 2023',\n",
              "   'August 7, 2023']},\n",
              " {'combinedResult': ['September 16, 2023',\n",
              "   'September 2, 2023',\n",
              "   'September 23, 2023',\n",
              "   'September 30, 2023']},\n",
              " {'combinedResult': ['October 21, 2023',\n",
              "   'October 28, 2023',\n",
              "   'October 7, 2023']},\n",
              " {'combinedResult': ['November 11, 2023',\n",
              "   'November 25, 2023',\n",
              "   'November 4, 2023']},\n",
              " {'combinedResult': ['December 16, 2023',\n",
              "   'December 2, 2023',\n",
              "   'December 23, 2023',\n",
              "   'December 26, 2023',\n",
              "   'December 30, 2023',\n",
              "   'December 5, 2023',\n",
              "   'December 9, 2023']},\n",
              " {'combinedResult': ['January 13, 2024', 'January 30, 2024']},\n",
              " {'combinedResult': ['February 10, 2024',\n",
              "   'February 17, 2024',\n",
              "   'February 24, 2024',\n",
              "   'February 3, 2024']},\n",
              " {'combinedResult': ['March 16, 2024',\n",
              "   'March 2, 2024',\n",
              "   'March 30, 2024',\n",
              "   'March 9, 2024']},\n",
              " {'combinedResult': ['April 13, 2024',\n",
              "   'April 20, 2024',\n",
              "   'April 27, 2024',\n",
              "   'April 3, 2024',\n",
              "   'April 6, 2024']},\n",
              " {'combinedResult': ['May 11, 2024', 'May 19, 2024', 'May 4, 2024']},\n",
              " {'combinedResult': ['June 15 2023', 'June 15, 2023']},\n",
              " {'combinedResult': ['Ps3', 'Ps4', 'Ps5']},\n",
              " {'combinedResult': ['$1.72 Per Share', '$1.99 Per Share']},\n",
              " {'combinedResult': ['Zee Entertainment Enterprises Ltd',\n",
              "   'Zee Entertainment Enterprises Ltd.']},\n",
              " {'combinedResult': ['Australian Opposition Party',\n",
              "   'Australian_Opposition_Party']},\n",
              " {'combinedResult': ['Liberal Party', 'Liberal_Party']},\n",
              " {'combinedResult': ['Amanda Stoker', 'Amanda_Stoker']},\n",
              " {'combinedResult': ['Staffer', 'Staffers']},\n",
              " {'combinedResult': ['North Korea', 'South Korea', 'South Koreans']},\n",
              " {'combinedResult': [\"European People'S Party\", 'European People’S Party']},\n",
              " {'combinedResult': ['Realme 11 Pro 5G', 'Realme 11 Pro+ 5G']},\n",
              " {'combinedResult': ['U.K.', 'Uk']},\n",
              " {'combinedResult': ['Late 2020', 'Late 2021']},\n",
              " {'combinedResult': ['Qualcomm Video Collaboration Vc1',\n",
              "   'Qualcomm Video Collaboration Vc3',\n",
              "   'Qualcomm Video Collaboration Vc5']},\n",
              " {'combinedResult': ['Ph3', 'Ph4']},\n",
              " {'combinedResult': ['Oppo Reno 6',\n",
              "   'Oppo Reno5 K',\n",
              "   'Oppo Reno6',\n",
              "   'Oppo Reno7',\n",
              "   'Oppo Reno8',\n",
              "   'Oppo Reno9']},\n",
              " {'combinedResult': ['Oppo K10 Pro', 'Oppo K5 Pro']},\n",
              " {'combinedResult': ['Oppo Find X2 Pro',\n",
              "   'Oppo Find X3 Pro',\n",
              "   'Oppo Find X5 Pro']},\n",
              " {'combinedResult': ['Oppo Reno5 Pro',\n",
              "   'Oppo Reno5 Pro+',\n",
              "   'Oppo Reno6 Pro',\n",
              "   'Oppo Reno6 Pro+',\n",
              "   'Oppo Reno7 Pro',\n",
              "   'Oppo Reno8 Pro',\n",
              "   'Oppo Reno8 Pro+',\n",
              "   'Oppo Reno9 Pro',\n",
              "   'Oppo Reno9 Pro+']},\n",
              " {'combinedResult': ['Oneplus 11',\n",
              "   'Oneplus 8',\n",
              "   'Oneplus 8T',\n",
              "   'Oneplus 9',\n",
              "   'Oneplus 9R',\n",
              "   'Oneplus 9Rt']},\n",
              " {'combinedResult': ['Oneplus 10 Pro', 'Oneplus 8 Pro', 'Oneplus 9 Pro']},\n",
              " {'combinedResult': ['Oneplus Ace', 'Oneplus Ace 2', 'Oneplus Ace 2V']},\n",
              " {'combinedResult': ['Oppo Find N',\n",
              "   'Oppo Find N2',\n",
              "   'Oppo Find X2',\n",
              "   'Oppo Find X3',\n",
              "   'Oppo Find X5']},\n",
              " {'combinedResult': ['Sky Q 1Tb Box', 'Sky Q 2Tb Box']},\n",
              " {'combinedResult': ['Stack225™', 'Stack230™', 'Stack750™']}]"
            ]
          },
          "metadata": {},
          "execution_count": 32
        }
      ]
    },
    {
      "cell_type": "code",
      "source": [
        "graph.query(\n",
        "    \"\"\"MATCH (e:`__Entity__`)\n",
        "    WITH e.wcc AS community, collect(e) AS nodes, count(*) AS count\n",
        "    WHERE count > 1\n",
        "    CALL apoc.refactor.mergeNodes(nodes)\n",
        "    YIELD node\n",
        "    RETURN count(*)\n",
        "    \"\"\")"
      ],
      "metadata": {
        "colab": {
          "base_uri": "https://localhost:8080/"
        },
        "id": "oFMVc8DUg3RV",
        "outputId": "c2692515-1ecb-4702-e422-6d7f5c6ee43e"
      },
      "execution_count": null,
      "outputs": [
        {
          "output_type": "execute_result",
          "data": {
            "text/plain": [
              "[{'count(*)': 13}]"
            ]
          },
          "metadata": {},
          "execution_count": 16
        }
      ]
    },
    {
      "cell_type": "code",
      "source": [
        "G.drop()"
      ],
      "metadata": {
        "colab": {
          "base_uri": "https://localhost:8080/"
        },
        "id": "XgGHDn-Wi1BH",
        "outputId": "a1d950b7-a9a5-42e3-94fc-34cbc4b7eccc"
      },
      "execution_count": 33,
      "outputs": [
        {
          "output_type": "stream",
          "name": "stderr",
          "text": [
            "WARNING:neo4j.notifications:Received notification from DBMS server: {severity: WARNING} {code: Neo.ClientNotification.Statement.FeatureDeprecationWarning} {category: DEPRECATION} {title: This feature is deprecated and will be removed in future versions.} {description: The query used a deprecated field from a procedure. ('schema' returned by 'gds.graph.drop' is deprecated.)} {position: line: 1, column: 1, offset: 0} for query: 'CALL gds.graph.drop($graph_name, $failIfMissing)'\n"
          ]
        },
        {
          "output_type": "execute_result",
          "data": {
            "text/plain": [
              "graphName                                                         entities\n",
              "database                                                             neo4j\n",
              "databaseLocation                                                     local\n",
              "memoryUsage                                                               \n",
              "sizeInBytes                                                             -1\n",
              "nodeCount                                                             1949\n",
              "relationshipCount                                                     3316\n",
              "configuration            {'relationshipProjection': {'__ALL__': {'aggre...\n",
              "density                                                           0.000873\n",
              "creationTime                           2024-06-30T12:24:20.247497346+00:00\n",
              "modificationTime                       2024-06-30T12:24:46.739007008+00:00\n",
              "schema                   {'graphProperties': {}, 'nodes': {'__Entity__'...\n",
              "schemaWithOrientation    {'graphProperties': {}, 'nodes': {'__Entity__'...\n",
              "Name: 0, dtype: object"
            ]
          },
          "metadata": {},
          "execution_count": 33
        }
      ]
    },
    {
      "cell_type": "markdown",
      "source": [
        "# Calculating communities of entities"
      ],
      "metadata": {
        "id": "7Nwk7OgPjVPK"
      }
    },
    {
      "cell_type": "code",
      "source": [
        "G, result = gds.graph.project(\n",
        "    \"entities\",  #  Graph name\n",
        "    \"__Entity__\",  #  Node projection\n",
        "    {\"_ALL_\": {\"type\": \"*\", \"orientation\": \"UNDIRECTED\"}},\n",
        ")\n"
      ],
      "metadata": {
        "id": "9VCZpBBMjGQq"
      },
      "execution_count": null,
      "outputs": []
    },
    {
      "cell_type": "code",
      "source": [
        "gds.leiden.write(G, writeProperty=\"communities\", includeIntermediateCommunities=True)"
      ],
      "metadata": {
        "colab": {
          "base_uri": "https://localhost:8080/"
        },
        "id": "O9aLrUsykFa0",
        "outputId": "d538e61b-9810-4e2e-d3ac-6a8c6b4e9893"
      },
      "execution_count": null,
      "outputs": [
        {
          "output_type": "execute_result",
          "data": {
            "text/plain": [
              "writeMillis                                                            184\n",
              "nodePropertiesWritten                                                  227\n",
              "ranLevels                                                                3\n",
              "didConverge                                                           True\n",
              "nodeCount                                                              227\n",
              "communityCount                                                          44\n",
              "communityDistribution    {'min': 1, 'p5': 1, 'max': 17, 'p999': 17, 'p9...\n",
              "modularity                                                        0.958559\n",
              "modularities             [0.8402214685204736, 0.9548415354551786, 0.958...\n",
              "postProcessingMillis                                                     3\n",
              "preProcessingMillis                                                      0\n",
              "computeMillis                                                         1048\n",
              "configuration            {'writeProperty': 'communities', 'theta': 0.01...\n",
              "Name: 0, dtype: object"
            ]
          },
          "metadata": {},
          "execution_count": 19
        }
      ]
    },
    {
      "cell_type": "markdown",
      "source": [
        "# Build community summaries"
      ],
      "metadata": {
        "id": "NEAvzUOdmqkl"
      }
    },
    {
      "cell_type": "code",
      "source": [
        "# Create first level community nodes\n",
        "graph.query(\"\"\"\n",
        "MATCH (e:`__Entity__`)\n",
        "WITH e, '1-' + e.communities[0] AS communityId // first smaller one community\n",
        "MERGE (c:Community {id:communityId})\n",
        "MERGE (e)-[:PART_OF]->(c)\n",
        "\"\"\")"
      ],
      "metadata": {
        "id": "EKRaBUjpwNNs",
        "outputId": "f1b0d5b8-121c-490d-ad84-94a4910403fc",
        "colab": {
          "base_uri": "https://localhost:8080/"
        }
      },
      "execution_count": null,
      "outputs": [
        {
          "output_type": "execute_result",
          "data": {
            "text/plain": [
              "[]"
            ]
          },
          "metadata": {},
          "execution_count": 20
        }
      ]
    },
    {
      "cell_type": "code",
      "source": [
        "community_info = graph.query(\"\"\"\n",
        "MATCH (e:`__Entity__`)\n",
        "WITH '1-' + e.communities[0] AS communityId, collect(e) AS nodes\n",
        "WHERE size(nodes) > 1\n",
        "CALL apoc.path.subgraphAll(nodes[0], {\n",
        "\twhitelistNodes:nodes\n",
        "})\n",
        "YIELD relationships\n",
        "RETURN communityId, [r in relationships | {start: startNode(r).id, type: type(r), end: endNode(r).id}] AS rels\n",
        "\"\"\")"
      ],
      "metadata": {
        "id": "A4NuLhY0mm3B"
      },
      "execution_count": null,
      "outputs": []
    },
    {
      "cell_type": "code",
      "source": [
        "community_info[5]"
      ],
      "metadata": {
        "colab": {
          "base_uri": "https://localhost:8080/"
        },
        "id": "Ur4JkHkLe3_i",
        "outputId": "37189a96-ce9c-4fcf-a900-7a1e4be01827"
      },
      "execution_count": null,
      "outputs": [
        {
          "output_type": "execute_result",
          "data": {
            "text/plain": [
              "{'communityId': '1-18',\n",
              " 'rels': [{'start': 'Ryanair', 'type': 'TERMINATED', 'end': 'Aidan Murray'},\n",
              "  {'start': 'Ryanair', 'type': 'EMPLOYED', 'end': 'Aidan Murray'},\n",
              "  {'start': 'Aidan Murray', 'type': 'REPORTED_BY', 'end': 'The Independent'},\n",
              "  {'start': 'Aidan Murray', 'type': 'HARASSED', 'end': 'Ryanair'},\n",
              "  {'start': 'Aidan Murray', 'type': 'TERMINATED_BY', 'end': 'Darrell Hughes'},\n",
              "  {'start': 'Aidan Murray',\n",
              "   'type': 'REPORTED_BY',\n",
              "   'end': 'The Financial Times'},\n",
              "  {'start': 'Aidan Murray', 'type': 'CONTACTED_BY', 'end': 'Bbc'},\n",
              "  {'start': 'Royal Aeronautical Society',\n",
              "   'type': 'REPORTED',\n",
              "   'end': 'Ryanair'}]}"
            ]
          },
          "metadata": {},
          "execution_count": 27
        }
      ]
    },
    {
      "cell_type": "code",
      "source": [
        "from langchain_core.prompts import ChatPromptTemplate\n",
        "from langchain_core.output_parsers import StrOutputParser\n",
        "\n",
        "community_template = \"\"\"Based on the provided triples that belong to the same graph community,\n",
        "generate a natural language summary of the provided information:\n",
        "{community_info}\n",
        "\n",
        "Summary:\"\"\"  # noqa: E501\n",
        "\n",
        "community_prompt = ChatPromptTemplate.from_messages(\n",
        "    [\n",
        "        (\n",
        "            \"system\",\n",
        "            \"Given an input triples, generate the information summary. No pre-amble.\",\n",
        "        ),\n",
        "        (\"human\", community_template),\n",
        "    ]\n",
        ")\n",
        "\n",
        "community_chain = community_prompt | llm | StrOutputParser()"
      ],
      "metadata": {
        "id": "Tnc8aqN_e5M7"
      },
      "execution_count": null,
      "outputs": []
    },
    {
      "cell_type": "code",
      "source": [
        "def process_community(community):\n",
        "    stringify_info = \"\\n\".join([f\"{el['start']}-{el['type']}->{el['end']}\" for el in community['rels']])\n",
        "    summary = community_chain.invoke({'community_info': stringify_info})\n",
        "    return {\"community\": community['communityId'], \"summary\": summary}\n",
        "\n",
        "summaries = []\n",
        "with ThreadPoolExecutor() as executor:\n",
        "    futures = {executor.submit(process_community, community): community for community in community_info}\n",
        "\n",
        "    for future in tqdm(as_completed(futures), total=len(futures), desc=\"Processing communities\"):\n",
        "        summaries.append(future.result())"
      ],
      "metadata": {
        "colab": {
          "base_uri": "https://localhost:8080/"
        },
        "id": "5IERhJ3jgWtk",
        "outputId": "16aa2e66-ba08-420f-8758-f1a9a57cf2dd"
      },
      "execution_count": null,
      "outputs": [
        {
          "output_type": "stream",
          "name": "stderr",
          "text": [
            "Processing communities: 100%|██████████| 63/63 [00:10<00:00,  6.00it/s]\n"
          ]
        }
      ]
    },
    {
      "cell_type": "code",
      "source": [
        "# Store summaries\n",
        "graph.query(\"\"\"\n",
        "UNWIND $data AS row\n",
        "MERGE (c:Community {id:row.community})\n",
        "SET c.summary = row.summary\n",
        "\"\"\", params={\"data\": summaries})"
      ],
      "metadata": {
        "colab": {
          "base_uri": "https://localhost:8080/"
        },
        "id": "mKymAMJehSkw",
        "outputId": "1a0b63e4-abf6-4954-d44b-2c98b4382207"
      },
      "execution_count": null,
      "outputs": [
        {
          "output_type": "execute_result",
          "data": {
            "text/plain": [
              "[]"
            ]
          },
          "metadata": {},
          "execution_count": 30
        }
      ]
    },
    {
      "cell_type": "code",
      "source": [
        "# Do higher level communities...\n",
        "graph.query(\"\"\"\n",
        "MATCH (e:`__Entity__`)\n",
        "WITH e, '1-' + e.communities[0] AS communityId1, '2-' + e.communities[-1] AS communityId2\n",
        "WITH distinct communityId1, communityId2\n",
        "MATCH (c:Community {id: communityId1})\n",
        "MERGE (c1:Community {id: communityId2})\n",
        "MERGE (c)-[:PART_OF]->(c1)\n",
        "\"\"\")"
      ],
      "metadata": {
        "id": "keDv5H8X12NF",
        "outputId": "18d83468-cab7-4cc4-86b4-90a7108d4cb2",
        "colab": {
          "base_uri": "https://localhost:8080/"
        }
      },
      "execution_count": null,
      "outputs": [
        {
          "output_type": "execute_result",
          "data": {
            "text/plain": [
              "[]"
            ]
          },
          "metadata": {},
          "execution_count": 32
        }
      ]
    },
    {
      "cell_type": "code",
      "source": [
        "community_info = graph.query(\"\"\"\n",
        "MATCH (e:`__Entity__`)\n",
        "WITH '2-' + e.communities[-1] AS communityId, collect(e) AS nodes\n",
        "WHERE size(nodes) > 1\n",
        "CALL apoc.path.subgraphAll(nodes[0], {\n",
        "\twhitelistNodes:nodes\n",
        "})\n",
        "YIELD relationships\n",
        "RETURN communityId, [r in relationships | {start: startNode(r).id, type: type(r), end: endNode(r).id}] AS rels\n",
        "\"\"\")"
      ],
      "metadata": {
        "id": "bGK8Bf__3FMF"
      },
      "execution_count": null,
      "outputs": []
    },
    {
      "cell_type": "code",
      "source": [
        "summaries = []\n",
        "with ThreadPoolExecutor() as executor:\n",
        "    futures = {executor.submit(process_community, community): community for community in community_info}\n",
        "\n",
        "    for future in tqdm(as_completed(futures), total=len(futures), desc=\"Processing communities\"):\n",
        "        summaries.append(future.result())"
      ],
      "metadata": {
        "id": "AuJaOzNv3md6",
        "outputId": "1a00428e-e16e-4451-a5b4-7a0cfcf411c8",
        "colab": {
          "base_uri": "https://localhost:8080/"
        }
      },
      "execution_count": null,
      "outputs": [
        {
          "output_type": "stream",
          "name": "stderr",
          "text": [
            "Processing communities: 100%|██████████| 41/41 [00:11<00:00,  3.54it/s]\n"
          ]
        }
      ]
    },
    {
      "cell_type": "code",
      "source": [
        "# Store summaries\n",
        "graph.query(\"\"\"\n",
        "UNWIND $data AS row\n",
        "MERGE (c:Community {id:row.community})\n",
        "SET c.summary = row.summary\n",
        "\"\"\", params={\"data\": summaries})"
      ],
      "metadata": {
        "id": "nKZNzkKv3nkm",
        "outputId": "c430e1d8-4eb6-4c15-fdb5-3f0a048ca87a",
        "colab": {
          "base_uri": "https://localhost:8080/"
        }
      },
      "execution_count": null,
      "outputs": [
        {
          "output_type": "execute_result",
          "data": {
            "text/plain": [
              "[]"
            ]
          },
          "metadata": {},
          "execution_count": 35
        }
      ]
    },
    {
      "cell_type": "code",
      "source": [
        "# Calculate embeddings\n",
        "community_vector = Neo4jVector.from_existing_graph(\n",
        "    OpenAIEmbeddings(),\n",
        "    index_name=\"summariesIndex\",\n",
        "    node_label='Community',\n",
        "    text_node_properties=['summary'],\n",
        "    embedding_node_property='embedding'\n",
        ")"
      ],
      "metadata": {
        "id": "Nk5KHBJ_oVCp"
      },
      "execution_count": null,
      "outputs": []
    },
    {
      "cell_type": "code",
      "source": [
        "community_vector.similarity_search(\"What's the deal with EU and Huawei?\", k=1)"
      ],
      "metadata": {
        "colab": {
          "base_uri": "https://localhost:8080/"
        },
        "id": "F1J61WY6orQk",
        "outputId": "04873026-c454-41da-f078-6c11a48fa0d3"
      },
      "execution_count": null,
      "outputs": [
        {
          "output_type": "execute_result",
          "data": {
            "text/plain": [
              "[Document(page_content='\\nsummary: The European Union considers Huawei Technologies Co. and Zte Corp. to be high-risk entities. Additionally, the European Union has imposed bans on Tiktok Inc., Zte Corp., and Huawei Technologies Co. Alberto Nardelli and Thomas Seal have both provided assistance to the European Union.')]"
            ]
          },
          "metadata": {},
          "execution_count": 41
        }
      ]
    },
    {
      "cell_type": "markdown",
      "source": [
        "* repeat for larger community\n",
        "* maybe connect community summaries to sth\n",
        "* put a QA chain on top of"
      ],
      "metadata": {
        "id": "DjkrCySYn_Wv"
      }
    }
  ]
}