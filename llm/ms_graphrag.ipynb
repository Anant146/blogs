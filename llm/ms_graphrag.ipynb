{
  "nbformat": 4,
  "nbformat_minor": 0,
  "metadata": {
    "colab": {
      "provenance": [],
      "authorship_tag": "ABX9TyPlLkskRz8cdXMlkT9xmytN",
      "include_colab_link": true
    },
    "kernelspec": {
      "name": "python3",
      "display_name": "Python 3"
    },
    "language_info": {
      "name": "python"
    }
  },
  "cells": [
    {
      "cell_type": "markdown",
      "metadata": {
        "id": "view-in-github",
        "colab_type": "text"
      },
      "source": [
        "<a href=\"https://colab.research.google.com/github/tomasonjo/blogs/blob/master/llm/ms_graphrag.ipynb\" target=\"_parent\"><img src=\"https://colab.research.google.com/assets/colab-badge.svg\" alt=\"Open In Colab\"/></a>"
      ]
    },
    {
      "cell_type": "code",
      "execution_count": 1,
      "metadata": {
        "colab": {
          "base_uri": "https://localhost:8080/"
        },
        "id": "9K7S1j3FOoi0",
        "outputId": "ca910ecc-e6c6-4984-92fa-3cdaf6181d7a"
      },
      "outputs": [
        {
          "output_type": "stream",
          "name": "stdout",
          "text": [
            "\u001b[2K     \u001b[90m━━━━━━━━━━━━━━━━━━━━━━━━━━━━━━━━━━━━━━━━\u001b[0m \u001b[32m2.1/2.1 MB\u001b[0m \u001b[31m10.2 MB/s\u001b[0m eta \u001b[36m0:00:00\u001b[0m\n",
            "\u001b[2K     \u001b[90m━━━━━━━━━━━━━━━━━━━━━━━━━━━━━━━━━━━━━━━━\u001b[0m \u001b[32m199.5/199.5 kB\u001b[0m \u001b[31m11.1 MB/s\u001b[0m eta \u001b[36m0:00:00\u001b[0m\n",
            "\u001b[2K     \u001b[90m━━━━━━━━━━━━━━━━━━━━━━━━━━━━━━━━━━━━━━━━\u001b[0m \u001b[32m203.0/203.0 kB\u001b[0m \u001b[31m7.4 MB/s\u001b[0m eta \u001b[36m0:00:00\u001b[0m\n",
            "\u001b[?25h  Installing build dependencies ... \u001b[?25l\u001b[?25hdone\n",
            "  Getting requirements to build wheel ... \u001b[?25l\u001b[?25hdone\n",
            "  Installing backend dependencies ... \u001b[?25l\u001b[?25hdone\n",
            "  Preparing metadata (pyproject.toml) ... \u001b[?25l\u001b[?25hdone\n",
            "\u001b[2K     \u001b[90m━━━━━━━━━━━━━━━━━━━━━━━━━━━━━━━━━━━━━━━━\u001b[0m \u001b[32m1.6/1.6 MB\u001b[0m \u001b[31m22.3 MB/s\u001b[0m eta \u001b[36m0:00:00\u001b[0m\n",
            "\u001b[2K     \u001b[90m━━━━━━━━━━━━━━━━━━━━━━━━━━━━━━━━━━━━━━━━\u001b[0m \u001b[32m973.5/973.5 kB\u001b[0m \u001b[31m26.7 MB/s\u001b[0m eta \u001b[36m0:00:00\u001b[0m\n",
            "\u001b[2K     \u001b[90m━━━━━━━━━━━━━━━━━━━━━━━━━━━━━━━━━━━━━━━━\u001b[0m \u001b[32m310.2/310.2 kB\u001b[0m \u001b[31m20.1 MB/s\u001b[0m eta \u001b[36m0:00:00\u001b[0m\n",
            "\u001b[2K     \u001b[90m━━━━━━━━━━━━━━━━━━━━━━━━━━━━━━━━━━━━━━━━\u001b[0m \u001b[32m124.4/124.4 kB\u001b[0m \u001b[31m14.6 MB/s\u001b[0m eta \u001b[36m0:00:00\u001b[0m\n",
            "\u001b[2K     \u001b[90m━━━━━━━━━━━━━━━━━━━━━━━━━━━━━━━━━━━━━━━━\u001b[0m \u001b[32m320.7/320.7 kB\u001b[0m \u001b[31m20.9 MB/s\u001b[0m eta \u001b[36m0:00:00\u001b[0m\n",
            "\u001b[2K     \u001b[90m━━━━━━━━━━━━━━━━━━━━━━━━━━━━━━━━━━━━━━━━\u001b[0m \u001b[32m1.1/1.1 MB\u001b[0m \u001b[31m33.2 MB/s\u001b[0m eta \u001b[36m0:00:00\u001b[0m\n",
            "\u001b[2K     \u001b[90m━━━━━━━━━━━━━━━━━━━━━━━━━━━━━━━━━━━━━━━━\u001b[0m \u001b[32m49.3/49.3 kB\u001b[0m \u001b[31m5.9 MB/s\u001b[0m eta \u001b[36m0:00:00\u001b[0m\n",
            "\u001b[2K     \u001b[90m━━━━━━━━━━━━━━━━━━━━━━━━━━━━━━━━━━━━━━━━\u001b[0m \u001b[32m53.0/53.0 kB\u001b[0m \u001b[31m6.0 MB/s\u001b[0m eta \u001b[36m0:00:00\u001b[0m\n",
            "\u001b[2K     \u001b[90m━━━━━━━━━━━━━━━━━━━━━━━━━━━━━━━━━━━━━━━━\u001b[0m \u001b[32m142.5/142.5 kB\u001b[0m \u001b[31m15.9 MB/s\u001b[0m eta \u001b[36m0:00:00\u001b[0m\n",
            "\u001b[2K     \u001b[90m━━━━━━━━━━━━━━━━━━━━━━━━━━━━━━━━━━━━━━━━\u001b[0m \u001b[32m75.6/75.6 kB\u001b[0m \u001b[31m8.9 MB/s\u001b[0m eta \u001b[36m0:00:00\u001b[0m\n",
            "\u001b[2K     \u001b[90m━━━━━━━━━━━━━━━━━━━━━━━━━━━━━━━━━━━━━━━━\u001b[0m \u001b[32m77.9/77.9 kB\u001b[0m \u001b[31m9.1 MB/s\u001b[0m eta \u001b[36m0:00:00\u001b[0m\n",
            "\u001b[2K     \u001b[90m━━━━━━━━━━━━━━━━━━━━━━━━━━━━━━━━━━━━━━━━\u001b[0m \u001b[32m58.3/58.3 kB\u001b[0m \u001b[31m7.0 MB/s\u001b[0m eta \u001b[36m0:00:00\u001b[0m\n",
            "\u001b[?25h  Building wheel for neo4j (pyproject.toml) ... \u001b[?25l\u001b[?25hdone\n"
          ]
        }
      ],
      "source": [
        "!pip install --quiet langchain-community langchain-experimental langchain-openai neo4j graphdatascience"
      ]
    },
    {
      "cell_type": "code",
      "source": [
        "import getpass\n",
        "import os\n",
        "\n",
        "os.environ[\"OPENAI_API_KEY\"] = getpass.getpass()"
      ],
      "metadata": {
        "colab": {
          "base_uri": "https://localhost:8080/"
        },
        "id": "0rrFvqkEO9bF",
        "outputId": "3a2fd1f3-b1fa-4ebd-a49f-971404b847f4"
      },
      "execution_count": 2,
      "outputs": [
        {
          "name": "stdout",
          "output_type": "stream",
          "text": [
            "··········\n"
          ]
        }
      ]
    },
    {
      "cell_type": "code",
      "source": [
        "from langchain_community.graphs import Neo4jGraph\n",
        "\n",
        "os.environ[\"NEO4J_URI\"] = \"bolt://44.202.206.163:7687\"\n",
        "os.environ[\"NEO4J_USERNAME\"] = \"neo4j\"\n",
        "os.environ[\"NEO4J_PASSWORD\"] = \"capture-debit-blanket\"\n",
        "\n",
        "graph = Neo4jGraph()"
      ],
      "metadata": {
        "id": "wbCXrSxUPTIy"
      },
      "execution_count": 3,
      "outputs": []
    },
    {
      "cell_type": "code",
      "source": [
        "import pandas as pd\n",
        "\n",
        "news = pd.read_csv(\"https://raw.githubusercontent.com/tomasonjo/blog-datasets/main/news_articles.csv\")\n",
        "news.head()"
      ],
      "metadata": {
        "colab": {
          "base_uri": "https://localhost:8080/",
          "height": 206
        },
        "id": "VKwjKqPyP78d",
        "outputId": "f0c04a0d-3c65-4fb9-ade6-df142b6a2d7f"
      },
      "execution_count": 4,
      "outputs": [
        {
          "output_type": "execute_result",
          "data": {
            "text/plain": [
              "                                               title  \\\n",
              "0                             Chevron: Best Of Breed   \n",
              "1       FirstEnergy (NYSE:FE) Posts Earnings Results   \n",
              "2  Dáil almost suspended after Sinn Féin TD put p...   \n",
              "3  Epic’s latest tool can animate hyperrealistic ...   \n",
              "4  EU to Ban Huawei, ZTE from Internal Commission...   \n",
              "\n",
              "                                  date  \\\n",
              "0  2031-04-06T01:36:32.000000000+00:00   \n",
              "1  2030-04-29T06:55:28.000000000+00:00   \n",
              "2  2023-06-15T14:32:11.000000000+00:00   \n",
              "3  2023-06-15T14:00:00.000000000+00:00   \n",
              "4  2023-06-15T13:50:00.000000000+00:00   \n",
              "\n",
              "                                                text  \n",
              "0  JHVEPhoto Like many companies in the O&G secto...  \n",
              "1  FirstEnergy (NYSE:FE – Get Rating) posted its ...  \n",
              "2  The Dáil was almost suspended on Thursday afte...  \n",
              "3  Today, Epic is releasing a new tool designed t...  \n",
              "4  The European Commission is planning to ban equ...  "
            ],
            "text/html": [
              "\n",
              "  <div id=\"df-3852e8bb-6ca0-479b-ab5a-81c377744442\" class=\"colab-df-container\">\n",
              "    <div>\n",
              "<style scoped>\n",
              "    .dataframe tbody tr th:only-of-type {\n",
              "        vertical-align: middle;\n",
              "    }\n",
              "\n",
              "    .dataframe tbody tr th {\n",
              "        vertical-align: top;\n",
              "    }\n",
              "\n",
              "    .dataframe thead th {\n",
              "        text-align: right;\n",
              "    }\n",
              "</style>\n",
              "<table border=\"1\" class=\"dataframe\">\n",
              "  <thead>\n",
              "    <tr style=\"text-align: right;\">\n",
              "      <th></th>\n",
              "      <th>title</th>\n",
              "      <th>date</th>\n",
              "      <th>text</th>\n",
              "    </tr>\n",
              "  </thead>\n",
              "  <tbody>\n",
              "    <tr>\n",
              "      <th>0</th>\n",
              "      <td>Chevron: Best Of Breed</td>\n",
              "      <td>2031-04-06T01:36:32.000000000+00:00</td>\n",
              "      <td>JHVEPhoto Like many companies in the O&amp;G secto...</td>\n",
              "    </tr>\n",
              "    <tr>\n",
              "      <th>1</th>\n",
              "      <td>FirstEnergy (NYSE:FE) Posts Earnings Results</td>\n",
              "      <td>2030-04-29T06:55:28.000000000+00:00</td>\n",
              "      <td>FirstEnergy (NYSE:FE – Get Rating) posted its ...</td>\n",
              "    </tr>\n",
              "    <tr>\n",
              "      <th>2</th>\n",
              "      <td>Dáil almost suspended after Sinn Féin TD put p...</td>\n",
              "      <td>2023-06-15T14:32:11.000000000+00:00</td>\n",
              "      <td>The Dáil was almost suspended on Thursday afte...</td>\n",
              "    </tr>\n",
              "    <tr>\n",
              "      <th>3</th>\n",
              "      <td>Epic’s latest tool can animate hyperrealistic ...</td>\n",
              "      <td>2023-06-15T14:00:00.000000000+00:00</td>\n",
              "      <td>Today, Epic is releasing a new tool designed t...</td>\n",
              "    </tr>\n",
              "    <tr>\n",
              "      <th>4</th>\n",
              "      <td>EU to Ban Huawei, ZTE from Internal Commission...</td>\n",
              "      <td>2023-06-15T13:50:00.000000000+00:00</td>\n",
              "      <td>The European Commission is planning to ban equ...</td>\n",
              "    </tr>\n",
              "  </tbody>\n",
              "</table>\n",
              "</div>\n",
              "    <div class=\"colab-df-buttons\">\n",
              "\n",
              "  <div class=\"colab-df-container\">\n",
              "    <button class=\"colab-df-convert\" onclick=\"convertToInteractive('df-3852e8bb-6ca0-479b-ab5a-81c377744442')\"\n",
              "            title=\"Convert this dataframe to an interactive table.\"\n",
              "            style=\"display:none;\">\n",
              "\n",
              "  <svg xmlns=\"http://www.w3.org/2000/svg\" height=\"24px\" viewBox=\"0 -960 960 960\">\n",
              "    <path d=\"M120-120v-720h720v720H120Zm60-500h600v-160H180v160Zm220 220h160v-160H400v160Zm0 220h160v-160H400v160ZM180-400h160v-160H180v160Zm440 0h160v-160H620v160ZM180-180h160v-160H180v160Zm440 0h160v-160H620v160Z\"/>\n",
              "  </svg>\n",
              "    </button>\n",
              "\n",
              "  <style>\n",
              "    .colab-df-container {\n",
              "      display:flex;\n",
              "      gap: 12px;\n",
              "    }\n",
              "\n",
              "    .colab-df-convert {\n",
              "      background-color: #E8F0FE;\n",
              "      border: none;\n",
              "      border-radius: 50%;\n",
              "      cursor: pointer;\n",
              "      display: none;\n",
              "      fill: #1967D2;\n",
              "      height: 32px;\n",
              "      padding: 0 0 0 0;\n",
              "      width: 32px;\n",
              "    }\n",
              "\n",
              "    .colab-df-convert:hover {\n",
              "      background-color: #E2EBFA;\n",
              "      box-shadow: 0px 1px 2px rgba(60, 64, 67, 0.3), 0px 1px 3px 1px rgba(60, 64, 67, 0.15);\n",
              "      fill: #174EA6;\n",
              "    }\n",
              "\n",
              "    .colab-df-buttons div {\n",
              "      margin-bottom: 4px;\n",
              "    }\n",
              "\n",
              "    [theme=dark] .colab-df-convert {\n",
              "      background-color: #3B4455;\n",
              "      fill: #D2E3FC;\n",
              "    }\n",
              "\n",
              "    [theme=dark] .colab-df-convert:hover {\n",
              "      background-color: #434B5C;\n",
              "      box-shadow: 0px 1px 3px 1px rgba(0, 0, 0, 0.15);\n",
              "      filter: drop-shadow(0px 1px 2px rgba(0, 0, 0, 0.3));\n",
              "      fill: #FFFFFF;\n",
              "    }\n",
              "  </style>\n",
              "\n",
              "    <script>\n",
              "      const buttonEl =\n",
              "        document.querySelector('#df-3852e8bb-6ca0-479b-ab5a-81c377744442 button.colab-df-convert');\n",
              "      buttonEl.style.display =\n",
              "        google.colab.kernel.accessAllowed ? 'block' : 'none';\n",
              "\n",
              "      async function convertToInteractive(key) {\n",
              "        const element = document.querySelector('#df-3852e8bb-6ca0-479b-ab5a-81c377744442');\n",
              "        const dataTable =\n",
              "          await google.colab.kernel.invokeFunction('convertToInteractive',\n",
              "                                                    [key], {});\n",
              "        if (!dataTable) return;\n",
              "\n",
              "        const docLinkHtml = 'Like what you see? Visit the ' +\n",
              "          '<a target=\"_blank\" href=https://colab.research.google.com/notebooks/data_table.ipynb>data table notebook</a>'\n",
              "          + ' to learn more about interactive tables.';\n",
              "        element.innerHTML = '';\n",
              "        dataTable['output_type'] = 'display_data';\n",
              "        await google.colab.output.renderOutput(dataTable, element);\n",
              "        const docLink = document.createElement('div');\n",
              "        docLink.innerHTML = docLinkHtml;\n",
              "        element.appendChild(docLink);\n",
              "      }\n",
              "    </script>\n",
              "  </div>\n",
              "\n",
              "\n",
              "<div id=\"df-b2774a8f-004d-4f3d-a8a8-43819e513b49\">\n",
              "  <button class=\"colab-df-quickchart\" onclick=\"quickchart('df-b2774a8f-004d-4f3d-a8a8-43819e513b49')\"\n",
              "            title=\"Suggest charts\"\n",
              "            style=\"display:none;\">\n",
              "\n",
              "<svg xmlns=\"http://www.w3.org/2000/svg\" height=\"24px\"viewBox=\"0 0 24 24\"\n",
              "     width=\"24px\">\n",
              "    <g>\n",
              "        <path d=\"M19 3H5c-1.1 0-2 .9-2 2v14c0 1.1.9 2 2 2h14c1.1 0 2-.9 2-2V5c0-1.1-.9-2-2-2zM9 17H7v-7h2v7zm4 0h-2V7h2v10zm4 0h-2v-4h2v4z\"/>\n",
              "    </g>\n",
              "</svg>\n",
              "  </button>\n",
              "\n",
              "<style>\n",
              "  .colab-df-quickchart {\n",
              "      --bg-color: #E8F0FE;\n",
              "      --fill-color: #1967D2;\n",
              "      --hover-bg-color: #E2EBFA;\n",
              "      --hover-fill-color: #174EA6;\n",
              "      --disabled-fill-color: #AAA;\n",
              "      --disabled-bg-color: #DDD;\n",
              "  }\n",
              "\n",
              "  [theme=dark] .colab-df-quickchart {\n",
              "      --bg-color: #3B4455;\n",
              "      --fill-color: #D2E3FC;\n",
              "      --hover-bg-color: #434B5C;\n",
              "      --hover-fill-color: #FFFFFF;\n",
              "      --disabled-bg-color: #3B4455;\n",
              "      --disabled-fill-color: #666;\n",
              "  }\n",
              "\n",
              "  .colab-df-quickchart {\n",
              "    background-color: var(--bg-color);\n",
              "    border: none;\n",
              "    border-radius: 50%;\n",
              "    cursor: pointer;\n",
              "    display: none;\n",
              "    fill: var(--fill-color);\n",
              "    height: 32px;\n",
              "    padding: 0;\n",
              "    width: 32px;\n",
              "  }\n",
              "\n",
              "  .colab-df-quickchart:hover {\n",
              "    background-color: var(--hover-bg-color);\n",
              "    box-shadow: 0 1px 2px rgba(60, 64, 67, 0.3), 0 1px 3px 1px rgba(60, 64, 67, 0.15);\n",
              "    fill: var(--button-hover-fill-color);\n",
              "  }\n",
              "\n",
              "  .colab-df-quickchart-complete:disabled,\n",
              "  .colab-df-quickchart-complete:disabled:hover {\n",
              "    background-color: var(--disabled-bg-color);\n",
              "    fill: var(--disabled-fill-color);\n",
              "    box-shadow: none;\n",
              "  }\n",
              "\n",
              "  .colab-df-spinner {\n",
              "    border: 2px solid var(--fill-color);\n",
              "    border-color: transparent;\n",
              "    border-bottom-color: var(--fill-color);\n",
              "    animation:\n",
              "      spin 1s steps(1) infinite;\n",
              "  }\n",
              "\n",
              "  @keyframes spin {\n",
              "    0% {\n",
              "      border-color: transparent;\n",
              "      border-bottom-color: var(--fill-color);\n",
              "      border-left-color: var(--fill-color);\n",
              "    }\n",
              "    20% {\n",
              "      border-color: transparent;\n",
              "      border-left-color: var(--fill-color);\n",
              "      border-top-color: var(--fill-color);\n",
              "    }\n",
              "    30% {\n",
              "      border-color: transparent;\n",
              "      border-left-color: var(--fill-color);\n",
              "      border-top-color: var(--fill-color);\n",
              "      border-right-color: var(--fill-color);\n",
              "    }\n",
              "    40% {\n",
              "      border-color: transparent;\n",
              "      border-right-color: var(--fill-color);\n",
              "      border-top-color: var(--fill-color);\n",
              "    }\n",
              "    60% {\n",
              "      border-color: transparent;\n",
              "      border-right-color: var(--fill-color);\n",
              "    }\n",
              "    80% {\n",
              "      border-color: transparent;\n",
              "      border-right-color: var(--fill-color);\n",
              "      border-bottom-color: var(--fill-color);\n",
              "    }\n",
              "    90% {\n",
              "      border-color: transparent;\n",
              "      border-bottom-color: var(--fill-color);\n",
              "    }\n",
              "  }\n",
              "</style>\n",
              "\n",
              "  <script>\n",
              "    async function quickchart(key) {\n",
              "      const quickchartButtonEl =\n",
              "        document.querySelector('#' + key + ' button');\n",
              "      quickchartButtonEl.disabled = true;  // To prevent multiple clicks.\n",
              "      quickchartButtonEl.classList.add('colab-df-spinner');\n",
              "      try {\n",
              "        const charts = await google.colab.kernel.invokeFunction(\n",
              "            'suggestCharts', [key], {});\n",
              "      } catch (error) {\n",
              "        console.error('Error during call to suggestCharts:', error);\n",
              "      }\n",
              "      quickchartButtonEl.classList.remove('colab-df-spinner');\n",
              "      quickchartButtonEl.classList.add('colab-df-quickchart-complete');\n",
              "    }\n",
              "    (() => {\n",
              "      let quickchartButtonEl =\n",
              "        document.querySelector('#df-b2774a8f-004d-4f3d-a8a8-43819e513b49 button');\n",
              "      quickchartButtonEl.style.display =\n",
              "        google.colab.kernel.accessAllowed ? 'block' : 'none';\n",
              "    })();\n",
              "  </script>\n",
              "</div>\n",
              "\n",
              "    </div>\n",
              "  </div>\n"
            ],
            "application/vnd.google.colaboratory.intrinsic+json": {
              "type": "dataframe",
              "variable_name": "news",
              "summary": "{\n  \"name\": \"news\",\n  \"rows\": 2500,\n  \"fields\": [\n    {\n      \"column\": \"title\",\n      \"properties\": {\n        \"dtype\": \"string\",\n        \"num_unique_values\": 2282,\n        \"samples\": [\n          \"Golden Cross Appears Before NetApp Investors\",\n          \"Li Auto\\u2019s EV Sales Can Be A Catalyst. The Case to Buy Stock Now.\",\n          \"SMITH MARION COMMENTS ON RECENT HUD GRANT FOR HOUSING AUTHORITIES\"\n        ],\n        \"semantic_type\": \"\",\n        \"description\": \"\"\n      }\n    },\n    {\n      \"column\": \"date\",\n      \"properties\": {\n        \"dtype\": \"object\",\n        \"num_unique_values\": 1606,\n        \"samples\": [\n          \"2023-06-14T19:43:48.000000000+00:00\",\n          \"2023-06-14T03:31:01.000000000+00:00\",\n          \"2023-06-15T08:59:25.000000000+00:00\"\n        ],\n        \"semantic_type\": \"\",\n        \"description\": \"\"\n      }\n    },\n    {\n      \"column\": \"text\",\n      \"properties\": {\n        \"dtype\": \"string\",\n        \"num_unique_values\": 2472,\n        \"samples\": [\n          \"/EIN News/ -- Fremont, California, June 14, 2023 (GLOBE NEWSWIRE) -- Omicsveu, The Spatial Multiplex Multiomics Company, announced introduction of fully automated system for Hyperion\\u2019s multiplex immunohistochemistry (IHC) protocols developed and validated in collaboration with Scientists at The University of Sydney's prestigious Charles Perkins Centre, Sydney, Australia.\\nTissue multiplexing technology has changed proteomics profiling, allowing for the simultaneous detection of multiple protein markers from a single tissue section. However, current technologies for multiplex-proteomics involve manual steps that are time-consuming, labor-intensive, expensive, and inconsistent.\\nNanoVIP - an automated, slide-based staining system - by Omicsveu using manufacturers supplied protocols and reagents, reduced hands-on time of the Hyperion protocol to less than 20 minutes and reagent costs by 80% - as it only uses 25\\u00b5L of antibody for a single sample. Further NanoVIP plug & play system doesn\\u2019t require highly skilled operators to get optimum results. Results are summarized in the table below.\\nAdrian Smith, Technical Director at Sydney Cytometry (Centenary Institute and The University of Sydney), was so impressed with NanoVIP for the automated preparation of tissue sample slides. \\u201cWe are very impressed with the instrument (and the support!), and I'm excited to see what our researchers at Sydney Cytometry will do with it!\\u201d said Dr. Smith.\\nResults are summarized in the table below.\\nAbout Omicsveu\\nOmicsveu is a special-purpose spinoff of BioGenex, designs, develops, and commercializes, fully automated plug & play, slide-staining systems. Our innovative technologies are affordable and accessible, to help accelerate developments of new diagnostics and therapeutics leading to improved disease outcome. Our systems incorporate easy to use innovative automation, ready-to-use reagents, and optimized protocols, generating reliable, consistent, and reproducible results. For more information, please visit our website at www.omicsveu.com, or connect with us on LinkedIn and Twitter.\\nContact: \\n\\nEmail: info@omicsveu.com\",\n          \"The lawsuit brought by the United States Securities and Exchange Commission (SEC) against Coinbase Global on June 6 is raising questions about the crypto exchange's approach to managing the ongoing crypto crackdown.\\nIn a recent interview with Cointelegraph, venture capitalist Kevin O'Leary criticized Coinbase's strategy to address the current regulatory environment. \\\"Its market cap was decimated [by the SEC suit], and the management there seems to want to keep taking on the SEC over and over and over again,\\\" said the serial entrepreneur in reference to the 17.4% drop in Coinbase's stock last week. O'Leary continued:\\n\\\"I would think at this point, if you\\u2019re a shareholder in that company, you may want to make some changes. I don\\u2019t think this is working as a strategy [\\u2026] I am not optimistic for the management team there [...] I think investors are done with this.\\\"\\nCoinbase has spent months campaigning for clearer crypto regulations in the U.S. amid increasing regulatory scrutiny. In a recent interview with The Wall Street Journal, Coinbase CEO Brian Armstrong said the exchange met with the SEC over 30 times in the past year without receiving any feedback on a path to compliance.\\nStock prices dropping due to regulatory activity, such as the SEC\\u2019s proceeding against Coinbase, are often used as a template for private claims of alleged damages, as long as it carries materiality of misleading statements or omissions, Mark Kornfeld, a securities and regulatory attorney, told Cointelegraph. \\\"The devil, as always, is in the details as to whether what is alleged is proven to have occurred,\\\" Kornfeld noted.\\nAccording to corporate and securities lawyer Roland Chase, legal claims from harmed investors against Coinbase and its management could range from \\\"whether the legal analysis that Coinbase conducts every time it considers a crypto asset for listing is adequate\\\" to whether its risk factor disclosure to investors was adequate.\\n\\\"If it [token's listing analysis] is not adequate, and management knew that, or was reckless in not knowing it, there may be a federal securities law claim against Coinbase and its management,\\\" Chase continued.\\nCoinbase to have reviewed over a thousand assets, with 90% being rejected. \\\"We thought some of them could be securities or we had other concerns about them. We really only list a very conservative small number of the assets out there,\\\" Armstrong told WSJ.\\nRegarding its disclosure to investors, Coinbase's filing with regulators in 2021 seemed to predict what it was likely to encounter in the future. The risks section of the filing reads:\\n\\\"A particular crypto asset\\u2019s status as a \\u201csecurity\\u201d in any relevant jurisdiction is subject to a high degree of uncertainty and if we are unable to properly characterize a crypto asset, we may be subject to regulatory scrutiny, investigations, fines, and other penalties, which may adversely affect our business, operating results, and financial condition.\\\"\\nA legal dispute with regulators could take years in court and cost the exchange significant money. Ripple, which is currently in litigation over XRP's alleged security status, has spent over $200 million defending against the SEC lawsuit since 2020.\\nCointelegraph reached out to Coinbase, but did not receive a response.\",\n          \"Informatica Corp. said today it will acquire Privitar Ltd., a London-based maker of access controls and remediation for data privacy and security, for an undisclosed amount.\\nThe company said it plans to incorporate Privitar\\u2019s technology into its Intelligent Data Management Cloud, a platform for analyzing and managing data across large enterprises. The acquisition is expected to be completed in the third quarter of this year.\\nPrivitar\\u2019s software enables businesses to support self-service access to data with collaborative workflows, regulatory controls and cross-platform security enforcement defined by a single policy. It claims to be the first vendor to apply privacy controls within complex data pipelines.\\nThe company provides auditable and compliant access to data assets that conforms to major regulations including the European Union\\u2019s General Data Protection Regulation, the California Consumer Privacy Act and Canada\\u2019s Personal Information Protection and Electronic Documents Act.\\nInformatica already provides data privacy and protection capabilities through its cloud data governance, cataloging and cloud data masking services that include policy management, data classification, sensitive data discovery, data lineage for tracking movement, and data masking for risk exposure remediation, a spokesman said. \\u201cPrivitar brings an additional and complementary level of management granularity through access control definition and policy remediation that deepen Informatica\\u2019s abilities to meet today\\u2019s modern data governance use cases,\\u201d he said.\\n\\u201cData governance and responsible use of data is a growing priority for large businesses, but too often requires trading off agility and self-service,\\u201d Informatica Chief Executive Amit Walia (pictured) said in a statement.\\nPrivitar already has numerous partnerships and a presence on cloud marketplaces. No immediate changes to those arrangements are planned, the spokesman said. \\u201cThe long-term opportunity is to provide Privitar\\u2019s capabilities through Informatica channels as well,\\u201d he said.\\nFor the immediate future, Privitar will remain a standalone product but the long-term plan is to integrate with IDMC, the spokesman said. Pricing has not been determined but the Privitar service will likely carry consumption-based pricing.\\nFounded in 2014, Privitar raised more than $150 million from 17 investors, the most recent funding round an $87 million Series C in 2020. At that time the company was valued at $400 million. Investors include HSBC Venture Capital Coverage Group, Citi Ventures Inc., Accel Partners LP and Salesforce Ventures LLC.\\nThe downward pressure on valuations created by the broad selloff in tech stocks over the past year has made startups more attractive to well-funded firms such as Informatica, which acquired 15 firms over its history, including metadata management software provider Compact Solutions LLC and machine learning technology provider GreenBay Technologies Inc., both in 2020.\\nPhoto: SiliconAngle\\nA message from John Furrier, co-founder of SiliconANGLE:\\nYour vote of support is important to us and it helps us keep the content FREE.\\nOne-click below supports our mission to provide free, deep and relevant content.\\nJoin our community on YouTube\\nJoin the community that includes more than 15,000 #CubeAlumni experts, including Amazon.com CEO Andy Jassy, Dell Technologies founder and CEO Michael Dell, Intel CEO Pat Gelsinger and many more luminaries and experts.\\n\\u201cTheCUBE is an important partner to the industry. You guys really are a part of our events and we really appreciate you coming and I know people appreciate the content you create as well\\u201d \\u2013 Andy Jassy\\nTHANK YOU\"\n        ],\n        \"semantic_type\": \"\",\n        \"description\": \"\"\n      }\n    }\n  ]\n}"
            }
          },
          "metadata": {},
          "execution_count": 4
        }
      ]
    },
    {
      "cell_type": "markdown",
      "source": [
        "# Entity extraction"
      ],
      "metadata": {
        "id": "-tBXEXvRjQVL"
      }
    },
    {
      "cell_type": "code",
      "source": [
        "from langchain_experimental.graph_transformers import LLMGraphTransformer\n",
        "from langchain_openai import ChatOpenAI\n",
        "\n",
        "llm = ChatOpenAI(temperature=0, model_name=\"gpt-4o\")\n",
        "\n",
        "llm_transformer = LLMGraphTransformer(llm=llm, node_properties=[\"description\"])"
      ],
      "metadata": {
        "id": "INfxdQRCPxyW"
      },
      "execution_count": 5,
      "outputs": []
    },
    {
      "cell_type": "code",
      "source": [
        "from typing import List\n",
        "from langchain_community.graphs.graph_document import GraphDocument\n",
        "from langchain_core.documents import Document\n",
        "\n",
        "def process_text(text: str) -> List[GraphDocument]:\n",
        "    doc = Document(page_content=text)\n",
        "    return llm_transformer.convert_to_graph_documents([doc])"
      ],
      "metadata": {
        "id": "doaut5qvTr36"
      },
      "execution_count": 6,
      "outputs": []
    },
    {
      "cell_type": "code",
      "source": [
        "from concurrent.futures import ThreadPoolExecutor, as_completed\n",
        "from tqdm import tqdm  # Import tqdm for progress tracking\n",
        "\n",
        "MAX_WORKERS = 10\n",
        "NUM_ARTICLES = 25\n",
        "graph_documents = []\n",
        "\n",
        "with ThreadPoolExecutor(max_workers=MAX_WORKERS) as executor:\n",
        "    # Submitting all tasks and creating a list of future objects\n",
        "    futures = [\n",
        "        executor.submit(process_text, f\"{row['title']} {row['text']}\")\n",
        "        for i, row in news.head(NUM_ARTICLES).iterrows()\n",
        "    ]\n",
        "\n",
        "    for future in tqdm(\n",
        "        as_completed(futures), total=len(futures), desc=\"Processing documents\"\n",
        "    ):\n",
        "        graph_document = future.result()\n",
        "        graph_documents.extend(graph_document)\n",
        "\n",
        "graph.add_graph_documents(\n",
        "    graph_documents,\n",
        "    baseEntityLabel=True,\n",
        "    include_source=True\n",
        ")"
      ],
      "metadata": {
        "colab": {
          "base_uri": "https://localhost:8080/"
        },
        "id": "vy9GaXqXRrQu",
        "outputId": "dd4454eb-7d82-43f1-9daf-3e9267093188"
      },
      "execution_count": 7,
      "outputs": [
        {
          "output_type": "stream",
          "name": "stderr",
          "text": [
            "Processing documents: 100%|██████████| 25/25 [00:36<00:00,  1.44s/it]\n"
          ]
        }
      ]
    },
    {
      "cell_type": "code",
      "source": [
        "graph.query(\"\"\"\n",
        "MATCH (n:`__Entity__`)\n",
        "RETURN count(*) AS entity_count,\n",
        "       count(n.description) AS non_null_descriptions\n",
        "\"\"\")"
      ],
      "metadata": {
        "colab": {
          "base_uri": "https://localhost:8080/"
        },
        "id": "yhOk0M-6a-a0",
        "outputId": "e04e47b6-bee9-4ed3-ea09-9fff0bddd862"
      },
      "execution_count": 8,
      "outputs": [
        {
          "output_type": "execute_result",
          "data": {
            "text/plain": [
              "[{'entity_count': 244, 'non_null_descriptions': 92}]"
            ]
          },
          "metadata": {},
          "execution_count": 8
        }
      ]
    },
    {
      "cell_type": "code",
      "source": [
        "from langchain_community.vectorstores import Neo4jVector\n",
        "from langchain_openai import OpenAIEmbeddings\n",
        "\n",
        "vector = Neo4jVector.from_existing_graph(\n",
        "    OpenAIEmbeddings(),\n",
        "    node_label='__Entity__',\n",
        "    text_node_properties=['id', 'description'],\n",
        "    embedding_node_property='embedding'\n",
        ")"
      ],
      "metadata": {
        "id": "LYkKe0XOWPTw"
      },
      "execution_count": 9,
      "outputs": []
    },
    {
      "cell_type": "markdown",
      "source": [
        "# Entity resolution"
      ],
      "metadata": {
        "id": "FVphl4p5jIZN"
      }
    },
    {
      "cell_type": "code",
      "source": [
        "from graphdatascience import GraphDataScience\n",
        "# project graph\n",
        "\n",
        "gds = GraphDataScience(\n",
        "    os.environ[\"NEO4J_URI\"],\n",
        "    auth=(os.environ[\"NEO4J_USERNAME\"], os.environ[\"NEO4J_PASSWORD\"])\n",
        ")"
      ],
      "metadata": {
        "id": "3L4VqsAmYspT"
      },
      "execution_count": 10,
      "outputs": []
    },
    {
      "cell_type": "code",
      "source": [
        "G, result = gds.graph.project(\n",
        "    \"entities\",                   #  Graph name\n",
        "    \"__Entity__\",                 #  Node projection\n",
        "    \"*\",                          #  Relationship projection\n",
        "    nodeProperties=[\"embedding\"]  #  Configuration parameters\n",
        ")"
      ],
      "metadata": {
        "id": "nJpLldiUdpsO"
      },
      "execution_count": 12,
      "outputs": []
    },
    {
      "cell_type": "code",
      "source": [
        "gds.knn.mutate(\n",
        "  G,\n",
        "  nodeProperties=['embedding'],\n",
        "  mutateRelationshipType= 'SIMILAR',\n",
        "  mutateProperty= 'score',\n",
        "  similarityCutoff=0.97\n",
        ")"
      ],
      "metadata": {
        "colab": {
          "base_uri": "https://localhost:8080/"
        },
        "id": "DWdGhMmgeuFL",
        "outputId": "d4341b65-b205-4f4d-806c-59d8ade92054"
      },
      "execution_count": 13,
      "outputs": [
        {
          "output_type": "execute_result",
          "data": {
            "text/plain": [
              "ranIterations                                                             6\n",
              "nodePairsConsidered                                                   82718\n",
              "didConverge                                                            True\n",
              "preProcessingMillis                                                       0\n",
              "computeMillis                                                           826\n",
              "mutateMillis                                                             14\n",
              "postProcessingMillis                                                      0\n",
              "nodesCompared                                                           244\n",
              "relationshipsWritten                                                     48\n",
              "similarityDistribution    {'min': 0.9708518981933594, 'p5': 0.9713249206...\n",
              "configuration             {'mutateProperty': 'score', 'jobId': 'f961b687...\n",
              "Name: 0, dtype: object"
            ]
          },
          "metadata": {},
          "execution_count": 13
        }
      ]
    },
    {
      "cell_type": "code",
      "source": [
        "gds.wcc.write(\n",
        "    G,\n",
        "    writeProperty=\"wcc\",\n",
        "    relationshipTypes=[\"SIMILAR\"]\n",
        ")"
      ],
      "metadata": {
        "colab": {
          "base_uri": "https://localhost:8080/"
        },
        "id": "Juc1fFiFf73-",
        "outputId": "5bed673b-6e85-48d0-87cf-dc221008fa71"
      },
      "execution_count": 14,
      "outputs": [
        {
          "output_type": "execute_result",
          "data": {
            "text/plain": [
              "writeMillis                                                            176\n",
              "nodePropertiesWritten                                                  244\n",
              "componentCount                                                         227\n",
              "componentDistribution    {'min': 1, 'p5': 1, 'max': 6, 'p999': 6, 'p99'...\n",
              "postProcessingMillis                                                     2\n",
              "preProcessingMillis                                                      0\n",
              "computeMillis                                                            4\n",
              "configuration            {'writeProperty': 'wcc', 'jobId': '6e3f1124-76...\n",
              "Name: 0, dtype: object"
            ]
          },
          "metadata": {},
          "execution_count": 14
        }
      ]
    },
    {
      "cell_type": "code",
      "source": [
        "graph.query(\n",
        "    \"\"\"MATCH (e:`__Entity__`)\n",
        "    WITH e.wcc AS community, collect(e) AS nodes, count(*) AS count\n",
        "    WHERE count > 1\n",
        "    RETURN [n IN nodes | n.id] AS duplicates\n",
        "    \"\"\")"
      ],
      "metadata": {
        "colab": {
          "base_uri": "https://localhost:8080/"
        },
        "id": "S2mjWpcagO-h",
        "outputId": "8069b4a5-bea8-41d3-bc30-f318efbfdd10"
      },
      "execution_count": 15,
      "outputs": [
        {
          "output_type": "execute_result",
          "data": {
            "text/plain": [
              "[{'duplicates': ['Beijing', 'China']},\n",
              " {'duplicates': ['European Commission', 'European Union']},\n",
              " {'duplicates': ['Man United', 'Manchester United']},\n",
              " {'duplicates': ['Chingona Ventures', 'Samara Hernandez']},\n",
              " {'duplicates': ['S&P 500', 'S&P Global Inc.']},\n",
              " {'duplicates': ['Metahuman', 'Metahuman Hub']},\n",
              " {'duplicates': ['Square Enix', 'Star Ocean: First Departure R']},\n",
              " {'duplicates': ['Carmax Auto Funding Llc', 'Carmax Business Services, Llc']},\n",
              " {'duplicates': ['Vivo X90', 'Vivo X90 Pro']},\n",
              " {'duplicates': ['Mediatek Dimensity 9200+ Soc',\n",
              "   'Mediatek Dimensity 9200 Soc']},\n",
              " {'duplicates': ['Wi-Fi 7', 'Wi-Fi 6']},\n",
              " {'duplicates': ['Spotify',\n",
              "   'Gaana',\n",
              "   'Jiosaavn',\n",
              "   'Google Podcasts',\n",
              "   'Apple Podcasts',\n",
              "   'Amazon Music']},\n",
              " {'duplicates': ['Fastag', 'Fastag System']}]"
            ]
          },
          "metadata": {},
          "execution_count": 15
        }
      ]
    },
    {
      "cell_type": "code",
      "source": [
        "graph.query(\n",
        "    \"\"\"MATCH (e:`__Entity__`)\n",
        "    WITH e.wcc AS community, collect(e) AS nodes, count(*) AS count\n",
        "    WHERE count > 1\n",
        "    CALL apoc.refactor.mergeNodes(nodes)\n",
        "    YIELD node\n",
        "    RETURN count(*)\n",
        "    \"\"\")"
      ],
      "metadata": {
        "colab": {
          "base_uri": "https://localhost:8080/"
        },
        "id": "oFMVc8DUg3RV",
        "outputId": "c2692515-1ecb-4702-e422-6d7f5c6ee43e"
      },
      "execution_count": 16,
      "outputs": [
        {
          "output_type": "execute_result",
          "data": {
            "text/plain": [
              "[{'count(*)': 13}]"
            ]
          },
          "metadata": {},
          "execution_count": 16
        }
      ]
    },
    {
      "cell_type": "code",
      "source": [
        "G.drop()"
      ],
      "metadata": {
        "colab": {
          "base_uri": "https://localhost:8080/"
        },
        "id": "XgGHDn-Wi1BH",
        "outputId": "b2bfaa07-c843-4a44-ae1d-45c8cdbd0533"
      },
      "execution_count": 17,
      "outputs": [
        {
          "output_type": "execute_result",
          "data": {
            "text/plain": [
              "graphName                                                         entities\n",
              "database                                                             neo4j\n",
              "databaseLocation                                                     local\n",
              "memoryUsage                                                               \n",
              "sizeInBytes                                                             -1\n",
              "nodeCount                                                              244\n",
              "relationshipCount                                                      259\n",
              "configuration            {'relationshipProjection': {'__ALL__': {'aggre...\n",
              "density                                                           0.004368\n",
              "creationTime                           2024-06-03T20:16:15.639848763+00:00\n",
              "modificationTime                       2024-06-03T20:16:21.285915603+00:00\n",
              "schema                   {'graphProperties': {}, 'nodes': {'__Entity__'...\n",
              "schemaWithOrientation    {'graphProperties': {}, 'nodes': {'__Entity__'...\n",
              "Name: 0, dtype: object"
            ]
          },
          "metadata": {},
          "execution_count": 17
        }
      ]
    },
    {
      "cell_type": "markdown",
      "source": [
        "# Calculating communities of entities"
      ],
      "metadata": {
        "id": "7Nwk7OgPjVPK"
      }
    },
    {
      "cell_type": "code",
      "source": [
        "G, result = gds.graph.project(\n",
        "    \"entities\",  #  Graph name\n",
        "    \"__Entity__\",  #  Node projection\n",
        "    {\"_ALL_\": {\"type\": \"*\", \"orientation\": \"UNDIRECTED\"}},\n",
        ")\n"
      ],
      "metadata": {
        "id": "9VCZpBBMjGQq"
      },
      "execution_count": 18,
      "outputs": []
    },
    {
      "cell_type": "code",
      "source": [
        "gds.leiden.write(G, writeProperty=\"communities\", includeIntermediateCommunities=True)"
      ],
      "metadata": {
        "colab": {
          "base_uri": "https://localhost:8080/"
        },
        "id": "O9aLrUsykFa0",
        "outputId": "d538e61b-9810-4e2e-d3ac-6a8c6b4e9893"
      },
      "execution_count": 19,
      "outputs": [
        {
          "output_type": "execute_result",
          "data": {
            "text/plain": [
              "writeMillis                                                            184\n",
              "nodePropertiesWritten                                                  227\n",
              "ranLevels                                                                3\n",
              "didConverge                                                           True\n",
              "nodeCount                                                              227\n",
              "communityCount                                                          44\n",
              "communityDistribution    {'min': 1, 'p5': 1, 'max': 17, 'p999': 17, 'p9...\n",
              "modularity                                                        0.958559\n",
              "modularities             [0.8402214685204736, 0.9548415354551786, 0.958...\n",
              "postProcessingMillis                                                     3\n",
              "preProcessingMillis                                                      0\n",
              "computeMillis                                                         1048\n",
              "configuration            {'writeProperty': 'communities', 'theta': 0.01...\n",
              "Name: 0, dtype: object"
            ]
          },
          "metadata": {},
          "execution_count": 19
        }
      ]
    },
    {
      "cell_type": "markdown",
      "source": [
        "# Build community summaries"
      ],
      "metadata": {
        "id": "NEAvzUOdmqkl"
      }
    },
    {
      "cell_type": "code",
      "source": [
        "# Create first level community nodes\n",
        "graph.query(\"\"\"\n",
        "MATCH (e:`__Entity__`)\n",
        "WITH e, '1-' + e.communities[0] AS communityId // first smaller one community\n",
        "MERGE (c:Community {id:communityId})\n",
        "MERGE (e)-[:PART_OF]->(c)\n",
        "\"\"\")"
      ],
      "metadata": {
        "id": "EKRaBUjpwNNs",
        "outputId": "f1b0d5b8-121c-490d-ad84-94a4910403fc",
        "colab": {
          "base_uri": "https://localhost:8080/"
        }
      },
      "execution_count": 20,
      "outputs": [
        {
          "output_type": "execute_result",
          "data": {
            "text/plain": [
              "[]"
            ]
          },
          "metadata": {},
          "execution_count": 20
        }
      ]
    },
    {
      "cell_type": "code",
      "source": [
        "community_info = graph.query(\"\"\"\n",
        "MATCH (e:`__Entity__`)\n",
        "WITH '1-' + e.communities[0] AS communityId, collect(e) AS nodes\n",
        "WHERE size(nodes) > 1\n",
        "CALL apoc.path.subgraphAll(nodes[0], {\n",
        "\twhitelistNodes:nodes\n",
        "})\n",
        "YIELD relationships\n",
        "RETURN communityId, [r in relationships | {start: startNode(r).id, type: type(r), end: endNode(r).id}] AS rels\n",
        "\"\"\")"
      ],
      "metadata": {
        "id": "A4NuLhY0mm3B"
      },
      "execution_count": 22,
      "outputs": []
    },
    {
      "cell_type": "code",
      "source": [
        "community_info[5]"
      ],
      "metadata": {
        "colab": {
          "base_uri": "https://localhost:8080/"
        },
        "id": "Ur4JkHkLe3_i",
        "outputId": "37189a96-ce9c-4fcf-a900-7a1e4be01827"
      },
      "execution_count": 27,
      "outputs": [
        {
          "output_type": "execute_result",
          "data": {
            "text/plain": [
              "{'communityId': '1-18',\n",
              " 'rels': [{'start': 'Ryanair', 'type': 'TERMINATED', 'end': 'Aidan Murray'},\n",
              "  {'start': 'Ryanair', 'type': 'EMPLOYED', 'end': 'Aidan Murray'},\n",
              "  {'start': 'Aidan Murray', 'type': 'REPORTED_BY', 'end': 'The Independent'},\n",
              "  {'start': 'Aidan Murray', 'type': 'HARASSED', 'end': 'Ryanair'},\n",
              "  {'start': 'Aidan Murray', 'type': 'TERMINATED_BY', 'end': 'Darrell Hughes'},\n",
              "  {'start': 'Aidan Murray',\n",
              "   'type': 'REPORTED_BY',\n",
              "   'end': 'The Financial Times'},\n",
              "  {'start': 'Aidan Murray', 'type': 'CONTACTED_BY', 'end': 'Bbc'},\n",
              "  {'start': 'Royal Aeronautical Society',\n",
              "   'type': 'REPORTED',\n",
              "   'end': 'Ryanair'}]}"
            ]
          },
          "metadata": {},
          "execution_count": 27
        }
      ]
    },
    {
      "cell_type": "code",
      "source": [
        "from langchain_core.prompts import ChatPromptTemplate\n",
        "from langchain_core.output_parsers import StrOutputParser\n",
        "\n",
        "community_template = \"\"\"Based on the provided triples that belong to the same graph community,\n",
        "generate a natural language summary of the provided information:\n",
        "{community_info}\n",
        "\n",
        "Summary:\"\"\"  # noqa: E501\n",
        "\n",
        "community_prompt = ChatPromptTemplate.from_messages(\n",
        "    [\n",
        "        (\n",
        "            \"system\",\n",
        "            \"Given an input triples, generate the information summary. No pre-amble.\",\n",
        "        ),\n",
        "        (\"human\", community_template),\n",
        "    ]\n",
        ")\n",
        "\n",
        "community_chain = community_prompt | llm | StrOutputParser()"
      ],
      "metadata": {
        "id": "Tnc8aqN_e5M7"
      },
      "execution_count": 28,
      "outputs": []
    },
    {
      "cell_type": "code",
      "source": [
        "def process_community(community):\n",
        "    stringify_info = \"\\n\".join([f\"{el['start']}-{el['type']}->{el['end']}\" for el in community['rels']])\n",
        "    summary = community_chain.invoke({'community_info': stringify_info})\n",
        "    return {\"community\": community['communityId'], \"summary\": summary}\n",
        "\n",
        "summaries = []\n",
        "with ThreadPoolExecutor() as executor:\n",
        "    futures = {executor.submit(process_community, community): community for community in community_info}\n",
        "\n",
        "    for future in tqdm(as_completed(futures), total=len(futures), desc=\"Processing communities\"):\n",
        "        summaries.append(future.result())"
      ],
      "metadata": {
        "colab": {
          "base_uri": "https://localhost:8080/"
        },
        "id": "5IERhJ3jgWtk",
        "outputId": "16aa2e66-ba08-420f-8758-f1a9a57cf2dd"
      },
      "execution_count": 29,
      "outputs": [
        {
          "output_type": "stream",
          "name": "stderr",
          "text": [
            "Processing communities: 100%|██████████| 63/63 [00:10<00:00,  6.00it/s]\n"
          ]
        }
      ]
    },
    {
      "cell_type": "code",
      "source": [
        "# Store summaries\n",
        "graph.query(\"\"\"\n",
        "UNWIND $data AS row\n",
        "MERGE (c:Community {id:row.community})\n",
        "SET c.summary = row.summary\n",
        "\"\"\", params={\"data\": summaries})"
      ],
      "metadata": {
        "colab": {
          "base_uri": "https://localhost:8080/"
        },
        "id": "mKymAMJehSkw",
        "outputId": "1a0b63e4-abf6-4954-d44b-2c98b4382207"
      },
      "execution_count": 30,
      "outputs": [
        {
          "output_type": "execute_result",
          "data": {
            "text/plain": [
              "[]"
            ]
          },
          "metadata": {},
          "execution_count": 30
        }
      ]
    },
    {
      "cell_type": "code",
      "source": [
        "# Do higher level communities...\n",
        "graph.query(\"\"\"\n",
        "MATCH (e:`__Entity__`)\n",
        "WITH e, '1-' + e.communities[0] AS communityId1, '2-' + e.communities[-1] AS communityId2\n",
        "WITH distinct communityId1, communityId2\n",
        "MATCH (c:Community {id: communityId1})\n",
        "MERGE (c1:Community {id: communityId2})\n",
        "MERGE (c)-[:PART_OF]->(c1)\n",
        "\"\"\")"
      ],
      "metadata": {
        "id": "keDv5H8X12NF",
        "outputId": "18d83468-cab7-4cc4-86b4-90a7108d4cb2",
        "colab": {
          "base_uri": "https://localhost:8080/"
        }
      },
      "execution_count": 32,
      "outputs": [
        {
          "output_type": "execute_result",
          "data": {
            "text/plain": [
              "[]"
            ]
          },
          "metadata": {},
          "execution_count": 32
        }
      ]
    },
    {
      "cell_type": "code",
      "source": [
        "community_info = graph.query(\"\"\"\n",
        "MATCH (e:`__Entity__`)\n",
        "WITH '2-' + e.communities[-1] AS communityId, collect(e) AS nodes\n",
        "WHERE size(nodes) > 1\n",
        "CALL apoc.path.subgraphAll(nodes[0], {\n",
        "\twhitelistNodes:nodes\n",
        "})\n",
        "YIELD relationships\n",
        "RETURN communityId, [r in relationships | {start: startNode(r).id, type: type(r), end: endNode(r).id}] AS rels\n",
        "\"\"\")"
      ],
      "metadata": {
        "id": "bGK8Bf__3FMF"
      },
      "execution_count": 33,
      "outputs": []
    },
    {
      "cell_type": "code",
      "source": [
        "summaries = []\n",
        "with ThreadPoolExecutor() as executor:\n",
        "    futures = {executor.submit(process_community, community): community for community in community_info}\n",
        "\n",
        "    for future in tqdm(as_completed(futures), total=len(futures), desc=\"Processing communities\"):\n",
        "        summaries.append(future.result())"
      ],
      "metadata": {
        "id": "AuJaOzNv3md6",
        "outputId": "1a00428e-e16e-4451-a5b4-7a0cfcf411c8",
        "colab": {
          "base_uri": "https://localhost:8080/"
        }
      },
      "execution_count": 34,
      "outputs": [
        {
          "output_type": "stream",
          "name": "stderr",
          "text": [
            "Processing communities: 100%|██████████| 41/41 [00:11<00:00,  3.54it/s]\n"
          ]
        }
      ]
    },
    {
      "cell_type": "code",
      "source": [
        "# Store summaries\n",
        "graph.query(\"\"\"\n",
        "UNWIND $data AS row\n",
        "MERGE (c:Community {id:row.community})\n",
        "SET c.summary = row.summary\n",
        "\"\"\", params={\"data\": summaries})"
      ],
      "metadata": {
        "id": "nKZNzkKv3nkm",
        "outputId": "c430e1d8-4eb6-4c15-fdb5-3f0a048ca87a",
        "colab": {
          "base_uri": "https://localhost:8080/"
        }
      },
      "execution_count": 35,
      "outputs": [
        {
          "output_type": "execute_result",
          "data": {
            "text/plain": [
              "[]"
            ]
          },
          "metadata": {},
          "execution_count": 35
        }
      ]
    },
    {
      "cell_type": "code",
      "source": [
        "# Calculate embeddings\n",
        "community_vector = Neo4jVector.from_existing_graph(\n",
        "    OpenAIEmbeddings(),\n",
        "    index_name=\"summariesIndex\",\n",
        "    node_label='Community',\n",
        "    text_node_properties=['summary'],\n",
        "    embedding_node_property='embedding'\n",
        ")"
      ],
      "metadata": {
        "id": "Nk5KHBJ_oVCp"
      },
      "execution_count": 40,
      "outputs": []
    },
    {
      "cell_type": "code",
      "source": [
        "community_vector.similarity_search(\"What's the deal with EU and Huawei?\", k=1)"
      ],
      "metadata": {
        "colab": {
          "base_uri": "https://localhost:8080/"
        },
        "id": "F1J61WY6orQk",
        "outputId": "04873026-c454-41da-f078-6c11a48fa0d3"
      },
      "execution_count": 41,
      "outputs": [
        {
          "output_type": "execute_result",
          "data": {
            "text/plain": [
              "[Document(page_content='\\nsummary: The European Union considers Huawei Technologies Co. and Zte Corp. to be high-risk entities. Additionally, the European Union has imposed bans on Tiktok Inc., Zte Corp., and Huawei Technologies Co. Alberto Nardelli and Thomas Seal have both provided assistance to the European Union.')]"
            ]
          },
          "metadata": {},
          "execution_count": 41
        }
      ]
    },
    {
      "cell_type": "markdown",
      "source": [
        "* repeat for larger community\n",
        "* maybe connect community summaries to sth\n",
        "* put a QA chain on top of"
      ],
      "metadata": {
        "id": "DjkrCySYn_Wv"
      }
    }
  ]
}