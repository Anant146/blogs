{
  "nbformat": 4,
  "nbformat_minor": 0,
  "metadata": {
    "colab": {
      "provenance": [],
      "authorship_tag": "ABX9TyOnh4+agq9beEk9AMd7LLJT",
      "include_colab_link": true
    },
    "kernelspec": {
      "name": "python3",
      "display_name": "Python 3"
    },
    "language_info": {
      "name": "python"
    }
  },
  "cells": [
    {
      "cell_type": "markdown",
      "metadata": {
        "id": "view-in-github",
        "colab_type": "text"
      },
      "source": [
        "<a href=\"https://colab.research.google.com/github/tomasonjo/blogs/blob/master/llm/graph_based_prefiltering.ipynb\" target=\"_parent\"><img src=\"https://colab.research.google.com/assets/colab-badge.svg\" alt=\"Open In Colab\"/></a>"
      ]
    },
    {
      "cell_type": "code",
      "execution_count": 1,
      "metadata": {
        "id": "ih-k1Y4QycWI"
      },
      "outputs": [],
      "source": [
        "!pip install --quiet langchain langchain-community langchain-openai neo4j"
      ]
    },
    {
      "cell_type": "code",
      "source": [
        "import os\n",
        "from typing import Dict, List, Optional, Tuple, Type\n",
        "\n",
        "from langchain.agents import AgentExecutor\n",
        "from langchain.agents.format_scratchpad import format_to_openai_function_messages\n",
        "from langchain.agents.output_parsers import OpenAIFunctionsAgentOutputParser\n",
        "from langchain.callbacks.manager import CallbackManagerForToolRun\n",
        "from langchain.prompts import ChatPromptTemplate, MessagesPlaceholder\n",
        "from langchain.pydantic_v1 import BaseModel, Field\n",
        "from langchain.schema import AIMessage, HumanMessage\n",
        "from langchain.tools import BaseTool\n",
        "from langchain.tools.render import format_tool_to_openai_function\n",
        "from langchain_openai import ChatOpenAI, OpenAIEmbeddings\n",
        "\n",
        "from langchain_community.graphs import Neo4jGraph\n",
        "from langchain_community.vectorstores import Neo4jVector\n",
        "from langchain_community.vectorstores.neo4j_vector import remove_lucene_chars"
      ],
      "metadata": {
        "id": "K2Q6_5oh8N0w"
      },
      "execution_count": 2,
      "outputs": []
    },
    {
      "cell_type": "code",
      "source": [
        "import os\n",
        "\n",
        "os.environ[\"OPENAI_API_KEY\"] = \"sk-\"\n",
        "os.environ[\"NEO4J_URI\"] = \"neo4j+s://demo.neo4jlabs.com\"\n",
        "os.environ[\"NEO4J_USERNAME\"] = \"companies\"\n",
        "os.environ[\"NEO4J_PASSWORD\"] = \"companies\"\n",
        "os.environ[\"NEO4J_DATABASE\"] = \"companies\""
      ],
      "metadata": {
        "id": "cbSBFWv6ynpn"
      },
      "execution_count": 3,
      "outputs": []
    },
    {
      "cell_type": "code",
      "source": [
        "embeddings = OpenAIEmbeddings()\n",
        "graph = Neo4jGraph()\n",
        "vector = Neo4jVector.from_existing_index(\n",
        "    embeddings,\n",
        "    index_name=\"news\"\n",
        ")"
      ],
      "metadata": {
        "id": "wBMSBXvY8Ql_"
      },
      "execution_count": 4,
      "outputs": []
    },
    {
      "cell_type": "code",
      "source": [
        "def generate_full_text_query(input: str) -> str:\n",
        "    \"\"\"\n",
        "    Generate a full-text search query for a given input string.\n",
        "\n",
        "    This function constructs a query string suitable for a full-text search.\n",
        "    It processes the input string by splitting it into words and appending a\n",
        "    similarity threshold (~0.8) to each word, then combines them using the AND\n",
        "    operator. Useful for mapping movies and people from user questions\n",
        "    to database values, and allows for some misspelings.\n",
        "    \"\"\"\n",
        "    full_text_query = \"\"\n",
        "    words = [el for el in remove_lucene_chars(input).split() if el]\n",
        "    for word in words[:-1]:\n",
        "        full_text_query += f\" {word}~2 AND\"\n",
        "    full_text_query += f\" {words[-1]}~2\"\n",
        "    return full_text_query.strip()\n",
        "\n",
        "candidate_query = \"\"\"\n",
        "CALL db.index.fulltext.queryNodes($index, $fulltextQuery, {limit: $limit})\n",
        "YIELD node\n",
        "WHERE node:Organization // Filter organization nodes\n",
        "RETURN distinct node.name AS candidate\n",
        "\"\"\"\n",
        "\n",
        "\n",
        "def get_candidates(input: str, limit: int = 5) -> List[Dict[str, str]]:\n",
        "    \"\"\"\n",
        "    Retrieve a list of candidate entities from database based on the input string.\n",
        "\n",
        "    This function queries the Neo4j database using a full-text search. It takes the\n",
        "    input string, generates a full-text query, and executes this query against the\n",
        "    specified index in the database. The function returns a list of candidates\n",
        "    matching the query.\n",
        "    \"\"\"\n",
        "    ft_query = generate_full_text_query(input)\n",
        "    candidates = graph.query(\n",
        "        candidate_query, {\"fulltextQuery\": ft_query, \"index\": 'entity', \"limit\": limit}\n",
        "    )\n",
        "    # If there is direct match return only that, otherwise return all options\n",
        "    direct_match = [el[\"candidate\"] for el in candidates if el[\"candidate\"].lower() == input.lower()]\n",
        "    if direct_match:\n",
        "        return direct_match\n",
        "\n",
        "    return [el[\"candidate\"] for el in candidates]"
      ],
      "metadata": {
        "id": "FEWb2MoTANNV"
      },
      "execution_count": 5,
      "outputs": []
    },
    {
      "cell_type": "code",
      "source": [
        "get_candidates(\"neo4\")"
      ],
      "metadata": {
        "colab": {
          "base_uri": "https://localhost:8080/"
        },
        "id": "m3U_sk97WLgX",
        "outputId": "8ffdd6f1-b056-407e-c35c-4eb3c1b463cc"
      },
      "execution_count": 6,
      "outputs": [
        {
          "output_type": "execute_result",
          "data": {
            "text/plain": [
              "['Net4', 'Neo4j', 'Neos', 'Neo', 'Neon Software']"
            ]
          },
          "metadata": {},
          "execution_count": 6
        }
      ]
    },
    {
      "cell_type": "code",
      "source": [
        "def get_organization_news(\n",
        "    topic: Optional[str] = None,\n",
        "    organization: Optional[str] = None,\n",
        "    country: Optional[str] = None,\n",
        "    sentiment: Optional[str] = None,\n",
        ") -> str:\n",
        "    print(f\"topic: {topic}\")\n",
        "    if topic and not organization and not country and not sentiment:\n",
        "        return vector.similarity_search(topic)\n",
        "    # Uses parallel runtime where available\n",
        "    base_query = (\n",
        "        \"CYPHER runtime = parallel parallelRuntimeSupport=all \"\n",
        "        \"MATCH (c:Chunk)<-[:HAS_CHUNK]-(a) WHERE \"\n",
        "    )\n",
        "    where_queries = []\n",
        "    params = {\"k\": 5}\n",
        "    if organization:\n",
        "        # Map to database\n",
        "        candidates = get_candidates(organization)\n",
        "        if len(candidates) > 1:  # Ask for follow up if too many options\n",
        "            return f\"Ask a follow up question which of the available organizations did the user mean. Available options: {candidates}\"\n",
        "        where_queries.append(\n",
        "            \"EXISTS {(a)-[:MENTIONS]->(:Organization {name: $organization})}\"\n",
        "        )\n",
        "        params[\"organization\"] = candidates[0]\n",
        "    if country:\n",
        "        # No need to disambiguate\n",
        "        where_queries.append(\n",
        "            \"EXISTS {(a)-[:MENTIONS]->(:Organization)-[:IN_CITY]->()-[:IN_COUNTRY]->(:Country {name: $country})}\"\n",
        "        )\n",
        "        params[\"country\"] = country\n",
        "\n",
        "    if sentiment:\n",
        "        if sentiment == \"positive\":\n",
        "            where_queries.append(\"a.sentiment > $sentiment\")\n",
        "            params[\"sentiment\"] = 0.5\n",
        "        else:\n",
        "            where_queries.append(\"a.sentiment < $sentiment\")\n",
        "            params[\"sentiment\"] = -0.5\n",
        "    if topic:  # Do vector comparison\n",
        "        vector_snippet = \" WITH c, a, vector.similarity.cosine(c.embedding,$embedding) AS score ORDER BY score DESC LIMIT toInteger($k) \"\n",
        "        params[\"embedding\"] = embeddings.embed_query(topic)\n",
        "    else:  # Just return the latest data\n",
        "        vector_snippet = \" WITH c, a ORDER BY a.date DESC LIMIT toInteger($k) \"\n",
        "\n",
        "    return_snippet = \"RETURN '#title ' + a.title + '\\n#date ' + toString(a.date) + '\\n#text ' + c.text AS output\"\n",
        "\n",
        "    complete_query = (\n",
        "        base_query + \" AND \".join(where_queries) + vector_snippet + return_snippet\n",
        "    )\n",
        "    print(f\"Cypher: {complete_query}\\n\")\n",
        "    data = graph.query(complete_query, params)\n",
        "    return \"###Article: \".join([el[\"output\"] for el in data])"
      ],
      "metadata": {
        "id": "riQdsgk58S4x"
      },
      "execution_count": 7,
      "outputs": []
    },
    {
      "cell_type": "code",
      "source": [
        "get_organization_news(organization='neo4j', sentiment='positive')"
      ],
      "metadata": {
        "colab": {
          "base_uri": "https://localhost:8080/",
          "height": 212
        },
        "id": "csFQe6RLry4_",
        "outputId": "5e750399-9b2f-4006-cc7b-15c2d772518c"
      },
      "execution_count": 8,
      "outputs": [
        {
          "output_type": "stream",
          "name": "stdout",
          "text": [
            "topic: None\n",
            "Cypher: CYPHER runtime = parallel parallelRuntimeSupport=all MATCH (c:Chunk)<-[:HAS_CHUNK]-(a) WHERE EXISTS {(a)-[:MENTIONS]->(:Organization {name: $organization})} AND a.sentiment > $sentiment WITH c, a ORDER BY a.date DESC LIMIT toInteger($k) RETURN '#title ' + a.title + '\n",
            "#date ' + toString(a.date) + '\n",
            "#text ' + c.text AS output\n",
            "\n"
          ]
        },
        {
          "output_type": "execute_result",
          "data": {
            "text/plain": [
              "'#title Neo4j Announces New Product Integrations with Generative AI Features in Google Cloud Vertex AI\\n#date 2023-06-07T13:00:00Z\\n#text \\'s partnership with Google represents a powerful union of graph technology and cloud computing excellence in a new era of AI,\" said Emil Eifrem, Co-Founder and CEO, Neo4j. \"Together, we empower enterprises seeking to leverage generative AI to better innovate, provide the best outcome for their customers, and unlock the true power of their connected data at unprecedented speed.\"\\nAbout Neo4j\\nNeo4j, the Graph Database & Analytics leader, helps organizations find hidden relationships and patterns across billions of data connections deeply, easily and quickly. Customers leverage the structure of their connected data to reveal new ways of solving their most pressing business problems, from fraud detection, customer 360, knowledge graphs, supply chain, personalization, IoT, network management, and more – even as their data grows. Neo4j\\'s full graph stack delivers powerful native graph storage, data science, advanced analytics, and visualization, with enterprise-grade security controls, scalable architecture and ACID compliance. Neo4j\\'s community of data leaders comprises a vibrant, open-source community of more than 250,000 developers, data scientists, and architects across hundreds of Fortune 500 companies, government agencies and NGOs. Visit neo4j.com.\\nContact:\\npr@neo4j.com\\nneo4j.com/pr\\n© 2022 Neo4j, Inc., Neo Technology®, Neo4j®, Cypher®, Neo4j® Bloom™, Neo4j Graph Data Science Library™, Neo4j® Aura™, Neo4j® AuraDS™, and Neo4j® AuraDB™ are registered trademarks or a trademark of Neo4j, Inc. All other marks are owned by their respective companies.\\nSOURCE Neo4j###Article: #title Neo4j Announces New Product Integrations with Generative AI Features in Google Cloud Vertex AI\\n#date 2023-06-07T13:00:00Z\\n#text  with Google represents a powerful union of graph technology and cloud computing excellence in a new era of AI,\" said Emil Eifrem, Co-Founder and CEO, Neo4j. \"Together, we empower enterprises seeking to leverage generative AI to better innovate, provide the best outcome for their customers, and unlock the true power of their connected data at unprecedented speed.\"\\nAbout Neo4j\\nNeo4j, the Graph Database & Analytics leader, helps organizations find hidden relationships and patterns across billions of data connections deeply, easily and quickly. Customers leverage the structure of their connected data to reveal new ways of solving their most pressing business problems, from fraud detection, customer 360, knowledge graphs, supply chain, personalization, IoT, network management, and more – even as their data grows. Neo4j\\'s full graph stack delivers powerful native graph storage, data science, advanced analytics, and visualization, with enterprise-grade security controls, scalable architecture and ACID compliance. Neo4j\\'s community of data leaders comprises a vibrant, open-source community of more than 250,000 developers, data scientists, and architects across hundreds of Fortune 500 companies, government agencies and NGOs. Visit neo4j.com.\\nContact:\\npr@neo4j.com\\nneo4j.com/pr\\n© 2022 Neo4j, Inc., Neo Technology®, Neo4j®, Cypher®, Neo4j® Bloom™, Neo4j Graph Data Science Library™, Neo4j® Aura™, Neo4j® AuraDS™, and Neo4j® AuraDB™ are registered trademarks or a trademark of Neo4j, Inc. All other marks are owned by their respective companies.\\nSOURCE Neo4j###Article: #title Neo4j Announces New Product Integrations with Generative AI Features in Google Cloud Vertex AI\\n#date 2023-06-07T13:00:00Z\\n#text Enterprise customers can now leverage knowledge graphs with Google\\'s large language models to make generative AI outcomes more accurate, transparent, and explainable\\nSAN MATEO, Calif., June 7, 2023 /PRNewswire/ -- Neo4j®, the world\\'s leading graph database and analytics company, announced a new product integration with Google Cloud\\'s latest generative AI features in Vertex AI, Google\\'s leading large language model (LLM) platform. The result empowers enterprise customers to harness knowledge graphs built on Neo4j\\'s fully managed cloud offerings in Google Cloud Platform for generative AI insights and recommendations that are more accurate, transparent, and explainable.\\nNeo4j\\'s graph database and analytics capabilities can be used to create knowledge graphs, which capture relationships between entities, enabling AI systems to reason, infer, and retrieve relevant information effectively. The result ensures more accurate, explainable, and transparent outcomes for large language models (LLMs) and other generative AI systems.\\nSpecific integrations with Google\\'s generative AI capabilities in Vertex AI enable enterprise customers to:\\nLeverage natural language to interact with knowledge graphs: Vertex AI\\'s generative AI capabilities can be used to provide a natural language interface to the knowledge graph. In this case, Cypher query language statements are generated from user input and used to query the database. This allows non-technical users unfamiliar with database query languages to access the knowledge graph. We will soon provide this capability to existing dashboarding and other user tools that are already used by most Neo4j customers.\\nTransform unstructured data into knowledge graphs: Developers can leverage new generative AI capabilities in Vertex AI to process unstructured data, structure it, and load it into a knowledge graph. Once in a knowledge graph, users extract insights leveraging Neo4j data visualization and query tools such as Bloom for business intelligence (BI) and Neo4j Graph Data Science.\\nReal-time GenAI enrichment: Neo4j databases now have the ability to call Vertex AI services in real-time to enrich knowledge graphs. The input to a generative model can be augmented from structured sources like knowledge graphs as requested context for guiding the model processing. The response can be post-processed for result verification, guard-railing, and enriched for correctly generated semantic entities.\\nSupport for vector embeddings: Neo4j can be leveraged to provide long-term memory for large language models through support of vector embeddings. Neo4j\\'s Graph Data Science supports more than 60 algorithms, including efficient (approximate) nearest neighbor graphs and cosine similarity on embedding vectors to perform similarity searches. This, along with Vertex AI embedding APIs, can be a powerful tool for enterprises to reduce costs and build intelligent applications.\\nGrounding with knowledge graphs: Grounding is the ability of enterprise customers to validate responses received from large language models against enterprise knowledge graphs. This will avoid hallucinations and provide confidence to users in the results received. Developers can use LangChain along with Neo4j-based knowledge graphs to enable grounding use cases.\\nLong-standing strategic partnership since 2019\\nGoogle Cloud and Neo4j launched their strategic partnership in 2019. Hundreds of large enterprises and SMBs have leveraged Neo4j on Google Cloud for AI use cases ranging from anti-money laundering to personalized recommendations, supply chain management, natural language generation, molecular design, digital twinning, and more.\\n\"Businesses are undergoing data- and AI-driven transformations at an unprecedented rate,\" said Nenshad Bardoliwalla, Director of Product Management for Vertex AI, Google Cloud. \"These new integrations between Neo4j and Vertex AI will help businesses create more value and impact with their data and LLMs through capabilities like real-time enrichments and grounding, pattern identification in large datasets, and new abilities to explore their data with natural language.\"\\n\"Neo4j\\'s partnership with Google represents a powerful union of graph technology and cloud computing excellence in a new era of AI,\" said Emil Eifrem, Co-Founder and CEO, Neo4j. \"Together, we empower enterprises seeking to leverage generative AI to better innovate, provide the best outcome for their customers, and unlock the true power of their connected data at unprecedented speed.\"\\nAbout Neo4j\\nNeo4j, the Graph Database & Analytics leader, helps organizations find hidden relationships and patterns across billions of data connections deeply, easily and quickly. Customers leverage the structure of their connected data to reveal new ways of solving their most pressing business problems, from fraud detection, customer 360, knowledge graphs, supply chain, personalization, IoT, network management, and more – even as their data grows. Neo4j\\'s full graph stack delivers powerful native graph storage, data science, advanced analytics, and visualization, with enterprise-grade security controls, scalable architecture and ACID compliance. Neo4###Article: #title Neo4j Announces New Product Integrations with Generative AI Features in Google Cloud Vertex AI\\n#date 2023-06-07T13:00:00Z\\n#text Enterprise customers can now leverage knowledge graphs with Google\\'s large language models to make generative AI outcomes more accurate, transparent, and explainable\\nSAN MATEO, Calif., June 7, 2023 /CNW/ -- Neo4j®, the world\\'s leading graph database and analytics company, announced a new product integration with Google Cloud\\'s latest generative AI features in Vertex AI, Google\\'s leading large language model (LLM) platform. The result empowers enterprise customers to harness knowledge graphs built on Neo4j\\'s fully managed cloud offerings in Google Cloud Platform for generative AI insights and recommendations that are more accurate, transparent, and explainable.\\nNeo4j\\'s graph database and analytics capabilities can be used to create knowledge graphs, which capture relationships between entities, enabling AI systems to reason, infer, and retrieve relevant information effectively. The result ensures more accurate, explainable, and transparent outcomes for large language models (LLMs) and other generative AI systems.\\nSpecific integrations with Google\\'s generative AI capabilities in Vertex AI enable enterprise customers to:\\nLeverage natural language to interact with knowledge graphs: Vertex AI\\'s generative AI capabilities can be used to provide a natural language interface to the knowledge graph. In this case, Cypher query language statements are generated from user input and used to query the database. This allows non-technical users unfamiliar with database query languages to access the knowledge graph. We will soon provide this capability to existing dashboarding and other user tools that are already used by most Neo4j customers.\\nTransform unstructured data into knowledge graphs: Developers can leverage new generative AI capabilities in Vertex AI to process unstructured data, structure it, and load it into a knowledge graph. Once in a knowledge graph, users extract insights leveraging Neo4j data visualization and query tools such as Bloom for business intelligence (BI) and Neo4j Graph Data Science.\\nReal-time GenAI enrichment: Neo4j databases now have the ability to call Vertex AI services in real-time to enrich knowledge graphs. The input to a generative model can be augmented from structured sources like knowledge graphs as requested context for guiding the model processing. The response can be post-processed for result verification, guard-railing, and enriched for correctly generated semantic entities.\\nSupport for vector embeddings: Neo4j can be leveraged to provide long-term memory for large language models through support of vector embeddings. Neo4j\\'s Graph Data Science supports more than 60 algorithms, including efficient (approximate) nearest neighbor graphs and cosine similarity on embedding vectors to perform similarity searches. This, along with Vertex AI embedding APIs, can be a powerful tool for enterprises to reduce costs and build intelligent applications.\\nGrounding with knowledge graphs: Grounding is the ability of enterprise customers to validate responses received from large language models against enterprise knowledge graphs. This will avoid hallucinations and provide confidence to users in the results received. Developers can use LangChain along with Neo4j-based knowledge graphs to enable grounding use cases.\\nLong-standing strategic partnership since 2019\\nGoogle Cloud and Neo4j launched their strategic partnership in 2019. Hundreds of large enterprises and SMBs have leveraged Neo4j on Google Cloud for AI use cases ranging from anti-money laundering to personalized recommendations, supply chain management, natural language generation, molecular design, digital twinning, and more.\\n\"Businesses are undergoing data- and AI-driven transformations at an unprecedented rate,\" said Nenshad Bardoliwalla, Director of Product Management for Vertex AI, Google Cloud. \"These new integrations between Neo4j and Vertex AI will help businesses create more value and impact with their data and LLMs through capabilities like real-time enrichments and grounding, pattern identification in large datasets, and new abilities to explore their data with natural language.\"\\n\"Neo4j\\'s partnership with Google represents a powerful union of graph technology and cloud computing excellence in a new era of AI,\" said Emil Eifrem, Co-Founder and CEO, Neo4j. \"Together, we empower enterprises seeking to leverage generative AI to better innovate, provide the best outcome for their customers, and unlock the true power of their connected data at unprecedented speed.\"\\nAbout Neo4j\\nNeo4j, the Graph Database & Analytics leader, helps organizations find hidden relationships and patterns across billions of data connections deeply, easily and quickly. Customers leverage the structure of their connected data to reveal new ways of solving their most pressing business problems, from fraud detection, customer 360, knowledge graphs, supply chain, personalization, IoT, network management, and more – even as their data grows. Neo4j\\'s full graph stack delivers powerful native graph storage, data science, advanced analytics, and visualization, with enterprise-grade security controls, scalable architecture and ACID compliance. Neo4j\\'s###Article: #title DXC Technology snags award at Neo4j GraphSummit Australia\\n#date 2023-05-09T03:05:00Z\\n#text Graph database and analytics company Neo4j announced the winners of the 2023 Graphie Awards in Australia and New Zealand, where DXC Technology was awarded.\\nNeo4j aimed to recognise organisations and individuals for “outstanding innovation in implementing Neo4j’s graph technology.”\\nThe awards ceremony was held during the 2023 GraphSummit Australia in Sydney, Canberra and Melbourne from 3 to 9 May.\\nThe successful entrants were selected based on their exemplary use of graph technology to address the most significant enterprise challenges.\\nIT provider DXC technology was awarded for its Excellence in Data Driven Career Development.\\nGraphSummit also featured key Neo4j community leaders and local customers showcasing the most promising applications of graph technology in their respective fields.\\nThis included DXC Technology’s human experience management and workforce management data analytics Michele Howard.\\nOthers acknowledged included GraphAware’s general manager ANZ Dan Newland and InterVenn BioSciences manager Matthew Campbel.\\nNeo4j general manager ANZ Peter Philipp said: “we are excited to celebrate these exceptional organisations who are successfully tackling the complexities of digital ecosystems with graph technology.”\\n“It was a challenge to select the winners from an impressive list of finalists – we can’t wait to see them further excel with Neo4j playing a pivotal role,” he added.'"
            ],
            "application/vnd.google.colaboratory.intrinsic+json": {
              "type": "string"
            }
          },
          "metadata": {},
          "execution_count": 8
        }
      ]
    },
    {
      "cell_type": "code",
      "source": [
        "fewshot_examples = \"\"\"{Input:What are the health benefits for Google employees in the news? Query: Health benefits}\n",
        "{Input: What is the latest positive news about Google? Query: None}\n",
        "{Input: Are there any news about VertexAI regarding Google? Query: VertexAI}\n",
        "{Input: Are there any news about new products regarding Google? Query: new products}\n",
        "\"\"\"\n",
        "\n",
        "class NewsInput(BaseModel):\n",
        "    topic: Optional[str] = Field(\n",
        "        description=\"Any specific information or topic besides organization, country, and sentiment that the user is interested in. Here are some examples: \"\n",
        "        + fewshot_examples\n",
        "    )\n",
        "    organization: Optional[str] = Field(\n",
        "        description=\"Organization that the user wants to find information about\"\n",
        "    )\n",
        "    country: Optional[str] = Field(\n",
        "        description=\"Country of organizations that the user is interested in. Use full names like United States of America and France.\"\n",
        "    )\n",
        "    sentiment: Optional[str] = Field(\n",
        "        description=\"Sentiment of articles\", enum=[\"positive\", \"negative\"]\n",
        "    )\n",
        "\n",
        "class NewsTool(BaseTool):\n",
        "    name = \"Information\"\n",
        "    description = (\n",
        "        \"useful for when you need to answer questions about various actors or movies\"\n",
        "    )\n",
        "    args_schema: Type[BaseModel] = NewsInput\n",
        "\n",
        "    def _run(\n",
        "        self,\n",
        "        topic: Optional[str] = None,\n",
        "        organization: Optional[str] = None,\n",
        "        country: Optional[str] = None,\n",
        "        sentiment: Optional[str] = None,\n",
        "        run_manager: Optional[CallbackManagerForToolRun] = None,\n",
        "    ) -> str:\n",
        "        \"\"\"Use the tool.\"\"\"\n",
        "        return get_organization_news(topic, organization, country, sentiment)\n",
        "\n",
        "    async def _arun(\n",
        "        self,\n",
        "        topic: Optional[str] = None,\n",
        "        organization: Optional[str] = None,\n",
        "        country: Optional[str] = None,\n",
        "        sentiment: Optional[str] = None,\n",
        "        run_manager: Optional[CallbackManagerForToolRun] = None,\n",
        "    ) -> str:\n",
        "        \"\"\"Use the tool asynchronously.\"\"\"\n",
        "        return get_organization_news(topic, organization, country, sentiment)"
      ],
      "metadata": {
        "id": "ycDERj_0vIOA"
      },
      "execution_count": 9,
      "outputs": []
    },
    {
      "cell_type": "code",
      "source": [
        "llm = ChatOpenAI(temperature=0, model=\"gpt-4-turbo\", streaming=True)\n",
        "tools = [NewsTool()]\n",
        "\n",
        "llm_with_tools = llm.bind(functions=[format_tool_to_openai_function(t) for t in tools])\n",
        "\n",
        "prompt = ChatPromptTemplate.from_messages(\n",
        "    [\n",
        "        (\n",
        "            \"system\",\n",
        "            \"You are a helpful assistant that finds information about movies \"\n",
        "            \" and recommends them. If tools require follow up questions, \"\n",
        "            \"make sure to ask the user for clarification. Make sure to include any \"\n",
        "            \"available options that need to be clarified in the follow up questions \"\n",
        "            \"Do only the things the user specifically requested. \",\n",
        "        ),\n",
        "        MessagesPlaceholder(variable_name=\"chat_history\"),\n",
        "        (\"user\", \"{input}\"),\n",
        "        MessagesPlaceholder(variable_name=\"agent_scratchpad\"),\n",
        "    ]\n",
        ")\n",
        "\n",
        "def _format_chat_history(chat_history: List[Tuple[str, str]]):\n",
        "    buffer = []\n",
        "    for human, ai in chat_history:\n",
        "        buffer.append(HumanMessage(content=human))\n",
        "        buffer.append(AIMessage(content=ai))\n",
        "    return buffer\n",
        "\n",
        "\n",
        "agent = (\n",
        "    {\n",
        "        \"input\": lambda x: x[\"input\"],\n",
        "        \"chat_history\": lambda x: _format_chat_history(x[\"chat_history\"])\n",
        "        if x.get(\"chat_history\")\n",
        "        else [],\n",
        "        \"agent_scratchpad\": lambda x: format_to_openai_function_messages(\n",
        "            x[\"intermediate_steps\"]\n",
        "        ),\n",
        "    }\n",
        "    | prompt\n",
        "    | llm_with_tools\n",
        "    | OpenAIFunctionsAgentOutputParser()\n",
        ")\n",
        "\n",
        "agent_executor = AgentExecutor(agent=agent, tools=tools)"
      ],
      "metadata": {
        "colab": {
          "base_uri": "https://localhost:8080/"
        },
        "id": "eVqQKCpYoKD3",
        "outputId": "c4aa339b-6f61-4ebc-a8a4-8a0f86c723b0"
      },
      "execution_count": 10,
      "outputs": [
        {
          "output_type": "stream",
          "name": "stderr",
          "text": [
            "/usr/local/lib/python3.10/dist-packages/langchain_core/_api/deprecation.py:119: LangChainDeprecationWarning: The function `format_tool_to_openai_function` was deprecated in LangChain 0.1.16 and will be removed in 0.2.0. Use langchain_core.utils.function_calling.convert_to_openai_function() instead.\n",
            "  warn_deprecated(\n"
          ]
        }
      ]
    },
    {
      "cell_type": "code",
      "source": [
        "agent_executor.invoke({\"input\": \"What are some news regarding neo4j?\"})"
      ],
      "metadata": {
        "colab": {
          "base_uri": "https://localhost:8080/"
        },
        "id": "2V_LDraWumtp",
        "outputId": "9a22ca52-7142-4116-bf1c-c9c74bb8054c"
      },
      "execution_count": 11,
      "outputs": [
        {
          "output_type": "stream",
          "name": "stdout",
          "text": [
            "topic: None\n",
            "Cypher: CYPHER runtime = parallel parallelRuntimeSupport=all MATCH (c:Chunk)<-[:HAS_CHUNK]-(a) WHERE EXISTS {(a)-[:MENTIONS]->(:Organization {name: $organization})} WITH c, a ORDER BY a.date DESC LIMIT toInteger($k) RETURN '#title ' + a.title + '\n",
            "#date ' + toString(a.date) + '\n",
            "#text ' + c.text AS output\n",
            "\n"
          ]
        },
        {
          "output_type": "execute_result",
          "data": {
            "text/plain": [
              "{'input': 'What are some news regarding neo4j?',\n",
              " 'output': 'Neo4j, a leader in graph databases and analytics, has recently announced new product integrations with generative AI features in Google Cloud Vertex AI. This collaboration aims to empower enterprise customers by leveraging knowledge graphs for more accurate, transparent, and explainable generative AI outcomes. The integration allows for natural language interaction with knowledge graphs, transformation of unstructured data into structured knowledge graphs, real-time AI enrichment, support for vector embeddings, and grounding capabilities to validate AI responses against enterprise knowledge graphs. This strategic partnership with Google Cloud, initiated in 2019, continues to provide innovative solutions for a wide range of AI use cases.'}"
            ]
          },
          "metadata": {},
          "execution_count": 11
        }
      ]
    },
    {
      "cell_type": "code",
      "source": [
        "agent_executor.invoke({\"input\": \"What are some positive news regarding neo4j?\"})"
      ],
      "metadata": {
        "colab": {
          "base_uri": "https://localhost:8080/"
        },
        "id": "hslLZZXDoeIq",
        "outputId": "f60d3dbc-42f4-4997-df61-8b90d44991bc"
      },
      "execution_count": 12,
      "outputs": [
        {
          "output_type": "stream",
          "name": "stdout",
          "text": [
            "topic: None\n",
            "Cypher: CYPHER runtime = parallel parallelRuntimeSupport=all MATCH (c:Chunk)<-[:HAS_CHUNK]-(a) WHERE EXISTS {(a)-[:MENTIONS]->(:Organization {name: $organization})} AND a.sentiment > $sentiment WITH c, a ORDER BY a.date DESC LIMIT toInteger($k) RETURN '#title ' + a.title + '\n",
            "#date ' + toString(a.date) + '\n",
            "#text ' + c.text AS output\n",
            "\n"
          ]
        },
        {
          "output_type": "execute_result",
          "data": {
            "text/plain": [
              "{'input': 'What are some positive news regarding neo4j?',\n",
              " 'output': \"Here are some positive news regarding Neo4j:\\n\\n1. **New Product Integrations with Generative AI Features in Google Cloud Vertex AI**:\\n   - Neo4j has announced a new product integration with Google Cloud's Vertex AI, which includes generative AI features. This integration allows enterprise customers to leverage knowledge graphs for more accurate, transparent, and explainable AI outcomes. The collaboration highlights Neo4j's capabilities in enhancing AI systems with its graph database and analytics, providing a natural language interface to knowledge graphs, transforming unstructured data, and supporting vector embeddings for large language models.\\n\\n2. **Recognition at GraphSummit Australia**:\\n   - During the 2023 GraphSummit in Australia, Neo4j announced the winners of the 2023 Graphie Awards, recognizing organizations and individuals for outstanding innovation in implementing Neo4j’s graph technology. DXC Technology was awarded for its Excellence in Data Driven Career Development, showcasing the impactful applications of Neo4j's technology in various fields.\\n\\nThese developments highlight Neo4j's role in advancing graph database technology and its integration with AI, as well as its recognition in the industry for innovation and excellence.\"}"
            ]
          },
          "metadata": {},
          "execution_count": 12
        }
      ]
    },
    {
      "cell_type": "code",
      "source": [
        "agent_executor.invoke({\"input\": \"What are some of the latest negative news about companies from France?\"})"
      ],
      "metadata": {
        "colab": {
          "base_uri": "https://localhost:8080/"
        },
        "id": "yEm97IsmpJgo",
        "outputId": "f5a243f5-c115-4920-8497-dcc8324ea460"
      },
      "execution_count": 13,
      "outputs": [
        {
          "output_type": "stream",
          "name": "stdout",
          "text": [
            "topic: None\n",
            "Cypher: CYPHER runtime = parallel parallelRuntimeSupport=all MATCH (c:Chunk)<-[:HAS_CHUNK]-(a) WHERE EXISTS {(a)-[:MENTIONS]->(:Organization)-[:IN_CITY]->()-[:IN_COUNTRY]->(:Country {name: $country})} AND a.sentiment < $sentiment WITH c, a ORDER BY a.date DESC LIMIT toInteger($k) RETURN '#title ' + a.title + '\n",
            "#date ' + toString(a.date) + '\n",
            "#text ' + c.text AS output\n",
            "\n"
          ]
        },
        {
          "output_type": "execute_result",
          "data": {
            "text/plain": [
              "{'input': 'What are some of the latest negative news about companies from France?',\n",
              " 'output': \"Here are some of the latest negative news about companies from France:\\n\\n1. **Vodafone-CK Hutchison's UK Merger Under CMA Scrutiny:**\\n   - The merger of Vodafone Group PLC and CK Hutchison Holdings Ltd's UK telecommunication businesses has come under scrutiny by the UK's Competition and Markets Authority (CMA). There are concerns about the merger's approval under the National Security and Investment Act, which allows the British government to intervene in deals posing a risk. The merger faces a tough regulatory path ahead, with potential issues related to competition and consumer choice.\\n\\n2. **Boksburg Explosion:**\\n   - A devastating fuel tanker explosion in Boksburg, Gauteng, resulted in 41 deaths. The truck was transporting liquefied petroleum gas and got stuck under a bridge near the Tambo Memorial Hospital. The investigation is complete, and the Gauteng police are waiting for a decision from the Director of Public Prosecution (DPP) on whether to prosecute the trucking company or the driver.\\n\\nThese articles highlight significant challenges and regulatory scrutiny faced by companies, impacting their operations and public perception.\"}"
            ]
          },
          "metadata": {},
          "execution_count": 13
        }
      ]
    },
    {
      "cell_type": "code",
      "source": [
        "agent_executor.invoke({\"input\": \"Is there any information about new products for Apple?\"})"
      ],
      "metadata": {
        "colab": {
          "base_uri": "https://localhost:8080/"
        },
        "id": "gKHbc-8zp1Nw",
        "outputId": "8e0d8dbb-9c6c-4873-bf10-667e04420a3b"
      },
      "execution_count": 14,
      "outputs": [
        {
          "output_type": "stream",
          "name": "stdout",
          "text": [
            "topic: new products\n",
            "Cypher: CYPHER runtime = parallel parallelRuntimeSupport=all MATCH (c:Chunk)<-[:HAS_CHUNK]-(a) WHERE EXISTS {(a)-[:MENTIONS]->(:Organization {name: $organization})} WITH c, a, vector.similarity.cosine(c.embedding,$embedding) AS score ORDER BY score DESC LIMIT toInteger($k) RETURN '#title ' + a.title + '\n",
            "#date ' + toString(a.date) + '\n",
            "#text ' + c.text AS output\n",
            "\n"
          ]
        },
        {
          "output_type": "execute_result",
          "data": {
            "text/plain": [
              "{'input': 'Is there any information about new products for Apple?',\n",
              " 'output': 'Apple has been developing a new product called the Vision Pro, which is a mixed-reality (VR/AR) headset. This product is expected to transform the retail experience in Apple Stores, emphasizing a more immersive and personalized environment. The Vision Pro headset will feature advanced technology, including an electric focus drive system that automatically adjusts the headset’s lenses to ensure clear vision for users. Additionally, Apple has involved several suppliers, including Luxshare and other mainland suppliers, to assist in the production of this headset.'}"
            ]
          },
          "metadata": {},
          "execution_count": 14
        }
      ]
    },
    {
      "cell_type": "code",
      "source": [],
      "metadata": {
        "id": "0RZrB6rqqQ0j"
      },
      "execution_count": 14,
      "outputs": []
    }
  ]
}