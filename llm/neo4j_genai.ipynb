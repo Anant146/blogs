{
  "nbformat": 4,
  "nbformat_minor": 0,
  "metadata": {
    "colab": {
      "provenance": [],
      "machine_shape": "hm",
      "authorship_tag": "ABX9TyMNckcdIpYt1scq3DGzEtMb",
      "include_colab_link": true
    },
    "kernelspec": {
      "name": "python3",
      "display_name": "Python 3"
    },
    "language_info": {
      "name": "python"
    }
  },
  "cells": [
    {
      "cell_type": "markdown",
      "metadata": {
        "id": "view-in-github",
        "colab_type": "text"
      },
      "source": [
        "<a href=\"https://colab.research.google.com/github/tomasonjo/blogs/blob/master/llm/neo4j_genai.ipynb\" target=\"_parent\"><img src=\"https://colab.research.google.com/assets/colab-badge.svg\" alt=\"Open In Colab\"/></a>"
      ]
    },
    {
      "cell_type": "code",
      "execution_count": 8,
      "metadata": {
        "colab": {
          "base_uri": "https://localhost:8080/"
        },
        "id": "u_ZmmAKpM74W",
        "outputId": "45e21a82-3402-4895-f50e-8924151a674c"
      },
      "outputs": [
        {
          "output_type": "stream",
          "name": "stdout",
          "text": [
            "Requirement already satisfied: neo4j-graphrag in /usr/local/lib/python3.10/dist-packages (0.6.2)\n",
            "Requirement already satisfied: eval-type-backport<0.3.0,>=0.2.0 in /usr/local/lib/python3.10/dist-packages (from neo4j-graphrag) (0.2.0)\n",
            "Requirement already satisfied: neo4j<6.0.0,>=5.17.0 in /usr/local/lib/python3.10/dist-packages (from neo4j-graphrag) (5.24.0)\n",
            "Requirement already satisfied: pydantic<3.0.0,>=2.6.3 in /usr/local/lib/python3.10/dist-packages (from neo4j-graphrag) (2.9.1)\n",
            "Requirement already satisfied: pypdf<5.0.0,>=4.3.1 in /usr/local/lib/python3.10/dist-packages (from neo4j-graphrag) (4.3.1)\n",
            "Requirement already satisfied: types-mock<6.0.0.0,>=5.1.0.20240425 in /usr/local/lib/python3.10/dist-packages (from neo4j-graphrag) (5.1.0.20240425)\n",
            "Requirement already satisfied: types-requests<3.0.0.0,>=2.31.0.20240218 in /usr/local/lib/python3.10/dist-packages (from neo4j-graphrag) (2.32.0.20240914)\n",
            "Requirement already satisfied: pytz in /usr/local/lib/python3.10/dist-packages (from neo4j<6.0.0,>=5.17.0->neo4j-graphrag) (2024.2)\n",
            "Requirement already satisfied: annotated-types>=0.6.0 in /usr/local/lib/python3.10/dist-packages (from pydantic<3.0.0,>=2.6.3->neo4j-graphrag) (0.7.0)\n",
            "Requirement already satisfied: pydantic-core==2.23.3 in /usr/local/lib/python3.10/dist-packages (from pydantic<3.0.0,>=2.6.3->neo4j-graphrag) (2.23.3)\n",
            "Requirement already satisfied: typing-extensions>=4.6.1 in /usr/local/lib/python3.10/dist-packages (from pydantic<3.0.0,>=2.6.3->neo4j-graphrag) (4.12.2)\n",
            "Requirement already satisfied: urllib3>=2 in /usr/local/lib/python3.10/dist-packages (from types-requests<3.0.0.0,>=2.31.0.20240218->neo4j-graphrag) (2.0.7)\n"
          ]
        }
      ],
      "source": [
        "!pip install neo4j-graphrag"
      ]
    },
    {
      "cell_type": "code",
      "source": [
        "from neo4j_genai.experimental.components.schema import (\n",
        "    SchemaBuilder,\n",
        "    SchemaEntity,\n",
        "    SchemaProperty,\n",
        "    SchemaRelation,\n",
        ")\n",
        "\n",
        "schema_builder = SchemaBuilder()\n",
        "\n",
        "schema_builder.run(\n",
        "    entities=[\n",
        "        SchemaEntity(\n",
        "            label=\"Gene\",\n",
        "            properties=[\n",
        "                SchemaProperty(name=\"gene_id\", type=\"STRING\"),\n",
        "                SchemaProperty(name=\"symbol\", type=\"STRING\"),\n",
        "                SchemaProperty(name=\"full_name\", type=\"STRING\"),\n",
        "                SchemaProperty(name=\"chromosome\", type=\"STRING\"),\n",
        "                SchemaProperty(name=\"location\", type=\"STRING\"),\n",
        "            ],\n",
        "        ),\n",
        "        SchemaEntity(\n",
        "            label=\"Disease\",\n",
        "            properties=[\n",
        "                SchemaProperty(name=\"disease_id\", type=\"STRING\"),\n",
        "                SchemaProperty(name=\"name\", type=\"STRING\"),\n",
        "                SchemaProperty(name=\"category\", type=\"STRING\"),\n",
        "                SchemaProperty(name=\"description\", type=\"STRING\"),\n",
        "            ],\n",
        "        ),\n",
        "        SchemaEntity(\n",
        "            label=\"Drug\",\n",
        "            properties=[\n",
        "                SchemaProperty(name=\"drug_id\", type=\"STRING\"),\n",
        "                SchemaProperty(name=\"name\", type=\"STRING\"),\n",
        "                SchemaProperty(name=\"type\", type=\"STRING\"),\n",
        "                SchemaProperty(name=\"mechanism_of_action\", type=\"STRING\"),\n",
        "            ],\n",
        "        ),\n",
        "        SchemaEntity(\n",
        "            label=\"Protein\",\n",
        "            properties=[\n",
        "                SchemaProperty(name=\"protein_id\", type=\"STRING\"),\n",
        "                SchemaProperty(name=\"name\", type=\"STRING\"),\n",
        "                SchemaProperty(name=\"sequence\", type=\"STRING\"),\n",
        "                SchemaProperty(name=\"function\", type=\"STRING\"),\n",
        "            ],\n",
        "        ),\n",
        "        SchemaEntity(\n",
        "            label=\"Pathway\",\n",
        "            properties=[\n",
        "                SchemaProperty(name=\"pathway_id\", type=\"STRING\"),\n",
        "                SchemaProperty(name=\"name\", type=\"STRING\"),\n",
        "                SchemaProperty(name=\"description\", type=\"STRING\"),\n",
        "            ],\n",
        "        ),\n",
        "    ],\n",
        "    relations=[\n",
        "        SchemaRelation(\n",
        "            label=\"ASSOCIATED_WITH\",\n",
        "        ),\n",
        "        SchemaRelation(\n",
        "            label=\"TARGETS\",\n",
        "        ),\n",
        "        SchemaRelation(\n",
        "            label=\"INTERACTS_WITH\",\n",
        "        ),\n",
        "        SchemaRelation(\n",
        "            label=\"PART_OF\",\n",
        "        ),\n",
        "        SchemaRelation(\n",
        "            label=\"INVOLVED_IN\",\n",
        "        ),\n",
        "    ],\n",
        "    possible_schema=[\n",
        "        (\"Gene\", \"ASSOCIATED_WITH\", \"Disease\"),\n",
        "        (\"Gene\", \"TARGETS\", \"Drug\"),\n",
        "        (\"Protein\", \"INTERACTS_WITH\", \"Protein\"),\n",
        "        (\"Drug\", \"TARGETS\", \"Protein\"),\n",
        "        (\"Pathway\", \"PART_OF\", \"Gene\"),\n",
        "        (\"Gene\", \"INVOLVED_IN\", \"Pathway\"),\n",
        "        (\"Disease\", \"INVOLVED_IN\", \"Pathway\"),\n",
        "    ],\n",
        ")"
      ],
      "metadata": {
        "colab": {
          "base_uri": "https://localhost:8080/",
          "height": 542
        },
        "id": "7vvHWrhuM_o0",
        "outputId": "daaeb7fd-dc7f-4393-fd05-c84163593cee"
      },
      "execution_count": null,
      "outputs": [
        {
          "output_type": "error",
          "ename": "ModuleNotFoundError",
          "evalue": "No module named 'pygraphviz'",
          "traceback": [
            "\u001b[0;31m---------------------------------------------------------------------------\u001b[0m",
            "\u001b[0;31mModuleNotFoundError\u001b[0m                       Traceback (most recent call last)",
            "\u001b[0;32m<ipython-input-4-ff4e8764678d>\u001b[0m in \u001b[0;36m<cell line: 1>\u001b[0;34m()\u001b[0m\n\u001b[0;32m----> 1\u001b[0;31m from neo4j_genai.experimental.components.schema import (\n\u001b[0m\u001b[1;32m      2\u001b[0m     \u001b[0mSchemaBuilder\u001b[0m\u001b[0;34m,\u001b[0m\u001b[0;34m\u001b[0m\u001b[0;34m\u001b[0m\u001b[0m\n\u001b[1;32m      3\u001b[0m     \u001b[0mSchemaEntity\u001b[0m\u001b[0;34m,\u001b[0m\u001b[0;34m\u001b[0m\u001b[0;34m\u001b[0m\u001b[0m\n\u001b[1;32m      4\u001b[0m     \u001b[0mSchemaProperty\u001b[0m\u001b[0;34m,\u001b[0m\u001b[0;34m\u001b[0m\u001b[0;34m\u001b[0m\u001b[0m\n\u001b[1;32m      5\u001b[0m     \u001b[0mSchemaRelation\u001b[0m\u001b[0;34m,\u001b[0m\u001b[0;34m\u001b[0m\u001b[0;34m\u001b[0m\u001b[0m\n",
            "\u001b[0;32m/usr/local/lib/python3.10/dist-packages/neo4j_genai/experimental/components/schema.py\u001b[0m in \u001b[0;36m<module>\u001b[0;34m\u001b[0m\n\u001b[1;32m     20\u001b[0m \u001b[0;34m\u001b[0m\u001b[0m\n\u001b[1;32m     21\u001b[0m \u001b[0;32mfrom\u001b[0m \u001b[0mneo4j_genai\u001b[0m\u001b[0;34m.\u001b[0m\u001b[0mexceptions\u001b[0m \u001b[0;32mimport\u001b[0m \u001b[0mSchemaValidationError\u001b[0m\u001b[0;34m\u001b[0m\u001b[0;34m\u001b[0m\u001b[0m\n\u001b[0;32m---> 22\u001b[0;31m \u001b[0;32mfrom\u001b[0m \u001b[0mneo4j_genai\u001b[0m\u001b[0;34m.\u001b[0m\u001b[0mexperimental\u001b[0m\u001b[0;34m.\u001b[0m\u001b[0mpipeline\u001b[0m \u001b[0;32mimport\u001b[0m \u001b[0mComponent\u001b[0m\u001b[0;34m,\u001b[0m \u001b[0mDataModel\u001b[0m\u001b[0;34m\u001b[0m\u001b[0;34m\u001b[0m\u001b[0m\n\u001b[0m\u001b[1;32m     23\u001b[0m \u001b[0;34m\u001b[0m\u001b[0m\n\u001b[1;32m     24\u001b[0m \u001b[0;34m\u001b[0m\u001b[0m\n",
            "\u001b[0;32m/usr/local/lib/python3.10/dist-packages/neo4j_genai/experimental/pipeline/__init__.py\u001b[0m in \u001b[0;36m<module>\u001b[0;34m\u001b[0m\n\u001b[1;32m     14\u001b[0m \u001b[0;31m#  limitations under the License.\u001b[0m\u001b[0;34m\u001b[0m\u001b[0;34m\u001b[0m\u001b[0m\n\u001b[1;32m     15\u001b[0m \u001b[0;32mfrom\u001b[0m \u001b[0;34m.\u001b[0m\u001b[0mcomponent\u001b[0m \u001b[0;32mimport\u001b[0m \u001b[0mComponent\u001b[0m\u001b[0;34m,\u001b[0m \u001b[0mDataModel\u001b[0m\u001b[0;34m\u001b[0m\u001b[0;34m\u001b[0m\u001b[0m\n\u001b[0;32m---> 16\u001b[0;31m \u001b[0;32mfrom\u001b[0m \u001b[0;34m.\u001b[0m\u001b[0mpipeline\u001b[0m \u001b[0;32mimport\u001b[0m \u001b[0mPipeline\u001b[0m\u001b[0;34m\u001b[0m\u001b[0;34m\u001b[0m\u001b[0m\n\u001b[0m\u001b[1;32m     17\u001b[0m \u001b[0;32mfrom\u001b[0m \u001b[0;34m.\u001b[0m\u001b[0mstores\u001b[0m \u001b[0;32mimport\u001b[0m \u001b[0mInMemoryStore\u001b[0m\u001b[0;34m,\u001b[0m \u001b[0mStore\u001b[0m\u001b[0;34m\u001b[0m\u001b[0;34m\u001b[0m\u001b[0m\n\u001b[1;32m     18\u001b[0m \u001b[0;34m\u001b[0m\u001b[0m\n",
            "\u001b[0;32m/usr/local/lib/python3.10/dist-packages/neo4j_genai/experimental/pipeline/pipeline.py\u001b[0m in \u001b[0;36m<module>\u001b[0;34m\u001b[0m\n\u001b[1;32m     25\u001b[0m \u001b[0;32mfrom\u001b[0m \u001b[0mtyping\u001b[0m \u001b[0;32mimport\u001b[0m \u001b[0mAny\u001b[0m\u001b[0;34m,\u001b[0m \u001b[0mAsyncGenerator\u001b[0m\u001b[0;34m,\u001b[0m \u001b[0mOptional\u001b[0m\u001b[0;34m\u001b[0m\u001b[0;34m\u001b[0m\u001b[0m\n\u001b[1;32m     26\u001b[0m \u001b[0;34m\u001b[0m\u001b[0m\n\u001b[0;32m---> 27\u001b[0;31m \u001b[0;32mimport\u001b[0m \u001b[0mpygraphviz\u001b[0m \u001b[0;32mas\u001b[0m \u001b[0mpgv\u001b[0m\u001b[0;34m\u001b[0m\u001b[0;34m\u001b[0m\u001b[0m\n\u001b[0m\u001b[1;32m     28\u001b[0m \u001b[0;32mfrom\u001b[0m \u001b[0mpydantic\u001b[0m \u001b[0;32mimport\u001b[0m \u001b[0mBaseModel\u001b[0m\u001b[0;34m,\u001b[0m \u001b[0mField\u001b[0m\u001b[0;34m\u001b[0m\u001b[0;34m\u001b[0m\u001b[0m\n\u001b[1;32m     29\u001b[0m \u001b[0;34m\u001b[0m\u001b[0m\n",
            "\u001b[0;31mModuleNotFoundError\u001b[0m: No module named 'pygraphviz'",
            "",
            "\u001b[0;31m---------------------------------------------------------------------------\u001b[0;32m\nNOTE: If your import is failing due to a missing package, you can\nmanually install dependencies using either !pip or !apt.\n\nTo view examples of installing some common dependencies, click the\n\"Open Examples\" button below.\n\u001b[0;31m---------------------------------------------------------------------------\u001b[0m\n"
          ],
          "errorDetails": {
            "actions": [
              {
                "action": "open_url",
                "actionText": "Open Examples",
                "url": "/notebooks/snippets/importing_libraries.ipynb"
              }
            ]
          }
        }
      ]
    },
    {
      "cell_type": "code",
      "source": [
        "!pip install pygraphviz"
      ],
      "metadata": {
        "colab": {
          "base_uri": "https://localhost:8080/"
        },
        "id": "OpfOxTWCNaa8",
        "outputId": "627fe68e-6115-4ab6-f175-fe8e1a8d5730"
      },
      "execution_count": null,
      "outputs": [
        {
          "output_type": "stream",
          "name": "stdout",
          "text": [
            "Collecting pygraphviz\n",
            "  Downloading pygraphviz-1.13.tar.gz (104 kB)\n",
            "\u001b[?25l     \u001b[90m━━━━━━━━━━━━━━━━━━━━━━━━━━━━━━━━━━━━━━━━\u001b[0m \u001b[32m0.0/104.6 kB\u001b[0m \u001b[31m?\u001b[0m eta \u001b[36m-:--:--\u001b[0m\r\u001b[2K     \u001b[91m━━━━━━━━━━━━━━━━━━━━━━━━━━━━━━━━━━━━━━━\u001b[0m\u001b[90m╺\u001b[0m \u001b[32m102.4/104.6 kB\u001b[0m \u001b[31m4.5 MB/s\u001b[0m eta \u001b[36m0:00:01\u001b[0m\r\u001b[2K     \u001b[90m━━━━━━━━━━━━━━━━━━━━━━━━━━━━━━━━━━━━━━━━\u001b[0m \u001b[32m104.6/104.6 kB\u001b[0m \u001b[31m2.7 MB/s\u001b[0m eta \u001b[36m0:00:00\u001b[0m\n",
            "\u001b[?25h  Installing build dependencies ... \u001b[?25l\u001b[?25hdone\n",
            "  Getting requirements to build wheel ... \u001b[?25l\u001b[?25hdone\n",
            "  Preparing metadata (pyproject.toml) ... \u001b[?25l\u001b[?25hdone\n",
            "Building wheels for collected packages: pygraphviz\n",
            "  \u001b[1;31merror\u001b[0m: \u001b[1msubprocess-exited-with-error\u001b[0m\n",
            "  \n",
            "  \u001b[31m×\u001b[0m \u001b[32mBuilding wheel for pygraphviz \u001b[0m\u001b[1;32m(\u001b[0m\u001b[32mpyproject.toml\u001b[0m\u001b[1;32m)\u001b[0m did not run successfully.\n",
            "  \u001b[31m│\u001b[0m exit code: \u001b[1;36m1\u001b[0m\n",
            "  \u001b[31m╰─>\u001b[0m See above for output.\n",
            "  \n",
            "  \u001b[1;35mnote\u001b[0m: This error originates from a subprocess, and is likely not a problem with pip.\n",
            "  Building wheel for pygraphviz (pyproject.toml) ... \u001b[?25l\u001b[?25herror\n",
            "\u001b[31m  ERROR: Failed building wheel for pygraphviz\u001b[0m\u001b[31m\n",
            "\u001b[0mFailed to build pygraphviz\n",
            "\u001b[31mERROR: ERROR: Failed to build installable wheels for some pyproject.toml based projects (pygraphviz)\u001b[0m\u001b[31m\n",
            "\u001b[0m"
          ]
        }
      ]
    },
    {
      "cell_type": "code",
      "source": [
        "# https://stackoverflow.com/questions/58535604/installing-pygrahviz-in-google-colab\n",
        "!apt install libgraphviz-dev\n",
        "!pip install pygraphviz"
      ],
      "metadata": {
        "colab": {
          "base_uri": "https://localhost:8080/"
        },
        "id": "WLwRXyyLPAa_",
        "outputId": "73113633-4f7c-495c-a646-6749229bf450"
      },
      "execution_count": 9,
      "outputs": [
        {
          "output_type": "stream",
          "name": "stdout",
          "text": [
            "Reading package lists... Done\n",
            "Building dependency tree... Done\n",
            "Reading state information... Done\n",
            "libgraphviz-dev is already the newest version (2.42.2-6ubuntu0.1).\n",
            "0 upgraded, 0 newly installed, 0 to remove and 49 not upgraded.\n",
            "Requirement already satisfied: pygraphviz in /usr/local/lib/python3.10/dist-packages (1.13)\n"
          ]
        }
      ]
    },
    {
      "cell_type": "code",
      "source": [
        "from neo4j_genai.experimental.components.schema import (\n",
        "    SchemaBuilder,\n",
        "    SchemaEntity,\n",
        "    SchemaProperty,\n",
        "    SchemaRelation,\n",
        ")\n",
        "\n",
        "schema_builder = SchemaBuilder()\n",
        "\n",
        "schema_builder.run(\n",
        "    entities=[\n",
        "        SchemaEntity(\n",
        "            label=\"Gene\",\n",
        "            properties=[\n",
        "                SchemaProperty(name=\"gene_id\", type=\"STRING\"),\n",
        "                SchemaProperty(name=\"symbol\", type=\"STRING\"),\n",
        "                SchemaProperty(name=\"full_name\", type=\"STRING\"),\n",
        "                SchemaProperty(name=\"chromosome\", type=\"STRING\"),\n",
        "                SchemaProperty(name=\"location\", type=\"STRING\"),\n",
        "            ],\n",
        "        ),\n",
        "        SchemaEntity(\n",
        "            label=\"Disease\",\n",
        "            properties=[\n",
        "                SchemaProperty(name=\"disease_id\", type=\"STRING\"),\n",
        "                SchemaProperty(name=\"name\", type=\"STRING\"),\n",
        "                SchemaProperty(name=\"category\", type=\"STRING\"),\n",
        "                SchemaProperty(name=\"description\", type=\"STRING\"),\n",
        "            ],\n",
        "        ),\n",
        "        SchemaEntity(\n",
        "            label=\"Drug\",\n",
        "            properties=[\n",
        "                SchemaProperty(name=\"drug_id\", type=\"STRING\"),\n",
        "                SchemaProperty(name=\"name\", type=\"STRING\"),\n",
        "                SchemaProperty(name=\"type\", type=\"STRING\"),\n",
        "                SchemaProperty(name=\"mechanism_of_action\", type=\"STRING\"),\n",
        "            ],\n",
        "        ),\n",
        "        SchemaEntity(\n",
        "            label=\"Protein\",\n",
        "            properties=[\n",
        "                SchemaProperty(name=\"protein_id\", type=\"STRING\"),\n",
        "                SchemaProperty(name=\"name\", type=\"STRING\"),\n",
        "                SchemaProperty(name=\"sequence\", type=\"STRING\"),\n",
        "                SchemaProperty(name=\"function\", type=\"STRING\"),\n",
        "            ],\n",
        "        ),\n",
        "        SchemaEntity(\n",
        "            label=\"Pathway\",\n",
        "            properties=[\n",
        "                SchemaProperty(name=\"pathway_id\", type=\"STRING\"),\n",
        "                SchemaProperty(name=\"name\", type=\"STRING\"),\n",
        "                SchemaProperty(name=\"description\", type=\"STRING\"),\n",
        "            ],\n",
        "        ),\n",
        "    ],\n",
        "    relations=[\n",
        "        SchemaRelation(\n",
        "            label=\"ASSOCIATED_WITH\",\n",
        "        ),\n",
        "        SchemaRelation(\n",
        "            label=\"TARGETS\",\n",
        "        ),\n",
        "        SchemaRelation(\n",
        "            label=\"INTERACTS_WITH\",\n",
        "        ),\n",
        "        SchemaRelation(\n",
        "            label=\"PART_OF\",\n",
        "        ),\n",
        "        SchemaRelation(\n",
        "            label=\"INVOLVED_IN\",\n",
        "        ),\n",
        "    ],\n",
        "    possible_schema=[\n",
        "        (\"Gene\", \"ASSOCIATED_WITH\", \"Disease\"),\n",
        "        (\"Gene\", \"TARGETS\", \"Drug\"),\n",
        "        (\"Protein\", \"INTERACTS_WITH\", \"Protein\"),\n",
        "        (\"Drug\", \"TARGETS\", \"Protein\"),\n",
        "        (\"Pathway\", \"PART_OF\", \"Gene\"),\n",
        "        (\"Gene\", \"INVOLVED_IN\", \"Pathway\"),\n",
        "        (\"Disease\", \"INVOLVED_IN\", \"Pathway\"),\n",
        "    ],\n",
        ")"
      ],
      "metadata": {
        "id": "wVdXabh2PgPO",
        "colab": {
          "base_uri": "https://localhost:8080/",
          "height": 472
        },
        "outputId": "2b45bee9-fc80-4e9c-f767-4d9cb1964c2e"
      },
      "execution_count": 10,
      "outputs": [
        {
          "output_type": "error",
          "ename": "ValidationError",
          "evalue": "2 validation errors for run\npotential_schema\n  Missing required argument [type=missing_argument, input_value=ArgsKwargs((<neo4j_genai....OLVED_IN', 'Pathway')]}), input_type=ArgsKwargs]\n    For further information visit https://errors.pydantic.dev/2.9/v/missing_argument\npossible_schema\n  Unexpected keyword argument [type=unexpected_keyword_argument, input_value=[('Gene', 'ASSOCIATED_WIT...NVOLVED_IN', 'Pathway')], input_type=list]\n    For further information visit https://errors.pydantic.dev/2.9/v/unexpected_keyword_argument",
          "traceback": [
            "\u001b[0;31m---------------------------------------------------------------------------\u001b[0m",
            "\u001b[0;31mValidationError\u001b[0m                           Traceback (most recent call last)",
            "\u001b[0;32m<ipython-input-10-ff4e8764678d>\u001b[0m in \u001b[0;36m<cell line: 10>\u001b[0;34m()\u001b[0m\n\u001b[1;32m      8\u001b[0m \u001b[0mschema_builder\u001b[0m \u001b[0;34m=\u001b[0m \u001b[0mSchemaBuilder\u001b[0m\u001b[0;34m(\u001b[0m\u001b[0;34m)\u001b[0m\u001b[0;34m\u001b[0m\u001b[0;34m\u001b[0m\u001b[0m\n\u001b[1;32m      9\u001b[0m \u001b[0;34m\u001b[0m\u001b[0m\n\u001b[0;32m---> 10\u001b[0;31m schema_builder.run(\n\u001b[0m\u001b[1;32m     11\u001b[0m     entities=[\n\u001b[1;32m     12\u001b[0m         SchemaEntity(\n",
            "\u001b[0;32m/usr/local/lib/python3.10/dist-packages/pydantic/validate_call_decorator.py\u001b[0m in \u001b[0;36mwrapper_function\u001b[0;34m(*args, **kwargs)\u001b[0m\n\u001b[1;32m     58\u001b[0m         \u001b[0;34m@\u001b[0m\u001b[0mfunctools\u001b[0m\u001b[0;34m.\u001b[0m\u001b[0mwraps\u001b[0m\u001b[0;34m(\u001b[0m\u001b[0mfunction\u001b[0m\u001b[0;34m)\u001b[0m\u001b[0;34m\u001b[0m\u001b[0;34m\u001b[0m\u001b[0m\n\u001b[1;32m     59\u001b[0m         \u001b[0;32mdef\u001b[0m \u001b[0mwrapper_function\u001b[0m\u001b[0;34m(\u001b[0m\u001b[0;34m*\u001b[0m\u001b[0margs\u001b[0m\u001b[0;34m,\u001b[0m \u001b[0;34m**\u001b[0m\u001b[0mkwargs\u001b[0m\u001b[0;34m)\u001b[0m\u001b[0;34m:\u001b[0m\u001b[0;34m\u001b[0m\u001b[0;34m\u001b[0m\u001b[0m\n\u001b[0;32m---> 60\u001b[0;31m             \u001b[0;32mreturn\u001b[0m \u001b[0mvalidate_call_wrapper\u001b[0m\u001b[0;34m(\u001b[0m\u001b[0;34m*\u001b[0m\u001b[0margs\u001b[0m\u001b[0;34m,\u001b[0m \u001b[0;34m**\u001b[0m\u001b[0mkwargs\u001b[0m\u001b[0;34m)\u001b[0m\u001b[0;34m\u001b[0m\u001b[0;34m\u001b[0m\u001b[0m\n\u001b[0m\u001b[1;32m     61\u001b[0m \u001b[0;34m\u001b[0m\u001b[0m\n\u001b[1;32m     62\u001b[0m         \u001b[0mwrapper_function\u001b[0m\u001b[0;34m.\u001b[0m\u001b[0mraw_function\u001b[0m \u001b[0;34m=\u001b[0m \u001b[0mfunction\u001b[0m  \u001b[0;31m# type: ignore\u001b[0m\u001b[0;34m\u001b[0m\u001b[0;34m\u001b[0m\u001b[0m\n",
            "\u001b[0;32m/usr/local/lib/python3.10/dist-packages/pydantic/_internal/_validate_call.py\u001b[0m in \u001b[0;36m__call__\u001b[0;34m(self, *args, **kwargs)\u001b[0m\n\u001b[1;32m     94\u001b[0m \u001b[0;34m\u001b[0m\u001b[0m\n\u001b[1;32m     95\u001b[0m     \u001b[0;32mdef\u001b[0m \u001b[0m__call__\u001b[0m\u001b[0;34m(\u001b[0m\u001b[0mself\u001b[0m\u001b[0;34m,\u001b[0m \u001b[0;34m*\u001b[0m\u001b[0margs\u001b[0m\u001b[0;34m:\u001b[0m \u001b[0mAny\u001b[0m\u001b[0;34m,\u001b[0m \u001b[0;34m**\u001b[0m\u001b[0mkwargs\u001b[0m\u001b[0;34m:\u001b[0m \u001b[0mAny\u001b[0m\u001b[0;34m)\u001b[0m \u001b[0;34m->\u001b[0m \u001b[0mAny\u001b[0m\u001b[0;34m:\u001b[0m\u001b[0;34m\u001b[0m\u001b[0;34m\u001b[0m\u001b[0m\n\u001b[0;32m---> 96\u001b[0;31m         \u001b[0mres\u001b[0m \u001b[0;34m=\u001b[0m \u001b[0mself\u001b[0m\u001b[0;34m.\u001b[0m\u001b[0m__pydantic_validator__\u001b[0m\u001b[0;34m.\u001b[0m\u001b[0mvalidate_python\u001b[0m\u001b[0;34m(\u001b[0m\u001b[0mpydantic_core\u001b[0m\u001b[0;34m.\u001b[0m\u001b[0mArgsKwargs\u001b[0m\u001b[0;34m(\u001b[0m\u001b[0margs\u001b[0m\u001b[0;34m,\u001b[0m \u001b[0mkwargs\u001b[0m\u001b[0;34m)\u001b[0m\u001b[0;34m)\u001b[0m\u001b[0;34m\u001b[0m\u001b[0;34m\u001b[0m\u001b[0m\n\u001b[0m\u001b[1;32m     97\u001b[0m         \u001b[0;32mif\u001b[0m \u001b[0mself\u001b[0m\u001b[0;34m.\u001b[0m\u001b[0m__return_pydantic_validator__\u001b[0m\u001b[0;34m:\u001b[0m\u001b[0;34m\u001b[0m\u001b[0;34m\u001b[0m\u001b[0m\n\u001b[1;32m     98\u001b[0m             \u001b[0;32mreturn\u001b[0m \u001b[0mself\u001b[0m\u001b[0;34m.\u001b[0m\u001b[0m__return_pydantic_validator__\u001b[0m\u001b[0;34m(\u001b[0m\u001b[0mres\u001b[0m\u001b[0;34m)\u001b[0m\u001b[0;34m\u001b[0m\u001b[0;34m\u001b[0m\u001b[0m\n",
            "\u001b[0;31mValidationError\u001b[0m: 2 validation errors for run\npotential_schema\n  Missing required argument [type=missing_argument, input_value=ArgsKwargs((<neo4j_genai....OLVED_IN', 'Pathway')]}), input_type=ArgsKwargs]\n    For further information visit https://errors.pydantic.dev/2.9/v/missing_argument\npossible_schema\n  Unexpected keyword argument [type=unexpected_keyword_argument, input_value=[('Gene', 'ASSOCIATED_WIT...NVOLVED_IN', 'Pathway')], input_type=list]\n    For further information visit https://errors.pydantic.dev/2.9/v/unexpected_keyword_argument"
          ]
        }
      ]
    },
    {
      "cell_type": "code",
      "source": [],
      "metadata": {
        "id": "aJ7epHlBbjC2"
      },
      "execution_count": null,
      "outputs": []
    }
  ]
}