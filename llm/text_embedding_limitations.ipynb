{
 "cells": [
  {
   "cell_type": "markdown",
   "metadata": {
    "colab_type": "text",
    "id": "view-in-github"
   },
   "source": [
    "<a href=\"https://colab.research.google.com/github/tomasonjo/blogs/blob/master/llm/text_embedding_limitations.ipynb\" target=\"_parent\"><img src=\"https://colab.research.google.com/assets/colab-badge.svg\" alt=\"Open In Colab\"/></a>"
   ]
  },
  {
   "cell_type": "code",
   "execution_count": 2,
   "metadata": {
    "id": "CieeAMvNi_1I"
   },
   "outputs": [],
   "source": [
    "!pip install --quiet neo4j langchain-community langchain-openai"
   ]
  },
  {
   "cell_type": "code",
   "execution_count": 20,
   "metadata": {
    "id": "4Md8CEsJjFuT"
   },
   "outputs": [],
   "source": [
    "import os\n",
    "from langchain_community.graphs import Neo4jGraph\n",
    "from langchain_community.vectorstores import Neo4jVector\n",
    "from langchain_openai import OpenAIEmbeddings\n",
    "import getpass"
   ]
  },
  {
   "cell_type": "code",
   "execution_count": 21,
   "metadata": {
    "id": "NQFdqemqlIE2"
   },
   "outputs": [],
   "source": [
    "os.environ[\"NEO4J_URI\"] = \"bolt://44.204.178.84:7687\"\n",
    "os.environ[\"NEO4J_USERNAME\"] = \"neo4j\"\n",
    "os.environ[\"NEO4J_PASSWORD\"] = \"minimums-triangle-saving\"\n",
    "\n",
    "graph = Neo4jGraph(refresh_schema=False)"
   ]
  },
  {
   "cell_type": "code",
   "execution_count": 22,
   "metadata": {
    "colab": {
     "base_uri": "https://localhost:8080/"
    },
    "id": "NEoFQzJFlPbL",
    "outputId": "9e7454bf-2540-43ca-b9d8-efea87a03004"
   },
   "outputs": [
    {
     "name": "stdout",
     "output_type": "stream",
     "text": [
      "OpenAI API Key:··········\n"
     ]
    }
   ],
   "source": [
    "os.environ[\"OPENAI_API_KEY\"] = getpass.getpass(\"OpenAI API Key:\")"
   ]
  },
  {
   "cell_type": "code",
   "execution_count": 13,
   "metadata": {
    "colab": {
     "base_uri": "https://localhost:8080/"
    },
    "id": "eZG9r4hcje2K",
    "outputId": "74aa5fcc-896a-487f-89c1-de323b5c1283"
   },
   "outputs": [
    {
     "data": {
      "text/plain": [
       "[]"
      ]
     },
     "execution_count": 13,
     "metadata": {},
     "output_type": "execute_result"
    }
   ],
   "source": [
    "graph.query(\"\"\"\n",
    "MATCH (m:Movie)\n",
    "WHERE m.imdbRating IS NOT NULL\n",
    "WITH m\n",
    "ORDER BY m.imdbRating DESC\n",
    "LIMIT 1000\n",
    "SET m:Target\n",
    "\"\"\")"
   ]
  },
  {
   "cell_type": "code",
   "execution_count": 18,
   "metadata": {
    "colab": {
     "base_uri": "https://localhost:8080/"
    },
    "id": "QApUVcEEkZkN",
    "outputId": "0c95c267-f7ad-42af-d0f8-9a5b49d91e3b"
   },
   "outputs": [
    {
     "data": {
      "text/plain": [
       "[{'m': {'languages': ['English'],\n",
       "   'year': 1995,\n",
       "   'imdbId': '0114709',\n",
       "   'runtime': 81,\n",
       "   'imdbRating': 8.3,\n",
       "   'movieId': '1',\n",
       "   'countries': ['USA'],\n",
       "   'imdbVotes': 591836,\n",
       "   'title': 'Toy Story',\n",
       "   'url': 'https://themoviedb.org/movie/862',\n",
       "   'revenue': 373554033,\n",
       "   'tmdbId': '862',\n",
       "   'plot': \"A cowboy doll is profoundly threatened and jealous when a new spaceman figure supplants him as top toy in a boy's room.\",\n",
       "   'poster': 'https://image.tmdb.org/t/p/w440_and_h660_face/uXDfjJbdP4ijW5hWSBrPrlKpxab.jpg',\n",
       "   'released': '1995-11-22',\n",
       "   'budget': 30000000}}]"
      ]
     },
     "execution_count": 18,
     "metadata": {},
     "output_type": "execute_result"
    }
   ],
   "source": [
    "graph.query(\"\"\"MATCH (m:Target) RETURN m LIMIT 1\"\"\")"
   ]
  },
  {
   "cell_type": "code",
   "execution_count": 23,
   "metadata": {
    "id": "v8kOES4mkEpw"
   },
   "outputs": [],
   "source": [
    "neo4j_vector = Neo4jVector.from_existing_graph(\n",
    "    embedding=OpenAIEmbeddings(model=\"text-embedding-3-small\"),\n",
    "    index_name=\"movies\",\n",
    "    node_label=\"Target\",\n",
    "    text_node_properties=[\"plot\", \"title\", \"year\", \"imdbRating\"],\n",
    "    embedding_node_property=\"embedding\",\n",
    ")"
   ]
  },
  {
   "cell_type": "code",
   "execution_count": 25,
   "metadata": {
    "colab": {
     "base_uri": "https://localhost:8080/"
    },
    "id": "lMZsuToClkqc",
    "outputId": "00c297c6-457a-4423-ec7c-92b0ede7c01b"
   },
   "outputs": [
    {
     "data": {
      "text/plain": [
       "[Document(metadata={'budget': 70000000, 'movieId': '2761', 'tmdbId': '10386', 'imdbVotes': 123948, 'runtime': 86, 'countries': ['USA'], 'imdbId': '0129167', 'url': 'https://themoviedb.org/movie/10386', 'released': '1999-08-06', 'languages': ['English'], 'poster': 'https://image.tmdb.org/t/p/w440_and_h660_face/dUFiLEEuTZyUiQrN6oYMbMtDaXD.jpg', 'revenue': 23159305}, page_content='\\nplot: A young boy befriends a giant robot from outer space that a paranoid government agent wants to destroy.\\ntitle: Iron Giant, The\\nyear: 1999\\nimdbRating: 8.0'),\n",
       " Document(metadata={'budget': 8000000, 'movieId': '1259', 'tmdbId': '235', 'imdbVotes': 261725, 'runtime': 89, 'countries': ['USA'], 'imdbId': '0092005', 'url': 'https://themoviedb.org/movie/235', 'released': '1986-08-22', 'languages': ['English'], 'poster': 'https://image.tmdb.org/t/p/w440_and_h660_face/vz0w9BSehcqjDcJOjRaCk7fgJe7.jpg', 'revenue': 52287414}, page_content='\\nplot: After the death of a friend, a writer recounts a boyhood journey to find the body of a missing boy.\\ntitle: Stand by Me\\nyear: 1986\\nimdbRating: 8.1'),\n",
       " Document(metadata={'movieId': '8012', 'tmdbId': '4291', 'imdbVotes': 13986, 'runtime': 121, 'countries': ['Japan'], 'imdbId': '0199683', 'url': 'https://themoviedb.org/movie/4291', 'released': '2000-05-26', 'languages': ['Japanese'], 'poster': 'https://image.tmdb.org/t/p/w440_and_h660_face/zTelT1xAO4Owxk1jHJM4puoei5N.jpg'}, page_content='\\nplot: A young, naive boy sets out alone on the road to find his wayward mother. Soon he finds an unlikely protector in a crotchety man and the two have a series of unexpected adventures along the way.\\ntitle: Kikujiro (Kikujirô no natsu)\\nyear: 1999\\nimdbRating: 7.9'),\n",
       " Document(metadata={'budget': 16000000, 'movieId': '1197', 'tmdbId': '2493', 'imdbVotes': 283350, 'runtime': 98, 'countries': ['USA'], 'imdbId': '0093779', 'url': 'https://themoviedb.org/movie/2493', 'released': '1987-10-09', 'languages': ['English'], 'poster': 'https://image.tmdb.org/t/p/w440_and_h660_face/2FC9L9MrjBoGHYjYZjdWQdopVYb.jpg', 'revenue': 30861665}, page_content=\"\\nplot: While home sick in bed, a young boy's grandfather reads him a story called The Princess Bride.\\ntitle: Princess Bride, The\\nyear: 1987\\nimdbRating: 8.1\")]"
      ]
     },
     "execution_count": 25,
     "metadata": {},
     "output_type": "execute_result"
    }
   ],
   "source": [
    "neo4j_vector.similarity_search(\"What is a movie where a little boy meets his hero?\")"
   ]
  },
  {
   "cell_type": "code",
   "execution_count": 26,
   "metadata": {
    "colab": {
     "base_uri": "https://localhost:8080/"
    },
    "id": "ofVsXM3rmUTy",
    "outputId": "1883a8c2-4e63-474f-de6e-eee6f1f2dea8"
   },
   "outputs": [
    {
     "data": {
      "text/plain": [
       "[Document(metadata={'budget': 4000000, 'movieId': '116897', 'tmdbId': '265195', 'imdbVotes': 76453, 'runtime': 122, 'countries': ['Argentina', ' Spain'], 'imdbId': '3011894', 'url': 'https://themoviedb.org/movie/265195', 'released': '2014-08-21', 'languages': ['Spanish'], 'poster': 'https://image.tmdb.org/t/p/w440_and_h660_face/pvSty5MCAxdj8LlAEXCDfM1YNOl.jpg', 'revenue': 27007072}, page_content='\\nplot: Six short stories that explore the extremities of human behavior involving people in distress.\\ntitle: Wild Tales\\nyear: 2014\\nimdbRating: 8.1'),\n",
       " Document(metadata={'budget': 120000000, 'movieId': '97938', 'tmdbId': '87827', 'imdbVotes': 420635, 'runtime': 127, 'countries': ['USA', ' Taiwan', ' UK'], 'imdbId': '0454876', 'url': 'https://themoviedb.org/movie/87827', 'released': '2012-11-21', 'languages': ['English', ' Tamil', ' French', ' Japanese', ' Hindi', ' Chinese'], 'poster': 'https://image.tmdb.org/t/p/w440_and_h660_face/mYDKm9HxImm8PRru3KbkHAe1cmk.jpg', 'revenue': 609016565}, page_content='\\nplot: A young man who survives a disaster at sea is hurtled into an epic journey of adventure and discovery. While cast away, he forms an unexpected connection with another survivor: a fearsome Bengal tiger.\\ntitle: Life of Pi\\nyear: 2012\\nimdbRating: 8.0'),\n",
       " Document(metadata={'budget': 100000000, 'movieId': '106782', 'tmdbId': '106646', 'imdbVotes': 721971, 'runtime': 180, 'countries': ['USA'], 'imdbId': '0993846', 'url': 'https://themoviedb.org/movie/106646', 'released': '2013-12-25', 'languages': ['English', ' French'], 'poster': 'https://image.tmdb.org/t/p/w440_and_h660_face/sOxr33wnRuKazR9ClHek73T8qnK.jpg', 'revenue': 392000694}, page_content='\\nplot: Based on the true story of Jordan Belfort, from his rise to a wealthy stock-broker living the high life to his fall involving crime, corruption and the federal government.\\ntitle: Wolf of Wall Street, The\\nyear: 2013\\nimdbRating: 8.2'),\n",
       " Document(metadata={'budget': 175000000, 'movieId': '134853', 'tmdbId': '150540', 'imdbVotes': 287471, 'runtime': 95, 'countries': ['USA'], 'imdbId': '2096673', 'url': 'https://themoviedb.org/movie/150540', 'released': '2015-06-19', 'languages': ['English'], 'poster': 'https://image.tmdb.org/t/p/w440_and_h660_face/lRHE0vzf3oYJrhbsHXjIkF4Tl5A.jpg', 'revenue': 857611174}, page_content='\\nplot: After young Riley is uprooted from her Midwest life and moved to San Francisco, her emotions - Joy, Fear, Anger, Disgust and Sadness - conflict on how best to navigate a new city, house, and school.\\ntitle: Inside Out\\nyear: 2015\\nimdbRating: 8.3')]"
      ]
     },
     "execution_count": 26,
     "metadata": {},
     "output_type": "execute_result"
    }
   ],
   "source": [
    "neo4j_vector.similarity_search(\"Which movies are from year 2016?\")"
   ]
  },
  {
   "cell_type": "code",
   "execution_count": 30,
   "metadata": {
    "colab": {
     "base_uri": "https://localhost:8080/"
    },
    "id": "sWzfkFI4wom9",
    "outputId": "2411f1ee-daa4-42c4-b3c2-203b96cd276c"
   },
   "outputs": [
    {
     "data": {
      "text/plain": [
       "[Document(metadata={'budget': 4000000, 'tmdbId': '265195', 'movieId': '116897', 'imdbVotes': 76453, 'runtime': 122, 'countries': ['Argentina', ' Spain'], 'imdbId': '3011894', 'url': 'https://themoviedb.org/movie/265195', 'released': '2014-08-21', 'languages': ['Spanish'], 'poster': 'https://image.tmdb.org/t/p/w440_and_h660_face/pvSty5MCAxdj8LlAEXCDfM1YNOl.jpg', 'revenue': 27007072}, page_content='\\nplot: Six short stories that explore the extremities of human behavior involving people in distress.\\ntitle: Wild Tales\\nyear: 2014\\nimdbRating: 8.1'),\n",
       " Document(metadata={'tmdbId': '114524', 'movieId': '26655', 'imdbVotes': 492, 'runtime': 79, 'countries': ['USA'], 'imdbId': '0097099', 'url': 'https://themoviedb.org/movie/114524', 'released': '1990-10-26', 'languages': ['English'], 'poster': 'https://image.tmdb.org/t/p/w440_and_h660_face/tAmvWQl1R0uiydLnG0o9PgRyanS.jpg'}, page_content='\\nplot: A collection of profiles of people dead from AIDS who are remembered in the AIDS Memorial Quilt.\\ntitle: Common Threads: Stories from the Quilt\\nyear: 1990\\nimdbRating: 8.1'),\n",
       " Document(metadata={'budget': 120000000, 'tmdbId': '87827', 'movieId': '97938', 'imdbVotes': 420635, 'runtime': 127, 'countries': ['USA', ' Taiwan', ' UK'], 'imdbId': '0454876', 'url': 'https://themoviedb.org/movie/87827', 'released': '2012-11-21', 'languages': ['English', ' Tamil', ' French', ' Japanese', ' Hindi', ' Chinese'], 'poster': 'https://image.tmdb.org/t/p/w440_and_h660_face/mYDKm9HxImm8PRru3KbkHAe1cmk.jpg', 'revenue': 609016565}, page_content='\\nplot: A young man who survives a disaster at sea is hurtled into an epic journey of adventure and discovery. While cast away, he forms an unexpected connection with another survivor: a fearsome Bengal tiger.\\ntitle: Life of Pi\\nyear: 2012\\nimdbRating: 8.0'),\n",
       " Document(metadata={'budget': 100000000, 'tmdbId': '106646', 'movieId': '106782', 'imdbVotes': 721971, 'runtime': 180, 'countries': ['USA'], 'imdbId': '0993846', 'url': 'https://themoviedb.org/movie/106646', 'released': '2013-12-25', 'languages': ['English', ' French'], 'poster': 'https://image.tmdb.org/t/p/w440_and_h660_face/sOxr33wnRuKazR9ClHek73T8qnK.jpg', 'revenue': 392000694}, page_content='\\nplot: Based on the true story of Jordan Belfort, from his rise to a wealthy stock-broker living the high life to his fall involving crime, corruption and the federal government.\\ntitle: Wolf of Wall Street, The\\nyear: 2013\\nimdbRating: 8.2')]"
      ]
     },
     "execution_count": 30,
     "metadata": {},
     "output_type": "execute_result"
    }
   ],
   "source": [
    "neo4j_hybrid = Neo4jVector.from_existing_graph(\n",
    "    embedding=OpenAIEmbeddings(model=\"text-embedding-3-small\"),\n",
    "    index_name=\"movies\",\n",
    "    node_label=\"Target\",\n",
    "    text_node_properties=[\"plot\", \"title\", \"year\", \"imdbRating\"],\n",
    "    embedding_node_property=\"embedding\",\n",
    "    search_type='hybrid'\n",
    ")\n",
    "\n",
    "neo4j_hybrid.similarity_search(\"Which movies are from year 2016?\")"
   ]
  },
  {
   "cell_type": "code",
   "execution_count": 33,
   "metadata": {
    "colab": {
     "base_uri": "https://localhost:8080/"
    },
    "id": "JmNHSCbizn_I",
    "outputId": "be92155c-cb36-445e-99cb-05788a970fec"
   },
   "outputs": [
    {
     "data": {
      "text/plain": [
       "[{'title': 'Deadpool'},\n",
       " {'title': 'Zootopia'},\n",
       " {'title': 'Sing Street'},\n",
       " {'title': 'Author: The JT LeRoy Story'}]"
      ]
     },
     "execution_count": 33,
     "metadata": {},
     "output_type": "execute_result"
    }
   ],
   "source": [
    "graph.query(\"\"\"MATCH (m:Target) WHERE m.year = 2016 RETURN m.title AS title\"\"\")"
   ]
  },
  {
   "cell_type": "code",
   "execution_count": 27,
   "metadata": {
    "colab": {
     "base_uri": "https://localhost:8080/"
    },
    "id": "0zzQogWclzvi",
    "outputId": "be1f0279-964b-48c9-8dc3-faca26adfdd0"
   },
   "outputs": [
    {
     "data": {
      "text/plain": [
       "[Document(metadata={'budget': 2540800, 'movieId': '899', 'tmdbId': '872', 'imdbVotes': 144026, 'runtime': 103, 'countries': ['USA'], 'imdbId': '0045152', 'url': 'https://themoviedb.org/movie/872', 'released': '1952-04-11', 'languages': ['English'], 'poster': 'https://image.tmdb.org/t/p/w440_and_h660_face/w03EiJVHP8Un77boQeE7hg9DVdU.jpg', 'revenue': 7200000}, page_content=\"\\nplot: A silent film production company and cast make a difficult transition to sound.\\ntitle: Singin' in the Rain\\nyear: 1952\\nimdbRating: 8.3\"),\n",
       " Document(metadata={'movieId': '7979', 'tmdbId': '42632', 'imdbVotes': 2179, 'runtime': 78, 'countries': ['USA'], 'imdbId': '0064689', 'url': 'https://themoviedb.org/movie/42632', 'released': '1969-06-02', 'languages': ['English'], 'poster': 'https://image.tmdb.org/t/p/w440_and_h660_face/wEB3c5Y5spAHOQaFWcsfFky3SWb.jpg'}, page_content='\\nplot: A film about the greatest pre-Woodstock rock music festival.\\ntitle: Monterey Pop\\nyear: 1968\\nimdbRating: 8.1'),\n",
       " Document(metadata={'movieId': '3338', 'tmdbId': '20423', 'imdbVotes': 3305, 'runtime': 80, 'countries': ['USA'], 'imdbId': '0097372', 'url': 'https://themoviedb.org/movie/20423', 'released': '1989-11-01', 'languages': ['English'], 'poster': 'https://image.tmdb.org/t/p/w440_and_h660_face/7k8ylisWiEGxdRSlAf6v4PWiAjH.jpg', 'revenue': 770132}, page_content='\\nplot: This movie documents the Apollo missions perhaps the most definitively of any movie under two hours. Al Reinert watched all the footage shot during the missions--over 6,000,000 feet of it, ...\\ntitle: For All Mankind\\nyear: 1989\\nimdbRating: 8.2'),\n",
       " Document(metadata={'budget': 1558000, 'movieId': '5114', 'tmdbId': '32499', 'imdbVotes': 9463, 'runtime': 118, 'countries': ['USA'], 'imdbId': '0044391', 'url': 'https://themoviedb.org/movie/32499', 'released': '1953-02-09', 'languages': ['English'], 'poster': 'https://image.tmdb.org/t/p/w440_and_h660_face/rI5g9E2nGM6mGNcpoLxm35UCcC.jpg', 'revenue': 3373000}, page_content='\\nplot: An unscrupulous movie producer uses an actress, a director and a writer to achieve success.\\ntitle: Bad and the Beautiful, The\\nyear: 1952\\nimdbRating: 7.9')]"
      ]
     },
     "execution_count": 27,
     "metadata": {},
     "output_type": "execute_result"
    }
   ],
   "source": [
    "neo4j_vector.similarity_search(\"Which movie has the highest imdb score?\")"
   ]
  },
  {
   "cell_type": "code",
   "execution_count": 34,
   "metadata": {
    "colab": {
     "base_uri": "https://localhost:8080/"
    },
    "id": "7NpvV2Plz2W5",
    "outputId": "9a19bd89-6601-483a-fd3f-a9be103cb3d9"
   },
   "outputs": [
    {
     "data": {
      "text/plain": [
       "[{'title': 'Band of Brothers', 'rating': 9.6},\n",
       " {'title': 'Civil War, The', 'rating': 9.5},\n",
       " {'title': 'Shawshank Redemption, The', 'rating': 9.3},\n",
       " {'title': 'Cosmos', 'rating': 9.3}]"
      ]
     },
     "execution_count": 34,
     "metadata": {},
     "output_type": "execute_result"
    }
   ],
   "source": [
    "graph.query(\"\"\"MATCH (m:Target) RETURN m.title AS title, m.imdbRating AS rating ORDER BY rating DESC LIMIT 4\"\"\")"
   ]
  },
  {
   "cell_type": "code",
   "execution_count": 36,
   "metadata": {
    "colab": {
     "base_uri": "https://localhost:8080/"
    },
    "id": "BGN72svBmfCO",
    "outputId": "d9e009e2-e63d-4f49-e24d-ac7d215e544a"
   },
   "outputs": [
    {
     "data": {
      "text/plain": [
       "[Document(metadata={'budget': 245000000, 'movieId': '122886', 'tmdbId': '140607', 'imdbVotes': 457987, 'runtime': 135, 'countries': ['USA'], 'imdbId': '2488496', 'url': 'https://themoviedb.org/movie/140607', 'released': '2015-12-18', 'languages': ['English'], 'poster': 'https://image.tmdb.org/t/p/w440_and_h660_face/wqnLdwVXoBjKibFRR5U3y0aDUhs.jpg', 'revenue': 2068223624}, page_content='\\nplot: Three decades after the defeat of the Galactic Empire, a new threat arises. The First Order attempts to rule the galaxy and only a ragtag group of heroes can stop them, along with the help of the Resistance.\\ntitle: Star Wars: Episode VII - The Force Awakens\\nyear: 2015\\nimdbRating: 8.4'),\n",
       " Document(metadata={'budget': 4000000, 'movieId': '27800', 'tmdbId': '11049', 'imdbVotes': 10885, 'runtime': 68, 'countries': ['Japan', ' France'], 'imdbId': '0368667', 'url': 'https://themoviedb.org/movie/11049', 'released': '2003-05-28', 'languages': ['English'], 'poster': 'https://image.tmdb.org/t/p/w440_and_h660_face/AsvPgdcSlHocAbMp3yGZXjPiKKF.jpg'}, page_content='\\nplot: A continuation of the story told in the Daft Punk music videos One More Time, Aerodynamic, Digital Love, and Harder, Better, Faster, Stronger.\\ntitle: Interstella 5555: The 5tory of the 5ecret 5tar 5ystem\\nyear: 2003\\nimdbRating: 7.9'),\n",
       " Document(metadata={'budget': 170000000, 'movieId': '112852', 'tmdbId': '118340', 'imdbVotes': 621608, 'runtime': 121, 'countries': ['USA', ' UK'], 'imdbId': '2015381', 'url': 'https://themoviedb.org/movie/118340', 'released': '2014-08-01', 'languages': ['English'], 'poster': 'https://image.tmdb.org/t/p/w440_and_h660_face/r7vmZjiyZw9rpJMQJdXpjgiCOk9.jpg', 'revenue': 772776600}, page_content='\\nplot: A group of intergalactic criminals are forced to work together to stop a fanatical warrior from taking control of the universe.\\ntitle: Guardians of the Galaxy\\nyear: 2014\\nimdbRating: 8.1'),\n",
       " Document(metadata={'budget': 630019, 'movieId': '134170', 'tmdbId': '251516', 'imdbVotes': 33193, 'runtime': 31, 'countries': ['Sweden'], 'imdbId': '3472226', 'url': 'https://themoviedb.org/movie/251516', 'released': '2015-05-28', 'languages': ['English', ' Swedish', ' German'], 'poster': 'https://image.tmdb.org/t/p/w440_and_h660_face/6Qam8Leycapwik947j6U3vcUbAv.jpg'}, page_content='\\nplot: In 1985, Kung Fury, the toughest martial artist cop in Miami, goes back in time to kill the worst criminal of all time - kung fuhrer Hitler.\\ntitle: Kung Fury\\nyear: 2015\\nimdbRating: 8.2')]"
      ]
     },
     "execution_count": 36,
     "metadata": {},
     "output_type": "execute_result"
    }
   ],
   "source": [
    "neo4j_vector.similarity_search(\"How many movies are from the year 2015?\")"
   ]
  },
  {
   "cell_type": "code",
   "execution_count": 37,
   "metadata": {
    "colab": {
     "base_uri": "https://localhost:8080/"
    },
    "id": "vP_DtdvimpP1",
    "outputId": "36ad7fe3-067f-4eff-e956-27a8d71b1bf7"
   },
   "outputs": [
    {
     "data": {
      "text/plain": [
       "[{'count(*)': 20}]"
      ]
     },
     "execution_count": 37,
     "metadata": {},
     "output_type": "execute_result"
    }
   ],
   "source": [
    "graph.query(\"\"\"MATCH (m:Target) WHERE m.year = 2015 RETURN count(*)\"\"\")"
   ]
  },
  {
   "cell_type": "code",
   "execution_count": null,
   "metadata": {
    "id": "YmQl8-mQ0EJv"
   },
   "outputs": [],
   "source": []
  }
 ],
 "metadata": {
  "colab": {
   "authorship_tag": "ABX9TyNUA4K/Z70dicSLph78HEbl",
   "include_colab_link": true,
   "provenance": []
  },
  "kernelspec": {
   "display_name": "Python 3 (ipykernel)",
   "language": "python",
   "name": "python3"
  },
  "language_info": {
   "codemirror_mode": {
    "name": "ipython",
    "version": 3
   },
   "file_extension": ".py",
   "mimetype": "text/x-python",
   "name": "python",
   "nbconvert_exporter": "python",
   "pygments_lexer": "ipython3",
   "version": "3.11.5"
  }
 },
 "nbformat": 4,
 "nbformat_minor": 4
}
