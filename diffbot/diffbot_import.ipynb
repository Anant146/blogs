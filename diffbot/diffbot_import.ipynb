{
  "nbformat": 4,
  "nbformat_minor": 0,
  "metadata": {
    "colab": {
      "provenance": [],
      "authorship_tag": "ABX9TyPy5Yo6ryKsOk4HajcMMpTe",
      "include_colab_link": true
    },
    "kernelspec": {
      "name": "python3",
      "display_name": "Python 3"
    },
    "language_info": {
      "name": "python"
    }
  },
  "cells": [
    {
      "cell_type": "markdown",
      "metadata": {
        "id": "view-in-github",
        "colab_type": "text"
      },
      "source": [
        "<a href=\"https://colab.research.google.com/github/tomasonjo/blogs/blob/master/diffbot/diffbot_import.ipynb\" target=\"_parent\"><img src=\"https://colab.research.google.com/assets/colab-badge.svg\" alt=\"Open In Colab\"/></a>"
      ]
    },
    {
      "cell_type": "code",
      "source": [
        "!pip install neo4j"
      ],
      "metadata": {
        "colab": {
          "base_uri": "https://localhost:8080/"
        },
        "id": "RQ5c2LRxUknp",
        "outputId": "e8887f79-7cde-4044-a879-5351a54c98ed"
      },
      "execution_count": 79,
      "outputs": [
        {
          "output_type": "stream",
          "name": "stdout",
          "text": [
            "Collecting neo4j\n",
            "  Downloading neo4j-5.23.1-py3-none-any.whl.metadata (5.7 kB)\n",
            "Requirement already satisfied: pytz in /usr/local/lib/python3.10/dist-packages (from neo4j) (2024.1)\n",
            "Downloading neo4j-5.23.1-py3-none-any.whl (293 kB)\n",
            "\u001b[?25l   \u001b[90m━━━━━━━━━━━━━━━━━━━━━━━━━━━━━━━━━━━━━━━━\u001b[0m \u001b[32m0.0/293.6 kB\u001b[0m \u001b[31m?\u001b[0m eta \u001b[36m-:--:--\u001b[0m\r\u001b[2K   \u001b[90m━━━━━━━━━━━━━━━━━━━━━━━━━━━━━━━━━━━━━━━━\u001b[0m \u001b[32m293.6/293.6 kB\u001b[0m \u001b[31m14.1 MB/s\u001b[0m eta \u001b[36m0:00:00\u001b[0m\n",
            "\u001b[?25hInstalling collected packages: neo4j\n",
            "Successfully installed neo4j-5.23.1\n"
          ]
        }
      ]
    },
    {
      "cell_type": "code",
      "execution_count": 5,
      "metadata": {
        "id": "9cR3kuPRCmXU"
      },
      "outputs": [],
      "source": [
        "import requests\n",
        "token = \"\"\n",
        "data = requests.get(f\"https://kg.diffbot.com/kg/v3/dql?type=query&token={token}&query=id%3AE9nQaOvC9MXaUzXCuN81tFQ&size=1\").json()"
      ]
    },
    {
      "cell_type": "code",
      "source": [
        "data['data'][0]['entity'].keys()"
      ],
      "metadata": {
        "colab": {
          "base_uri": "https://localhost:8080/"
        },
        "id": "hraRRIc_Cvt6",
        "outputId": "4af1e9da-233a-43b6-c7cc-2417467c2e6b"
      },
      "execution_count": 7,
      "outputs": [
        {
          "output_type": "execute_result",
          "data": {
            "text/plain": [
              "dict_keys(['twitterUri', 'nbActiveEmployeeEdges', 'suppliers', 'type', 'naceClassification', 'iSicClassification', 'allNames', 'isAcquired', 'revenue', 'competitors', 'emailAddresses', 'yearlyRevenues', 'logo', 'id', 'stock', 'nbOrigins', 'sicClassification', 'foundingDate', 'image', 'images', 'wikipediaUri', 'secForms', 'irsEmployerIdentificationNumbers', 'naicsClassification2017', 'diffbotUri', 'nbIncomingEdges', 'nbEmployeesMin', 'ipo', 'employeeCategories', 'wikipediaPageviewsLastQuarterGrowth', 'capitalization', 'wikipediaPageviewsLastYear', 'angellistUri', 'name', 'legalEntities', 'nbEmployeesMax', 'totalInvestment', 'allOriginHashes', 'linkedInUri', 'naicsClassification', 'nbEmployees', 'monthlyTraffic', 'githubUri', 'isDissolved', 'companiesHouseIds', 'importance', 'origin', 'description', 'ultimateParent', 'homepageUri', 'founders', 'ceo', 'investments', 'phoneNumbers', 'diffbotClassification', 'blogUri', 'descriptors', 'wikipediaPageviewsLastYearGrowth', 'partnerships', 'isNonProfit', 'japaneseCorporateNumbers', 'origins', 'isPublic', 'wikipediaPageviews', 'categories', 'customers', 'crawlTimestamp', 'nbUniqueInvestors', 'facebookUri', 'secCentralIndexKeys', 'summary', 'types', 'technographics', 'boardMembers', 'wikipediaPageviewsLastQuarter', 'fullName', 'allUris', 'remoteScore', 'monthlyTrafficGrowth', 'quarterlyRevenues', 'nbLocations', 'crunchbaseUri', 'googlePlusUri', 'industries', 'allDescriptions', 'location', 'locations', 'subsidiaries', 'wikipediaPageviewsGrowth', 'vatIdentificationNumbers'])"
            ]
          },
          "metadata": {},
          "execution_count": 7
        }
      ]
    },
    {
      "cell_type": "code",
      "source": [
        "for key in data['data'][0]['entity'].keys():\n",
        "    print(key, type(data['data'][0]['entity'][key]))"
      ],
      "metadata": {
        "colab": {
          "base_uri": "https://localhost:8080/"
        },
        "id": "9gcxoW44ELwY",
        "outputId": "15fa9544-9c8e-4653-d59c-a99873fba104"
      },
      "execution_count": 8,
      "outputs": [
        {
          "output_type": "stream",
          "name": "stdout",
          "text": [
            "twitterUri <class 'str'>\n",
            "nbActiveEmployeeEdges <class 'int'>\n",
            "suppliers <class 'list'>\n",
            "type <class 'str'>\n",
            "naceClassification <class 'list'>\n",
            "iSicClassification <class 'list'>\n",
            "allNames <class 'list'>\n",
            "isAcquired <class 'bool'>\n",
            "revenue <class 'dict'>\n",
            "competitors <class 'list'>\n",
            "emailAddresses <class 'list'>\n",
            "yearlyRevenues <class 'list'>\n",
            "logo <class 'str'>\n",
            "id <class 'str'>\n",
            "stock <class 'dict'>\n",
            "nbOrigins <class 'int'>\n",
            "sicClassification <class 'list'>\n",
            "foundingDate <class 'dict'>\n",
            "image <class 'str'>\n",
            "images <class 'list'>\n",
            "wikipediaUri <class 'str'>\n",
            "secForms <class 'list'>\n",
            "irsEmployerIdentificationNumbers <class 'list'>\n",
            "naicsClassification2017 <class 'list'>\n",
            "diffbotUri <class 'str'>\n",
            "nbIncomingEdges <class 'int'>\n",
            "nbEmployeesMin <class 'int'>\n",
            "ipo <class 'dict'>\n",
            "employeeCategories <class 'list'>\n",
            "wikipediaPageviewsLastQuarterGrowth <class 'float'>\n",
            "capitalization <class 'dict'>\n",
            "wikipediaPageviewsLastYear <class 'int'>\n",
            "angellistUri <class 'str'>\n",
            "name <class 'str'>\n",
            "legalEntities <class 'list'>\n",
            "nbEmployeesMax <class 'int'>\n",
            "totalInvestment <class 'dict'>\n",
            "allOriginHashes <class 'list'>\n",
            "linkedInUri <class 'str'>\n",
            "naicsClassification <class 'list'>\n",
            "nbEmployees <class 'int'>\n",
            "monthlyTraffic <class 'int'>\n",
            "githubUri <class 'str'>\n",
            "isDissolved <class 'bool'>\n",
            "companiesHouseIds <class 'list'>\n",
            "importance <class 'float'>\n",
            "origin <class 'str'>\n",
            "description <class 'str'>\n",
            "ultimateParent <class 'dict'>\n",
            "homepageUri <class 'str'>\n",
            "founders <class 'list'>\n",
            "ceo <class 'dict'>\n",
            "investments <class 'list'>\n",
            "phoneNumbers <class 'list'>\n",
            "diffbotClassification <class 'list'>\n",
            "blogUri <class 'str'>\n",
            "descriptors <class 'list'>\n",
            "wikipediaPageviewsLastYearGrowth <class 'float'>\n",
            "partnerships <class 'list'>\n",
            "isNonProfit <class 'bool'>\n",
            "japaneseCorporateNumbers <class 'list'>\n",
            "origins <class 'list'>\n",
            "isPublic <class 'bool'>\n",
            "wikipediaPageviews <class 'int'>\n",
            "categories <class 'list'>\n",
            "customers <class 'list'>\n",
            "crawlTimestamp <class 'int'>\n",
            "nbUniqueInvestors <class 'int'>\n",
            "facebookUri <class 'str'>\n",
            "secCentralIndexKeys <class 'list'>\n",
            "summary <class 'str'>\n",
            "types <class 'list'>\n",
            "technographics <class 'list'>\n",
            "boardMembers <class 'list'>\n",
            "wikipediaPageviewsLastQuarter <class 'int'>\n",
            "fullName <class 'str'>\n",
            "allUris <class 'list'>\n",
            "remoteScore <class 'float'>\n",
            "monthlyTrafficGrowth <class 'float'>\n",
            "quarterlyRevenues <class 'list'>\n",
            "nbLocations <class 'int'>\n",
            "crunchbaseUri <class 'str'>\n",
            "googlePlusUri <class 'str'>\n",
            "industries <class 'list'>\n",
            "allDescriptions <class 'list'>\n",
            "location <class 'dict'>\n",
            "locations <class 'list'>\n",
            "subsidiaries <class 'list'>\n",
            "wikipediaPageviewsGrowth <class 'float'>\n",
            "vatIdentificationNumbers <class 'list'>\n"
          ]
        }
      ]
    },
    {
      "cell_type": "code",
      "source": [
        "data['data'][0]['entity']['boardMembers']"
      ],
      "metadata": {
        "colab": {
          "base_uri": "https://localhost:8080/"
        },
        "id": "qAWzw6nBFUlY",
        "outputId": "46b252bc-5743-4df3-a34d-0c805c924afe"
      },
      "execution_count": 97,
      "outputs": [
        {
          "output_type": "execute_result",
          "data": {
            "text/plain": [
              "[{'summary': 'Chairman at Malwarebytes',\n",
              "  'image': 'https://kg.diffbot.com/image/api/get?fetch=yes&url=g%3Cj7P0SttAc%3ANu.d9U%7CB%5DpM08.%7DZnIa6%40_%3Bv2FpDLhawxEr-%5BuTpJZ%40-r%3Ec2Jh9e%3EN7%5Bq8h%3EQgCkx%3AT%3AEQ8W%7EN1%3BSgL%7E1Kw%3Ai.Vu4',\n",
              "  'types': ['Person'],\n",
              "  'name': 'Brooke Seawell',\n",
              "  'diffbotUri': 'http://diffbot.com/entity/ELRfrbAB7Np21klMnLkKA9g',\n",
              "  'targetDiffbotId': 'ELRfrbAB7Np21klMnLkKA9g',\n",
              "  'type': 'Person'},\n",
              " {'summary': 'Founder at Tensilica',\n",
              "  'image': 'https://kg.diffbot.com/image/api/get?fetch=yes&url=g%3Cj7P0SttAc%3ANu.d9U%7CB%5DpM08.%7DZnIa6%40_%3Bv2FpDLhawxEr-%5BuTpJZ%40-r%3Ec2Jh9e%3EN7%5Bn6l9PiCixvY98YUU5%3Bb7YkF%5EvL%7DB%60.Pw4',\n",
              "  'types': ['Person', 'PersonInvestor'],\n",
              "  'name': 'Harvey Jones',\n",
              "  'diffbotUri': 'http://diffbot.com/entity/Eo_nbDUUnPv2TQtExGLeS9A',\n",
              "  'targetDiffbotId': 'Eo_nbDUUnPv2TQtExGLeS9A',\n",
              "  'type': 'Person'},\n",
              " {'summary': 'American lawyer and chairman of multiple boards',\n",
              "  'image': 'https://kg.diffbot.com/image/api/get?fetch=yes&url=g%3Cj7P0St%7BFq9RnE-0MoFZ1.5%3CZ1.d9eHHe7%5ErI37m6EhMFFB%5BCtE9vUNeR%7DTg1%3C2AX7Ys%3Be-Mc5W%5E2XvE-%3CTf%3A.Oh2R%7DF%60.C_o',\n",
              "  'types': ['Person'],\n",
              "  'name': 'Stephen Neal',\n",
              "  'diffbotUri': 'http://diffbot.com/entity/EEZ4Qn6OSNki7_FIiUePz-w',\n",
              "  'targetDiffbotId': 'EEZ4Qn6OSNki7_FIiUePz-w',\n",
              "  'type': 'Person'},\n",
              " {'summary': 'Board Member at NVIDIA',\n",
              "  'image': 'https://kg.diffbot.com/image/api/get?fetch=yes&url=g%3Cj7P0SttAc%3ANu.d9U%7CB%5DpM08.%7DZnIa6%40_%3Bv2FpDLhawxEr-%5BuTpJZ%40-r%3Ec2Jh9e%3EN7Zv%3De%3DOdHkxHsG%5DUSS6R51c%7E%3EaF%5En%3Fq%3AJ%3FRkFJ%5DIsx%3C.%3Aan',\n",
              "  'types': ['Person'],\n",
              "  'name': 'Mark Perry',\n",
              "  'diffbotUri': 'http://diffbot.com/entity/EM2NPkTaiPbmawxrZmxpoLw',\n",
              "  'targetDiffbotId': 'EM2NPkTaiPbmawxrZmxpoLw',\n",
              "  'type': 'Person'},\n",
              " {'summary': 'Chairman at USC Stevens',\n",
              "  'image': 'https://kg.diffbot.com/image/api/get?fetch=yes&url=g%3Cj7P0Stn8p.%5DjEp9G.Bd%7BkpXn%7BP8R%7E-E%5BY%7D-Z%3C9L-j%3Czg-d%5CsQCXu0q7P%60zN_%3Cb4E.A%5Dm',\n",
              "  'types': ['Person', 'PersonInvestor'],\n",
              "  'name': 'Mark A. Stevens',\n",
              "  'diffbotUri': 'http://diffbot.com/entity/EI1WkamqPOR2rAFCPEabfdQ',\n",
              "  'targetDiffbotId': 'EI1WkamqPOR2rAFCPEabfdQ',\n",
              "  'type': 'Person'},\n",
              " {'summary': 'Canadian businessman',\n",
              "  'image': 'https://kg.diffbot.com/image/api/get?fetch=yes&url=g%3Cj7P0St0DnBJf.x0KwLZrUn.%5B%3CR0Aa4Hh%3B%5Bv738ZqOr7U%3FEvtr%3Ew%5D%7ERu%40Y%5DVl%3F%5E2K-%3Cn%3Aj7NdCizEsA_.8_l',\n",
              "  'types': ['Person', 'PersonInvestor'],\n",
              "  'name': 'Rob Burgess',\n",
              "  'diffbotUri': 'http://diffbot.com/entity/EPOasdwHqMUCsxskAOAo3-A',\n",
              "  'targetDiffbotId': 'EPOasdwHqMUCsxskAOAo3-A',\n",
              "  'type': 'Person'},\n",
              " {'summary': 'American businessperson',\n",
              "  'types': ['Person'],\n",
              "  'name': 'Dawn Hudson',\n",
              "  'diffbotUri': 'http://diffbot.com/entity/EOY5C5IprPeiOL5U2ZB1tOQ',\n",
              "  'targetDiffbotId': 'EOY5C5IprPeiOL5U2ZB1tOQ',\n",
              "  'type': 'Person'},\n",
              " {'summary': 'American physicist',\n",
              "  'image': 'https://kg.diffbot.com/image/api/get?fetch=yes&url=g%3Cj7P0SttAc%3ANu.d9U%7CB%5DpM08.%7DZnIa6%40_%3Bv2FpDLhawxEr-%5BuTpJZ%40-r%3Ec2Jh9e%3EN7%5Br8h5LjHlx0cBQeAv%3E7q7Qd%603tI%2FEt.Pw4',\n",
              "  'types': ['Person'],\n",
              "  'name': 'Persis Drell',\n",
              "  'diffbotUri': 'http://diffbot.com/entity/EqT51RzkRPg-dtyvJOwl2KA',\n",
              "  'targetDiffbotId': 'EqT51RzkRPg-dtyvJOwl2KA',\n",
              "  'type': 'Person'},\n",
              " {'summary': 'American businessperson',\n",
              "  'image': 'https://kg.diffbot.com/image/api/get?fetch=yes&url=g%3Cj7P0Stn8p.%5DjEp9G.Bd%7BkATr%2Fn7Sz-A%7D%5D%2F-Z%3AXL-DgOE-DXtoH7n0O9M%5EzN_%3Cb4E.A%5Dm',\n",
              "  'types': ['Person'],\n",
              "  'name': 'Melissa Lora',\n",
              "  'diffbotUri': 'http://diffbot.com/entity/ETMFlTdjcNTiRq1JzJla3hA',\n",
              "  'targetDiffbotId': 'ETMFlTdjcNTiRq1JzJla3hA',\n",
              "  'type': 'Person'},\n",
              " {'summary': 'American venture capitalist',\n",
              "  'image': 'https://kg.diffbot.com/image/api/get?fetch=yes&url=g%3Cj7P0SttAc%3ANu.d9U%7CB%5DpM08.%7DZnIa6%40_%3Bv2FpDLhawxEr-%5BuTpJZ%40-r%3Ec2Jh9e%3EN7Zv%3De%3DShChxHSFYTWu53%2FPja_%60C%3C%3EYSjKl0LIk4MzKY.%3Aan',\n",
              "  'types': ['Person'],\n",
              "  'name': 'Tench Coxe',\n",
              "  'diffbotUri': 'http://diffbot.com/entity/Eyd_MZXd8MaK3GJDxaNrqVA',\n",
              "  'targetDiffbotId': 'Eyd_MZXd8MaK3GJDxaNrqVA',\n",
              "  'type': 'Person'},\n",
              " {'summary': 'Chairman at Makena Capital Management',\n",
              "  'image': 'https://kg.diffbot.com/image/api/get?fetch=yes&url=g%3Cj7P0SttAc%3ANu.d9U%7CB%5DpM08.%7DZnIa6%40_%3Bv2FpDLhawxEr-%5BuTpJZ%40-r%3Ec2Jh9e%3EO%7E8VhLs%7D%5C%7Cedy%5BrF%5DDbp',\n",
              "  'types': ['Person'],\n",
              "  'name': 'Michael McCaffery',\n",
              "  'diffbotUri': 'http://diffbot.com/entity/EpaU5t6W4OiK0NeHvnP61Eg',\n",
              "  'targetDiffbotId': 'EpaU5t6W4OiK0NeHvnP61Eg',\n",
              "  'type': 'Person'},\n",
              " {'summary': 'CIO at Northwestern Mutual',\n",
              "  'image': 'https://kg.diffbot.com/image/api/get?fetch=yes&url=g%3Cj7P0Stn8p.%5DjEp9G.Bd%7BkB6t%7Em2%2Fy-B%7DX%2F-ZhZM-j5%7EC-j%7DrRt9r%2FR81%7CzN_%3Cb4E.A%5Dm',\n",
              "  'types': ['Person'],\n",
              "  'name': 'Aarti Shah',\n",
              "  'diffbotUri': 'http://diffbot.com/entity/E3DxhrvJRMuOeoyxxeeTU0A',\n",
              "  'targetDiffbotId': 'E3DxhrvJRMuOeoyxxeeTU0A',\n",
              "  'type': 'Person'},\n",
              " {'summary': 'Taiwanese-American entrepreneur and businessman; founder and CEO of Nvidia',\n",
              "  'image': 'https://kg.diffbot.com/image/api/get?fetch=yes&url=g%3Cj7guSXzAoBWu.x0KwLZrUn.%5B%3CR0Aa4Hwygr9m6W%3Exl5G%60BkxmY%3A%5C%3FRq%7BB%40Bh%3FXAX8Zn7d%3E.N2J',\n",
              "  'types': ['Person'],\n",
              "  'name': 'Jensen Huang',\n",
              "  'diffbotUri': 'http://diffbot.com/entity/Erp3EYknCP8q0-FX6HGkdqw',\n",
              "  'targetDiffbotId': 'Erp3EYknCP8q0-FX6HGkdqw',\n",
              "  'type': 'Person'},\n",
              " {'summary': 'Board Member from United States',\n",
              "  'image': 'https://kg.diffbot.com/image/api/get?fetch=yes&url=g%3Cj7guSXzAoBWu.x0KwLZrUn.%5B%3CR0Aa4Hwygr9m6W%3Exl5G%60BkxmYDV%3ALR.Y_B%5CAkx%2Cew0G7Yz1wP%5Bwbp%28S%40%5Eu%3Ea1%29.Dkx',\n",
              "  'types': ['Person'],\n",
              "  'name': 'John Dabiri',\n",
              "  'diffbotUri': 'http://diffbot.com/entity/ECtOA5aKHPLmO8MqT8eeTmw',\n",
              "  'targetDiffbotId': 'ECtOA5aKHPLmO8MqT8eeTmw',\n",
              "  'type': 'Person'}]"
            ]
          },
          "metadata": {},
          "execution_count": 97
        }
      ]
    },
    {
      "cell_type": "code",
      "source": [
        "used = [\"diffbotUri\", \"name\", \"summary\", \"wikipediaUri\", \"fullName\", \"twitterUri\", \"isAcquired\", \"linkedInUri\", \"githubUri\", \"importance\", \"blogUri\", \"homepageUri\",\n",
        "        \"angellistUri\", \"logo\", \"monthlyTraffic\", \"isNonProfit\", \"nbEmployees\", \"crunchbaseUri\", \"googlePlusUri\", \"description\", \"suppliers\", \"foundingDate\", \"competitors\", \"stock\",\n",
        "        \"isPublic\", \"wikipediaPageviews\", \"nbUniqueInvestors\", \"totalInvestment\", \"isDissolved\", \"facebookUri\", \"founders\", \"partnerships\", \"customers\", \"boardMembers\", \"subsidiaries\",\n",
        "        \"diffbotClassification\", \"companiesHouseIds\", \"secCentralIndexKeys\", \"ceo\", \"revenue\", \"ipo\", \"capitalization\"]\n",
        "ignore = [\"origin\", \"type\", \"nbActiveEmployeeEdges\", \"id\", \"naceClassification\", \"nbOrigins\", \"iSicClassification\", \"allNames\", \"emailAddresses\", \"nbIncomingEdges\", \"nbEmployeesMin\",\n",
        "          \"wikipediaPageviewsLastQuarterGrowth\", \"japaneseCorporateNumbers\", \"wikipediaPageviewsLastYear\", \"crawlTimestamp\", \"allUris\", \"remoteScore\", \"monthlyTrafficGrowth\", \"nbLocations\",\n",
        "          \"wikipediaPageviewsGrowth\", \"vatIdentificationNumbers\", \"image\", \"images\", \"nbEmployeesMax\", \"sicClassification\", \"naicsClassification2017\", \"allOriginHashes\", \"phoneNumbers\",\n",
        "          \"wikipediaPageviewsLastYearGrowth\", \"origins\", \"wikipediaPageviewsLastQuarter\", \"allDescriptions\", \"naicsClassification\", \"employeeCategories\", \"categories\", \"types\",\n",
        "          \"industries\", \"location\", \"irsEmployerIdentificationNumbers\", \"legalEntities\"]\n",
        "available = [key for key in data['data'][0]['entity'].keys() if key not in used and key not in ignore]\n",
        "print(available)"
      ],
      "metadata": {
        "colab": {
          "base_uri": "https://localhost:8080/"
        },
        "id": "to5LtrRGE9yU",
        "outputId": "1a4c68fb-324a-47d8-b5da-64f607a9bc37"
      },
      "execution_count": 77,
      "outputs": [
        {
          "output_type": "stream",
          "name": "stdout",
          "text": [
            "['yearlyRevenues', 'secForms', 'ultimateParent', 'investments', 'descriptors', 'technographics', 'quarterlyRevenues', 'locations']\n"
          ]
        }
      ]
    },
    {
      "cell_type": "code",
      "source": [
        "from neo4j import GraphDatabase\n",
        "url = \"bolt://34.205.140.119:7687\"\n",
        "user = \"neo4j\"\n",
        "password = \"confidence-bather-splitters\"\n",
        "\n",
        "driver = GraphDatabase.driver(url, auth=(user, password))"
      ],
      "metadata": {
        "id": "OCiiUmWrUrig"
      },
      "execution_count": 80,
      "outputs": []
    },
    {
      "cell_type": "code",
      "source": [
        "# constraints __Entity__, Classification\n",
        "\n",
        "driver.execute_query(\"CREATE CONSTRAINT IF NOT EXISTS FOR (n:__Entity__) REQUIRE n.id IS UNIQUE;\")\n",
        "driver.execute_query(\"CREATE CONSTRAINT IF NOT EXISTS FOR (n:Classification) REQUIRE n.id IS UNIQUE;\")\n",
        "\n",
        "query = \"\"\"\n",
        "UNWIND $data AS row\n",
        "MERGE (o:__Entity__ {id: row.diffbotUri})\n",
        "SET o:Organization,\n",
        "    o.name = row.name,\n",
        "    o.summary = row.summary,\n",
        "    o.description = row.description,\n",
        "    o.wikipediaUri = row.wikipediaUri,\n",
        "    o.fullName = row.fullName,\n",
        "    o.twitterUri = row.twitterUri,\n",
        "    o.isAcquired = row.isAcquired,\n",
        "    o.isPublic = row.isPublic,\n",
        "    o.isDissolved = row.isDissolved,\n",
        "    o.isNonProfit = row.isNonProfit,\n",
        "    o.linkedInUri = row.linkedInUri,\n",
        "    o.crunchbaseUri = row.crunchbaseUri,\n",
        "    o.googlePlusUri = row.googlePlusUri,\n",
        "    o.githubUri = row.githubUri,\n",
        "    o.blogUri = row.blogUri,\n",
        "    o.facebookUri = row.facebookUri,\n",
        "    o.homepageUri = row.homepageUri,\n",
        "    o.angellistUri = row.angellistUri,\n",
        "    o.companiesHouseIds = row.companiesHouseIds,\n",
        "    o.secCentralIndexKeys = row.secCentralIndexKeys,\n",
        "    o.logo = row.logo,\n",
        "    o.importance = toFloat(row.importance),\n",
        "    o.monthlyTraffic = toFloat(row.monthlyTraffic),\n",
        "    o.nbEmployees = toInteger(row.nbEmployees),\n",
        "    o.ipoStockExchange = row.ipo.stockExchange,\n",
        "    //o.ipoDate = CASE WHEN row.ipo IS NOT NULL THEN datetime({epochMillis: toInteger(row.ipo.timestamp)}) ELSE null END,\n",
        "    //o.foundingDate = CASE WHEN row.foundingDate IS NOT NULL THEN datetime({epochMillis: toInteger(row.foundingDate.timestamp)}) ELSE null END,\n",
        "    o.stockTicker = CASE WHEN row.stock IS NOT NULL THEN row.stock.ticker ELSE null END,\n",
        "    o.wikipediaPageviews = toInteger(row.wikipediaPageviews),\n",
        "    o.nbUniqueInvestors = toInteger(row.nbUniqueInvestors),\n",
        "    o.totalInvestment = toFloat(row.totalInvestment.value),\n",
        "    o.totalInvestmentCurrency = row.totalInvestment.currency,\n",
        "    o.revenue = toFloat(row.revenue.value),\n",
        "    o.revenueCurrency = row.revenue.currency,\n",
        "    o.capitalization = toFloat(row.capitalization.value),\n",
        "    o.capitalizationCurrency = row.capitalization.currency\n",
        "WITH o, row\n",
        "CALL {\n",
        "    WITH o, row\n",
        "    UNWIND row.suppliers AS supplier\n",
        "    MERGE (s:`__Entity__` {id: supplier.diffbotUri})\n",
        "    ON CREATE SET s.name = supplier.name,\n",
        "                  s.summary = supplier.summary\n",
        "    MERGE (o)-[:HAS_SUPPLIER]->(s)\n",
        "    WITH s, supplier\n",
        "    CALL apoc.create.addLabels(s, [supplier.type]) YIELD node\n",
        "    RETURN count(*) AS count\n",
        "}\n",
        "WITH o, row\n",
        "CALL {\n",
        "    WITH o, row\n",
        "    UNWIND row.competitors AS competitor\n",
        "    MERGE (s:`__Entity__` {id: competitor.diffbotUri})\n",
        "    ON CREATE SET s.name = competitor.name,\n",
        "                  s.summary = competitor.summary\n",
        "    MERGE (o)-[:HAS_COMPETITOR]->(s)\n",
        "    WITH s, competitor\n",
        "    CALL apoc.create.addLabels(s, [competitor.type]) YIELD node\n",
        "    RETURN count(*) AS count\n",
        "}\n",
        "WITH o, row\n",
        "CALL {\n",
        "    WITH o, row\n",
        "    UNWIND row.founders AS founder\n",
        "    MERGE (s:`__Entity__` {id: founder.diffbotUri})\n",
        "    ON CREATE SET s.name = founder.name,\n",
        "                  s.summary = founder.summary\n",
        "    MERGE (o)-[:HAS_FOUNDER]->(s)\n",
        "    WITH s, founder\n",
        "    CALL apoc.create.addLabels(s, [founder.type]) YIELD node\n",
        "    RETURN count(*) AS count\n",
        "}\n",
        "WITH o, row\n",
        "CALL {\n",
        "    WITH o, row\n",
        "    UNWIND row.partnerships AS partnership\n",
        "    MERGE (s:`__Entity__` {id: partnership.diffbotUri})\n",
        "    ON CREATE SET s.name = partnership.name,\n",
        "                  s.summary = partnership.summary\n",
        "    MERGE (o)-[:PARTNERSHIP]-(s)\n",
        "    WITH s, partnership\n",
        "    CALL apoc.create.addLabels(s, [partnership.type]) YIELD node\n",
        "    RETURN count(*) AS count\n",
        "}\n",
        "WITH o, row\n",
        "CALL {\n",
        "    WITH o, row\n",
        "    UNWIND row.customers AS customer\n",
        "    MERGE (s:`__Entity__` {id: customer.diffbotUri})\n",
        "    ON CREATE SET s.name = customer.name,\n",
        "                  s.summary = customer.summary\n",
        "    MERGE (o)-[:HAS_CUSTOMER]->(s)\n",
        "    WITH s, customer\n",
        "    CALL apoc.create.addLabels(s, [customer.type]) YIELD node\n",
        "    RETURN count(*) AS count\n",
        "}\n",
        "WITH o, row\n",
        "CALL {\n",
        "    WITH o, row\n",
        "    UNWIND row.boardMembers AS board_member\n",
        "    MERGE (s:`__Entity__` {id: board_member.diffbotUri})\n",
        "    ON CREATE SET s.name = board_member.name,\n",
        "                  s.summary = board_member.summary\n",
        "    MERGE (o)-[:BOARD_MEMBER]->(s)\n",
        "    WITH s, board_member\n",
        "    CALL apoc.create.addLabels(s, [board_member.type]) YIELD node\n",
        "    RETURN count(*) AS count\n",
        "}\n",
        "WITH o, row\n",
        "CALL {\n",
        "    WITH o, row\n",
        "    UNWIND row.subsidiaries AS subsidiary\n",
        "    MERGE (s:`__Entity__` {id: subsidiary.diffbotUri})\n",
        "    ON CREATE SET s.name = subsidiary.name,\n",
        "                  s.summary = subsidiary.summary\n",
        "    MERGE (o)-[:HAS_SUBSIDIARY]->(s)\n",
        "    WITH s, subsidiary\n",
        "    CALL apoc.create.addLabels(s, [subsidiary.type]) YIELD node\n",
        "    RETURN count(*) AS count\n",
        "}\n",
        "WITH o, row\n",
        "CALL {\n",
        "    WITH o, row\n",
        "    WITH o, row\n",
        "    WHERE row.ceo IS NOT NULL\n",
        "    MERGE (c:`__Entity__` {id: row.ceo.diffbotUri})\n",
        "    ON CREATE SET c.name = row.ceo.name,\n",
        "                  c.summary = row.ceo.summary\n",
        "    MERGE (o)-[:HAS_CEO]->(c)\n",
        "    WITH c, row.ceo.type AS type\n",
        "    CALL apoc.create.addLabels(c, [type]) YIELD node\n",
        "    RETURN count(*) AS count\n",
        "}\n",
        "WITH o, row\n",
        "FOREACH (c IN row.diffbotClassification |\n",
        "  MERGE (cl:Classification {id: c.version})\n",
        "  SET cl.name = c.name\n",
        "  MERGE (o)-[hc:HAS_CLASSIFICATION]->(cl)\n",
        "  SET hc.isPrimary = c.isPrimary\n",
        ")\n",
        "\"\"\""
      ],
      "metadata": {
        "id": "1ZPAuesYDcGJ"
      },
      "execution_count": 98,
      "outputs": []
    },
    {
      "cell_type": "code",
      "source": [
        "driver.execute_query(query, {\"data\": [el[\"entity\"] for el in data['data']]})"
      ],
      "metadata": {
        "colab": {
          "base_uri": "https://localhost:8080/"
        },
        "id": "F2z0DfbUU9gj",
        "outputId": "b33ba816-ee29-437b-a110-cec4c885aec8"
      },
      "execution_count": 99,
      "outputs": [
        {
          "output_type": "execute_result",
          "data": {
            "text/plain": [
              "EagerResult(records=[], summary=<neo4j._work.summary.ResultSummary object at 0x7c1632480850>, keys=[])"
            ]
          },
          "metadata": {},
          "execution_count": 99
        }
      ]
    },
    {
      "cell_type": "code",
      "source": [],
      "metadata": {
        "id": "_kwlF5wDVmCT"
      },
      "execution_count": null,
      "outputs": []
    }
  ]
}